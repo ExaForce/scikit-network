{
 "cells": [
  {
   "cell_type": "markdown",
   "metadata": {},
   "source": [
    "# Sport"
   ]
  },
  {
   "cell_type": "markdown",
   "metadata": {},
   "source": [
    "This notebook shows how to use scikit-network to analyse sport data. \n",
    "\n",
    "We here consider the results of tennis matches of [ATP Tour](https://en.wikipedia.org/wiki/ATP_Tour) in the period 2002--2005."
   ]
  },
  {
   "cell_type": "code",
   "execution_count": null,
   "metadata": {},
   "outputs": [],
   "source": [
    "from IPython.display import SVG"
   ]
  },
  {
   "cell_type": "code",
   "execution_count": 26,
   "metadata": {},
   "outputs": [],
   "source": [
    "import numpy as np\n",
    "import pandas as pd\n",
    "from scipy import sparse"
   ]
  },
  {
   "cell_type": "code",
   "execution_count": 96,
   "metadata": {},
   "outputs": [],
   "source": [
    "from sknetwork.data import from_edge_list\n",
    "from sknetwork.ranking import PageRank, top_k\n",
    "from sknetwork.topology import CoreDecomposition\n",
    "from sknetwork.utils import directed2undirected\n",
    "from sknetwork.embedding import Spectral\n",
    "from sknetwork.visualization import svg_digraph, svg_graph"
   ]
  },
  {
   "cell_type": "markdown",
   "metadata": {},
   "source": [
    "## Load data"
   ]
  },
  {
   "cell_type": "code",
   "execution_count": 3,
   "metadata": {},
   "outputs": [],
   "source": [
    "filename = 'atp.csv'"
   ]
  },
  {
   "cell_type": "code",
   "execution_count": 4,
   "metadata": {},
   "outputs": [],
   "source": [
    "df = pd.read_csv(filename, sep=';')"
   ]
  },
  {
   "cell_type": "code",
   "execution_count": 5,
   "metadata": {},
   "outputs": [
    {
     "data": {
      "text/html": [
       "<div>\n",
       "<style scoped>\n",
       "    .dataframe tbody tr th:only-of-type {\n",
       "        vertical-align: middle;\n",
       "    }\n",
       "\n",
       "    .dataframe tbody tr th {\n",
       "        vertical-align: top;\n",
       "    }\n",
       "\n",
       "    .dataframe thead th {\n",
       "        text-align: right;\n",
       "    }\n",
       "</style>\n",
       "<table border=\"1\" class=\"dataframe\">\n",
       "  <thead>\n",
       "    <tr style=\"text-align: right;\">\n",
       "      <th></th>\n",
       "      <th>ATP</th>\n",
       "      <th>Location</th>\n",
       "      <th>Tournament</th>\n",
       "      <th>Date</th>\n",
       "      <th>Series</th>\n",
       "      <th>Court</th>\n",
       "      <th>Surface</th>\n",
       "      <th>Round</th>\n",
       "      <th>Best of</th>\n",
       "      <th>Winner</th>\n",
       "      <th>...</th>\n",
       "      <th>L4</th>\n",
       "      <th>W5</th>\n",
       "      <th>L5</th>\n",
       "      <th>Wsets</th>\n",
       "      <th>Lsets</th>\n",
       "      <th>Comment</th>\n",
       "      <th>MaxW</th>\n",
       "      <th>MaxL</th>\n",
       "      <th>AvgW</th>\n",
       "      <th>AvgL</th>\n",
       "    </tr>\n",
       "  </thead>\n",
       "  <tbody>\n",
       "    <tr>\n",
       "      <th>0</th>\n",
       "      <td>25</td>\n",
       "      <td>Houston</td>\n",
       "      <td>U.S. Men's Clay Court Championships</td>\n",
       "      <td>2005-04-21</td>\n",
       "      <td>International</td>\n",
       "      <td>Outdoor</td>\n",
       "      <td>Clay</td>\n",
       "      <td>2nd Round</td>\n",
       "      <td>3</td>\n",
       "      <td>Haas T.</td>\n",
       "      <td>...</td>\n",
       "      <td>NaN</td>\n",
       "      <td>NaN</td>\n",
       "      <td>NaN</td>\n",
       "      <td>2.0</td>\n",
       "      <td>0.0</td>\n",
       "      <td>Completed</td>\n",
       "      <td>NaN</td>\n",
       "      <td>NaN</td>\n",
       "      <td>NaN</td>\n",
       "      <td>NaN</td>\n",
       "    </tr>\n",
       "    <tr>\n",
       "      <th>1</th>\n",
       "      <td>26</td>\n",
       "      <td>Estoril</td>\n",
       "      <td>Estoril Open</td>\n",
       "      <td>2005-04-27</td>\n",
       "      <td>International Series</td>\n",
       "      <td>Outdoor</td>\n",
       "      <td>Clay</td>\n",
       "      <td>2nd Round</td>\n",
       "      <td>3</td>\n",
       "      <td>Gaudio G.</td>\n",
       "      <td>...</td>\n",
       "      <td>NaN</td>\n",
       "      <td>NaN</td>\n",
       "      <td>NaN</td>\n",
       "      <td>2.0</td>\n",
       "      <td>0.0</td>\n",
       "      <td>Completed</td>\n",
       "      <td>NaN</td>\n",
       "      <td>NaN</td>\n",
       "      <td>NaN</td>\n",
       "      <td>NaN</td>\n",
       "    </tr>\n",
       "    <tr>\n",
       "      <th>2</th>\n",
       "      <td>28</td>\n",
       "      <td>Rome</td>\n",
       "      <td>Telecom Italia Masters Roma</td>\n",
       "      <td>2005-05-03</td>\n",
       "      <td>Masters</td>\n",
       "      <td>Outdoor</td>\n",
       "      <td>Clay</td>\n",
       "      <td>1st Round</td>\n",
       "      <td>3</td>\n",
       "      <td>Sanguinetti D.</td>\n",
       "      <td>...</td>\n",
       "      <td>NaN</td>\n",
       "      <td>NaN</td>\n",
       "      <td>NaN</td>\n",
       "      <td>2.0</td>\n",
       "      <td>1.0</td>\n",
       "      <td>Completed</td>\n",
       "      <td>NaN</td>\n",
       "      <td>NaN</td>\n",
       "      <td>NaN</td>\n",
       "      <td>NaN</td>\n",
       "    </tr>\n",
       "    <tr>\n",
       "      <th>3</th>\n",
       "      <td>28</td>\n",
       "      <td>Rome</td>\n",
       "      <td>Telecom Italia Masters Roma</td>\n",
       "      <td>2005-05-04</td>\n",
       "      <td>Masters</td>\n",
       "      <td>Outdoor</td>\n",
       "      <td>Clay</td>\n",
       "      <td>2nd Round</td>\n",
       "      <td>3</td>\n",
       "      <td>Almagro N.</td>\n",
       "      <td>...</td>\n",
       "      <td>NaN</td>\n",
       "      <td>NaN</td>\n",
       "      <td>NaN</td>\n",
       "      <td>2.0</td>\n",
       "      <td>0.0</td>\n",
       "      <td>Completed</td>\n",
       "      <td>NaN</td>\n",
       "      <td>NaN</td>\n",
       "      <td>NaN</td>\n",
       "      <td>NaN</td>\n",
       "    </tr>\n",
       "    <tr>\n",
       "      <th>4</th>\n",
       "      <td>29</td>\n",
       "      <td>Hamburg</td>\n",
       "      <td>Hamburg TMS</td>\n",
       "      <td>2005-05-11</td>\n",
       "      <td>Masters</td>\n",
       "      <td>Outdoor</td>\n",
       "      <td>Clay</td>\n",
       "      <td>2nd Round</td>\n",
       "      <td>3</td>\n",
       "      <td>Hrbaty D.</td>\n",
       "      <td>...</td>\n",
       "      <td>NaN</td>\n",
       "      <td>NaN</td>\n",
       "      <td>NaN</td>\n",
       "      <td>2.0</td>\n",
       "      <td>0.0</td>\n",
       "      <td>Completed</td>\n",
       "      <td>NaN</td>\n",
       "      <td>NaN</td>\n",
       "      <td>NaN</td>\n",
       "      <td>NaN</td>\n",
       "    </tr>\n",
       "  </tbody>\n",
       "</table>\n",
       "<p>5 rows × 32 columns</p>\n",
       "</div>"
      ],
      "text/plain": [
       "   ATP Location                           Tournament        Date  \\\n",
       "0   25  Houston  U.S. Men's Clay Court Championships  2005-04-21   \n",
       "1   26  Estoril                         Estoril Open  2005-04-27   \n",
       "2   28     Rome          Telecom Italia Masters Roma  2005-05-03   \n",
       "3   28     Rome          Telecom Italia Masters Roma  2005-05-04   \n",
       "4   29  Hamburg                          Hamburg TMS  2005-05-11   \n",
       "\n",
       "                 Series    Court Surface      Round  Best of          Winner  \\\n",
       "0         International  Outdoor    Clay  2nd Round        3         Haas T.   \n",
       "1  International Series  Outdoor    Clay  2nd Round        3       Gaudio G.   \n",
       "2               Masters  Outdoor    Clay  1st Round        3  Sanguinetti D.   \n",
       "3               Masters  Outdoor    Clay  2nd Round        3      Almagro N.   \n",
       "4               Masters  Outdoor    Clay  2nd Round        3       Hrbaty D.   \n",
       "\n",
       "   ...  L4  W5  L5  Wsets  Lsets    Comment  MaxW  MaxL  AvgW  AvgL  \n",
       "0  ... NaN NaN NaN    2.0    0.0  Completed   NaN   NaN   NaN   NaN  \n",
       "1  ... NaN NaN NaN    2.0    0.0  Completed   NaN   NaN   NaN   NaN  \n",
       "2  ... NaN NaN NaN    2.0    1.0  Completed   NaN   NaN   NaN   NaN  \n",
       "3  ... NaN NaN NaN    2.0    0.0  Completed   NaN   NaN   NaN   NaN  \n",
       "4  ... NaN NaN NaN    2.0    0.0  Completed   NaN   NaN   NaN   NaN  \n",
       "\n",
       "[5 rows x 32 columns]"
      ]
     },
     "execution_count": 5,
     "metadata": {},
     "output_type": "execute_result"
    }
   ],
   "source": [
    "df.head()"
   ]
  },
  {
   "cell_type": "code",
   "execution_count": 6,
   "metadata": {},
   "outputs": [],
   "source": [
    "df = df[df['Comment']=='Completed']"
   ]
  },
  {
   "cell_type": "code",
   "execution_count": 7,
   "metadata": {},
   "outputs": [
    {
     "data": {
      "text/plain": [
       "42261"
      ]
     },
     "execution_count": 7,
     "metadata": {},
     "output_type": "execute_result"
    }
   ],
   "source": [
    "len(df)"
   ]
  },
  {
   "cell_type": "markdown",
   "metadata": {},
   "source": [
    "## Build graph"
   ]
  },
  {
   "cell_type": "code",
   "execution_count": 8,
   "metadata": {},
   "outputs": [],
   "source": [
    "edge_list = list(df[['Winner', 'Loser']].itertuples(index=False, name=None))"
   ]
  },
  {
   "cell_type": "code",
   "execution_count": 9,
   "metadata": {},
   "outputs": [
    {
     "data": {
      "text/plain": [
       "42261"
      ]
     },
     "execution_count": 9,
     "metadata": {},
     "output_type": "execute_result"
    }
   ],
   "source": [
    "len(edge_list)"
   ]
  },
  {
   "cell_type": "code",
   "execution_count": 14,
   "metadata": {},
   "outputs": [],
   "source": [
    "graph = from_edge_list(edge_list, directed=True)"
   ]
  },
  {
   "cell_type": "code",
   "execution_count": 15,
   "metadata": {},
   "outputs": [],
   "source": [
    "adjacency = graph.adjacency\n",
    "names = graph.names"
   ]
  },
  {
   "cell_type": "code",
   "execution_count": 16,
   "metadata": {},
   "outputs": [
    {
     "data": {
      "text/plain": [
       "<1255x1255 sparse matrix of type '<class 'numpy.int64'>'\n",
       "\twith 28212 stored elements in Compressed Sparse Row format>"
      ]
     },
     "execution_count": 16,
     "metadata": {},
     "output_type": "execute_result"
    }
   ],
   "source": [
    "adjacency"
   ]
  },
  {
   "cell_type": "code",
   "execution_count": 17,
   "metadata": {},
   "outputs": [
    {
     "data": {
      "text/plain": [
       "1255"
      ]
     },
     "execution_count": 17,
     "metadata": {},
     "output_type": "execute_result"
    }
   ],
   "source": [
    "len(names)"
   ]
  },
  {
   "cell_type": "markdown",
   "metadata": {},
   "source": [
    "## Ranking"
   ]
  },
  {
   "cell_type": "code",
   "execution_count": 24,
   "metadata": {},
   "outputs": [
    {
     "name": "stdout",
     "output_type": "stream",
     "text": [
      "['Federer R.' 'Nadal R.' 'Djokovic N.' 'Ferrer D.' 'Murray A.'\n",
      " 'Roddick A.' 'Berdych T.' 'Robredo T.' 'Davydenko N.' 'Hewitt L.']\n"
     ]
    }
   ],
   "source": [
    "# top-10 players in number of wins\n",
    "out_weights = adjacency.dot(np.ones(len(names)))\n",
    "print(names[top_k(out_weights, 10)])"
   ]
  },
  {
   "cell_type": "code",
   "execution_count": 36,
   "metadata": {},
   "outputs": [
    {
     "name": "stdout",
     "output_type": "stream",
     "text": [
      "['Federer R.' 'Nadal R.' 'Djokovic N.' 'Murray A.' 'Ferrer D.'\n",
      " 'Roddick A.' 'Berdych T.' 'Hewitt L.' 'Davydenko N.' 'Wawrinka S.']\n"
     ]
    }
   ],
   "source": [
    "# top-10 players in terms of PageRank\n",
    "pagerank = PageRank()\n",
    "adjacency_transpose = sparse.csr_matrix(adjacency.T)\n",
    "scores = pagerank.fit_transform(adjacency_transpose)\n",
    "print(names[top_k(scores, 10)])"
   ]
  },
  {
   "cell_type": "code",
   "execution_count": 78,
   "metadata": {},
   "outputs": [],
   "source": [
    "index = top_k(scores, 10)\n",
    "sub_adjacency = adjacency[index][:, index]"
   ]
  },
  {
   "cell_type": "code",
   "execution_count": 82,
   "metadata": {},
   "outputs": [
    {
     "data": {
      "image/svg+xml": [
       "<svg xmlns=\"http://www.w3.org/2000/svg\" width=\"572.0\" height=\"340\">\n",
       "<defs><marker id=\"arrow-gray\" markerWidth=\"10\" markerHeight=\"10\" refX=\"9\" refY=\"3\" orient=\"auto\">\n",
       "<path d=\"M0,0 L0,6 L9,3 z\" fill=\"gray\"/></marker></defs>\n",
       "<path stroke-width=\"2.3\" stroke=\"gray\" d=\"M 172 177 284 162\" marker-end=\"url(#arrow-gray)\"/>\n",
       "<path stroke-width=\"0.86\" stroke=\"gray\" d=\"M 247 318 415 166\" marker-end=\"url(#arrow-gray)\"/>\n",
       "<path stroke-width=\"0.86\" stroke=\"gray\" d=\"M 247 318 86 320\" marker-end=\"url(#arrow-gray)\"/>\n",
       "<path stroke-width=\"0.86\" stroke=\"gray\" d=\"M 247 318 87 26\" marker-end=\"url(#arrow-gray)\"/>\n",
       "<path stroke-width=\"1.04\" stroke=\"gray\" d=\"M 247 318 25 173\" marker-end=\"url(#arrow-gray)\"/>\n",
       "<path stroke-width=\"1.58\" stroke=\"gray\" d=\"M 247 318 264 94\" marker-end=\"url(#arrow-gray)\"/>\n",
       "<path stroke-width=\"1.4\" stroke=\"gray\" d=\"M 247 318 336 264\" marker-end=\"url(#arrow-gray)\"/>\n",
       "<path stroke-width=\"0.6799999999999999\" stroke=\"gray\" d=\"M 247 318 238 226\" marker-end=\"url(#arrow-gray)\"/>\n",
       "<path stroke-width=\"1.04\" stroke=\"gray\" d=\"M 247 318 289 168\" marker-end=\"url(#arrow-gray)\"/>\n",
       "<path stroke-width=\"1.22\" stroke=\"gray\" d=\"M 247 318 175 183\" marker-end=\"url(#arrow-gray)\"/>\n",
       "<path stroke-width=\"1.04\" stroke=\"gray\" d=\"M 20 170 78 314\" marker-end=\"url(#arrow-gray)\"/>\n",
       "<path stroke-width=\"1.58\" stroke=\"gray\" d=\"M 20 170 82 26\" marker-end=\"url(#arrow-gray)\"/>\n",
       "<path stroke-width=\"1.04\" stroke=\"gray\" d=\"M 20 170 242 315\" marker-end=\"url(#arrow-gray)\"/>\n",
       "<path stroke-width=\"1.04\" stroke=\"gray\" d=\"M 20 170 258 90\" marker-end=\"url(#arrow-gray)\"/>\n",
       "<path stroke-width=\"0.86\" stroke=\"gray\" d=\"M 20 170 335 260\" marker-end=\"url(#arrow-gray)\"/>\n",
       "<path stroke-width=\"0.86\" stroke=\"gray\" d=\"M 20 170 232 219\" marker-end=\"url(#arrow-gray)\"/>\n",
       "<path stroke-width=\"0.86\" stroke=\"gray\" d=\"M 20 170 284 162\" marker-end=\"url(#arrow-gray)\"/>\n",
       "<path stroke-width=\"0.86\" stroke=\"gray\" d=\"M 20 170 166 177\" marker-end=\"url(#arrow-gray)\"/>\n",
       "<path stroke-width=\"1.22\" stroke=\"gray\" d=\"M 84 20 169 171\" marker-end=\"url(#arrow-gray)\"/>\n",
       "<path stroke-width=\"1.4\" stroke=\"gray\" d=\"M 264 88 414 159\" marker-end=\"url(#arrow-gray)\"/>\n",
       "<path stroke-width=\"0.86\" stroke=\"gray\" d=\"M 84 20 285 159\" marker-end=\"url(#arrow-gray)\"/>\n",
       "<path stroke-width=\"0.5\" stroke=\"gray\" d=\"M 84 20 258 86\" marker-end=\"url(#arrow-gray)\"/>\n",
       "<path stroke-width=\"2.3\" stroke=\"gray\" d=\"M 420 162 252 314\" marker-end=\"url(#arrow-gray)\"/>\n",
       "<path stroke-width=\"0.5\" stroke=\"gray\" d=\"M 420 162 26 170\" marker-end=\"url(#arrow-gray)\"/>\n",
       "<path stroke-width=\"1.58\" stroke=\"gray\" d=\"M 420 162 270 91\" marker-end=\"url(#arrow-gray)\"/>\n",
       "<path stroke-width=\"1.4\" stroke=\"gray\" d=\"M 420 162 345 256\" marker-end=\"url(#arrow-gray)\"/>\n",
       "<path stroke-width=\"1.04\" stroke=\"gray\" d=\"M 420 162 244 218\" marker-end=\"url(#arrow-gray)\"/>\n",
       "<path stroke-width=\"0.86\" stroke=\"gray\" d=\"M 420 162 296 162\" marker-end=\"url(#arrow-gray)\"/>\n",
       "<path stroke-width=\"0.86\" stroke=\"gray\" d=\"M 420 162 178 177\" marker-end=\"url(#arrow-gray)\"/>\n",
       "<path stroke-width=\"0.6799999999999999\" stroke=\"gray\" d=\"M 80 320 414 164\" marker-end=\"url(#arrow-gray)\"/>\n",
       "<path stroke-width=\"1.76\" stroke=\"gray\" d=\"M 80 320 241 318\" marker-end=\"url(#arrow-gray)\"/>\n",
       "<path stroke-width=\"0.5\" stroke=\"gray\" d=\"M 80 320 22 176\" marker-end=\"url(#arrow-gray)\"/>\n",
       "<path stroke-width=\"1.22\" stroke=\"gray\" d=\"M 80 320 260 93\" marker-end=\"url(#arrow-gray)\"/>\n",
       "<path stroke-width=\"1.04\" stroke=\"gray\" d=\"M 80 320 335 262\" marker-end=\"url(#arrow-gray)\"/>\n",
       "<path stroke-width=\"1.04\" stroke=\"gray\" d=\"M 80 320 285 166\" marker-end=\"url(#arrow-gray)\"/>\n",
       "<path stroke-width=\"0.6799999999999999\" stroke=\"gray\" d=\"M 80 320 169 182\" marker-end=\"url(#arrow-gray)\"/>\n",
       "<path stroke-width=\"0.6799999999999999\" stroke=\"gray\" d=\"M 84 20 414 160\" marker-end=\"url(#arrow-gray)\"/>\n",
       "<path stroke-width=\"1.04\" stroke=\"gray\" d=\"M 84 20 80 314\" marker-end=\"url(#arrow-gray)\"/>\n",
       "<path stroke-width=\"1.22\" stroke=\"gray\" d=\"M 84 20 22 164\" marker-end=\"url(#arrow-gray)\"/>\n",
       "<path stroke-width=\"0.5\" stroke=\"gray\" d=\"M 84 20 234 215\" marker-end=\"url(#arrow-gray)\"/>\n",
       "<path stroke-width=\"0.5\" stroke=\"gray\" d=\"M 264 88 84 315\" marker-end=\"url(#arrow-gray)\"/>\n",
       "<path stroke-width=\"0.86\" stroke=\"gray\" d=\"M 264 88 90 22\" marker-end=\"url(#arrow-gray)\"/>\n",
       "<path stroke-width=\"1.4\" stroke=\"gray\" d=\"M 264 88 247 312\" marker-end=\"url(#arrow-gray)\"/>\n",
       "<path stroke-width=\"3.02\" stroke=\"gray\" d=\"M 290 162 414 162\" marker-end=\"url(#arrow-gray)\"/>\n",
       "<path stroke-width=\"1.22\" stroke=\"gray\" d=\"M 290 162 85 316\" marker-end=\"url(#arrow-gray)\"/>\n",
       "<path stroke-width=\"1.4\" stroke=\"gray\" d=\"M 290 162 89 23\" marker-end=\"url(#arrow-gray)\"/>\n",
       "<path stroke-width=\"3.38\" stroke=\"gray\" d=\"M 290 162 248 312\" marker-end=\"url(#arrow-gray)\"/>\n",
       "<path stroke-width=\"1.22\" stroke=\"gray\" d=\"M 290 162 26 170\" marker-end=\"url(#arrow-gray)\"/>\n",
       "<path stroke-width=\"4.46\" stroke=\"gray\" d=\"M 290 162 266 94\" marker-end=\"url(#arrow-gray)\"/>\n",
       "<path stroke-width=\"3.38\" stroke=\"gray\" d=\"M 290 162 338 255\" marker-end=\"url(#arrow-gray)\"/>\n",
       "<path stroke-width=\"3.74\" stroke=\"gray\" d=\"M 290 162 242 215\" marker-end=\"url(#arrow-gray)\"/>\n",
       "<path stroke-width=\"4.46\" stroke=\"gray\" d=\"M 290 162 178 177\" marker-end=\"url(#arrow-gray)\"/>\n",
       "<path stroke-width=\"3.56\" stroke=\"gray\" d=\"M 172 177 414 162\" marker-end=\"url(#arrow-gray)\"/>\n",
       "<path stroke-width=\"3.38\" stroke=\"gray\" d=\"M 172 177 83 315\" marker-end=\"url(#arrow-gray)\"/>\n",
       "<path stroke-width=\"3.2\" stroke=\"gray\" d=\"M 172 177 87 26\" marker-end=\"url(#arrow-gray)\"/>\n",
       "<path stroke-width=\"2.84\" stroke=\"gray\" d=\"M 172 177 244 312\" marker-end=\"url(#arrow-gray)\"/>\n",
       "<path stroke-width=\"4.1\" stroke=\"gray\" d=\"M 172 177 26 170\" marker-end=\"url(#arrow-gray)\"/>\n",
       "<path stroke-width=\"3.2\" stroke=\"gray\" d=\"M 172 177 259 92\" marker-end=\"url(#arrow-gray)\"/>\n",
       "<path stroke-width=\"2.84\" stroke=\"gray\" d=\"M 172 177 335 258\" marker-end=\"url(#arrow-gray)\"/>\n",
       "<path stroke-width=\"3.92\" stroke=\"gray\" d=\"M 172 177 233 217\" marker-end=\"url(#arrow-gray)\"/>\n",
       "<path stroke-width=\"4.279999999999999\" stroke=\"gray\" d=\"M 238 220 177 180\" marker-end=\"url(#arrow-gray)\"/>\n",
       "<path stroke-width=\"5.0\" stroke=\"gray\" d=\"M 238 220 286 167\" marker-end=\"url(#arrow-gray)\"/>\n",
       "<path stroke-width=\"4.64\" stroke=\"gray\" d=\"M 238 220 335 259\" marker-end=\"url(#arrow-gray)\"/>\n",
       "<path stroke-width=\"3.2\" stroke=\"gray\" d=\"M 238 220 263 94\" marker-end=\"url(#arrow-gray)\"/>\n",
       "<path stroke-width=\"1.22\" stroke=\"gray\" d=\"M 264 88 26 168\" marker-end=\"url(#arrow-gray)\"/>\n",
       "<path stroke-width=\"1.4\" stroke=\"gray\" d=\"M 264 88 339 255\" marker-end=\"url(#arrow-gray)\"/>\n",
       "<path stroke-width=\"1.04\" stroke=\"gray\" d=\"M 264 88 239 214\" marker-end=\"url(#arrow-gray)\"/>\n",
       "<path stroke-width=\"1.4\" stroke=\"gray\" d=\"M 264 88 288 156\" marker-end=\"url(#arrow-gray)\"/>\n",
       "<path stroke-width=\"1.94\" stroke=\"gray\" d=\"M 341 261 416 167\" marker-end=\"url(#arrow-gray)\"/>\n",
       "<path stroke-width=\"1.4\" stroke=\"gray\" d=\"M 341 261 86 319\" marker-end=\"url(#arrow-gray)\"/>\n",
       "<path stroke-width=\"0.5\" stroke=\"gray\" d=\"M 341 261 89 24\" marker-end=\"url(#arrow-gray)\"/>\n",
       "<path stroke-width=\"2.12\" stroke=\"gray\" d=\"M 341 261 252 315\" marker-end=\"url(#arrow-gray)\"/>\n",
       "<path stroke-width=\"0.5\" stroke=\"gray\" d=\"M 420 162 90 22\" marker-end=\"url(#arrow-gray)\"/>\n",
       "<path stroke-width=\"1.58\" stroke=\"gray\" d=\"M 341 261 26 171\" marker-end=\"url(#arrow-gray)\"/>\n",
       "<path stroke-width=\"1.94\" stroke=\"gray\" d=\"M 341 261 244 222\" marker-end=\"url(#arrow-gray)\"/>\n",
       "<path stroke-width=\"1.4\" stroke=\"gray\" d=\"M 341 261 293 168\" marker-end=\"url(#arrow-gray)\"/>\n",
       "<path stroke-width=\"2.12\" stroke=\"gray\" d=\"M 341 261 178 180\" marker-end=\"url(#arrow-gray)\"/>\n",
       "<path stroke-width=\"3.38\" stroke=\"gray\" d=\"M 238 220 414 164\" marker-end=\"url(#arrow-gray)\"/>\n",
       "<path stroke-width=\"1.22\" stroke=\"gray\" d=\"M 238 220 85 317\" marker-end=\"url(#arrow-gray)\"/>\n",
       "<path stroke-width=\"1.22\" stroke=\"gray\" d=\"M 238 220 88 25\" marker-end=\"url(#arrow-gray)\"/>\n",
       "<path stroke-width=\"4.1\" stroke=\"gray\" d=\"M 238 220 247 312\" marker-end=\"url(#arrow-gray)\"/>\n",
       "<path stroke-width=\"1.04\" stroke=\"gray\" d=\"M 238 220 26 171\" marker-end=\"url(#arrow-gray)\"/>\n",
       "<path stroke-width=\"2.84\" stroke=\"gray\" d=\"M 341 261 266 94\" marker-end=\"url(#arrow-gray)\"/>\n",
       "<path stroke-width=\"0.5\" stroke=\"gray\" d=\"M 420 162 86 318\" marker-end=\"url(#arrow-gray)\"/>\n",
       "<circle cx=\"172\" cy=\"177\" r=\"7.0\" style=\"fill:gray;stroke:black;stroke-width:1.0\"/>\n",
       "<circle cx=\"290\" cy=\"162\" r=\"7.0\" style=\"fill:gray;stroke:black;stroke-width:1.0\"/>\n",
       "<circle cx=\"238\" cy=\"220\" r=\"7.0\" style=\"fill:gray;stroke:black;stroke-width:1.0\"/>\n",
       "<circle cx=\"341\" cy=\"261\" r=\"7.0\" style=\"fill:gray;stroke:black;stroke-width:1.0\"/>\n",
       "<circle cx=\"264\" cy=\"88\" r=\"7.0\" style=\"fill:gray;stroke:black;stroke-width:1.0\"/>\n",
       "<circle cx=\"20\" cy=\"170\" r=\"7.0\" style=\"fill:gray;stroke:black;stroke-width:1.0\"/>\n",
       "<circle cx=\"247\" cy=\"318\" r=\"7.0\" style=\"fill:gray;stroke:black;stroke-width:1.0\"/>\n",
       "<circle cx=\"84\" cy=\"20\" r=\"7.0\" style=\"fill:gray;stroke:black;stroke-width:1.0\"/>\n",
       "<circle cx=\"80\" cy=\"320\" r=\"7.0\" style=\"fill:gray;stroke:black;stroke-width:1.0\"/>\n",
       "<circle cx=\"420\" cy=\"162\" r=\"7.0\" style=\"fill:gray;stroke:black;stroke-width:1.0\"/>\n",
       "<text text-anchor=\"start\" x=\"189\" y=\"177\" font-size=\"12\">Federer R.</text><text text-anchor=\"start\" x=\"307\" y=\"162\" font-size=\"12\">Nadal R.</text><text text-anchor=\"start\" x=\"255\" y=\"220\" font-size=\"12\">Djokovic N.</text><text text-anchor=\"start\" x=\"358\" y=\"261\" font-size=\"12\">Murray A.</text><text text-anchor=\"start\" x=\"281\" y=\"88\" font-size=\"12\">Ferrer D.</text><text text-anchor=\"start\" x=\"37\" y=\"170\" font-size=\"12\">Roddick A.</text><text text-anchor=\"start\" x=\"264\" y=\"318\" font-size=\"12\">Berdych T.</text><text text-anchor=\"start\" x=\"101\" y=\"20\" font-size=\"12\">Hewitt L.</text><text text-anchor=\"start\" x=\"97\" y=\"320\" font-size=\"12\">Davydenko N.</text><text text-anchor=\"start\" x=\"437\" y=\"162\" font-size=\"12\">Wawrinka S.</text></svg>"
      ],
      "text/plain": [
       "<IPython.core.display.SVG object>"
      ]
     },
     "execution_count": 82,
     "metadata": {},
     "output_type": "execute_result"
    }
   ],
   "source": [
    "SVG(svg_digraph(sub_adjacency, names=names[index], scores=scores[index]))"
   ]
  },
  {
   "cell_type": "markdown",
   "metadata": {},
   "source": [
    "## Core decomposition"
   ]
  },
  {
   "cell_type": "code",
   "execution_count": 65,
   "metadata": {},
   "outputs": [],
   "source": [
    "algo = CoreDecomposition()"
   ]
  },
  {
   "cell_type": "code",
   "execution_count": 66,
   "metadata": {},
   "outputs": [],
   "source": [
    "adjacency_sym = directed2undirected(adjacency)"
   ]
  },
  {
   "cell_type": "code",
   "execution_count": 67,
   "metadata": {},
   "outputs": [],
   "source": [
    "labels = algo.fit_transform(adjacency_sym)"
   ]
  },
  {
   "cell_type": "code",
   "execution_count": 69,
   "metadata": {},
   "outputs": [
    {
     "name": "stdout",
     "output_type": "stream",
     "text": [
      "['Acasuso J.' 'Almagro N.' 'Ancic M.' 'Anderson K.' 'Andreev I.'\n",
      " 'Andujar P.' 'Baghdatis M.' 'Beck K.' 'Becker B.' 'Bellucci T.'\n",
      " 'Benneteau J.' 'Berdych T.' 'Berlocq C.' 'Berrer M.' 'Bjorkman J.'\n",
      " 'Blake J.' 'Bolelli S.' 'Calleri A.' 'Canas G.' 'Chardy J.' 'Chela J.I.'\n",
      " 'Cilic M.' 'Clement A.' 'Coria G.' 'Cuevas P.' 'Darcis S.' 'Davydenko N.'\n",
      " 'Del Potro J.M.' 'Dent T.' 'Dimitrov G.' 'Djokovic N.' 'Dodig I.'\n",
      " 'Dolgopolov O.' 'Falla A.' 'Federer R.' 'Ferrer D.' 'Ferrero J.C.'\n",
      " 'Fish M.' 'Fognini F.' 'Gabashvili T.' 'Garcia-Lopez G.' 'Gasquet R.'\n",
      " 'Gaudio G.' 'Gicquel M.' 'Gimeno-Traver D.' 'Ginepri R.' 'Giraldo S.'\n",
      " 'Golubev A.' 'Gonzalez F.' 'Granollers M.' 'Grosjean S.' 'Gulbis E.'\n",
      " 'Haas T.' 'Haase R.' 'Hanescu V.' 'Harrison R.' 'Henman T.' 'Hernych J.'\n",
      " 'Hewitt L.' 'Horna L.' 'Hrbaty D.' 'Isner J.' 'Istomin D.' 'Johansson T.'\n",
      " 'Karlovic I.' 'Kiefer N.' 'Kohlschreiber P.' 'Korolev E.' 'Koubek S.'\n",
      " 'Kubot L.' 'Kunitsyn I.' 'Lapentti N.' 'Lee H.T.' 'Ljubicic I.'\n",
      " 'Llodra M.' 'Lopez F.' 'Lu Y.H.' 'Mahut N.' 'Malisse X.' 'Mannarino A.'\n",
      " 'Martin A.' 'Massu N.' 'Mathieu P.H.' 'Mayer F.' 'Mayer L.' 'Melzer J.'\n",
      " 'Mirnyi M.' 'Monaco J.' 'Monfils G.' 'Montanes A.' 'Moya C.' 'Muller G.'\n",
      " 'Murray A.' 'Nadal R.' 'Nalbandian D.' 'Nieminen J.' 'Nishikori K.'\n",
      " 'Novak J.' 'Paire B.' 'Pavel A.' 'Petzschner P.' 'Phau B.' 'Querrey S.'\n",
      " 'Ramirez-Hidalgo R.' 'Raonic M.' 'Robredo T.' 'Rochus C.' 'Rochus O.'\n",
      " 'Roddick A.' 'Roger-Vasselin E.' 'Rosol L.' 'Russell M.' 'Safin M.'\n",
      " 'Santoro F.' 'Schuettler R.' 'Sela D.' 'Seppi A.' 'Serra F.' 'Simon G.'\n",
      " 'Soderling R.' 'Spadea V.' 'Srichaphan P.' 'Stakhovsky S.' 'Starace P.'\n",
      " 'Stepanek R.' 'Tipsarevic J.' 'Tomic B.' 'Troicki V.' 'Tsonga J.W.'\n",
      " 'Tursunov D.' 'Verdasco F.' 'Vliegen K.' 'Volandri F.' 'Wawrinka S.'\n",
      " 'Young D.' 'Youzhny M.' 'Zverev M.']\n"
     ]
    }
   ],
   "source": [
    "print(names[labels == algo.core_value_])"
   ]
  },
  {
   "cell_type": "markdown",
   "metadata": {},
   "source": [
    "## Embedding"
   ]
  },
  {
   "cell_type": "code",
   "execution_count": 98,
   "metadata": {},
   "outputs": [],
   "source": [
    "spectral = Spectral(2, normalized=False)"
   ]
  },
  {
   "cell_type": "code",
   "execution_count": 99,
   "metadata": {},
   "outputs": [],
   "source": [
    "embedding = spectral.fit_transform(adjacency)"
   ]
  },
  {
   "cell_type": "code",
   "execution_count": 100,
   "metadata": {},
   "outputs": [],
   "source": [
    "index = np.argwhere(labels == algo.core_value_).ravel()"
   ]
  },
  {
   "cell_type": "code",
   "execution_count": 101,
   "metadata": {},
   "outputs": [
    {
     "data": {
      "image/svg+xml": [
       "<svg xmlns=\"http://www.w3.org/2000/svg\" width=\"581.637838376397\" height=\"1040\">\n",
       "<circle cx=\"291\" cy=\"245\" r=\"5.0\" style=\"fill:gray;stroke:black;stroke-width:1.0\"/>\n",
       "<circle cx=\"146\" cy=\"336\" r=\"5.0\" style=\"fill:gray;stroke:black;stroke-width:1.0\"/>\n",
       "<circle cx=\"296\" cy=\"140\" r=\"5.0\" style=\"fill:gray;stroke:black;stroke-width:1.0\"/>\n",
       "<circle cx=\"50\" cy=\"475\" r=\"5.0\" style=\"fill:gray;stroke:black;stroke-width:1.0\"/>\n",
       "<circle cx=\"217\" cy=\"225\" r=\"5.0\" style=\"fill:gray;stroke:black;stroke-width:1.0\"/>\n",
       "<circle cx=\"71\" cy=\"593\" r=\"5.0\" style=\"fill:gray;stroke:black;stroke-width:1.0\"/>\n",
       "<circle cx=\"149\" cy=\"278\" r=\"5.0\" style=\"fill:gray;stroke:black;stroke-width:1.0\"/>\n",
       "<circle cx=\"314\" cy=\"217\" r=\"5.0\" style=\"fill:gray;stroke:black;stroke-width:1.0\"/>\n",
       "<circle cx=\"134\" cy=\"397\" r=\"5.0\" style=\"fill:gray;stroke:black;stroke-width:1.0\"/>\n",
       "<circle cx=\"85\" cy=\"513\" r=\"5.0\" style=\"fill:gray;stroke:black;stroke-width:1.0\"/>\n",
       "<circle cx=\"149\" cy=\"234\" r=\"5.0\" style=\"fill:gray;stroke:black;stroke-width:1.0\"/>\n",
       "<circle cx=\"131\" cy=\"229\" r=\"5.0\" style=\"fill:gray;stroke:black;stroke-width:1.0\"/>\n",
       "<circle cx=\"80\" cy=\"655\" r=\"5.0\" style=\"fill:gray;stroke:black;stroke-width:1.0\"/>\n",
       "<circle cx=\"142\" cy=\"625\" r=\"5.0\" style=\"fill:gray;stroke:black;stroke-width:1.0\"/>\n",
       "<circle cx=\"406\" cy=\"162\" r=\"5.0\" style=\"fill:gray;stroke:black;stroke-width:1.0\"/>\n",
       "<circle cx=\"276\" cy=\"185\" r=\"5.0\" style=\"fill:gray;stroke:black;stroke-width:1.0\"/>\n",
       "<circle cx=\"102\" cy=\"466\" r=\"5.0\" style=\"fill:gray;stroke:black;stroke-width:1.0\"/>\n",
       "<circle cx=\"357\" cy=\"145\" r=\"5.0\" style=\"fill:gray;stroke:black;stroke-width:1.0\"/>\n",
       "<circle cx=\"366\" cy=\"170\" r=\"5.0\" style=\"fill:gray;stroke:black;stroke-width:1.0\"/>\n",
       "<circle cx=\"78\" cy=\"554\" r=\"5.0\" style=\"fill:gray;stroke:black;stroke-width:1.0\"/>\n",
       "<circle cx=\"296\" cy=\"253\" r=\"5.0\" style=\"fill:gray;stroke:black;stroke-width:1.0\"/>\n",
       "<circle cx=\"84\" cy=\"327\" r=\"5.0\" style=\"fill:gray;stroke:black;stroke-width:1.0\"/>\n",
       "<circle cx=\"321\" cy=\"120\" r=\"5.0\" style=\"fill:gray;stroke:black;stroke-width:1.0\"/>\n",
       "<circle cx=\"384\" cy=\"84\" r=\"5.0\" style=\"fill:gray;stroke:black;stroke-width:1.0\"/>\n",
       "<circle cx=\"73\" cy=\"640\" r=\"5.0\" style=\"fill:gray;stroke:black;stroke-width:1.0\"/>\n",
       "<circle cx=\"150\" cy=\"288\" r=\"5.0\" style=\"fill:gray;stroke:black;stroke-width:1.0\"/>\n",
       "<circle cx=\"240\" cy=\"151\" r=\"5.0\" style=\"fill:gray;stroke:black;stroke-width:1.0\"/>\n",
       "<circle cx=\"134\" cy=\"149\" r=\"5.0\" style=\"fill:gray;stroke:black;stroke-width:1.0\"/>\n",
       "<circle cx=\"374\" cy=\"208\" r=\"5.0\" style=\"fill:gray;stroke:black;stroke-width:1.0\"/>\n",
       "<circle cx=\"42\" cy=\"435\" r=\"5.0\" style=\"fill:gray;stroke:black;stroke-width:1.0\"/>\n",
       "<circle cx=\"125\" cy=\"84\" r=\"5.0\" style=\"fill:gray;stroke:black;stroke-width:1.0\"/>\n",
       "<circle cx=\"62\" cy=\"587\" r=\"5.0\" style=\"fill:gray;stroke:black;stroke-width:1.0\"/>\n",
       "<circle cx=\"66\" cy=\"439\" r=\"5.0\" style=\"fill:gray;stroke:black;stroke-width:1.0\"/>\n",
       "<circle cx=\"139\" cy=\"430\" r=\"5.0\" style=\"fill:gray;stroke:black;stroke-width:1.0\"/>\n",
       "<circle cx=\"226\" cy=\"20\" r=\"5.0\" style=\"fill:gray;stroke:black;stroke-width:1.0\"/>\n",
       "<circle cx=\"159\" cy=\"218\" r=\"5.0\" style=\"fill:gray;stroke:black;stroke-width:1.0\"/>\n",
       "<circle cx=\"336\" cy=\"111\" r=\"5.0\" style=\"fill:gray;stroke:black;stroke-width:1.0\"/>\n",
       "<circle cx=\"229\" cy=\"193\" r=\"5.0\" style=\"fill:gray;stroke:black;stroke-width:1.0\"/>\n",
       "<circle cx=\"67\" cy=\"603\" r=\"5.0\" style=\"fill:gray;stroke:black;stroke-width:1.0\"/>\n",
       "<circle cx=\"137\" cy=\"609\" r=\"5.0\" style=\"fill:gray;stroke:black;stroke-width:1.0\"/>\n",
       "<circle cx=\"126\" cy=\"552\" r=\"5.0\" style=\"fill:gray;stroke:black;stroke-width:1.0\"/>\n",
       "<circle cx=\"137\" cy=\"286\" r=\"5.0\" style=\"fill:gray;stroke:black;stroke-width:1.0\"/>\n",
       "<circle cx=\"376\" cy=\"94\" r=\"5.0\" style=\"fill:gray;stroke:black;stroke-width:1.0\"/>\n",
       "<circle cx=\"206\" cy=\"387\" r=\"5.0\" style=\"fill:gray;stroke:black;stroke-width:1.0\"/>\n",
       "<circle cx=\"73\" cy=\"630\" r=\"5.0\" style=\"fill:gray;stroke:black;stroke-width:1.0\"/>\n",
       "<circle cx=\"309\" cy=\"267\" r=\"5.0\" style=\"fill:gray;stroke:black;stroke-width:1.0\"/>\n",
       "<circle cx=\"72\" cy=\"630\" r=\"5.0\" style=\"fill:gray;stroke:black;stroke-width:1.0\"/>\n",
       "<circle cx=\"129\" cy=\"1020\" r=\"5.0\" style=\"fill:gray;stroke:black;stroke-width:1.0\"/>\n",
       "<circle cx=\"283\" cy=\"92\" r=\"5.0\" style=\"fill:gray;stroke:black;stroke-width:1.0\"/>\n",
       "<circle cx=\"82\" cy=\"519\" r=\"5.0\" style=\"fill:gray;stroke:black;stroke-width:1.0\"/>\n",
       "<circle cx=\"389\" cy=\"75\" r=\"5.0\" style=\"fill:gray;stroke:black;stroke-width:1.0\"/>\n",
       "<circle cx=\"119\" cy=\"306\" r=\"5.0\" style=\"fill:gray;stroke:black;stroke-width:1.0\"/>\n",
       "<circle cx=\"272\" cy=\"119\" r=\"5.0\" style=\"fill:gray;stroke:black;stroke-width:1.0\"/>\n",
       "<circle cx=\"81\" cy=\"694\" r=\"5.0\" style=\"fill:gray;stroke:black;stroke-width:1.0\"/>\n",
       "<circle cx=\"199\" cy=\"440\" r=\"5.0\" style=\"fill:gray;stroke:black;stroke-width:1.0\"/>\n",
       "<circle cx=\"66\" cy=\"529\" r=\"5.0\" style=\"fill:gray;stroke:black;stroke-width:1.0\"/>\n",
       "<circle cx=\"420\" cy=\"86\" r=\"5.0\" style=\"fill:gray;stroke:black;stroke-width:1.0\"/>\n",
       "<circle cx=\"256\" cy=\"281\" r=\"5.0\" style=\"fill:gray;stroke:black;stroke-width:1.0\"/>\n",
       "<circle cx=\"304\" cy=\"116\" r=\"5.0\" style=\"fill:gray;stroke:black;stroke-width:1.0\"/>\n",
       "<circle cx=\"331\" cy=\"341\" r=\"5.0\" style=\"fill:gray;stroke:black;stroke-width:1.0\"/>\n",
       "<circle cx=\"390\" cy=\"380\" r=\"5.0\" style=\"fill:gray;stroke:black;stroke-width:1.0\"/>\n",
       "<circle cx=\"76\" cy=\"410\" r=\"5.0\" style=\"fill:gray;stroke:black;stroke-width:1.0\"/>\n",
       "<circle cx=\"86\" cy=\"472\" r=\"5.0\" style=\"fill:gray;stroke:black;stroke-width:1.0\"/>\n",
       "<circle cx=\"391\" cy=\"122\" r=\"5.0\" style=\"fill:gray;stroke:black;stroke-width:1.0\"/>\n",
       "<circle cx=\"149\" cy=\"307\" r=\"5.0\" style=\"fill:gray;stroke:black;stroke-width:1.0\"/>\n",
       "<circle cx=\"342\" cy=\"89\" r=\"5.0\" style=\"fill:gray;stroke:black;stroke-width:1.0\"/>\n",
       "<circle cx=\"121\" cy=\"370\" r=\"5.0\" style=\"fill:gray;stroke:black;stroke-width:1.0\"/>\n",
       "<circle cx=\"197\" cy=\"225\" r=\"5.0\" style=\"fill:gray;stroke:black;stroke-width:1.0\"/>\n",
       "<circle cx=\"356\" cy=\"272\" r=\"5.0\" style=\"fill:gray;stroke:black;stroke-width:1.0\"/>\n",
       "<circle cx=\"104\" cy=\"733\" r=\"5.0\" style=\"fill:gray;stroke:black;stroke-width:1.0\"/>\n",
       "<circle cx=\"198\" cy=\"694\" r=\"5.0\" style=\"fill:gray;stroke:black;stroke-width:1.0\"/>\n",
       "<circle cx=\"369\" cy=\"323\" r=\"5.0\" style=\"fill:gray;stroke:black;stroke-width:1.0\"/>\n",
       "<circle cx=\"369\" cy=\"195\" r=\"5.0\" style=\"fill:gray;stroke:black;stroke-width:1.0\"/>\n",
       "<circle cx=\"287\" cy=\"114\" r=\"5.0\" style=\"fill:gray;stroke:black;stroke-width:1.0\"/>\n",
       "<circle cx=\"211\" cy=\"255\" r=\"5.0\" style=\"fill:gray;stroke:black;stroke-width:1.0\"/>\n",
       "<circle cx=\"177\" cy=\"327\" r=\"5.0\" style=\"fill:gray;stroke:black;stroke-width:1.0\"/>\n",
       "<circle cx=\"105\" cy=\"757\" r=\"5.0\" style=\"fill:gray;stroke:black;stroke-width:1.0\"/>\n",
       "<circle cx=\"127\" cy=\"516\" r=\"5.0\" style=\"fill:gray;stroke:black;stroke-width:1.0\"/>\n",
       "<circle cx=\"279\" cy=\"182\" r=\"5.0\" style=\"fill:gray;stroke:black;stroke-width:1.0\"/>\n",
       "<circle cx=\"20\" cy=\"812\" r=\"5.0\" style=\"fill:gray;stroke:black;stroke-width:1.0\"/>\n",
       "<circle cx=\"363\" cy=\"247\" r=\"5.0\" style=\"fill:gray;stroke:black;stroke-width:1.0\"/>\n",
       "<circle cx=\"372\" cy=\"228\" r=\"5.0\" style=\"fill:gray;stroke:black;stroke-width:1.0\"/>\n",
       "<circle cx=\"216\" cy=\"282\" r=\"5.0\" style=\"fill:gray;stroke:black;stroke-width:1.0\"/>\n",
       "<circle cx=\"168\" cy=\"303\" r=\"5.0\" style=\"fill:gray;stroke:black;stroke-width:1.0\"/>\n",
       "<circle cx=\"58\" cy=\"568\" r=\"5.0\" style=\"fill:gray;stroke:black;stroke-width:1.0\"/>\n",
       "<circle cx=\"192\" cy=\"284\" r=\"5.0\" style=\"fill:gray;stroke:black;stroke-width:1.0\"/>\n",
       "<circle cx=\"393\" cy=\"122\" r=\"5.0\" style=\"fill:gray;stroke:black;stroke-width:1.0\"/>\n",
       "<circle cx=\"148\" cy=\"303\" r=\"5.0\" style=\"fill:gray;stroke:black;stroke-width:1.0\"/>\n",
       "<circle cx=\"124\" cy=\"261\" r=\"5.0\" style=\"fill:gray;stroke:black;stroke-width:1.0\"/>\n",
       "<circle cx=\"218\" cy=\"524\" r=\"5.0\" style=\"fill:gray;stroke:black;stroke-width:1.0\"/>\n",
       "<circle cx=\"355\" cy=\"111\" r=\"5.0\" style=\"fill:gray;stroke:black;stroke-width:1.0\"/>\n",
       "<circle cx=\"123\" cy=\"444\" r=\"5.0\" style=\"fill:gray;stroke:black;stroke-width:1.0\"/>\n",
       "<circle cx=\"127\" cy=\"139\" r=\"5.0\" style=\"fill:gray;stroke:black;stroke-width:1.0\"/>\n",
       "<circle cx=\"165\" cy=\"81\" r=\"5.0\" style=\"fill:gray;stroke:black;stroke-width:1.0\"/>\n",
       "<circle cx=\"270\" cy=\"116\" r=\"5.0\" style=\"fill:gray;stroke:black;stroke-width:1.0\"/>\n",
       "<circle cx=\"232\" cy=\"277\" r=\"5.0\" style=\"fill:gray;stroke:black;stroke-width:1.0\"/>\n",
       "<circle cx=\"61\" cy=\"321\" r=\"5.0\" style=\"fill:gray;stroke:black;stroke-width:1.0\"/>\n",
       "<circle cx=\"401\" cy=\"97\" r=\"5.0\" style=\"fill:gray;stroke:black;stroke-width:1.0\"/>\n",
       "<circle cx=\"47\" cy=\"564\" r=\"5.0\" style=\"fill:gray;stroke:black;stroke-width:1.0\"/>\n",
       "<circle cx=\"390\" cy=\"190\" r=\"5.0\" style=\"fill:gray;stroke:black;stroke-width:1.0\"/>\n",
       "<circle cx=\"123\" cy=\"497\" r=\"5.0\" style=\"fill:gray;stroke:black;stroke-width:1.0\"/>\n",
       "<circle cx=\"280\" cy=\"909\" r=\"5.0\" style=\"fill:gray;stroke:black;stroke-width:1.0\"/>\n",
       "<circle cx=\"111\" cy=\"347\" r=\"5.0\" style=\"fill:gray;stroke:black;stroke-width:1.0\"/>\n",
       "<circle cx=\"278\" cy=\"402\" r=\"5.0\" style=\"fill:gray;stroke:black;stroke-width:1.0\"/>\n",
       "<circle cx=\"66\" cy=\"288\" r=\"5.0\" style=\"fill:gray;stroke:black;stroke-width:1.0\"/>\n",
       "<circle cx=\"234\" cy=\"234\" r=\"5.0\" style=\"fill:gray;stroke:black;stroke-width:1.0\"/>\n",
       "<circle cx=\"391\" cy=\"299\" r=\"5.0\" style=\"fill:gray;stroke:black;stroke-width:1.0\"/>\n",
       "<circle cx=\"291\" cy=\"229\" r=\"5.0\" style=\"fill:gray;stroke:black;stroke-width:1.0\"/>\n",
       "<circle cx=\"294\" cy=\"63\" r=\"5.0\" style=\"fill:gray;stroke:black;stroke-width:1.0\"/>\n",
       "<circle cx=\"70\" cy=\"559\" r=\"5.0\" style=\"fill:gray;stroke:black;stroke-width:1.0\"/>\n",
       "<circle cx=\"32\" cy=\"658\" r=\"5.0\" style=\"fill:gray;stroke:black;stroke-width:1.0\"/>\n",
       "<circle cx=\"158\" cy=\"544\" r=\"5.0\" style=\"fill:gray;stroke:black;stroke-width:1.0\"/>\n",
       "<circle cx=\"345\" cy=\"102\" r=\"5.0\" style=\"fill:gray;stroke:black;stroke-width:1.0\"/>\n",
       "<circle cx=\"353\" cy=\"130\" r=\"5.0\" style=\"fill:gray;stroke:black;stroke-width:1.0\"/>\n",
       "<circle cx=\"357\" cy=\"156\" r=\"5.0\" style=\"fill:gray;stroke:black;stroke-width:1.0\"/>\n",
       "<circle cx=\"123\" cy=\"421\" r=\"5.0\" style=\"fill:gray;stroke:black;stroke-width:1.0\"/>\n",
       "<circle cx=\"132\" cy=\"316\" r=\"5.0\" style=\"fill:gray;stroke:black;stroke-width:1.0\"/>\n",
       "<circle cx=\"199\" cy=\"275\" r=\"5.0\" style=\"fill:gray;stroke:black;stroke-width:1.0\"/>\n",
       "<circle cx=\"121\" cy=\"314\" r=\"5.0\" style=\"fill:gray;stroke:black;stroke-width:1.0\"/>\n",
       "<circle cx=\"225\" cy=\"65\" r=\"5.0\" style=\"fill:gray;stroke:black;stroke-width:1.0\"/>\n",
       "<circle cx=\"344\" cy=\"265\" r=\"5.0\" style=\"fill:gray;stroke:black;stroke-width:1.0\"/>\n",
       "<circle cx=\"405\" cy=\"219\" r=\"5.0\" style=\"fill:gray;stroke:black;stroke-width:1.0\"/>\n",
       "<circle cx=\"86\" cy=\"818\" r=\"5.0\" style=\"fill:gray;stroke:black;stroke-width:1.0\"/>\n",
       "<circle cx=\"193\" cy=\"316\" r=\"5.0\" style=\"fill:gray;stroke:black;stroke-width:1.0\"/>\n",
       "<circle cx=\"226\" cy=\"224\" r=\"5.0\" style=\"fill:gray;stroke:black;stroke-width:1.0\"/>\n",
       "<circle cx=\"136\" cy=\"269\" r=\"5.0\" style=\"fill:gray;stroke:black;stroke-width:1.0\"/>\n",
       "<circle cx=\"40\" cy=\"577\" r=\"5.0\" style=\"fill:gray;stroke:black;stroke-width:1.0\"/>\n",
       "<circle cx=\"85\" cy=\"453\" r=\"5.0\" style=\"fill:gray;stroke:black;stroke-width:1.0\"/>\n",
       "<circle cx=\"105\" cy=\"257\" r=\"5.0\" style=\"fill:gray;stroke:black;stroke-width:1.0\"/>\n",
       "<circle cx=\"196\" cy=\"262\" r=\"5.0\" style=\"fill:gray;stroke:black;stroke-width:1.0\"/>\n",
       "<circle cx=\"161\" cy=\"293\" r=\"5.0\" style=\"fill:gray;stroke:black;stroke-width:1.0\"/>\n",
       "<circle cx=\"289\" cy=\"173\" r=\"5.0\" style=\"fill:gray;stroke:black;stroke-width:1.0\"/>\n",
       "<circle cx=\"273\" cy=\"326\" r=\"5.0\" style=\"fill:gray;stroke:black;stroke-width:1.0\"/>\n",
       "<circle cx=\"115\" cy=\"257\" r=\"5.0\" style=\"fill:gray;stroke:black;stroke-width:1.0\"/>\n",
       "<circle cx=\"53\" cy=\"757\" r=\"5.0\" style=\"fill:gray;stroke:black;stroke-width:1.0\"/>\n",
       "<circle cx=\"207\" cy=\"242\" r=\"5.0\" style=\"fill:gray;stroke:black;stroke-width:1.0\"/>\n",
       "<circle cx=\"107\" cy=\"504\" r=\"5.0\" style=\"fill:gray;stroke:black;stroke-width:1.0\"/>\n",
       "<text text-anchor=\"start\" x=\"299\" y=\"245\" font-size=\"12\">Acasuso J.</text><text text-anchor=\"start\" x=\"154\" y=\"336\" font-size=\"12\">Almagro N.</text><text text-anchor=\"start\" x=\"304\" y=\"140\" font-size=\"12\">Ancic M.</text><text text-anchor=\"start\" x=\"58\" y=\"475\" font-size=\"12\">Anderson K.</text><text text-anchor=\"start\" x=\"225\" y=\"225\" font-size=\"12\">Andreev I.</text><text text-anchor=\"start\" x=\"79\" y=\"593\" font-size=\"12\">Andujar P.</text><text text-anchor=\"start\" x=\"157\" y=\"278\" font-size=\"12\">Baghdatis M.</text><text text-anchor=\"start\" x=\"322\" y=\"217\" font-size=\"12\">Beck K.</text><text text-anchor=\"start\" x=\"142\" y=\"397\" font-size=\"12\">Becker B.</text><text text-anchor=\"start\" x=\"93\" y=\"513\" font-size=\"12\">Bellucci T.</text><text text-anchor=\"start\" x=\"157\" y=\"234\" font-size=\"12\">Benneteau J.</text><text text-anchor=\"start\" x=\"139\" y=\"229\" font-size=\"12\">Berdych T.</text><text text-anchor=\"start\" x=\"88\" y=\"655\" font-size=\"12\">Berlocq C.</text><text text-anchor=\"start\" x=\"150\" y=\"625\" font-size=\"12\">Berrer M.</text><text text-anchor=\"start\" x=\"414\" y=\"162\" font-size=\"12\">Bjorkman J.</text><text text-anchor=\"start\" x=\"284\" y=\"185\" font-size=\"12\">Blake J.</text><text text-anchor=\"start\" x=\"110\" y=\"466\" font-size=\"12\">Bolelli S.</text><text text-anchor=\"start\" x=\"365\" y=\"145\" font-size=\"12\">Calleri A.</text><text text-anchor=\"start\" x=\"374\" y=\"170\" font-size=\"12\">Canas G.</text><text text-anchor=\"start\" x=\"86\" y=\"554\" font-size=\"12\">Chardy J.</text><text text-anchor=\"start\" x=\"304\" y=\"253\" font-size=\"12\">Chela J.I.</text><text text-anchor=\"start\" x=\"92\" y=\"327\" font-size=\"12\">Cilic M.</text><text text-anchor=\"start\" x=\"329\" y=\"120\" font-size=\"12\">Clement A.</text><text text-anchor=\"start\" x=\"392\" y=\"84\" font-size=\"12\">Coria G.</text><text text-anchor=\"start\" x=\"81\" y=\"640\" font-size=\"12\">Cuevas P.</text><text text-anchor=\"start\" x=\"158\" y=\"288\" font-size=\"12\">Darcis S.</text><text text-anchor=\"start\" x=\"248\" y=\"151\" font-size=\"12\">Davydenko N.</text><text text-anchor=\"start\" x=\"142\" y=\"149\" font-size=\"12\">Del Potro J.M.</text><text text-anchor=\"start\" x=\"382\" y=\"208\" font-size=\"12\">Dent T.</text><text text-anchor=\"start\" x=\"50\" y=\"435\" font-size=\"12\">Dimitrov G.</text><text text-anchor=\"start\" x=\"133\" y=\"84\" font-size=\"12\">Djokovic N.</text><text text-anchor=\"start\" x=\"70\" y=\"587\" font-size=\"12\">Dodig I.</text><text text-anchor=\"start\" x=\"74\" y=\"439\" font-size=\"12\">Dolgopolov O.</text><text text-anchor=\"start\" x=\"147\" y=\"430\" font-size=\"12\">Falla A.</text><text text-anchor=\"start\" x=\"234\" y=\"20\" font-size=\"12\">Federer R.</text><text text-anchor=\"start\" x=\"167\" y=\"218\" font-size=\"12\">Ferrer D.</text><text text-anchor=\"start\" x=\"344\" y=\"111\" font-size=\"12\">Ferrero J.C.</text><text text-anchor=\"start\" x=\"237\" y=\"193\" font-size=\"12\">Fish M.</text><text text-anchor=\"start\" x=\"75\" y=\"603\" font-size=\"12\">Fognini F.</text><text text-anchor=\"start\" x=\"145\" y=\"609\" font-size=\"12\">Gabashvili T.</text><text text-anchor=\"start\" x=\"134\" y=\"552\" font-size=\"12\">Garcia-Lopez G.</text><text text-anchor=\"start\" x=\"145\" y=\"286\" font-size=\"12\">Gasquet R.</text><text text-anchor=\"start\" x=\"384\" y=\"94\" font-size=\"12\">Gaudio G.</text><text text-anchor=\"start\" x=\"214\" y=\"387\" font-size=\"12\">Gicquel M.</text><text text-anchor=\"start\" x=\"81\" y=\"630\" font-size=\"12\">Gimeno-Traver D.</text><text text-anchor=\"start\" x=\"317\" y=\"267\" font-size=\"12\">Ginepri R.</text><text text-anchor=\"start\" x=\"80\" y=\"630\" font-size=\"12\">Giraldo S.</text><text text-anchor=\"start\" x=\"137\" y=\"1020\" font-size=\"12\">Golubev A.</text><text text-anchor=\"start\" x=\"291\" y=\"92\" font-size=\"12\">Gonzalez F.</text><text text-anchor=\"start\" x=\"90\" y=\"519\" font-size=\"12\">Granollers M.</text><text text-anchor=\"start\" x=\"397\" y=\"75\" font-size=\"12\">Grosjean S.</text><text text-anchor=\"start\" x=\"127\" y=\"306\" font-size=\"12\">Gulbis E.</text><text text-anchor=\"start\" x=\"280\" y=\"119\" font-size=\"12\">Haas T.</text><text text-anchor=\"start\" x=\"89\" y=\"694\" font-size=\"12\">Haase R.</text><text text-anchor=\"start\" x=\"207\" y=\"440\" font-size=\"12\">Hanescu V.</text><text text-anchor=\"start\" x=\"74\" y=\"529\" font-size=\"12\">Harrison R.</text><text text-anchor=\"start\" x=\"428\" y=\"86\" font-size=\"12\">Henman T.</text><text text-anchor=\"start\" x=\"264\" y=\"281\" font-size=\"12\">Hernych J.</text><text text-anchor=\"start\" x=\"312\" y=\"116\" font-size=\"12\">Hewitt L.</text><text text-anchor=\"start\" x=\"339\" y=\"341\" font-size=\"12\">Horna L.</text><text text-anchor=\"start\" x=\"398\" y=\"380\" font-size=\"12\">Hrbaty D.</text><text text-anchor=\"start\" x=\"84\" y=\"410\" font-size=\"12\">Isner J.</text><text text-anchor=\"start\" x=\"94\" y=\"472\" font-size=\"12\">Istomin D.</text><text text-anchor=\"start\" x=\"399\" y=\"122\" font-size=\"12\">Johansson T.</text><text text-anchor=\"start\" x=\"157\" y=\"307\" font-size=\"12\">Karlovic I.</text><text text-anchor=\"start\" x=\"350\" y=\"89\" font-size=\"12\">Kiefer N.</text><text text-anchor=\"start\" x=\"129\" y=\"370\" font-size=\"12\">Kohlschreiber P.</text><text text-anchor=\"start\" x=\"205\" y=\"225\" font-size=\"12\">Korolev E.</text><text text-anchor=\"start\" x=\"364\" y=\"272\" font-size=\"12\">Koubek S.</text><text text-anchor=\"start\" x=\"112\" y=\"733\" font-size=\"12\">Kubot L.</text><text text-anchor=\"start\" x=\"206\" y=\"694\" font-size=\"12\">Kunitsyn I.</text><text text-anchor=\"start\" x=\"377\" y=\"323\" font-size=\"12\">Lapentti N.</text><text text-anchor=\"start\" x=\"377\" y=\"195\" font-size=\"12\">Lee H.T.</text><text text-anchor=\"start\" x=\"295\" y=\"114\" font-size=\"12\">Ljubicic I.</text><text text-anchor=\"start\" x=\"219\" y=\"255\" font-size=\"12\">Llodra M.</text><text text-anchor=\"start\" x=\"185\" y=\"327\" font-size=\"12\">Lopez F.</text><text text-anchor=\"start\" x=\"113\" y=\"757\" font-size=\"12\">Lu Y.H.</text><text text-anchor=\"start\" x=\"135\" y=\"516\" font-size=\"12\">Mahut N.</text><text text-anchor=\"start\" x=\"287\" y=\"182\" font-size=\"12\">Malisse X.</text><text text-anchor=\"start\" x=\"28\" y=\"812\" font-size=\"12\">Mannarino A.</text><text text-anchor=\"start\" x=\"371\" y=\"247\" font-size=\"12\">Martin A.</text><text text-anchor=\"start\" x=\"380\" y=\"228\" font-size=\"12\">Massu N.</text><text text-anchor=\"start\" x=\"224\" y=\"282\" font-size=\"12\">Mathieu P.H.</text><text text-anchor=\"start\" x=\"176\" y=\"303\" font-size=\"12\">Mayer F.</text><text text-anchor=\"start\" x=\"66\" y=\"568\" font-size=\"12\">Mayer L.</text><text text-anchor=\"start\" x=\"200\" y=\"284\" font-size=\"12\">Melzer J.</text><text text-anchor=\"start\" x=\"401\" y=\"122\" font-size=\"12\">Mirnyi M.</text><text text-anchor=\"start\" x=\"156\" y=\"303\" font-size=\"12\">Monaco J.</text><text text-anchor=\"start\" x=\"132\" y=\"261\" font-size=\"12\">Monfils G.</text><text text-anchor=\"start\" x=\"226\" y=\"524\" font-size=\"12\">Montanes A.</text><text text-anchor=\"start\" x=\"363\" y=\"111\" font-size=\"12\">Moya C.</text><text text-anchor=\"start\" x=\"131\" y=\"444\" font-size=\"12\">Muller G.</text><text text-anchor=\"start\" x=\"135\" y=\"139\" font-size=\"12\">Murray A.</text><text text-anchor=\"start\" x=\"173\" y=\"81\" font-size=\"12\">Nadal R.</text><text text-anchor=\"start\" x=\"278\" y=\"116\" font-size=\"12\">Nalbandian D.</text><text text-anchor=\"start\" x=\"240\" y=\"277\" font-size=\"12\">Nieminen J.</text><text text-anchor=\"start\" x=\"69\" y=\"321\" font-size=\"12\">Nishikori K.</text><text text-anchor=\"start\" x=\"409\" y=\"97\" font-size=\"12\">Novak J.</text><text text-anchor=\"start\" x=\"55\" y=\"564\" font-size=\"12\">Paire B.</text><text text-anchor=\"start\" x=\"398\" y=\"190\" font-size=\"12\">Pavel A.</text><text text-anchor=\"start\" x=\"131\" y=\"497\" font-size=\"12\">Petzschner P.</text><text text-anchor=\"start\" x=\"288\" y=\"909\" font-size=\"12\">Phau B.</text><text text-anchor=\"start\" x=\"119\" y=\"347\" font-size=\"12\">Querrey S.</text><text text-anchor=\"start\" x=\"286\" y=\"402\" font-size=\"12\">Ramirez-Hidalgo R.</text><text text-anchor=\"start\" x=\"74\" y=\"288\" font-size=\"12\">Raonic M.</text><text text-anchor=\"start\" x=\"242\" y=\"234\" font-size=\"12\">Robredo T.</text><text text-anchor=\"start\" x=\"399\" y=\"299\" font-size=\"12\">Rochus C.</text><text text-anchor=\"start\" x=\"299\" y=\"229\" font-size=\"12\">Rochus O.</text><text text-anchor=\"start\" x=\"302\" y=\"63\" font-size=\"12\">Roddick A.</text><text text-anchor=\"start\" x=\"78\" y=\"559\" font-size=\"12\">Roger-Vasselin E.</text><text text-anchor=\"start\" x=\"40\" y=\"658\" font-size=\"12\">Rosol L.</text><text text-anchor=\"start\" x=\"166\" y=\"544\" font-size=\"12\">Russell M.</text><text text-anchor=\"start\" x=\"353\" y=\"102\" font-size=\"12\">Safin M.</text><text text-anchor=\"start\" x=\"361\" y=\"130\" font-size=\"12\">Santoro F.</text><text text-anchor=\"start\" x=\"365\" y=\"156\" font-size=\"12\">Schuettler R.</text><text text-anchor=\"start\" x=\"131\" y=\"421\" font-size=\"12\">Sela D.</text><text text-anchor=\"start\" x=\"140\" y=\"316\" font-size=\"12\">Seppi A.</text><text text-anchor=\"start\" x=\"207\" y=\"275\" font-size=\"12\">Serra F.</text><text text-anchor=\"start\" x=\"129\" y=\"314\" font-size=\"12\">Simon G.</text><text text-anchor=\"start\" x=\"233\" y=\"65\" font-size=\"12\">Soderling R.</text><text text-anchor=\"start\" x=\"352\" y=\"265\" font-size=\"12\">Spadea V.</text><text text-anchor=\"start\" x=\"413\" y=\"219\" font-size=\"12\">Srichaphan P.</text><text text-anchor=\"start\" x=\"94\" y=\"818\" font-size=\"12\">Stakhovsky S.</text><text text-anchor=\"start\" x=\"201\" y=\"316\" font-size=\"12\">Starace P.</text><text text-anchor=\"start\" x=\"234\" y=\"224\" font-size=\"12\">Stepanek R.</text><text text-anchor=\"start\" x=\"144\" y=\"269\" font-size=\"12\">Tipsarevic J.</text><text text-anchor=\"start\" x=\"48\" y=\"577\" font-size=\"12\">Tomic B.</text><text text-anchor=\"start\" x=\"93\" y=\"453\" font-size=\"12\">Troicki V.</text><text text-anchor=\"start\" x=\"113\" y=\"257\" font-size=\"12\">Tsonga J.W.</text><text text-anchor=\"start\" x=\"204\" y=\"262\" font-size=\"12\">Tursunov D.</text><text text-anchor=\"start\" x=\"169\" y=\"293\" font-size=\"12\">Verdasco F.</text><text text-anchor=\"start\" x=\"297\" y=\"173\" font-size=\"12\">Vliegen K.</text><text text-anchor=\"start\" x=\"281\" y=\"326\" font-size=\"12\">Volandri F.</text><text text-anchor=\"start\" x=\"123\" y=\"257\" font-size=\"12\">Wawrinka S.</text><text text-anchor=\"start\" x=\"61\" y=\"757\" font-size=\"12\">Young D.</text><text text-anchor=\"start\" x=\"215\" y=\"242\" font-size=\"12\">Youzhny M.</text><text text-anchor=\"start\" x=\"115\" y=\"504\" font-size=\"12\">Zverev M.</text></svg>"
      ],
      "text/plain": [
       "<IPython.core.display.SVG object>"
      ]
     },
     "execution_count": 101,
     "metadata": {},
     "output_type": "execute_result"
    }
   ],
   "source": [
    "SVG(svg_graph(position=embedding[index], names=names[index], scores=scores[index], node_size=5, width=400, height=1000))"
   ]
  }
 ],
 "metadata": {
  "kernelspec": {
   "display_name": "scikit-network",
   "language": "python",
   "name": "scikit-network"
  },
  "language_info": {
   "codemirror_mode": {
    "name": "ipython",
    "version": 3
   },
   "file_extension": ".py",
   "mimetype": "text/x-python",
   "name": "python",
   "nbconvert_exporter": "python",
   "pygments_lexer": "ipython3",
   "version": "3.8.3"
  }
 },
 "nbformat": 4,
 "nbformat_minor": 4
}
