{
 "cells": [
  {
   "cell_type": "markdown",
   "metadata": {},
   "source": [
    "# Nearest neighbors"
   ]
  },
  {
   "cell_type": "markdown",
   "metadata": {},
   "source": [
    "This notebook illustrates the classification of the nodes of a graph by the [k-nearest neighbors algorithm](https://en.wikipedia.org/wiki/K-nearest_neighbors_algorithm), based on the labels of a few nodes."
   ]
  },
  {
   "cell_type": "code",
   "execution_count": 1,
   "metadata": {
    "ExecuteTime": {
     "end_time": "2019-07-15T12:29:50.554431Z",
     "start_time": "2019-07-15T12:29:50.414075Z"
    }
   },
   "outputs": [],
   "source": [
    "from IPython.display import SVG"
   ]
  },
  {
   "cell_type": "code",
   "execution_count": 2,
   "metadata": {},
   "outputs": [],
   "source": [
    "import numpy as np"
   ]
  },
  {
   "cell_type": "code",
   "execution_count": 3,
   "metadata": {},
   "outputs": [],
   "source": [
    "from sknetwork.data import karate_club, painters, movie_actor\n",
    "from sknetwork.classification import KNN\n",
    "from sknetwork.embedding import GSVD\n",
    "from sknetwork.visualization import svg_graph, svg_digraph, svg_bigraph"
   ]
  },
  {
   "cell_type": "markdown",
   "metadata": {},
   "source": [
    "## Graphs"
   ]
  },
  {
   "cell_type": "code",
   "execution_count": 4,
   "metadata": {
    "ExecuteTime": {
     "end_time": "2019-07-15T12:29:51.261957Z",
     "start_time": "2019-07-15T12:29:51.249107Z"
    }
   },
   "outputs": [],
   "source": [
    "graph = karate_club(metadata=True)\n",
    "adjacency = graph.adjacency\n",
    "position = graph.position\n",
    "labels_true = graph.labels"
   ]
  },
  {
   "cell_type": "markdown",
   "metadata": {},
   "source": [
    "**Classification**"
   ]
  },
  {
   "cell_type": "code",
   "execution_count": 5,
   "metadata": {},
   "outputs": [],
   "source": [
    "seeds = {i: labels_true[i] for i in [0, 33]}"
   ]
  },
  {
   "cell_type": "code",
   "execution_count": 6,
   "metadata": {},
   "outputs": [],
   "source": [
    "knn = KNN(GSVD(3), n_neighbors=1)\n",
    "labels_pred = knn.fit_transform(adjacency, seeds)"
   ]
  },
  {
   "cell_type": "code",
   "execution_count": 7,
   "metadata": {},
   "outputs": [
    {
     "data": {
      "text/plain": [
       "0.97"
      ]
     },
     "execution_count": 7,
     "metadata": {},
     "output_type": "execute_result"
    }
   ],
   "source": [
    "precision = np.round(np.mean(labels_pred == labels_true), 2)\n",
    "precision"
   ]
  },
  {
   "cell_type": "code",
   "execution_count": 8,
   "metadata": {},
   "outputs": [],
   "source": [
    "image = svg_graph(adjacency, position, labels=labels_pred, seeds=seeds)"
   ]
  },
  {
   "cell_type": "code",
   "execution_count": 9,
   "metadata": {},
   "outputs": [
    {
     "data": {
      "image/svg+xml": [
       "<svg height=\"340\" width=\"440\"><path d=\"M 264.44444444444446 200.35714285714286 353.3333333333333 168.21428571428572\" stroke=\"black\" stroke-width=\"1\"/><path d=\"M 264.44444444444446 200.35714285714286 251.11111111111114 143.21428571428572\" stroke=\"black\" stroke-width=\"1\"/><path d=\"M 264.44444444444446 200.35714285714286 304.44444444444446 191.42857142857142\" stroke=\"black\" stroke-width=\"1\"/><path d=\"M 264.44444444444446 200.35714285714286 255.55555555555557 255.71428571428572\" stroke=\"black\" stroke-width=\"1\"/><path d=\"M 264.44444444444446 200.35714285714286 211.1111111111111 275.3571428571429\" stroke=\"black\" stroke-width=\"1\"/><path d=\"M 264.44444444444446 200.35714285714286 264.44444444444446 277.1428571428571\" stroke=\"black\" stroke-width=\"1\"/><path d=\"M 264.44444444444446 200.35714285714286 340.0 186.07142857142858\" stroke=\"black\" stroke-width=\"1\"/><path d=\"M 264.44444444444446 200.35714285714286 282.22222222222223 125.35714285714286\" stroke=\"black\" stroke-width=\"1\"/><path d=\"M 264.44444444444446 200.35714285714286 188.88888888888889 252.1428571428571\" stroke=\"black\" stroke-width=\"1\"/><path d=\"M 264.44444444444446 200.35714285714286 122.22222222222221 212.85714285714283\" stroke=\"black\" stroke-width=\"1\"/><path d=\"M 264.44444444444446 200.35714285714286 335.55555555555554 236.07142857142853\" stroke=\"black\" stroke-width=\"1\"/><path d=\"M 264.44444444444446 200.35714285714286 282.22222222222223 153.92857142857142\" stroke=\"black\" stroke-width=\"1\"/><path d=\"M 264.44444444444446 200.35714285714286 388.8888888888889 216.42857142857142\" stroke=\"black\" stroke-width=\"1\"/><path d=\"M 264.44444444444446 200.35714285714286 331.1111111111111 143.21428571428572\" stroke=\"black\" stroke-width=\"1\"/><path d=\"M 264.44444444444446 200.35714285714286 420.0 202.14285714285714\" stroke=\"black\" stroke-width=\"1\"/><path d=\"M 264.44444444444446 200.35714285714286 153.33333333333334 125.35714285714286\" stroke=\"black\" stroke-width=\"1\"/><path d=\"M 353.3333333333333 168.21428571428572 264.44444444444446 200.35714285714286\" stroke=\"black\" stroke-width=\"1\"/><path d=\"M 353.3333333333333 168.21428571428572 251.11111111111114 143.21428571428572\" stroke=\"black\" stroke-width=\"1\"/><path d=\"M 353.3333333333333 168.21428571428572 304.44444444444446 191.42857142857142\" stroke=\"black\" stroke-width=\"1\"/><path d=\"M 353.3333333333333 168.21428571428572 340.0 186.07142857142858\" stroke=\"black\" stroke-width=\"1\"/><path d=\"M 353.3333333333333 168.21428571428572 282.22222222222223 153.92857142857142\" stroke=\"black\" stroke-width=\"1\"/><path d=\"M 353.3333333333333 168.21428571428572 388.8888888888889 216.42857142857142\" stroke=\"black\" stroke-width=\"1\"/><path d=\"M 353.3333333333333 168.21428571428572 331.1111111111111 143.21428571428572\" stroke=\"black\" stroke-width=\"1\"/><path d=\"M 353.3333333333333 168.21428571428572 420.0 202.14285714285714\" stroke=\"black\" stroke-width=\"1\"/><path d=\"M 353.3333333333333 168.21428571428572 344.44444444444446 107.5\" stroke=\"black\" stroke-width=\"1\"/><path d=\"M 251.11111111111114 143.21428571428572 264.44444444444446 200.35714285714286\" stroke=\"black\" stroke-width=\"1\"/><path d=\"M 251.11111111111114 143.21428571428572 353.3333333333333 168.21428571428572\" stroke=\"black\" stroke-width=\"1\"/><path d=\"M 251.11111111111114 143.21428571428572 304.44444444444446 191.42857142857142\" stroke=\"black\" stroke-width=\"1\"/><path d=\"M 251.11111111111114 143.21428571428572 340.0 186.07142857142858\" stroke=\"black\" stroke-width=\"1\"/><path d=\"M 251.11111111111114 143.21428571428572 282.22222222222223 125.35714285714286\" stroke=\"black\" stroke-width=\"1\"/><path d=\"M 251.11111111111114 143.21428571428572 197.7777777777778 100.35714285714286\" stroke=\"black\" stroke-width=\"1\"/><path d=\"M 251.11111111111114 143.21428571428572 282.22222222222223 153.92857142857142\" stroke=\"black\" stroke-width=\"1\"/><path d=\"M 251.11111111111114 143.21428571428572 122.22222222222221 103.92857142857143\" stroke=\"black\" stroke-width=\"1\"/><path d=\"M 251.11111111111114 143.21428571428572 197.7777777777778 120.0\" stroke=\"black\" stroke-width=\"1\"/><path d=\"M 251.11111111111114 143.21428571428572 260.0 73.57142857142857\" stroke=\"black\" stroke-width=\"1\"/><path d=\"M 304.44444444444446 191.42857142857142 264.44444444444446 200.35714285714286\" stroke=\"black\" stroke-width=\"1\"/><path d=\"M 304.44444444444446 191.42857142857142 353.3333333333333 168.21428571428572\" stroke=\"black\" stroke-width=\"1\"/><path d=\"M 304.44444444444446 191.42857142857142 251.11111111111114 143.21428571428572\" stroke=\"black\" stroke-width=\"1\"/><path d=\"M 304.44444444444446 191.42857142857142 340.0 186.07142857142858\" stroke=\"black\" stroke-width=\"1\"/><path d=\"M 304.44444444444446 191.42857142857142 335.55555555555554 236.07142857142853\" stroke=\"black\" stroke-width=\"1\"/><path d=\"M 304.44444444444446 191.42857142857142 282.22222222222223 153.92857142857142\" stroke=\"black\" stroke-width=\"1\"/><path d=\"M 255.55555555555557 255.71428571428572 264.44444444444446 200.35714285714286\" stroke=\"black\" stroke-width=\"1\"/><path d=\"M 255.55555555555557 255.71428571428572 264.44444444444446 277.1428571428571\" stroke=\"black\" stroke-width=\"1\"/><path d=\"M 255.55555555555557 255.71428571428572 188.88888888888889 252.1428571428571\" stroke=\"black\" stroke-width=\"1\"/><path d=\"M 211.1111111111111 275.3571428571429 264.44444444444446 200.35714285714286\" stroke=\"black\" stroke-width=\"1\"/><path d=\"M 211.1111111111111 275.3571428571429 264.44444444444446 277.1428571428571\" stroke=\"black\" stroke-width=\"1\"/><path d=\"M 211.1111111111111 275.3571428571429 188.88888888888889 252.1428571428571\" stroke=\"black\" stroke-width=\"1\"/><path d=\"M 211.1111111111111 275.3571428571429 220.0 320.0\" stroke=\"black\" stroke-width=\"1\"/><path d=\"M 264.44444444444446 277.1428571428571 264.44444444444446 200.35714285714286\" stroke=\"black\" stroke-width=\"1\"/><path d=\"M 264.44444444444446 277.1428571428571 255.55555555555557 255.71428571428572\" stroke=\"black\" stroke-width=\"1\"/><path d=\"M 264.44444444444446 277.1428571428571 211.1111111111111 275.3571428571429\" stroke=\"black\" stroke-width=\"1\"/><path d=\"M 264.44444444444446 277.1428571428571 220.0 320.0\" stroke=\"black\" stroke-width=\"1\"/><path d=\"M 340.0 186.07142857142858 264.44444444444446 200.35714285714286\" stroke=\"black\" stroke-width=\"1\"/><path d=\"M 340.0 186.07142857142858 353.3333333333333 168.21428571428572\" stroke=\"black\" stroke-width=\"1\"/><path d=\"M 340.0 186.07142857142858 251.11111111111114 143.21428571428572\" stroke=\"black\" stroke-width=\"1\"/><path d=\"M 340.0 186.07142857142858 304.44444444444446 191.42857142857142\" stroke=\"black\" stroke-width=\"1\"/><path d=\"M 282.22222222222223 125.35714285714286 264.44444444444446 200.35714285714286\" stroke=\"black\" stroke-width=\"1\"/><path d=\"M 282.22222222222223 125.35714285714286 251.11111111111114 143.21428571428572\" stroke=\"black\" stroke-width=\"1\"/><path d=\"M 282.22222222222223 125.35714285714286 344.44444444444446 107.5\" stroke=\"black\" stroke-width=\"1\"/><path d=\"M 282.22222222222223 125.35714285714286 260.0 73.57142857142857\" stroke=\"black\" stroke-width=\"1\"/><path d=\"M 282.22222222222223 125.35714285714286 246.66666666666666 82.5\" stroke=\"black\" stroke-width=\"1\"/><path d=\"M 197.7777777777778 100.35714285714286 251.11111111111114 143.21428571428572\" stroke=\"black\" stroke-width=\"1\"/><path d=\"M 197.7777777777778 100.35714285714286 246.66666666666666 82.5\" stroke=\"black\" stroke-width=\"1\"/><path d=\"M 188.88888888888889 252.1428571428571 264.44444444444446 200.35714285714286\" stroke=\"black\" stroke-width=\"1\"/><path d=\"M 188.88888888888889 252.1428571428571 255.55555555555557 255.71428571428572\" stroke=\"black\" stroke-width=\"1\"/><path d=\"M 188.88888888888889 252.1428571428571 211.1111111111111 275.3571428571429\" stroke=\"black\" stroke-width=\"1\"/><path d=\"M 122.22222222222221 212.85714285714283 264.44444444444446 200.35714285714286\" stroke=\"black\" stroke-width=\"1\"/><path d=\"M 335.55555555555554 236.07142857142853 264.44444444444446 200.35714285714286\" stroke=\"black\" stroke-width=\"1\"/><path d=\"M 335.55555555555554 236.07142857142853 304.44444444444446 191.42857142857142\" stroke=\"black\" stroke-width=\"1\"/><path d=\"M 282.22222222222223 153.92857142857142 264.44444444444446 200.35714285714286\" stroke=\"black\" stroke-width=\"1\"/><path d=\"M 282.22222222222223 153.92857142857142 353.3333333333333 168.21428571428572\" stroke=\"black\" stroke-width=\"1\"/><path d=\"M 282.22222222222223 153.92857142857142 251.11111111111114 143.21428571428572\" stroke=\"black\" stroke-width=\"1\"/><path d=\"M 282.22222222222223 153.92857142857142 304.44444444444446 191.42857142857142\" stroke=\"black\" stroke-width=\"1\"/><path d=\"M 282.22222222222223 153.92857142857142 246.66666666666666 82.5\" stroke=\"black\" stroke-width=\"1\"/><path d=\"M 348.88888888888886 43.21428571428571 260.0 73.57142857142857\" stroke=\"black\" stroke-width=\"1\"/><path d=\"M 348.88888888888886 43.21428571428571 246.66666666666666 82.5\" stroke=\"black\" stroke-width=\"1\"/><path d=\"M 273.33333333333337 27.14285714285715 260.0 73.57142857142857\" stroke=\"black\" stroke-width=\"1\"/><path d=\"M 273.33333333333337 27.14285714285715 246.66666666666666 82.5\" stroke=\"black\" stroke-width=\"1\"/><path d=\"M 220.0 320.0 211.1111111111111 275.3571428571429\" stroke=\"black\" stroke-width=\"1\"/><path d=\"M 220.0 320.0 264.44444444444446 277.1428571428571\" stroke=\"black\" stroke-width=\"1\"/><path d=\"M 388.8888888888889 216.42857142857142 264.44444444444446 200.35714285714286\" stroke=\"black\" stroke-width=\"1\"/><path d=\"M 388.8888888888889 216.42857142857142 353.3333333333333 168.21428571428572\" stroke=\"black\" stroke-width=\"1\"/><path d=\"M 313.33333333333337 34.2857142857143 260.0 73.57142857142857\" stroke=\"black\" stroke-width=\"1\"/><path d=\"M 313.33333333333337 34.2857142857143 246.66666666666666 82.5\" stroke=\"black\" stroke-width=\"1\"/><path d=\"M 331.1111111111111 143.21428571428572 264.44444444444446 200.35714285714286\" stroke=\"black\" stroke-width=\"1\"/><path d=\"M 331.1111111111111 143.21428571428572 353.3333333333333 168.21428571428572\" stroke=\"black\" stroke-width=\"1\"/><path d=\"M 331.1111111111111 143.21428571428572 246.66666666666666 82.5\" stroke=\"black\" stroke-width=\"1\"/><path d=\"M 366.6666666666667 61.07142857142858 260.0 73.57142857142857\" stroke=\"black\" stroke-width=\"1\"/><path d=\"M 366.6666666666667 61.07142857142858 246.66666666666666 82.5\" stroke=\"black\" stroke-width=\"1\"/><path d=\"M 420.0 202.14285714285714 264.44444444444446 200.35714285714286\" stroke=\"black\" stroke-width=\"1\"/><path d=\"M 420.0 202.14285714285714 353.3333333333333 168.21428571428572\" stroke=\"black\" stroke-width=\"1\"/><path d=\"M 228.8888888888889 32.50000000000001 260.0 73.57142857142857\" stroke=\"black\" stroke-width=\"1\"/><path d=\"M 228.8888888888889 32.50000000000001 246.66666666666666 82.5\" stroke=\"black\" stroke-width=\"1\"/><path d=\"M 131.11111111111111 68.21428571428572 28.888888888888896 91.42857142857143\" stroke=\"black\" stroke-width=\"1\"/><path d=\"M 131.11111111111111 68.21428571428572 122.22222222222221 103.92857142857143\" stroke=\"black\" stroke-width=\"1\"/><path d=\"M 131.11111111111111 68.21428571428572 171.1111111111111 45.0\" stroke=\"black\" stroke-width=\"1\"/><path d=\"M 131.11111111111111 68.21428571428572 260.0 73.57142857142857\" stroke=\"black\" stroke-width=\"1\"/><path d=\"M 131.11111111111111 68.21428571428572 246.66666666666666 82.5\" stroke=\"black\" stroke-width=\"1\"/><path d=\"M 20.0 116.42857142857142 28.888888888888896 91.42857142857143\" stroke=\"black\" stroke-width=\"1\"/><path d=\"M 20.0 116.42857142857142 122.22222222222221 103.92857142857143\" stroke=\"black\" stroke-width=\"1\"/><path d=\"M 20.0 116.42857142857142 153.33333333333334 125.35714285714286\" stroke=\"black\" stroke-width=\"1\"/><path d=\"M 28.888888888888896 91.42857142857143 131.11111111111111 68.21428571428572\" stroke=\"black\" stroke-width=\"1\"/><path d=\"M 28.888888888888896 91.42857142857143 20.0 116.42857142857142\" stroke=\"black\" stroke-width=\"1\"/><path d=\"M 28.888888888888896 91.42857142857143 153.33333333333334 125.35714285714286\" stroke=\"black\" stroke-width=\"1\"/><path d=\"M 162.22222222222223 20.0 171.1111111111111 45.0\" stroke=\"black\" stroke-width=\"1\"/><path d=\"M 162.22222222222223 20.0 246.66666666666666 82.5\" stroke=\"black\" stroke-width=\"1\"/><path d=\"M 122.22222222222221 103.92857142857143 251.11111111111114 143.21428571428572\" stroke=\"black\" stroke-width=\"1\"/><path d=\"M 122.22222222222221 103.92857142857143 131.11111111111111 68.21428571428572\" stroke=\"black\" stroke-width=\"1\"/><path d=\"M 122.22222222222221 103.92857142857143 20.0 116.42857142857142\" stroke=\"black\" stroke-width=\"1\"/><path d=\"M 122.22222222222221 103.92857142857143 246.66666666666666 82.5\" stroke=\"black\" stroke-width=\"1\"/><path d=\"M 197.7777777777778 120.0 251.11111111111114 143.21428571428572\" stroke=\"black\" stroke-width=\"1\"/><path d=\"M 197.7777777777778 120.0 153.33333333333334 125.35714285714286\" stroke=\"black\" stroke-width=\"1\"/><path d=\"M 197.7777777777778 120.0 246.66666666666666 82.5\" stroke=\"black\" stroke-width=\"1\"/><path d=\"M 171.1111111111111 45.0 131.11111111111111 68.21428571428572\" stroke=\"black\" stroke-width=\"1\"/><path d=\"M 171.1111111111111 45.0 162.22222222222223 20.0\" stroke=\"black\" stroke-width=\"1\"/><path d=\"M 171.1111111111111 45.0 260.0 73.57142857142857\" stroke=\"black\" stroke-width=\"1\"/><path d=\"M 171.1111111111111 45.0 246.66666666666666 82.5\" stroke=\"black\" stroke-width=\"1\"/><path d=\"M 344.44444444444446 107.5 353.3333333333333 168.21428571428572\" stroke=\"black\" stroke-width=\"1\"/><path d=\"M 344.44444444444446 107.5 282.22222222222223 125.35714285714286\" stroke=\"black\" stroke-width=\"1\"/><path d=\"M 344.44444444444446 107.5 260.0 73.57142857142857\" stroke=\"black\" stroke-width=\"1\"/><path d=\"M 344.44444444444446 107.5 246.66666666666666 82.5\" stroke=\"black\" stroke-width=\"1\"/><path d=\"M 153.33333333333334 125.35714285714286 264.44444444444446 200.35714285714286\" stroke=\"black\" stroke-width=\"1\"/><path d=\"M 153.33333333333334 125.35714285714286 20.0 116.42857142857142\" stroke=\"black\" stroke-width=\"1\"/><path d=\"M 153.33333333333334 125.35714285714286 28.888888888888896 91.42857142857143\" stroke=\"black\" stroke-width=\"1\"/><path d=\"M 153.33333333333334 125.35714285714286 197.7777777777778 120.0\" stroke=\"black\" stroke-width=\"1\"/><path d=\"M 153.33333333333334 125.35714285714286 260.0 73.57142857142857\" stroke=\"black\" stroke-width=\"1\"/><path d=\"M 153.33333333333334 125.35714285714286 246.66666666666666 82.5\" stroke=\"black\" stroke-width=\"1\"/><path d=\"M 260.0 73.57142857142857 251.11111111111114 143.21428571428572\" stroke=\"black\" stroke-width=\"1\"/><path d=\"M 260.0 73.57142857142857 282.22222222222223 125.35714285714286\" stroke=\"black\" stroke-width=\"1\"/><path d=\"M 260.0 73.57142857142857 348.88888888888886 43.21428571428571\" stroke=\"black\" stroke-width=\"1\"/><path d=\"M 260.0 73.57142857142857 273.33333333333337 27.14285714285715\" stroke=\"black\" stroke-width=\"1\"/><path d=\"M 260.0 73.57142857142857 313.33333333333337 34.2857142857143\" stroke=\"black\" stroke-width=\"1\"/><path d=\"M 260.0 73.57142857142857 366.6666666666667 61.07142857142858\" stroke=\"black\" stroke-width=\"1\"/><path d=\"M 260.0 73.57142857142857 228.8888888888889 32.50000000000001\" stroke=\"black\" stroke-width=\"1\"/><path d=\"M 260.0 73.57142857142857 131.11111111111111 68.21428571428572\" stroke=\"black\" stroke-width=\"1\"/><path d=\"M 260.0 73.57142857142857 171.1111111111111 45.0\" stroke=\"black\" stroke-width=\"1\"/><path d=\"M 260.0 73.57142857142857 344.44444444444446 107.5\" stroke=\"black\" stroke-width=\"1\"/><path d=\"M 260.0 73.57142857142857 153.33333333333334 125.35714285714286\" stroke=\"black\" stroke-width=\"1\"/><path d=\"M 260.0 73.57142857142857 246.66666666666666 82.5\" stroke=\"black\" stroke-width=\"1\"/><path d=\"M 246.66666666666666 82.5 282.22222222222223 125.35714285714286\" stroke=\"black\" stroke-width=\"1\"/><path d=\"M 246.66666666666666 82.5 197.7777777777778 100.35714285714286\" stroke=\"black\" stroke-width=\"1\"/><path d=\"M 246.66666666666666 82.5 282.22222222222223 153.92857142857142\" stroke=\"black\" stroke-width=\"1\"/><path d=\"M 246.66666666666666 82.5 348.88888888888886 43.21428571428571\" stroke=\"black\" stroke-width=\"1\"/><path d=\"M 246.66666666666666 82.5 273.33333333333337 27.14285714285715\" stroke=\"black\" stroke-width=\"1\"/><path d=\"M 246.66666666666666 82.5 313.33333333333337 34.2857142857143\" stroke=\"black\" stroke-width=\"1\"/><path d=\"M 246.66666666666666 82.5 331.1111111111111 143.21428571428572\" stroke=\"black\" stroke-width=\"1\"/><path d=\"M 246.66666666666666 82.5 366.6666666666667 61.07142857142858\" stroke=\"black\" stroke-width=\"1\"/><path d=\"M 246.66666666666666 82.5 228.8888888888889 32.50000000000001\" stroke=\"black\" stroke-width=\"1\"/><path d=\"M 246.66666666666666 82.5 131.11111111111111 68.21428571428572\" stroke=\"black\" stroke-width=\"1\"/><path d=\"M 246.66666666666666 82.5 162.22222222222223 20.0\" stroke=\"black\" stroke-width=\"1\"/><path d=\"M 246.66666666666666 82.5 122.22222222222221 103.92857142857143\" stroke=\"black\" stroke-width=\"1\"/><path d=\"M 246.66666666666666 82.5 197.7777777777778 120.0\" stroke=\"black\" stroke-width=\"1\"/><path d=\"M 246.66666666666666 82.5 171.1111111111111 45.0\" stroke=\"black\" stroke-width=\"1\"/><path d=\"M 246.66666666666666 82.5 344.44444444444446 107.5\" stroke=\"black\" stroke-width=\"1\"/><path d=\"M 246.66666666666666 82.5 153.33333333333334 125.35714285714286\" stroke=\"black\" stroke-width=\"1\"/><path d=\"M 246.66666666666666 82.5 260.0 73.57142857142857\" stroke=\"black\" stroke-width=\"1\"/><circle cx=\"264.44444444444446\" cy=\"200.35714285714286\" r=\"7.0\" style=\"fill:red;stroke:black;stroke-width:3.0\"/><circle cx=\"353.3333333333333\" cy=\"168.21428571428572\" r=\"7.0\" style=\"fill:red;stroke:black;stroke-width:1.0\"/><circle cx=\"251.11111111111114\" cy=\"143.21428571428572\" r=\"7.0\" style=\"fill:red;stroke:black;stroke-width:1.0\"/><circle cx=\"304.44444444444446\" cy=\"191.42857142857142\" r=\"7.0\" style=\"fill:red;stroke:black;stroke-width:1.0\"/><circle cx=\"255.55555555555557\" cy=\"255.71428571428572\" r=\"7.0\" style=\"fill:red;stroke:black;stroke-width:1.0\"/><circle cx=\"211.1111111111111\" cy=\"275.3571428571429\" r=\"7.0\" style=\"fill:red;stroke:black;stroke-width:1.0\"/><circle cx=\"264.44444444444446\" cy=\"277.1428571428571\" r=\"7.0\" style=\"fill:red;stroke:black;stroke-width:1.0\"/><circle cx=\"340.0\" cy=\"186.07142857142858\" r=\"7.0\" style=\"fill:red;stroke:black;stroke-width:1.0\"/><circle cx=\"282.22222222222223\" cy=\"125.35714285714286\" r=\"7.0\" style=\"fill:blue;stroke:black;stroke-width:1.0\"/><circle cx=\"197.7777777777778\" cy=\"100.35714285714286\" r=\"7.0\" style=\"fill:blue;stroke:black;stroke-width:1.0\"/><circle cx=\"188.88888888888889\" cy=\"252.1428571428571\" r=\"7.0\" style=\"fill:red;stroke:black;stroke-width:1.0\"/><circle cx=\"122.22222222222221\" cy=\"212.85714285714283\" r=\"7.0\" style=\"fill:red;stroke:black;stroke-width:1.0\"/><circle cx=\"335.55555555555554\" cy=\"236.07142857142853\" r=\"7.0\" style=\"fill:red;stroke:black;stroke-width:1.0\"/><circle cx=\"282.22222222222223\" cy=\"153.92857142857142\" r=\"7.0\" style=\"fill:red;stroke:black;stroke-width:1.0\"/><circle cx=\"348.88888888888886\" cy=\"43.21428571428571\" r=\"7.0\" style=\"fill:blue;stroke:black;stroke-width:1.0\"/><circle cx=\"273.33333333333337\" cy=\"27.14285714285715\" r=\"7.0\" style=\"fill:blue;stroke:black;stroke-width:1.0\"/><circle cx=\"220.0\" cy=\"320.0\" r=\"7.0\" style=\"fill:red;stroke:black;stroke-width:1.0\"/><circle cx=\"388.8888888888889\" cy=\"216.42857142857142\" r=\"7.0\" style=\"fill:red;stroke:black;stroke-width:1.0\"/><circle cx=\"313.33333333333337\" cy=\"34.2857142857143\" r=\"7.0\" style=\"fill:blue;stroke:black;stroke-width:1.0\"/><circle cx=\"331.1111111111111\" cy=\"143.21428571428572\" r=\"7.0\" style=\"fill:red;stroke:black;stroke-width:1.0\"/><circle cx=\"366.6666666666667\" cy=\"61.07142857142858\" r=\"7.0\" style=\"fill:blue;stroke:black;stroke-width:1.0\"/><circle cx=\"420.0\" cy=\"202.14285714285714\" r=\"7.0\" style=\"fill:red;stroke:black;stroke-width:1.0\"/><circle cx=\"228.8888888888889\" cy=\"32.50000000000001\" r=\"7.0\" style=\"fill:blue;stroke:black;stroke-width:1.0\"/><circle cx=\"131.11111111111111\" cy=\"68.21428571428572\" r=\"7.0\" style=\"fill:blue;stroke:black;stroke-width:1.0\"/><circle cx=\"20.0\" cy=\"116.42857142857142\" r=\"7.0\" style=\"fill:blue;stroke:black;stroke-width:1.0\"/><circle cx=\"28.888888888888896\" cy=\"91.42857142857143\" r=\"7.0\" style=\"fill:blue;stroke:black;stroke-width:1.0\"/><circle cx=\"162.22222222222223\" cy=\"20.0\" r=\"7.0\" style=\"fill:blue;stroke:black;stroke-width:1.0\"/><circle cx=\"122.22222222222221\" cy=\"103.92857142857143\" r=\"7.0\" style=\"fill:blue;stroke:black;stroke-width:1.0\"/><circle cx=\"197.7777777777778\" cy=\"120.0\" r=\"7.0\" style=\"fill:blue;stroke:black;stroke-width:1.0\"/><circle cx=\"171.1111111111111\" cy=\"45.0\" r=\"7.0\" style=\"fill:blue;stroke:black;stroke-width:1.0\"/><circle cx=\"344.44444444444446\" cy=\"107.5\" r=\"7.0\" style=\"fill:blue;stroke:black;stroke-width:1.0\"/><circle cx=\"153.33333333333334\" cy=\"125.35714285714286\" r=\"7.0\" style=\"fill:blue;stroke:black;stroke-width:1.0\"/><circle cx=\"260.0\" cy=\"73.57142857142857\" r=\"7.0\" style=\"fill:blue;stroke:black;stroke-width:1.0\"/><circle cx=\"246.66666666666666\" cy=\"82.5\" r=\"7.0\" style=\"fill:blue;stroke:black;stroke-width:3.0\"/></svg>"
      ],
      "text/plain": [
       "<IPython.core.display.SVG object>"
      ]
     },
     "execution_count": 9,
     "metadata": {},
     "output_type": "execute_result"
    }
   ],
   "source": [
    "SVG(image)"
   ]
  },
  {
   "cell_type": "markdown",
   "metadata": {},
   "source": [
    "**Soft classification**"
   ]
  },
  {
   "cell_type": "code",
   "execution_count": 10,
   "metadata": {},
   "outputs": [],
   "source": [
    "knn = KNN(GSVD(3), n_neighbors=2)\n",
    "knn.fit(adjacency, seeds)\n",
    "membership = knn.membership_"
   ]
  },
  {
   "cell_type": "code",
   "execution_count": 11,
   "metadata": {},
   "outputs": [],
   "source": [
    "scores = membership[:,1].toarray().ravel()"
   ]
  },
  {
   "cell_type": "code",
   "execution_count": 12,
   "metadata": {},
   "outputs": [],
   "source": [
    "image = svg_graph(adjacency, position, scores=scores, seeds=seeds)"
   ]
  },
  {
   "cell_type": "code",
   "execution_count": 13,
   "metadata": {},
   "outputs": [
    {
     "data": {
      "image/svg+xml": [
       "<svg height=\"340\" width=\"440\"><path d=\"M 264.44444444444446 200.35714285714286 353.3333333333333 168.21428571428572\" stroke=\"black\" stroke-width=\"1\"/><path d=\"M 264.44444444444446 200.35714285714286 251.11111111111114 143.21428571428572\" stroke=\"black\" stroke-width=\"1\"/><path d=\"M 264.44444444444446 200.35714285714286 304.44444444444446 191.42857142857142\" stroke=\"black\" stroke-width=\"1\"/><path d=\"M 264.44444444444446 200.35714285714286 255.55555555555557 255.71428571428572\" stroke=\"black\" stroke-width=\"1\"/><path d=\"M 264.44444444444446 200.35714285714286 211.1111111111111 275.3571428571429\" stroke=\"black\" stroke-width=\"1\"/><path d=\"M 264.44444444444446 200.35714285714286 264.44444444444446 277.1428571428571\" stroke=\"black\" stroke-width=\"1\"/><path d=\"M 264.44444444444446 200.35714285714286 340.0 186.07142857142858\" stroke=\"black\" stroke-width=\"1\"/><path d=\"M 264.44444444444446 200.35714285714286 282.22222222222223 125.35714285714286\" stroke=\"black\" stroke-width=\"1\"/><path d=\"M 264.44444444444446 200.35714285714286 188.88888888888889 252.1428571428571\" stroke=\"black\" stroke-width=\"1\"/><path d=\"M 264.44444444444446 200.35714285714286 122.22222222222221 212.85714285714283\" stroke=\"black\" stroke-width=\"1\"/><path d=\"M 264.44444444444446 200.35714285714286 335.55555555555554 236.07142857142853\" stroke=\"black\" stroke-width=\"1\"/><path d=\"M 264.44444444444446 200.35714285714286 282.22222222222223 153.92857142857142\" stroke=\"black\" stroke-width=\"1\"/><path d=\"M 264.44444444444446 200.35714285714286 388.8888888888889 216.42857142857142\" stroke=\"black\" stroke-width=\"1\"/><path d=\"M 264.44444444444446 200.35714285714286 331.1111111111111 143.21428571428572\" stroke=\"black\" stroke-width=\"1\"/><path d=\"M 264.44444444444446 200.35714285714286 420.0 202.14285714285714\" stroke=\"black\" stroke-width=\"1\"/><path d=\"M 264.44444444444446 200.35714285714286 153.33333333333334 125.35714285714286\" stroke=\"black\" stroke-width=\"1\"/><path d=\"M 353.3333333333333 168.21428571428572 264.44444444444446 200.35714285714286\" stroke=\"black\" stroke-width=\"1\"/><path d=\"M 353.3333333333333 168.21428571428572 251.11111111111114 143.21428571428572\" stroke=\"black\" stroke-width=\"1\"/><path d=\"M 353.3333333333333 168.21428571428572 304.44444444444446 191.42857142857142\" stroke=\"black\" stroke-width=\"1\"/><path d=\"M 353.3333333333333 168.21428571428572 340.0 186.07142857142858\" stroke=\"black\" stroke-width=\"1\"/><path d=\"M 353.3333333333333 168.21428571428572 282.22222222222223 153.92857142857142\" stroke=\"black\" stroke-width=\"1\"/><path d=\"M 353.3333333333333 168.21428571428572 388.8888888888889 216.42857142857142\" stroke=\"black\" stroke-width=\"1\"/><path d=\"M 353.3333333333333 168.21428571428572 331.1111111111111 143.21428571428572\" stroke=\"black\" stroke-width=\"1\"/><path d=\"M 353.3333333333333 168.21428571428572 420.0 202.14285714285714\" stroke=\"black\" stroke-width=\"1\"/><path d=\"M 353.3333333333333 168.21428571428572 344.44444444444446 107.5\" stroke=\"black\" stroke-width=\"1\"/><path d=\"M 251.11111111111114 143.21428571428572 264.44444444444446 200.35714285714286\" stroke=\"black\" stroke-width=\"1\"/><path d=\"M 251.11111111111114 143.21428571428572 353.3333333333333 168.21428571428572\" stroke=\"black\" stroke-width=\"1\"/><path d=\"M 251.11111111111114 143.21428571428572 304.44444444444446 191.42857142857142\" stroke=\"black\" stroke-width=\"1\"/><path d=\"M 251.11111111111114 143.21428571428572 340.0 186.07142857142858\" stroke=\"black\" stroke-width=\"1\"/><path d=\"M 251.11111111111114 143.21428571428572 282.22222222222223 125.35714285714286\" stroke=\"black\" stroke-width=\"1\"/><path d=\"M 251.11111111111114 143.21428571428572 197.7777777777778 100.35714285714286\" stroke=\"black\" stroke-width=\"1\"/><path d=\"M 251.11111111111114 143.21428571428572 282.22222222222223 153.92857142857142\" stroke=\"black\" stroke-width=\"1\"/><path d=\"M 251.11111111111114 143.21428571428572 122.22222222222221 103.92857142857143\" stroke=\"black\" stroke-width=\"1\"/><path d=\"M 251.11111111111114 143.21428571428572 197.7777777777778 120.0\" stroke=\"black\" stroke-width=\"1\"/><path d=\"M 251.11111111111114 143.21428571428572 260.0 73.57142857142857\" stroke=\"black\" stroke-width=\"1\"/><path d=\"M 304.44444444444446 191.42857142857142 264.44444444444446 200.35714285714286\" stroke=\"black\" stroke-width=\"1\"/><path d=\"M 304.44444444444446 191.42857142857142 353.3333333333333 168.21428571428572\" stroke=\"black\" stroke-width=\"1\"/><path d=\"M 304.44444444444446 191.42857142857142 251.11111111111114 143.21428571428572\" stroke=\"black\" stroke-width=\"1\"/><path d=\"M 304.44444444444446 191.42857142857142 340.0 186.07142857142858\" stroke=\"black\" stroke-width=\"1\"/><path d=\"M 304.44444444444446 191.42857142857142 335.55555555555554 236.07142857142853\" stroke=\"black\" stroke-width=\"1\"/><path d=\"M 304.44444444444446 191.42857142857142 282.22222222222223 153.92857142857142\" stroke=\"black\" stroke-width=\"1\"/><path d=\"M 255.55555555555557 255.71428571428572 264.44444444444446 200.35714285714286\" stroke=\"black\" stroke-width=\"1\"/><path d=\"M 255.55555555555557 255.71428571428572 264.44444444444446 277.1428571428571\" stroke=\"black\" stroke-width=\"1\"/><path d=\"M 255.55555555555557 255.71428571428572 188.88888888888889 252.1428571428571\" stroke=\"black\" stroke-width=\"1\"/><path d=\"M 211.1111111111111 275.3571428571429 264.44444444444446 200.35714285714286\" stroke=\"black\" stroke-width=\"1\"/><path d=\"M 211.1111111111111 275.3571428571429 264.44444444444446 277.1428571428571\" stroke=\"black\" stroke-width=\"1\"/><path d=\"M 211.1111111111111 275.3571428571429 188.88888888888889 252.1428571428571\" stroke=\"black\" stroke-width=\"1\"/><path d=\"M 211.1111111111111 275.3571428571429 220.0 320.0\" stroke=\"black\" stroke-width=\"1\"/><path d=\"M 264.44444444444446 277.1428571428571 264.44444444444446 200.35714285714286\" stroke=\"black\" stroke-width=\"1\"/><path d=\"M 264.44444444444446 277.1428571428571 255.55555555555557 255.71428571428572\" stroke=\"black\" stroke-width=\"1\"/><path d=\"M 264.44444444444446 277.1428571428571 211.1111111111111 275.3571428571429\" stroke=\"black\" stroke-width=\"1\"/><path d=\"M 264.44444444444446 277.1428571428571 220.0 320.0\" stroke=\"black\" stroke-width=\"1\"/><path d=\"M 340.0 186.07142857142858 264.44444444444446 200.35714285714286\" stroke=\"black\" stroke-width=\"1\"/><path d=\"M 340.0 186.07142857142858 353.3333333333333 168.21428571428572\" stroke=\"black\" stroke-width=\"1\"/><path d=\"M 340.0 186.07142857142858 251.11111111111114 143.21428571428572\" stroke=\"black\" stroke-width=\"1\"/><path d=\"M 340.0 186.07142857142858 304.44444444444446 191.42857142857142\" stroke=\"black\" stroke-width=\"1\"/><path d=\"M 282.22222222222223 125.35714285714286 264.44444444444446 200.35714285714286\" stroke=\"black\" stroke-width=\"1\"/><path d=\"M 282.22222222222223 125.35714285714286 251.11111111111114 143.21428571428572\" stroke=\"black\" stroke-width=\"1\"/><path d=\"M 282.22222222222223 125.35714285714286 344.44444444444446 107.5\" stroke=\"black\" stroke-width=\"1\"/><path d=\"M 282.22222222222223 125.35714285714286 260.0 73.57142857142857\" stroke=\"black\" stroke-width=\"1\"/><path d=\"M 282.22222222222223 125.35714285714286 246.66666666666666 82.5\" stroke=\"black\" stroke-width=\"1\"/><path d=\"M 197.7777777777778 100.35714285714286 251.11111111111114 143.21428571428572\" stroke=\"black\" stroke-width=\"1\"/><path d=\"M 197.7777777777778 100.35714285714286 246.66666666666666 82.5\" stroke=\"black\" stroke-width=\"1\"/><path d=\"M 188.88888888888889 252.1428571428571 264.44444444444446 200.35714285714286\" stroke=\"black\" stroke-width=\"1\"/><path d=\"M 188.88888888888889 252.1428571428571 255.55555555555557 255.71428571428572\" stroke=\"black\" stroke-width=\"1\"/><path d=\"M 188.88888888888889 252.1428571428571 211.1111111111111 275.3571428571429\" stroke=\"black\" stroke-width=\"1\"/><path d=\"M 122.22222222222221 212.85714285714283 264.44444444444446 200.35714285714286\" stroke=\"black\" stroke-width=\"1\"/><path d=\"M 335.55555555555554 236.07142857142853 264.44444444444446 200.35714285714286\" stroke=\"black\" stroke-width=\"1\"/><path d=\"M 335.55555555555554 236.07142857142853 304.44444444444446 191.42857142857142\" stroke=\"black\" stroke-width=\"1\"/><path d=\"M 282.22222222222223 153.92857142857142 264.44444444444446 200.35714285714286\" stroke=\"black\" stroke-width=\"1\"/><path d=\"M 282.22222222222223 153.92857142857142 353.3333333333333 168.21428571428572\" stroke=\"black\" stroke-width=\"1\"/><path d=\"M 282.22222222222223 153.92857142857142 251.11111111111114 143.21428571428572\" stroke=\"black\" stroke-width=\"1\"/><path d=\"M 282.22222222222223 153.92857142857142 304.44444444444446 191.42857142857142\" stroke=\"black\" stroke-width=\"1\"/><path d=\"M 282.22222222222223 153.92857142857142 246.66666666666666 82.5\" stroke=\"black\" stroke-width=\"1\"/><path d=\"M 348.88888888888886 43.21428571428571 260.0 73.57142857142857\" stroke=\"black\" stroke-width=\"1\"/><path d=\"M 348.88888888888886 43.21428571428571 246.66666666666666 82.5\" stroke=\"black\" stroke-width=\"1\"/><path d=\"M 273.33333333333337 27.14285714285715 260.0 73.57142857142857\" stroke=\"black\" stroke-width=\"1\"/><path d=\"M 273.33333333333337 27.14285714285715 246.66666666666666 82.5\" stroke=\"black\" stroke-width=\"1\"/><path d=\"M 220.0 320.0 211.1111111111111 275.3571428571429\" stroke=\"black\" stroke-width=\"1\"/><path d=\"M 220.0 320.0 264.44444444444446 277.1428571428571\" stroke=\"black\" stroke-width=\"1\"/><path d=\"M 388.8888888888889 216.42857142857142 264.44444444444446 200.35714285714286\" stroke=\"black\" stroke-width=\"1\"/><path d=\"M 388.8888888888889 216.42857142857142 353.3333333333333 168.21428571428572\" stroke=\"black\" stroke-width=\"1\"/><path d=\"M 313.33333333333337 34.2857142857143 260.0 73.57142857142857\" stroke=\"black\" stroke-width=\"1\"/><path d=\"M 313.33333333333337 34.2857142857143 246.66666666666666 82.5\" stroke=\"black\" stroke-width=\"1\"/><path d=\"M 331.1111111111111 143.21428571428572 264.44444444444446 200.35714285714286\" stroke=\"black\" stroke-width=\"1\"/><path d=\"M 331.1111111111111 143.21428571428572 353.3333333333333 168.21428571428572\" stroke=\"black\" stroke-width=\"1\"/><path d=\"M 331.1111111111111 143.21428571428572 246.66666666666666 82.5\" stroke=\"black\" stroke-width=\"1\"/><path d=\"M 366.6666666666667 61.07142857142858 260.0 73.57142857142857\" stroke=\"black\" stroke-width=\"1\"/><path d=\"M 366.6666666666667 61.07142857142858 246.66666666666666 82.5\" stroke=\"black\" stroke-width=\"1\"/><path d=\"M 420.0 202.14285714285714 264.44444444444446 200.35714285714286\" stroke=\"black\" stroke-width=\"1\"/><path d=\"M 420.0 202.14285714285714 353.3333333333333 168.21428571428572\" stroke=\"black\" stroke-width=\"1\"/><path d=\"M 228.8888888888889 32.50000000000001 260.0 73.57142857142857\" stroke=\"black\" stroke-width=\"1\"/><path d=\"M 228.8888888888889 32.50000000000001 246.66666666666666 82.5\" stroke=\"black\" stroke-width=\"1\"/><path d=\"M 131.11111111111111 68.21428571428572 28.888888888888896 91.42857142857143\" stroke=\"black\" stroke-width=\"1\"/><path d=\"M 131.11111111111111 68.21428571428572 122.22222222222221 103.92857142857143\" stroke=\"black\" stroke-width=\"1\"/><path d=\"M 131.11111111111111 68.21428571428572 171.1111111111111 45.0\" stroke=\"black\" stroke-width=\"1\"/><path d=\"M 131.11111111111111 68.21428571428572 260.0 73.57142857142857\" stroke=\"black\" stroke-width=\"1\"/><path d=\"M 131.11111111111111 68.21428571428572 246.66666666666666 82.5\" stroke=\"black\" stroke-width=\"1\"/><path d=\"M 20.0 116.42857142857142 28.888888888888896 91.42857142857143\" stroke=\"black\" stroke-width=\"1\"/><path d=\"M 20.0 116.42857142857142 122.22222222222221 103.92857142857143\" stroke=\"black\" stroke-width=\"1\"/><path d=\"M 20.0 116.42857142857142 153.33333333333334 125.35714285714286\" stroke=\"black\" stroke-width=\"1\"/><path d=\"M 28.888888888888896 91.42857142857143 131.11111111111111 68.21428571428572\" stroke=\"black\" stroke-width=\"1\"/><path d=\"M 28.888888888888896 91.42857142857143 20.0 116.42857142857142\" stroke=\"black\" stroke-width=\"1\"/><path d=\"M 28.888888888888896 91.42857142857143 153.33333333333334 125.35714285714286\" stroke=\"black\" stroke-width=\"1\"/><path d=\"M 162.22222222222223 20.0 171.1111111111111 45.0\" stroke=\"black\" stroke-width=\"1\"/><path d=\"M 162.22222222222223 20.0 246.66666666666666 82.5\" stroke=\"black\" stroke-width=\"1\"/><path d=\"M 122.22222222222221 103.92857142857143 251.11111111111114 143.21428571428572\" stroke=\"black\" stroke-width=\"1\"/><path d=\"M 122.22222222222221 103.92857142857143 131.11111111111111 68.21428571428572\" stroke=\"black\" stroke-width=\"1\"/><path d=\"M 122.22222222222221 103.92857142857143 20.0 116.42857142857142\" stroke=\"black\" stroke-width=\"1\"/><path d=\"M 122.22222222222221 103.92857142857143 246.66666666666666 82.5\" stroke=\"black\" stroke-width=\"1\"/><path d=\"M 197.7777777777778 120.0 251.11111111111114 143.21428571428572\" stroke=\"black\" stroke-width=\"1\"/><path d=\"M 197.7777777777778 120.0 153.33333333333334 125.35714285714286\" stroke=\"black\" stroke-width=\"1\"/><path d=\"M 197.7777777777778 120.0 246.66666666666666 82.5\" stroke=\"black\" stroke-width=\"1\"/><path d=\"M 171.1111111111111 45.0 131.11111111111111 68.21428571428572\" stroke=\"black\" stroke-width=\"1\"/><path d=\"M 171.1111111111111 45.0 162.22222222222223 20.0\" stroke=\"black\" stroke-width=\"1\"/><path d=\"M 171.1111111111111 45.0 260.0 73.57142857142857\" stroke=\"black\" stroke-width=\"1\"/><path d=\"M 171.1111111111111 45.0 246.66666666666666 82.5\" stroke=\"black\" stroke-width=\"1\"/><path d=\"M 344.44444444444446 107.5 353.3333333333333 168.21428571428572\" stroke=\"black\" stroke-width=\"1\"/><path d=\"M 344.44444444444446 107.5 282.22222222222223 125.35714285714286\" stroke=\"black\" stroke-width=\"1\"/><path d=\"M 344.44444444444446 107.5 260.0 73.57142857142857\" stroke=\"black\" stroke-width=\"1\"/><path d=\"M 344.44444444444446 107.5 246.66666666666666 82.5\" stroke=\"black\" stroke-width=\"1\"/><path d=\"M 153.33333333333334 125.35714285714286 264.44444444444446 200.35714285714286\" stroke=\"black\" stroke-width=\"1\"/><path d=\"M 153.33333333333334 125.35714285714286 20.0 116.42857142857142\" stroke=\"black\" stroke-width=\"1\"/><path d=\"M 153.33333333333334 125.35714285714286 28.888888888888896 91.42857142857143\" stroke=\"black\" stroke-width=\"1\"/><path d=\"M 153.33333333333334 125.35714285714286 197.7777777777778 120.0\" stroke=\"black\" stroke-width=\"1\"/><path d=\"M 153.33333333333334 125.35714285714286 260.0 73.57142857142857\" stroke=\"black\" stroke-width=\"1\"/><path d=\"M 153.33333333333334 125.35714285714286 246.66666666666666 82.5\" stroke=\"black\" stroke-width=\"1\"/><path d=\"M 260.0 73.57142857142857 251.11111111111114 143.21428571428572\" stroke=\"black\" stroke-width=\"1\"/><path d=\"M 260.0 73.57142857142857 282.22222222222223 125.35714285714286\" stroke=\"black\" stroke-width=\"1\"/><path d=\"M 260.0 73.57142857142857 348.88888888888886 43.21428571428571\" stroke=\"black\" stroke-width=\"1\"/><path d=\"M 260.0 73.57142857142857 273.33333333333337 27.14285714285715\" stroke=\"black\" stroke-width=\"1\"/><path d=\"M 260.0 73.57142857142857 313.33333333333337 34.2857142857143\" stroke=\"black\" stroke-width=\"1\"/><path d=\"M 260.0 73.57142857142857 366.6666666666667 61.07142857142858\" stroke=\"black\" stroke-width=\"1\"/><path d=\"M 260.0 73.57142857142857 228.8888888888889 32.50000000000001\" stroke=\"black\" stroke-width=\"1\"/><path d=\"M 260.0 73.57142857142857 131.11111111111111 68.21428571428572\" stroke=\"black\" stroke-width=\"1\"/><path d=\"M 260.0 73.57142857142857 171.1111111111111 45.0\" stroke=\"black\" stroke-width=\"1\"/><path d=\"M 260.0 73.57142857142857 344.44444444444446 107.5\" stroke=\"black\" stroke-width=\"1\"/><path d=\"M 260.0 73.57142857142857 153.33333333333334 125.35714285714286\" stroke=\"black\" stroke-width=\"1\"/><path d=\"M 260.0 73.57142857142857 246.66666666666666 82.5\" stroke=\"black\" stroke-width=\"1\"/><path d=\"M 246.66666666666666 82.5 282.22222222222223 125.35714285714286\" stroke=\"black\" stroke-width=\"1\"/><path d=\"M 246.66666666666666 82.5 197.7777777777778 100.35714285714286\" stroke=\"black\" stroke-width=\"1\"/><path d=\"M 246.66666666666666 82.5 282.22222222222223 153.92857142857142\" stroke=\"black\" stroke-width=\"1\"/><path d=\"M 246.66666666666666 82.5 348.88888888888886 43.21428571428571\" stroke=\"black\" stroke-width=\"1\"/><path d=\"M 246.66666666666666 82.5 273.33333333333337 27.14285714285715\" stroke=\"black\" stroke-width=\"1\"/><path d=\"M 246.66666666666666 82.5 313.33333333333337 34.2857142857143\" stroke=\"black\" stroke-width=\"1\"/><path d=\"M 246.66666666666666 82.5 331.1111111111111 143.21428571428572\" stroke=\"black\" stroke-width=\"1\"/><path d=\"M 246.66666666666666 82.5 366.6666666666667 61.07142857142858\" stroke=\"black\" stroke-width=\"1\"/><path d=\"M 246.66666666666666 82.5 228.8888888888889 32.50000000000001\" stroke=\"black\" stroke-width=\"1\"/><path d=\"M 246.66666666666666 82.5 131.11111111111111 68.21428571428572\" stroke=\"black\" stroke-width=\"1\"/><path d=\"M 246.66666666666666 82.5 162.22222222222223 20.0\" stroke=\"black\" stroke-width=\"1\"/><path d=\"M 246.66666666666666 82.5 122.22222222222221 103.92857142857143\" stroke=\"black\" stroke-width=\"1\"/><path d=\"M 246.66666666666666 82.5 197.7777777777778 120.0\" stroke=\"black\" stroke-width=\"1\"/><path d=\"M 246.66666666666666 82.5 171.1111111111111 45.0\" stroke=\"black\" stroke-width=\"1\"/><path d=\"M 246.66666666666666 82.5 344.44444444444446 107.5\" stroke=\"black\" stroke-width=\"1\"/><path d=\"M 246.66666666666666 82.5 153.33333333333334 125.35714285714286\" stroke=\"black\" stroke-width=\"1\"/><path d=\"M 246.66666666666666 82.5 260.0 73.57142857142857\" stroke=\"black\" stroke-width=\"1\"/><circle cx=\"264.44444444444446\" cy=\"200.35714285714286\" r=\"7.0\" style=\"fill:rgb(179, 3, 38);stroke:black;stroke-width:3.0\"/><circle cx=\"353.3333333333333\" cy=\"168.21428571428572\" r=\"7.0\" style=\"fill:rgb(217, 88, 71);stroke:black;stroke-width:1.0\"/><circle cx=\"251.11111111111114\" cy=\"143.21428571428572\" r=\"7.0\" style=\"fill:rgb(230, 215, 207);stroke:black;stroke-width:1.0\"/><circle cx=\"304.44444444444446\" cy=\"191.42857142857142\" r=\"7.0\" style=\"fill:rgb(214, 82, 67);stroke:black;stroke-width:1.0\"/><circle cx=\"255.55555555555557\" cy=\"255.71428571428572\" r=\"7.0\" style=\"fill:rgb(220, 94, 75);stroke:black;stroke-width:1.0\"/><circle cx=\"211.1111111111111\" cy=\"275.3571428571429\" r=\"7.0\" style=\"fill:rgb(222, 98, 78);stroke:black;stroke-width:1.0\"/><circle cx=\"264.44444444444446\" cy=\"277.1428571428571\" r=\"7.0\" style=\"fill:rgb(222, 98, 78);stroke:black;stroke-width:1.0\"/><circle cx=\"340.0\" cy=\"186.07142857142858\" r=\"7.0\" style=\"fill:rgb(243, 150, 120);stroke:black;stroke-width:1.0\"/><circle cx=\"282.22222222222223\" cy=\"125.35714285714286\" r=\"7.0\" style=\"fill:rgb(219, 220, 222);stroke:black;stroke-width:1.0\"/><circle cx=\"197.7777777777778\" cy=\"100.35714285714286\" r=\"7.0\" style=\"fill:rgb(210, 218, 231);stroke:black;stroke-width:1.0\"/><circle cx=\"188.88888888888889\" cy=\"252.1428571428571\" r=\"7.0\" style=\"fill:rgb(220, 94, 75);stroke:black;stroke-width:1.0\"/><circle cx=\"122.22222222222221\" cy=\"212.85714285714283\" r=\"7.0\" style=\"fill:rgb(242, 145, 115);stroke:black;stroke-width:1.0\"/><circle cx=\"335.55555555555554\" cy=\"236.07142857142853\" r=\"7.0\" style=\"fill:rgb(236, 128, 100);stroke:black;stroke-width:1.0\"/><circle cx=\"282.22222222222223\" cy=\"153.92857142857142\" r=\"7.0\" style=\"fill:rgb(246, 189, 164);stroke:black;stroke-width:1.0\"/><circle cx=\"348.88888888888886\" cy=\"43.21428571428571\" r=\"7.0\" style=\"fill:rgb(208, 218, 233);stroke:black;stroke-width:1.0\"/><circle cx=\"273.33333333333337\" cy=\"27.14285714285715\" r=\"7.0\" style=\"fill:rgb(208, 218, 233);stroke:black;stroke-width:1.0\"/><circle cx=\"220.0\" cy=\"320.0\" r=\"7.0\" style=\"fill:rgb(217, 88, 71);stroke:black;stroke-width:1.0\"/><circle cx=\"388.8888888888889\" cy=\"216.42857142857142\" r=\"7.0\" style=\"fill:rgb(245, 158, 127);stroke:black;stroke-width:1.0\"/><circle cx=\"313.33333333333337\" cy=\"34.2857142857143\" r=\"7.0\" style=\"fill:rgb(208, 218, 233);stroke:black;stroke-width:1.0\"/><circle cx=\"331.1111111111111\" cy=\"143.21428571428572\" r=\"7.0\" style=\"fill:rgb(243, 198, 176);stroke:black;stroke-width:1.0\"/><circle cx=\"366.6666666666667\" cy=\"61.07142857142858\" r=\"7.0\" style=\"fill:rgb(208, 218, 233);stroke:black;stroke-width:1.0\"/><circle cx=\"420.0\" cy=\"202.14285714285714\" r=\"7.0\" style=\"fill:rgb(245, 158, 127);stroke:black;stroke-width:1.0\"/><circle cx=\"228.8888888888889\" cy=\"32.50000000000001\" r=\"7.0\" style=\"fill:rgb(208, 218, 233);stroke:black;stroke-width:1.0\"/><circle cx=\"131.11111111111111\" cy=\"68.21428571428572\" r=\"7.0\" style=\"fill:rgb(170, 198, 253);stroke:black;stroke-width:1.0\"/><circle cx=\"20.0\" cy=\"116.42857142857142\" r=\"7.0\" style=\"fill:rgb(99, 131, 234);stroke:black;stroke-width:1.0\"/><circle cx=\"28.888888888888896\" cy=\"91.42857142857143\" r=\"7.0\" style=\"fill:rgb(82, 110, 220);stroke:black;stroke-width:1.0\"/><circle cx=\"162.22222222222223\" cy=\"20.0\" r=\"7.0\" style=\"fill:rgb(163, 193, 254);stroke:black;stroke-width:1.0\"/><circle cx=\"122.22222222222221\" cy=\"103.92857142857143\" r=\"7.0\" style=\"fill:rgb(166, 195, 253);stroke:black;stroke-width:1.0\"/><circle cx=\"197.7777777777778\" cy=\"120.0\" r=\"7.0\" style=\"fill:rgb(172, 200, 252);stroke:black;stroke-width:1.0\"/><circle cx=\"171.1111111111111\" cy=\"45.0\" r=\"7.0\" style=\"fill:rgb(159, 190, 254);stroke:black;stroke-width:1.0\"/><circle cx=\"344.44444444444446\" cy=\"107.5\" r=\"7.0\" style=\"fill:rgb(214, 219, 228);stroke:black;stroke-width:1.0\"/><circle cx=\"153.33333333333334\" cy=\"125.35714285714286\" r=\"7.0\" style=\"fill:rgb(202, 216, 238);stroke:black;stroke-width:1.0\"/><circle cx=\"260.0\" cy=\"73.57142857142857\" r=\"7.0\" style=\"fill:rgb(58, 76, 192);stroke:black;stroke-width:1.0\"/><circle cx=\"246.66666666666666\" cy=\"82.5\" r=\"7.0\" style=\"fill:rgb(58, 76, 192);stroke:black;stroke-width:3.0\"/></svg>"
      ],
      "text/plain": [
       "<IPython.core.display.SVG object>"
      ]
     },
     "execution_count": 13,
     "metadata": {},
     "output_type": "execute_result"
    }
   ],
   "source": [
    "SVG(image)"
   ]
  },
  {
   "cell_type": "markdown",
   "metadata": {},
   "source": [
    "## Digraphs"
   ]
  },
  {
   "cell_type": "code",
   "execution_count": 14,
   "metadata": {
    "ExecuteTime": {
     "end_time": "2019-07-15T12:29:58.542147Z",
     "start_time": "2019-07-15T12:29:58.529699Z"
    }
   },
   "outputs": [],
   "source": [
    "graph = painters(metadata=True)\n",
    "adjacency = graph.adjacency\n",
    "position = graph.position\n",
    "names = graph.names"
   ]
  },
  {
   "cell_type": "markdown",
   "metadata": {},
   "source": [
    "**Classification**"
   ]
  },
  {
   "cell_type": "code",
   "execution_count": 15,
   "metadata": {},
   "outputs": [],
   "source": [
    "rembrandt = 5\n",
    "klimt = 6\n",
    "cezanne = 11\n",
    "seeds = {cezanne: 0, rembrandt: 1, klimt: 2}"
   ]
  },
  {
   "cell_type": "code",
   "execution_count": 16,
   "metadata": {},
   "outputs": [],
   "source": [
    "knn = KNN(GSVD(3), n_neighbors=2)\n",
    "labels = knn.fit_transform(adjacency, seeds)"
   ]
  },
  {
   "cell_type": "code",
   "execution_count": 17,
   "metadata": {},
   "outputs": [],
   "source": [
    "image = svg_digraph(adjacency, position, names, labels, seeds=seeds)"
   ]
  },
  {
   "cell_type": "code",
   "execution_count": 18,
   "metadata": {},
   "outputs": [
    {
     "data": {
      "image/svg+xml": [
       "<svg height=\"340\" width=\"566.0\"><defs><marker id=\"arrow\" markerHeight=\"10\" markerWidth=\"10\" orient=\"auto\" refX=\"9\" refY=\"3\"><path d=\"M0,0 L0,6 L9,3 z\" fill=\"gray\"/></marker></defs><path d=\"M 247.2 48.402366863905314 78.17133691300602 63.74587783535783\" marker-end=\"url(#arrow)\" stroke=\"gray\" stroke-width=\"1\"/><path d=\"M 247.2 48.402366863905314 170.97464603085965 54.90771682713418\" marker-end=\"url(#arrow)\" stroke=\"gray\" stroke-width=\"1\"/><path d=\"M 20.0 108.75739644970413 65.91045074398224 68.96352850177203\" marker-end=\"url(#arrow)\" stroke=\"gray\" stroke-width=\"1\"/><path d=\"M 20.0 108.75739644970413 86.92063063867994 129.74003565497586\" marker-end=\"url(#arrow)\" stroke=\"gray\" stroke-width=\"1\"/><path d=\"M 74.39999999999999 268.5207100591716 145.3854256642238 316.1024718995583\" marker-end=\"url(#arrow)\" stroke=\"gray\" stroke-width=\"1\"/><path d=\"M 71.19999999999999 64.37869822485206 240.22866308699398 49.03518725339954\" marker-end=\"url(#arrow)\" stroke=\"gray\" stroke-width=\"1\"/><path d=\"M 71.19999999999999 64.37869822485206 25.28954925601775 104.17256617278416\" marker-end=\"url(#arrow)\" stroke=\"gray\" stroke-width=\"1\"/><path d=\"M 71.19999999999999 64.37869822485206 56.33205090481051 155.10397931606008\" marker-end=\"url(#arrow)\" stroke=\"gray\" stroke-width=\"1\"/><path d=\"M 71.19999999999999 64.37869822485206 125.6578790726936 89.81838013361582\" marker-end=\"url(#arrow)\" stroke=\"gray\" stroke-width=\"1\"/><path d=\"M 71.19999999999999 64.37869822485206 91.39395944829755 125.19102327519867\" marker-end=\"url(#arrow)\" stroke=\"gray\" stroke-width=\"1\"/><path d=\"M 144.79999999999998 227.69230769230768 80.45535262014802 265.008914984617\" marker-end=\"url(#arrow)\" stroke=\"gray\" stroke-width=\"1\"/><path d=\"M 144.79999999999998 227.69230769230768 202.46855275359837 254.8843952517892\" marker-end=\"url(#arrow)\" stroke=\"gray\" stroke-width=\"1\"/><path d=\"M 144.79999999999998 227.69230769230768 150.71582900335977 313.0167644715352\" marker-end=\"url(#arrow)\" stroke=\"gray\" stroke-width=\"1\"/><path d=\"M 208.79999999999998 257.8698224852071 81.37812231412572 267.96771008710965\" marker-end=\"url(#arrow)\" stroke=\"gray\" stroke-width=\"1\"/><path d=\"M 208.79999999999998 257.8698224852071 151.1314472464016 230.67773492572562\" marker-end=\"url(#arrow)\" stroke=\"gray\" stroke-width=\"1\"/><path d=\"M 208.79999999999998 257.8698224852071 205.7911206437998 147.70744960657507\" marker-end=\"url(#arrow)\" stroke=\"gray\" stroke-width=\"1\"/><path d=\"M 208.79999999999998 257.8698224852071 155.9590607440766 314.86664429109095\" marker-end=\"url(#arrow)\" stroke=\"gray\" stroke-width=\"1\"/><path d=\"M 420.0 20.0 254.107317642652 47.26704180758513\" marker-end=\"url(#arrow)\" stroke=\"gray\" stroke-width=\"1\"/><path d=\"M 420.0 20.0 405.46878091725125 87.71204158381452\" marker-end=\"url(#arrow)\" stroke=\"gray\" stroke-width=\"1\"/><path d=\"M 55.199999999999996 162.01183431952663 23.859871905029895 114.59703589720095\" marker-end=\"url(#arrow)\" stroke=\"gray\" stroke-width=\"1\"/><path d=\"M 55.199999999999996 162.01183431952663 73.15814964911553 261.63174731388057\" marker-end=\"url(#arrow)\" stroke=\"gray\" stroke-width=\"1\"/><path d=\"M 55.199999999999996 162.01183431952663 70.06794909518948 71.2865532283186\" marker-end=\"url(#arrow)\" stroke=\"gray\" stroke-width=\"1\"/><path d=\"M 55.199999999999996 162.01183431952663 198.66917182728167 141.69170108199776\" marker-end=\"url(#arrow)\" stroke=\"gray\" stroke-width=\"1\"/><path d=\"M 55.199999999999996 162.01183431952663 126.80067142605786 97.46795983690234\" marker-end=\"url(#arrow)\" stroke=\"gray\" stroke-width=\"1\"/><path d=\"M 55.199999999999996 162.01183431952663 88.09619543518932 136.15960972641372\" marker-end=\"url(#arrow)\" stroke=\"gray\" stroke-width=\"1\"/><path d=\"M 205.6 140.71005917159763 244.3239095946467 54.78422427223361\" marker-end=\"url(#arrow)\" stroke=\"gray\" stroke-width=\"1\"/><path d=\"M 205.6 140.71005917159763 26.898515197442475 109.94503615544625\" marker-end=\"url(#arrow)\" stroke=\"gray\" stroke-width=\"1\"/><path d=\"M 205.6 140.71005917159763 148.81035873799388 221.954971830377\" marker-end=\"url(#arrow)\" stroke=\"gray\" stroke-width=\"1\"/><path d=\"M 205.6 140.71005917159763 208.6088793562002 250.8724320502297\" marker-end=\"url(#arrow)\" stroke=\"gray\" stroke-width=\"1\"/><path d=\"M 205.6 140.71005917159763 62.13082817271832 161.0301924091265\" marker-end=\"url(#arrow)\" stroke=\"gray\" stroke-width=\"1\"/><path d=\"M 205.6 140.71005917159763 167.0710858773904 61.79330288951154\" marker-end=\"url(#arrow)\" stroke=\"gray\" stroke-width=\"1\"/><path d=\"M 205.6 140.71005917159763 137.86586221681944 96.60096828822334\" marker-end=\"url(#arrow)\" stroke=\"gray\" stroke-width=\"1\"/><path d=\"M 151.2 320.0 80.21457433577619 272.41823815961334\" marker-end=\"url(#arrow)\" stroke=\"gray\" stroke-width=\"1\"/><path d=\"M 151.2 320.0 145.2841709966402 234.67554322077243\" marker-end=\"url(#arrow)\" stroke=\"gray\" stroke-width=\"1\"/><path d=\"M 164.0 55.50295857988165 240.22535396914034 48.997608616652784\" marker-end=\"url(#arrow)\" stroke=\"gray\" stroke-width=\"1\"/><path d=\"M 164.0 55.50295857988165 78.16820095949429 63.71223338099102\" marker-end=\"url(#arrow)\" stroke=\"gray\" stroke-width=\"1\"/><path d=\"M 164.0 55.50295857988165 202.5289141226096 134.41971486196775\" marker-end=\"url(#arrow)\" stroke=\"gray\" stroke-width=\"1\"/><path d=\"M 164.0 55.50295857988165 136.55942652427953 87.46960297652348\" marker-end=\"url(#arrow)\" stroke=\"gray\" stroke-width=\"1\"/><path d=\"M 164.0 55.50295857988165 98.34578668481281 126.68868946391832\" marker-end=\"url(#arrow)\" stroke=\"gray\" stroke-width=\"1\"/><path d=\"M 132.0 92.78106508875739 240.66793067478275 50.91872739661043\" marker-end=\"url(#arrow)\" stroke=\"gray\" stroke-width=\"1\"/><path d=\"M 132.0 92.78106508875739 26.929851332198183 107.76888215358541\" marker-end=\"url(#arrow)\" stroke=\"gray\" stroke-width=\"1\"/><path d=\"M 132.0 92.78106508875739 77.54212092730639 67.34138317999363\" marker-end=\"url(#arrow)\" stroke=\"gray\" stroke-width=\"1\"/><path d=\"M 132.0 92.78106508875739 159.44057347572047 60.81442069211556\" marker-end=\"url(#arrow)\" stroke=\"gray\" stroke-width=\"1\"/><path d=\"M 132.0 92.78106508875739 98.5078258664649 126.84300253965293\" marker-end=\"url(#arrow)\" stroke=\"gray\" stroke-width=\"1\"/><path d=\"M 93.6 131.8343195266272 26.67936936132005 110.85168032135549\" marker-end=\"url(#arrow)\" stroke=\"gray\" stroke-width=\"1\"/><path d=\"M 93.6 131.8343195266272 73.40604055170243 71.0219944762806\" marker-end=\"url(#arrow)\" stroke=\"gray\" stroke-width=\"1\"/><path d=\"M 93.6 131.8343195266272 141.50208477896487 221.51786397688969\" marker-end=\"url(#arrow)\" stroke=\"gray\" stroke-width=\"1\"/><path d=\"M 93.6 131.8343195266272 60.703804564810675 157.68654411974012\" marker-end=\"url(#arrow)\" stroke=\"gray\" stroke-width=\"1\"/><path d=\"M 404.0 94.55621301775147 418.53121908274875 26.844171433936957\" marker-end=\"url(#arrow)\" stroke=\"gray\" stroke-width=\"1\"/><path d=\"M 404.0 94.55621301775147 212.41794766904997 139.12399814436827\" marker-end=\"url(#arrow)\" stroke=\"gray\" stroke-width=\"1\"/><circle cx=\"247.2\" cy=\"48.402366863905314\" r=\"7.0\" style=\"fill:blue;stroke:black;stroke-width:1.0\"/><circle cx=\"20.0\" cy=\"108.75739644970413\" r=\"7.0\" style=\"fill:blue;stroke:black;stroke-width:1.0\"/><circle cx=\"74.39999999999999\" cy=\"268.5207100591716\" r=\"7.0\" style=\"fill:red;stroke:black;stroke-width:1.0\"/><circle cx=\"71.19999999999999\" cy=\"64.37869822485206\" r=\"7.0\" style=\"fill:blue;stroke:black;stroke-width:1.0\"/><circle cx=\"144.79999999999998\" cy=\"227.69230769230768\" r=\"7.0\" style=\"fill:red;stroke:black;stroke-width:1.0\"/><circle cx=\"208.79999999999998\" cy=\"257.8698224852071\" r=\"7.0\" style=\"fill:red;stroke:black;stroke-width:3.0\"/><circle cx=\"420.0\" cy=\"20.0\" r=\"7.0\" style=\"fill:green;stroke:black;stroke-width:3.0\"/><circle cx=\"55.199999999999996\" cy=\"162.01183431952663\" r=\"7.0\" style=\"fill:blue;stroke:black;stroke-width:1.0\"/><circle cx=\"205.6\" cy=\"140.71005917159763\" r=\"7.0\" style=\"fill:blue;stroke:black;stroke-width:1.0\"/><circle cx=\"151.2\" cy=\"320.0\" r=\"7.0\" style=\"fill:red;stroke:black;stroke-width:1.0\"/><circle cx=\"164.0\" cy=\"55.50295857988165\" r=\"7.0\" style=\"fill:blue;stroke:black;stroke-width:1.0\"/><circle cx=\"132.0\" cy=\"92.78106508875739\" r=\"7.0\" style=\"fill:blue;stroke:black;stroke-width:3.0\"/><circle cx=\"93.6\" cy=\"131.8343195266272\" r=\"7.0\" style=\"fill:blue;stroke:black;stroke-width:1.0\"/><circle cx=\"404.0\" cy=\"94.55621301775147\" r=\"7.0\" style=\"fill:red;stroke:black;stroke-width:1.0\"/><text font-size=\"12\" x=\"264.2\" y=\"55.402366863905314\">Pablo Picasso</text><text font-size=\"12\" x=\"37.0\" y=\"115.75739644970413\">Claude Monet</text><text font-size=\"12\" x=\"91.39999999999999\" y=\"275.5207100591716\">Michel Angelo</text><text font-size=\"12\" x=\"88.19999999999999\" y=\"71.37869822485206\">Edouard Manet</text><text font-size=\"12\" x=\"161.79999999999998\" y=\"234.69230769230768\">Peter Paul Rubens</text><text font-size=\"12\" x=\"225.79999999999998\" y=\"264.8698224852071\">Rembrandt</text><text font-size=\"12\" x=\"437.0\" y=\"27.0\">Gustav Klimt</text><text font-size=\"12\" x=\"72.19999999999999\" y=\"169.01183431952663\">Edgar Degas</text><text font-size=\"12\" x=\"222.6\" y=\"147.71005917159763\">Vincent van Gogh</text><text font-size=\"12\" x=\"168.2\" y=\"327.0\">Leonardo da Vinci</text><text font-size=\"12\" x=\"181.0\" y=\"62.50295857988165\">Henri Matisse</text><text font-size=\"12\" x=\"149.0\" y=\"99.78106508875739\">Paul Cezanne</text><text font-size=\"12\" x=\"110.6\" y=\"138.8343195266272\">Pierre-Auguste Renoir</text><text font-size=\"12\" x=\"421.0\" y=\"101.55621301775147\">Egon Schiele</text></svg>"
      ],
      "text/plain": [
       "<IPython.core.display.SVG object>"
      ]
     },
     "execution_count": 18,
     "metadata": {},
     "output_type": "execute_result"
    }
   ],
   "source": [
    "SVG(image)"
   ]
  },
  {
   "cell_type": "markdown",
   "metadata": {},
   "source": [
    "**Soft classification**"
   ]
  },
  {
   "cell_type": "code",
   "execution_count": 19,
   "metadata": {},
   "outputs": [],
   "source": [
    "membership = knn.membership_"
   ]
  },
  {
   "cell_type": "code",
   "execution_count": 20,
   "metadata": {},
   "outputs": [],
   "source": [
    "scores = membership[:,0].toarray().ravel()"
   ]
  },
  {
   "cell_type": "code",
   "execution_count": 21,
   "metadata": {},
   "outputs": [],
   "source": [
    "image = svg_digraph(adjacency, position, names, scores=scores, seeds=[cezanne])"
   ]
  },
  {
   "cell_type": "code",
   "execution_count": 22,
   "metadata": {},
   "outputs": [
    {
     "data": {
      "image/svg+xml": [
       "<svg height=\"340\" width=\"566.0\"><defs><marker id=\"arrow\" markerHeight=\"10\" markerWidth=\"10\" orient=\"auto\" refX=\"9\" refY=\"3\"><path d=\"M0,0 L0,6 L9,3 z\" fill=\"gray\"/></marker></defs><path d=\"M 247.2 48.402366863905314 78.17133691300602 63.74587783535783\" marker-end=\"url(#arrow)\" stroke=\"gray\" stroke-width=\"1\"/><path d=\"M 247.2 48.402366863905314 170.97464603085965 54.90771682713418\" marker-end=\"url(#arrow)\" stroke=\"gray\" stroke-width=\"1\"/><path d=\"M 20.0 108.75739644970413 65.91045074398224 68.96352850177203\" marker-end=\"url(#arrow)\" stroke=\"gray\" stroke-width=\"1\"/><path d=\"M 20.0 108.75739644970413 86.92063063867994 129.74003565497586\" marker-end=\"url(#arrow)\" stroke=\"gray\" stroke-width=\"1\"/><path d=\"M 74.39999999999999 268.5207100591716 145.3854256642238 316.1024718995583\" marker-end=\"url(#arrow)\" stroke=\"gray\" stroke-width=\"1\"/><path d=\"M 71.19999999999999 64.37869822485206 240.22866308699398 49.03518725339954\" marker-end=\"url(#arrow)\" stroke=\"gray\" stroke-width=\"1\"/><path d=\"M 71.19999999999999 64.37869822485206 25.28954925601775 104.17256617278416\" marker-end=\"url(#arrow)\" stroke=\"gray\" stroke-width=\"1\"/><path d=\"M 71.19999999999999 64.37869822485206 56.33205090481051 155.10397931606008\" marker-end=\"url(#arrow)\" stroke=\"gray\" stroke-width=\"1\"/><path d=\"M 71.19999999999999 64.37869822485206 125.6578790726936 89.81838013361582\" marker-end=\"url(#arrow)\" stroke=\"gray\" stroke-width=\"1\"/><path d=\"M 71.19999999999999 64.37869822485206 91.39395944829755 125.19102327519867\" marker-end=\"url(#arrow)\" stroke=\"gray\" stroke-width=\"1\"/><path d=\"M 144.79999999999998 227.69230769230768 80.45535262014802 265.008914984617\" marker-end=\"url(#arrow)\" stroke=\"gray\" stroke-width=\"1\"/><path d=\"M 144.79999999999998 227.69230769230768 202.46855275359837 254.8843952517892\" marker-end=\"url(#arrow)\" stroke=\"gray\" stroke-width=\"1\"/><path d=\"M 144.79999999999998 227.69230769230768 150.71582900335977 313.0167644715352\" marker-end=\"url(#arrow)\" stroke=\"gray\" stroke-width=\"1\"/><path d=\"M 208.79999999999998 257.8698224852071 81.37812231412572 267.96771008710965\" marker-end=\"url(#arrow)\" stroke=\"gray\" stroke-width=\"1\"/><path d=\"M 208.79999999999998 257.8698224852071 151.1314472464016 230.67773492572562\" marker-end=\"url(#arrow)\" stroke=\"gray\" stroke-width=\"1\"/><path d=\"M 208.79999999999998 257.8698224852071 205.7911206437998 147.70744960657507\" marker-end=\"url(#arrow)\" stroke=\"gray\" stroke-width=\"1\"/><path d=\"M 208.79999999999998 257.8698224852071 155.9590607440766 314.86664429109095\" marker-end=\"url(#arrow)\" stroke=\"gray\" stroke-width=\"1\"/><path d=\"M 420.0 20.0 254.107317642652 47.26704180758513\" marker-end=\"url(#arrow)\" stroke=\"gray\" stroke-width=\"1\"/><path d=\"M 420.0 20.0 405.46878091725125 87.71204158381452\" marker-end=\"url(#arrow)\" stroke=\"gray\" stroke-width=\"1\"/><path d=\"M 55.199999999999996 162.01183431952663 23.859871905029895 114.59703589720095\" marker-end=\"url(#arrow)\" stroke=\"gray\" stroke-width=\"1\"/><path d=\"M 55.199999999999996 162.01183431952663 73.15814964911553 261.63174731388057\" marker-end=\"url(#arrow)\" stroke=\"gray\" stroke-width=\"1\"/><path d=\"M 55.199999999999996 162.01183431952663 70.06794909518948 71.2865532283186\" marker-end=\"url(#arrow)\" stroke=\"gray\" stroke-width=\"1\"/><path d=\"M 55.199999999999996 162.01183431952663 198.66917182728167 141.69170108199776\" marker-end=\"url(#arrow)\" stroke=\"gray\" stroke-width=\"1\"/><path d=\"M 55.199999999999996 162.01183431952663 126.80067142605786 97.46795983690234\" marker-end=\"url(#arrow)\" stroke=\"gray\" stroke-width=\"1\"/><path d=\"M 55.199999999999996 162.01183431952663 88.09619543518932 136.15960972641372\" marker-end=\"url(#arrow)\" stroke=\"gray\" stroke-width=\"1\"/><path d=\"M 205.6 140.71005917159763 244.3239095946467 54.78422427223361\" marker-end=\"url(#arrow)\" stroke=\"gray\" stroke-width=\"1\"/><path d=\"M 205.6 140.71005917159763 26.898515197442475 109.94503615544625\" marker-end=\"url(#arrow)\" stroke=\"gray\" stroke-width=\"1\"/><path d=\"M 205.6 140.71005917159763 148.81035873799388 221.954971830377\" marker-end=\"url(#arrow)\" stroke=\"gray\" stroke-width=\"1\"/><path d=\"M 205.6 140.71005917159763 208.6088793562002 250.8724320502297\" marker-end=\"url(#arrow)\" stroke=\"gray\" stroke-width=\"1\"/><path d=\"M 205.6 140.71005917159763 62.13082817271832 161.0301924091265\" marker-end=\"url(#arrow)\" stroke=\"gray\" stroke-width=\"1\"/><path d=\"M 205.6 140.71005917159763 167.0710858773904 61.79330288951154\" marker-end=\"url(#arrow)\" stroke=\"gray\" stroke-width=\"1\"/><path d=\"M 205.6 140.71005917159763 137.86586221681944 96.60096828822334\" marker-end=\"url(#arrow)\" stroke=\"gray\" stroke-width=\"1\"/><path d=\"M 151.2 320.0 80.21457433577619 272.41823815961334\" marker-end=\"url(#arrow)\" stroke=\"gray\" stroke-width=\"1\"/><path d=\"M 151.2 320.0 145.2841709966402 234.67554322077243\" marker-end=\"url(#arrow)\" stroke=\"gray\" stroke-width=\"1\"/><path d=\"M 164.0 55.50295857988165 240.22535396914034 48.997608616652784\" marker-end=\"url(#arrow)\" stroke=\"gray\" stroke-width=\"1\"/><path d=\"M 164.0 55.50295857988165 78.16820095949429 63.71223338099102\" marker-end=\"url(#arrow)\" stroke=\"gray\" stroke-width=\"1\"/><path d=\"M 164.0 55.50295857988165 202.5289141226096 134.41971486196775\" marker-end=\"url(#arrow)\" stroke=\"gray\" stroke-width=\"1\"/><path d=\"M 164.0 55.50295857988165 136.55942652427953 87.46960297652348\" marker-end=\"url(#arrow)\" stroke=\"gray\" stroke-width=\"1\"/><path d=\"M 164.0 55.50295857988165 98.34578668481281 126.68868946391832\" marker-end=\"url(#arrow)\" stroke=\"gray\" stroke-width=\"1\"/><path d=\"M 132.0 92.78106508875739 240.66793067478275 50.91872739661043\" marker-end=\"url(#arrow)\" stroke=\"gray\" stroke-width=\"1\"/><path d=\"M 132.0 92.78106508875739 26.929851332198183 107.76888215358541\" marker-end=\"url(#arrow)\" stroke=\"gray\" stroke-width=\"1\"/><path d=\"M 132.0 92.78106508875739 77.54212092730639 67.34138317999363\" marker-end=\"url(#arrow)\" stroke=\"gray\" stroke-width=\"1\"/><path d=\"M 132.0 92.78106508875739 159.44057347572047 60.81442069211556\" marker-end=\"url(#arrow)\" stroke=\"gray\" stroke-width=\"1\"/><path d=\"M 132.0 92.78106508875739 98.5078258664649 126.84300253965293\" marker-end=\"url(#arrow)\" stroke=\"gray\" stroke-width=\"1\"/><path d=\"M 93.6 131.8343195266272 26.67936936132005 110.85168032135549\" marker-end=\"url(#arrow)\" stroke=\"gray\" stroke-width=\"1\"/><path d=\"M 93.6 131.8343195266272 73.40604055170243 71.0219944762806\" marker-end=\"url(#arrow)\" stroke=\"gray\" stroke-width=\"1\"/><path d=\"M 93.6 131.8343195266272 141.50208477896487 221.51786397688969\" marker-end=\"url(#arrow)\" stroke=\"gray\" stroke-width=\"1\"/><path d=\"M 93.6 131.8343195266272 60.703804564810675 157.68654411974012\" marker-end=\"url(#arrow)\" stroke=\"gray\" stroke-width=\"1\"/><path d=\"M 404.0 94.55621301775147 418.53121908274875 26.844171433936957\" marker-end=\"url(#arrow)\" stroke=\"gray\" stroke-width=\"1\"/><path d=\"M 404.0 94.55621301775147 212.41794766904997 139.12399814436827\" marker-end=\"url(#arrow)\" stroke=\"gray\" stroke-width=\"1\"/><circle cx=\"247.2\" cy=\"48.402366863905314\" r=\"7.0\" style=\"fill:rgb(182, 13, 40);stroke:black;stroke-width:1.0\"/><circle cx=\"20.0\" cy=\"108.75739644970413\" r=\"7.0\" style=\"fill:rgb(211, 77, 64);stroke:black;stroke-width:1.0\"/><circle cx=\"74.39999999999999\" cy=\"268.5207100591716\" r=\"7.0\" style=\"fill:rgb(76, 102, 214);stroke:black;stroke-width:1.0\"/><circle cx=\"71.19999999999999\" cy=\"64.37869822485206\" r=\"7.0\" style=\"fill:rgb(187, 26, 43);stroke:black;stroke-width:1.0\"/><circle cx=\"144.79999999999998\" cy=\"227.69230769230768\" r=\"7.0\" style=\"fill:rgb(72, 96, 209);stroke:black;stroke-width:1.0\"/><circle cx=\"208.79999999999998\" cy=\"257.8698224852071\" r=\"7.0\" style=\"fill:rgb(58, 76, 192);stroke:black;stroke-width:1.0\"/><circle cx=\"420.0\" cy=\"20.0\" r=\"7.0\" style=\"fill:rgb(58, 76, 192);stroke:black;stroke-width:1.0\"/><circle cx=\"55.199999999999996\" cy=\"162.01183431952663\" r=\"7.0\" style=\"fill:rgb(247, 173, 143);stroke:black;stroke-width:1.0\"/><circle cx=\"205.6\" cy=\"140.71005917159763\" r=\"7.0\" style=\"fill:rgb(245, 158, 127);stroke:black;stroke-width:1.0\"/><circle cx=\"151.2\" cy=\"320.0\" r=\"7.0\" style=\"fill:rgb(70, 93, 207);stroke:black;stroke-width:1.0\"/><circle cx=\"164.0\" cy=\"55.50295857988165\" r=\"7.0\" style=\"fill:rgb(243, 150, 120);stroke:black;stroke-width:1.0\"/><circle cx=\"132.0\" cy=\"92.78106508875739\" r=\"7.0\" style=\"fill:rgb(179, 3, 38);stroke:black;stroke-width:3.0\"/><circle cx=\"93.6\" cy=\"131.8343195266272\" r=\"7.0\" style=\"fill:rgb(242, 145, 115);stroke:black;stroke-width:1.0\"/><circle cx=\"404.0\" cy=\"94.55621301775147\" r=\"7.0\" style=\"fill:rgb(197, 213, 242);stroke:black;stroke-width:1.0\"/><text font-size=\"12\" x=\"264.2\" y=\"55.402366863905314\">Pablo Picasso</text><text font-size=\"12\" x=\"37.0\" y=\"115.75739644970413\">Claude Monet</text><text font-size=\"12\" x=\"91.39999999999999\" y=\"275.5207100591716\">Michel Angelo</text><text font-size=\"12\" x=\"88.19999999999999\" y=\"71.37869822485206\">Edouard Manet</text><text font-size=\"12\" x=\"161.79999999999998\" y=\"234.69230769230768\">Peter Paul Rubens</text><text font-size=\"12\" x=\"225.79999999999998\" y=\"264.8698224852071\">Rembrandt</text><text font-size=\"12\" x=\"437.0\" y=\"27.0\">Gustav Klimt</text><text font-size=\"12\" x=\"72.19999999999999\" y=\"169.01183431952663\">Edgar Degas</text><text font-size=\"12\" x=\"222.6\" y=\"147.71005917159763\">Vincent van Gogh</text><text font-size=\"12\" x=\"168.2\" y=\"327.0\">Leonardo da Vinci</text><text font-size=\"12\" x=\"181.0\" y=\"62.50295857988165\">Henri Matisse</text><text font-size=\"12\" x=\"149.0\" y=\"99.78106508875739\">Paul Cezanne</text><text font-size=\"12\" x=\"110.6\" y=\"138.8343195266272\">Pierre-Auguste Renoir</text><text font-size=\"12\" x=\"421.0\" y=\"101.55621301775147\">Egon Schiele</text></svg>"
      ],
      "text/plain": [
       "<IPython.core.display.SVG object>"
      ]
     },
     "execution_count": 22,
     "metadata": {},
     "output_type": "execute_result"
    }
   ],
   "source": [
    "SVG(image)"
   ]
  },
  {
   "cell_type": "markdown",
   "metadata": {},
   "source": [
    "## Bipartite graphs"
   ]
  },
  {
   "cell_type": "code",
   "execution_count": 23,
   "metadata": {
    "ExecuteTime": {
     "end_time": "2019-07-15T12:29:51.261957Z",
     "start_time": "2019-07-15T12:29:51.249107Z"
    }
   },
   "outputs": [],
   "source": [
    "graph = movie_actor(metadata=True)\n",
    "biadjacency = graph.biadjacency\n",
    "names_row = graph.names_row\n",
    "names_col = graph.names_col"
   ]
  },
  {
   "cell_type": "markdown",
   "metadata": {},
   "source": [
    "**Classification**"
   ]
  },
  {
   "cell_type": "code",
   "execution_count": 24,
   "metadata": {},
   "outputs": [],
   "source": [
    "inception = 0\n",
    "drive = 3\n",
    "budapest = 8"
   ]
  },
  {
   "cell_type": "code",
   "execution_count": 25,
   "metadata": {},
   "outputs": [],
   "source": [
    "seeds_row = {inception: 0, drive: 1, budapest: 2}"
   ]
  },
  {
   "cell_type": "code",
   "execution_count": 26,
   "metadata": {},
   "outputs": [],
   "source": [
    "knn = KNN(GSVD(3), n_neighbors=2)\n",
    "labels_row = knn.fit_transform(biadjacency, seeds_row)\n",
    "labels_col = knn.labels_col_"
   ]
  },
  {
   "cell_type": "code",
   "execution_count": 27,
   "metadata": {},
   "outputs": [],
   "source": [
    "image = svg_bigraph(biadjacency, names_row, names_col, labels_row, labels_col, seeds_row=seeds_row)"
   ]
  },
  {
   "cell_type": "code",
   "execution_count": 28,
   "metadata": {},
   "outputs": [
    {
     "data": {
      "image/svg+xml": [
       "<svg height=\"340\" width=\"728.0\"><path d=\"M 188.0 90.0 588.0 140.0\" stroke=\"black\" stroke-width=\"1\"/><path d=\"M 188.0 90.0 588.0 60.0\" stroke=\"black\" stroke-width=\"1\"/><path d=\"M 188.0 90.0 588.0 40.0\" stroke=\"black\" stroke-width=\"1\"/><path d=\"M 188.0 70.0 588.0 60.0\" stroke=\"black\" stroke-width=\"1\"/><path d=\"M 188.0 70.0 588.0 40.0\" stroke=\"black\" stroke-width=\"1\"/><path d=\"M 188.0 70.0 588.0 220.0\" stroke=\"black\" stroke-width=\"1\"/><path d=\"M 188.0 230.0 588.0 220.0\" stroke=\"black\" stroke-width=\"1\"/><path d=\"M 188.0 230.0 588.0 200.0\" stroke=\"black\" stroke-width=\"1\"/><path d=\"M 188.0 230.0 588.0 320.0\" stroke=\"black\" stroke-width=\"1\"/><path d=\"M 188.0 230.0 588.0 160.0\" stroke=\"black\" stroke-width=\"1\"/><path d=\"M 188.0 50.0 588.0 200.0\" stroke=\"black\" stroke-width=\"1\"/><path d=\"M 188.0 50.0 588.0 20.0\" stroke=\"black\" stroke-width=\"1\"/><path d=\"M 188.0 30.0 588.0 140.0\" stroke=\"black\" stroke-width=\"1\"/><path d=\"M 188.0 30.0 588.0 20.0\" stroke=\"black\" stroke-width=\"1\"/><path d=\"M 188.0 210.0 588.0 200.0\" stroke=\"black\" stroke-width=\"1\"/><path d=\"M 188.0 210.0 588.0 180.0\" stroke=\"black\" stroke-width=\"1\"/><path d=\"M 188.0 190.0 588.0 200.0\" stroke=\"black\" stroke-width=\"1\"/><path d=\"M 188.0 190.0 588.0 180.0\" stroke=\"black\" stroke-width=\"1\"/><path d=\"M 188.0 190.0 588.0 160.0\" stroke=\"black\" stroke-width=\"1\"/><path d=\"M 188.0 170.0 588.0 220.0\" stroke=\"black\" stroke-width=\"1\"/><path d=\"M 188.0 170.0 588.0 160.0\" stroke=\"black\" stroke-width=\"1\"/><path d=\"M 188.0 310.0 588.0 300.0\" stroke=\"black\" stroke-width=\"1\"/><path d=\"M 188.0 310.0 588.0 280.0\" stroke=\"black\" stroke-width=\"1\"/><path d=\"M 188.0 310.0 588.0 120.0\" stroke=\"black\" stroke-width=\"1\"/><path d=\"M 188.0 310.0 588.0 100.0\" stroke=\"black\" stroke-width=\"1\"/><path d=\"M 188.0 310.0 588.0 239.99999999999997\" stroke=\"black\" stroke-width=\"1\"/><path d=\"M 188.0 150.0 588.0 140.0\" stroke=\"black\" stroke-width=\"1\"/><path d=\"M 188.0 150.0 588.0 120.0\" stroke=\"black\" stroke-width=\"1\"/><path d=\"M 188.0 150.0 588.0 100.0\" stroke=\"black\" stroke-width=\"1\"/><path d=\"M 188.0 290.0 588.0 300.0\" stroke=\"black\" stroke-width=\"1\"/><path d=\"M 188.0 290.0 588.0 280.0\" stroke=\"black\" stroke-width=\"1\"/><path d=\"M 188.0 290.0 588.0 260.0\" stroke=\"black\" stroke-width=\"1\"/><path d=\"M 188.0 270.0 588.0 320.0\" stroke=\"black\" stroke-width=\"1\"/><path d=\"M 188.0 270.0 588.0 300.0\" stroke=\"black\" stroke-width=\"1\"/><path d=\"M 188.0 270.0 588.0 260.0\" stroke=\"black\" stroke-width=\"1\"/><path d=\"M 188.0 250.00000000000003 588.0 60.0\" stroke=\"black\" stroke-width=\"1\"/><path d=\"M 188.0 250.00000000000003 588.0 300.0\" stroke=\"black\" stroke-width=\"1\"/><path d=\"M 188.0 250.00000000000003 588.0 239.99999999999997\" stroke=\"black\" stroke-width=\"1\"/><path d=\"M 188.0 130.0 588.0 100.0\" stroke=\"black\" stroke-width=\"1\"/><path d=\"M 188.0 130.0 588.0 80.0\" stroke=\"black\" stroke-width=\"1\"/><path d=\"M 188.0 110.0 588.0 120.0\" stroke=\"black\" stroke-width=\"1\"/><path d=\"M 188.0 110.0 588.0 80.0\" stroke=\"black\" stroke-width=\"1\"/><circle cx=\"188.0\" cy=\"90.0\" r=\"7.0\" style=\"fill:blue;stroke:black;stroke-width:3.0\"/><circle cx=\"188.0\" cy=\"70.0\" r=\"7.0\" style=\"fill:blue;stroke:black;stroke-width:1.0\"/><circle cx=\"188.0\" cy=\"230.0\" r=\"7.0\" style=\"fill:red;stroke:black;stroke-width:1.0\"/><circle cx=\"188.0\" cy=\"50.0\" r=\"7.0\" style=\"fill:red;stroke:black;stroke-width:3.0\"/><circle cx=\"188.0\" cy=\"30.0\" r=\"7.0\" style=\"fill:red;stroke:black;stroke-width:1.0\"/><circle cx=\"188.0\" cy=\"210.0\" r=\"7.0\" style=\"fill:red;stroke:black;stroke-width:1.0\"/><circle cx=\"188.0\" cy=\"190.0\" r=\"7.0\" style=\"fill:red;stroke:black;stroke-width:1.0\"/><circle cx=\"188.0\" cy=\"170.0\" r=\"7.0\" style=\"fill:red;stroke:black;stroke-width:1.0\"/><circle cx=\"188.0\" cy=\"310.0\" r=\"7.0\" style=\"fill:green;stroke:black;stroke-width:3.0\"/><circle cx=\"188.0\" cy=\"150.0\" r=\"7.0\" style=\"fill:blue;stroke:black;stroke-width:1.0\"/><circle cx=\"188.0\" cy=\"290.0\" r=\"7.0\" style=\"fill:green;stroke:black;stroke-width:1.0\"/><circle cx=\"188.0\" cy=\"270.0\" r=\"7.0\" style=\"fill:green;stroke:black;stroke-width:1.0\"/><circle cx=\"188.0\" cy=\"250.00000000000003\" r=\"7.0\" style=\"fill:green;stroke:black;stroke-width:1.0\"/><circle cx=\"188.0\" cy=\"130.0\" r=\"7.0\" style=\"fill:blue;stroke:black;stroke-width:1.0\"/><circle cx=\"188.0\" cy=\"110.0\" r=\"7.0\" style=\"fill:blue;stroke:black;stroke-width:1.0\"/><circle cx=\"588.0\" cy=\"140.0\" r=\"7.0\" style=\"fill:blue;stroke:black;stroke-width:1.0\"/><circle cx=\"588.0\" cy=\"60.0\" r=\"7.0\" style=\"fill:blue;stroke:black;stroke-width:1.0\"/><circle cx=\"588.0\" cy=\"40.0\" r=\"7.0\" style=\"fill:blue;stroke:black;stroke-width:1.0\"/><circle cx=\"588.0\" cy=\"220.0\" r=\"7.0\" style=\"fill:red;stroke:black;stroke-width:1.0\"/><circle cx=\"588.0\" cy=\"200.0\" r=\"7.0\" style=\"fill:red;stroke:black;stroke-width:1.0\"/><circle cx=\"588.0\" cy=\"320.0\" r=\"7.0\" style=\"fill:green;stroke:black;stroke-width:1.0\"/><circle cx=\"588.0\" cy=\"20.0\" r=\"7.0\" style=\"fill:red;stroke:black;stroke-width:1.0\"/><circle cx=\"588.0\" cy=\"180.0\" r=\"7.0\" style=\"fill:red;stroke:black;stroke-width:1.0\"/><circle cx=\"588.0\" cy=\"160.0\" r=\"7.0\" style=\"fill:red;stroke:black;stroke-width:1.0\"/><circle cx=\"588.0\" cy=\"300.0\" r=\"7.0\" style=\"fill:green;stroke:black;stroke-width:1.0\"/><circle cx=\"588.0\" cy=\"280.0\" r=\"7.0\" style=\"fill:green;stroke:black;stroke-width:1.0\"/><circle cx=\"588.0\" cy=\"120.0\" r=\"7.0\" style=\"fill:blue;stroke:black;stroke-width:1.0\"/><circle cx=\"588.0\" cy=\"100.0\" r=\"7.0\" style=\"fill:blue;stroke:black;stroke-width:1.0\"/><circle cx=\"588.0\" cy=\"260.0\" r=\"7.0\" style=\"fill:green;stroke:black;stroke-width:1.0\"/><circle cx=\"588.0\" cy=\"80.0\" r=\"7.0\" style=\"fill:blue;stroke:black;stroke-width:1.0\"/><circle cx=\"588.0\" cy=\"239.99999999999997\" r=\"7.0\" style=\"fill:green;stroke:black;stroke-width:1.0\"/><text font-size=\"12\" text-anchor=\"end\" x=\"178.0\" y=\"90.0\">Inception</text><text font-size=\"12\" text-anchor=\"end\" x=\"178.0\" y=\"70.0\">The Dark Knight Rises</text><text font-size=\"12\" text-anchor=\"end\" x=\"178.0\" y=\"230.0\">The Big Short</text><text font-size=\"12\" text-anchor=\"end\" x=\"178.0\" y=\"50.0\">Drive</text><text font-size=\"12\" text-anchor=\"end\" x=\"178.0\" y=\"30.0\">The Great Gatsby</text><text font-size=\"12\" text-anchor=\"end\" x=\"178.0\" y=\"210.0\">La La Land</text><text font-size=\"12\" text-anchor=\"end\" x=\"178.0\" y=\"190.0\">Crazy Stupid Love</text><text font-size=\"12\" text-anchor=\"end\" x=\"178.0\" y=\"170.0\">Vice</text><text font-size=\"12\" text-anchor=\"end\" x=\"178.0\" y=\"310.0\">The Grand Budapest Hotel</text><text font-size=\"12\" text-anchor=\"end\" x=\"178.0\" y=\"150.0\">Aviator</text><text font-size=\"12\" text-anchor=\"end\" x=\"178.0\" y=\"290.0\">007 Spectre</text><text font-size=\"12\" text-anchor=\"end\" x=\"178.0\" y=\"270.0\">Inglourious Basterds</text><text font-size=\"12\" text-anchor=\"end\" x=\"178.0\" y=\"250.00000000000003\">Midnight In Paris</text><text font-size=\"12\" text-anchor=\"end\" x=\"178.0\" y=\"130.0\">Murder on the Orient Express</text><text font-size=\"12\" text-anchor=\"end\" x=\"178.0\" y=\"110.0\">Fantastic Beasts 2</text><text font-size=\"12\" x=\"598.0\" y=\"140.0\">Leonardo DiCaprio</text><text font-size=\"12\" x=\"598.0\" y=\"60.0\">Marion Cotillard</text><text font-size=\"12\" x=\"598.0\" y=\"40.0\">Joseph Gordon Lewitt</text><text font-size=\"12\" x=\"598.0\" y=\"220.0\">Christian Bale</text><text font-size=\"12\" x=\"598.0\" y=\"200.0\">Ryan Gosling</text><text font-size=\"12\" x=\"598.0\" y=\"320.0\">Brad Pitt</text><text font-size=\"12\" x=\"598.0\" y=\"20.0\">Carey Mulligan</text><text font-size=\"12\" x=\"598.0\" y=\"180.0\">Emma Stone</text><text font-size=\"12\" x=\"598.0\" y=\"160.0\">Steve Carell</text><text font-size=\"12\" x=\"598.0\" y=\"300.0\">Lea Seydoux</text><text font-size=\"12\" x=\"598.0\" y=\"280.0\">Ralph Fiennes</text><text font-size=\"12\" x=\"598.0\" y=\"120.0\">Jude Law</text><text font-size=\"12\" x=\"598.0\" y=\"100.0\">Willem Dafoe</text><text font-size=\"12\" x=\"598.0\" y=\"260.0\">Christophe Waltz</text><text font-size=\"12\" x=\"598.0\" y=\"80.0\">Johnny Depp</text><text font-size=\"12\" x=\"598.0\" y=\"239.99999999999997\">Owen Wilson</text></svg>"
      ],
      "text/plain": [
       "<IPython.core.display.SVG object>"
      ]
     },
     "execution_count": 28,
     "metadata": {},
     "output_type": "execute_result"
    }
   ],
   "source": [
    "SVG(image)"
   ]
  },
  {
   "cell_type": "markdown",
   "metadata": {},
   "source": [
    "**Soft classification**"
   ]
  },
  {
   "cell_type": "code",
   "execution_count": 29,
   "metadata": {},
   "outputs": [],
   "source": [
    "membership_row = knn.membership_row_\n",
    "membership_col = knn.membership_col_"
   ]
  },
  {
   "cell_type": "code",
   "execution_count": 30,
   "metadata": {},
   "outputs": [],
   "source": [
    "scores_row = membership_row[:,1].toarray().ravel()\n",
    "scores_col = membership_col[:,1].toarray().ravel()"
   ]
  },
  {
   "cell_type": "code",
   "execution_count": 31,
   "metadata": {},
   "outputs": [],
   "source": [
    "image = svg_bigraph(biadjacency, names_row, names_col, scores_row=scores_row, scores_col=scores_col, \n",
    "                    seeds_row=seeds_row)"
   ]
  },
  {
   "cell_type": "code",
   "execution_count": 32,
   "metadata": {},
   "outputs": [
    {
     "data": {
      "image/svg+xml": [
       "<svg height=\"340\" width=\"728.0\"><path d=\"M 188.0 90.0 588.0 140.0\" stroke=\"black\" stroke-width=\"1\"/><path d=\"M 188.0 90.0 588.0 60.0\" stroke=\"black\" stroke-width=\"1\"/><path d=\"M 188.0 90.0 588.0 40.0\" stroke=\"black\" stroke-width=\"1\"/><path d=\"M 188.0 70.0 588.0 60.0\" stroke=\"black\" stroke-width=\"1\"/><path d=\"M 188.0 70.0 588.0 40.0\" stroke=\"black\" stroke-width=\"1\"/><path d=\"M 188.0 70.0 588.0 220.0\" stroke=\"black\" stroke-width=\"1\"/><path d=\"M 188.0 230.0 588.0 220.0\" stroke=\"black\" stroke-width=\"1\"/><path d=\"M 188.0 230.0 588.0 200.0\" stroke=\"black\" stroke-width=\"1\"/><path d=\"M 188.0 230.0 588.0 320.0\" stroke=\"black\" stroke-width=\"1\"/><path d=\"M 188.0 230.0 588.0 160.0\" stroke=\"black\" stroke-width=\"1\"/><path d=\"M 188.0 50.0 588.0 200.0\" stroke=\"black\" stroke-width=\"1\"/><path d=\"M 188.0 50.0 588.0 20.0\" stroke=\"black\" stroke-width=\"1\"/><path d=\"M 188.0 30.0 588.0 140.0\" stroke=\"black\" stroke-width=\"1\"/><path d=\"M 188.0 30.0 588.0 20.0\" stroke=\"black\" stroke-width=\"1\"/><path d=\"M 188.0 210.0 588.0 200.0\" stroke=\"black\" stroke-width=\"1\"/><path d=\"M 188.0 210.0 588.0 180.0\" stroke=\"black\" stroke-width=\"1\"/><path d=\"M 188.0 190.0 588.0 200.0\" stroke=\"black\" stroke-width=\"1\"/><path d=\"M 188.0 190.0 588.0 180.0\" stroke=\"black\" stroke-width=\"1\"/><path d=\"M 188.0 190.0 588.0 160.0\" stroke=\"black\" stroke-width=\"1\"/><path d=\"M 188.0 170.0 588.0 220.0\" stroke=\"black\" stroke-width=\"1\"/><path d=\"M 188.0 170.0 588.0 160.0\" stroke=\"black\" stroke-width=\"1\"/><path d=\"M 188.0 310.0 588.0 300.0\" stroke=\"black\" stroke-width=\"1\"/><path d=\"M 188.0 310.0 588.0 280.0\" stroke=\"black\" stroke-width=\"1\"/><path d=\"M 188.0 310.0 588.0 120.0\" stroke=\"black\" stroke-width=\"1\"/><path d=\"M 188.0 310.0 588.0 100.0\" stroke=\"black\" stroke-width=\"1\"/><path d=\"M 188.0 310.0 588.0 239.99999999999997\" stroke=\"black\" stroke-width=\"1\"/><path d=\"M 188.0 150.0 588.0 140.0\" stroke=\"black\" stroke-width=\"1\"/><path d=\"M 188.0 150.0 588.0 120.0\" stroke=\"black\" stroke-width=\"1\"/><path d=\"M 188.0 150.0 588.0 100.0\" stroke=\"black\" stroke-width=\"1\"/><path d=\"M 188.0 290.0 588.0 300.0\" stroke=\"black\" stroke-width=\"1\"/><path d=\"M 188.0 290.0 588.0 280.0\" stroke=\"black\" stroke-width=\"1\"/><path d=\"M 188.0 290.0 588.0 260.0\" stroke=\"black\" stroke-width=\"1\"/><path d=\"M 188.0 270.0 588.0 320.0\" stroke=\"black\" stroke-width=\"1\"/><path d=\"M 188.0 270.0 588.0 300.0\" stroke=\"black\" stroke-width=\"1\"/><path d=\"M 188.0 270.0 588.0 260.0\" stroke=\"black\" stroke-width=\"1\"/><path d=\"M 188.0 250.00000000000003 588.0 60.0\" stroke=\"black\" stroke-width=\"1\"/><path d=\"M 188.0 250.00000000000003 588.0 300.0\" stroke=\"black\" stroke-width=\"1\"/><path d=\"M 188.0 250.00000000000003 588.0 239.99999999999997\" stroke=\"black\" stroke-width=\"1\"/><path d=\"M 188.0 130.0 588.0 100.0\" stroke=\"black\" stroke-width=\"1\"/><path d=\"M 188.0 130.0 588.0 80.0\" stroke=\"black\" stroke-width=\"1\"/><path d=\"M 188.0 110.0 588.0 120.0\" stroke=\"black\" stroke-width=\"1\"/><path d=\"M 188.0 110.0 588.0 80.0\" stroke=\"black\" stroke-width=\"1\"/><circle cx=\"188.0\" cy=\"90.0\" r=\"7.0\" style=\"fill:rgb(58, 76, 192);stroke:black;stroke-width:1.0\"/><circle cx=\"188.0\" cy=\"70.0\" r=\"7.0\" style=\"fill:rgb(176, 203, 251);stroke:black;stroke-width:1.0\"/><circle cx=\"188.0\" cy=\"230.0\" r=\"7.0\" style=\"fill:rgb(245, 193, 168);stroke:black;stroke-width:1.0\"/><circle cx=\"188.0\" cy=\"50.0\" r=\"7.0\" style=\"fill:rgb(179, 3, 38);stroke:black;stroke-width:1.0\"/><circle cx=\"188.0\" cy=\"30.0\" r=\"7.0\" style=\"fill:rgb(222, 219, 218);stroke:black;stroke-width:1.0\"/><circle cx=\"188.0\" cy=\"210.0\" r=\"7.0\" style=\"fill:rgb(227, 108, 84);stroke:black;stroke-width:3.0\"/><circle cx=\"188.0\" cy=\"190.0\" r=\"7.0\" style=\"fill:rgb(236, 128, 100);stroke:black;stroke-width:3.0\"/><circle cx=\"188.0\" cy=\"170.0\" r=\"7.0\" style=\"fill:rgb(247, 179, 151);stroke:black;stroke-width:1.0\"/><circle cx=\"188.0\" cy=\"310.0\" r=\"7.0\" style=\"fill:rgb(58, 76, 192);stroke:black;stroke-width:1.0\"/><circle cx=\"188.0\" cy=\"150.0\" r=\"7.0\" style=\"fill:rgb(58, 76, 192);stroke:black;stroke-width:1.0\"/><circle cx=\"188.0\" cy=\"290.0\" r=\"7.0\" style=\"fill:rgb(58, 76, 192);stroke:black;stroke-width:1.0\"/><circle cx=\"188.0\" cy=\"270.0\" r=\"7.0\" style=\"fill:rgb(58, 76, 192);stroke:black;stroke-width:3.0\"/><circle cx=\"188.0\" cy=\"250.00000000000003\" r=\"7.0\" style=\"fill:rgb(58, 76, 192);stroke:black;stroke-width:1.0\"/><circle cx=\"188.0\" cy=\"130.0\" r=\"7.0\" style=\"fill:rgb(58, 76, 192);stroke:black;stroke-width:1.0\"/><circle cx=\"188.0\" cy=\"110.0\" r=\"7.0\" style=\"fill:rgb(58, 76, 192);stroke:black;stroke-width:1.0\"/><circle cx=\"588.0\" cy=\"140.0\" r=\"7.0\" style=\"fill:rgb(152, 185, 254);stroke:black;stroke-width:1.0\"/><circle cx=\"588.0\" cy=\"60.0\" r=\"7.0\" style=\"fill:rgb(58, 76, 192);stroke:black;stroke-width:1.0\"/><circle cx=\"588.0\" cy=\"40.0\" r=\"7.0\" style=\"fill:rgb(99, 131, 234);stroke:black;stroke-width:1.0\"/><circle cx=\"588.0\" cy=\"220.0\" r=\"7.0\" style=\"fill:rgb(246, 166, 135);stroke:black;stroke-width:1.0\"/><circle cx=\"588.0\" cy=\"200.0\" r=\"7.0\" style=\"fill:rgb(179, 3, 38);stroke:black;stroke-width:1.0\"/><circle cx=\"588.0\" cy=\"320.0\" r=\"7.0\" style=\"fill:rgb(58, 76, 192);stroke:black;stroke-width:1.0\"/><circle cx=\"588.0\" cy=\"20.0\" r=\"7.0\" style=\"fill:rgb(205, 66, 58);stroke:black;stroke-width:1.0\"/><circle cx=\"588.0\" cy=\"180.0\" r=\"7.0\" style=\"fill:rgb(190, 35, 45);stroke:black;stroke-width:1.0\"/><circle cx=\"588.0\" cy=\"160.0\" r=\"7.0\" style=\"fill:rgb(234, 123, 96);stroke:black;stroke-width:1.0\"/><circle cx=\"588.0\" cy=\"300.0\" r=\"7.0\" style=\"fill:rgb(58, 76, 192);stroke:black;stroke-width:1.0\"/><circle cx=\"588.0\" cy=\"280.0\" r=\"7.0\" style=\"fill:rgb(58, 76, 192);stroke:black;stroke-width:1.0\"/><circle cx=\"588.0\" cy=\"120.0\" r=\"7.0\" style=\"fill:rgb(58, 76, 192);stroke:black;stroke-width:1.0\"/><circle cx=\"588.0\" cy=\"100.0\" r=\"7.0\" style=\"fill:rgb(58, 76, 192);stroke:black;stroke-width:1.0\"/><circle cx=\"588.0\" cy=\"260.0\" r=\"7.0\" style=\"fill:rgb(58, 76, 192);stroke:black;stroke-width:1.0\"/><circle cx=\"588.0\" cy=\"80.0\" r=\"7.0\" style=\"fill:rgb(58, 76, 192);stroke:black;stroke-width:1.0\"/><circle cx=\"588.0\" cy=\"239.99999999999997\" r=\"7.0\" style=\"fill:rgb(58, 76, 192);stroke:black;stroke-width:1.0\"/><text font-size=\"12\" text-anchor=\"end\" x=\"178.0\" y=\"90.0\">Inception</text><text font-size=\"12\" text-anchor=\"end\" x=\"178.0\" y=\"70.0\">The Dark Knight Rises</text><text font-size=\"12\" text-anchor=\"end\" x=\"178.0\" y=\"230.0\">The Big Short</text><text font-size=\"12\" text-anchor=\"end\" x=\"178.0\" y=\"50.0\">Drive</text><text font-size=\"12\" text-anchor=\"end\" x=\"178.0\" y=\"30.0\">The Great Gatsby</text><text font-size=\"12\" text-anchor=\"end\" x=\"178.0\" y=\"210.0\">La La Land</text><text font-size=\"12\" text-anchor=\"end\" x=\"178.0\" y=\"190.0\">Crazy Stupid Love</text><text font-size=\"12\" text-anchor=\"end\" x=\"178.0\" y=\"170.0\">Vice</text><text font-size=\"12\" text-anchor=\"end\" x=\"178.0\" y=\"310.0\">The Grand Budapest Hotel</text><text font-size=\"12\" text-anchor=\"end\" x=\"178.0\" y=\"150.0\">Aviator</text><text font-size=\"12\" text-anchor=\"end\" x=\"178.0\" y=\"290.0\">007 Spectre</text><text font-size=\"12\" text-anchor=\"end\" x=\"178.0\" y=\"270.0\">Inglourious Basterds</text><text font-size=\"12\" text-anchor=\"end\" x=\"178.0\" y=\"250.00000000000003\">Midnight In Paris</text><text font-size=\"12\" text-anchor=\"end\" x=\"178.0\" y=\"130.0\">Murder on the Orient Express</text><text font-size=\"12\" text-anchor=\"end\" x=\"178.0\" y=\"110.0\">Fantastic Beasts 2</text><text font-size=\"12\" x=\"598.0\" y=\"140.0\">Leonardo DiCaprio</text><text font-size=\"12\" x=\"598.0\" y=\"60.0\">Marion Cotillard</text><text font-size=\"12\" x=\"598.0\" y=\"40.0\">Joseph Gordon Lewitt</text><text font-size=\"12\" x=\"598.0\" y=\"220.0\">Christian Bale</text><text font-size=\"12\" x=\"598.0\" y=\"200.0\">Ryan Gosling</text><text font-size=\"12\" x=\"598.0\" y=\"320.0\">Brad Pitt</text><text font-size=\"12\" x=\"598.0\" y=\"20.0\">Carey Mulligan</text><text font-size=\"12\" x=\"598.0\" y=\"180.0\">Emma Stone</text><text font-size=\"12\" x=\"598.0\" y=\"160.0\">Steve Carell</text><text font-size=\"12\" x=\"598.0\" y=\"300.0\">Lea Seydoux</text><text font-size=\"12\" x=\"598.0\" y=\"280.0\">Ralph Fiennes</text><text font-size=\"12\" x=\"598.0\" y=\"120.0\">Jude Law</text><text font-size=\"12\" x=\"598.0\" y=\"100.0\">Willem Dafoe</text><text font-size=\"12\" x=\"598.0\" y=\"260.0\">Christophe Waltz</text><text font-size=\"12\" x=\"598.0\" y=\"80.0\">Johnny Depp</text><text font-size=\"12\" x=\"598.0\" y=\"239.99999999999997\">Owen Wilson</text></svg>"
      ],
      "text/plain": [
       "<IPython.core.display.SVG object>"
      ]
     },
     "execution_count": 32,
     "metadata": {},
     "output_type": "execute_result"
    }
   ],
   "source": [
    "SVG(image)"
   ]
  }
 ],
 "metadata": {
  "kernelspec": {
   "display_name": "PyCharm (scikit-network)",
   "language": "python",
   "name": "pycharm-ac94289e"
  },
  "language_info": {
   "codemirror_mode": {
    "name": "ipython",
    "version": 3
   },
   "file_extension": ".py",
   "mimetype": "text/x-python",
   "name": "python",
   "nbconvert_exporter": "python",
   "pygments_lexer": "ipython3",
   "version": "3.8.6"
  },
  "pycharm": {
   "stem_cell": {
    "cell_type": "raw",
    "metadata": {
     "collapsed": false
    },
    "source": []
   }
  },
  "toc": {
   "base_numbering": 1,
   "nav_menu": {},
   "number_sections": true,
   "sideBar": true,
   "skip_h1_title": false,
   "title_cell": "Table of Contents",
   "title_sidebar": "Contents",
   "toc_cell": false,
   "toc_position": {},
   "toc_section_display": true,
   "toc_window_display": false
  }
 },
 "nbformat": 4,
 "nbformat_minor": 2
}
