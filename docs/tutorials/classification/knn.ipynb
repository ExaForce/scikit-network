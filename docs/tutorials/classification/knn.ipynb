{
 "cells": [
  {
   "cell_type": "markdown",
   "metadata": {
    "pycharm": {
     "name": "#%% md\n"
    }
   },
   "source": [
    "# Nearest neighbors"
   ]
  },
  {
   "cell_type": "markdown",
   "metadata": {
    "pycharm": {
     "name": "#%% md\n"
    }
   },
   "source": [
    "This notebook illustrates the classification of the nodes of a graph by the [k-nearest neighbors algorithm](https://en.wikipedia.org/wiki/K-nearest_neighbors_algorithm), using the labels known for some nodes."
   ]
  },
  {
   "cell_type": "code",
   "execution_count": 2,
   "metadata": {
    "ExecuteTime": {
     "end_time": "2019-07-15T12:29:50.554431Z",
     "start_time": "2019-07-15T12:29:50.414075Z"
    },
    "pycharm": {
     "name": "#%%\n"
    }
   },
   "outputs": [],
   "source": [
    "from IPython.display import SVG"
   ]
  },
  {
   "cell_type": "code",
   "execution_count": 3,
   "metadata": {
    "pycharm": {
     "name": "#%%\n"
    }
   },
   "outputs": [],
   "source": [
    "import numpy as np"
   ]
  },
  {
   "cell_type": "code",
   "execution_count": 4,
   "metadata": {
    "pycharm": {
     "name": "#%%\n"
    }
   },
   "outputs": [],
   "source": [
    "from sknetwork.data import karate_club, painters, movie_actor\n",
    "from sknetwork.classification import KNN, get_accuracy_score\n",
    "from sknetwork.embedding import Spectral\n",
    "from sknetwork.visualization import svg_graph, svg_bigraph"
   ]
  },
  {
   "cell_type": "code",
   "execution_count": 5,
   "metadata": {},
   "outputs": [],
   "source": [
    "from sknetwork.linalg import normalize"
   ]
  },
  {
   "cell_type": "markdown",
   "metadata": {
    "pycharm": {
     "name": "#%% md\n"
    }
   },
   "source": [
    "## Graphs"
   ]
  },
  {
   "cell_type": "code",
   "execution_count": 17,
   "metadata": {
    "ExecuteTime": {
     "end_time": "2019-07-15T12:29:51.261957Z",
     "start_time": "2019-07-15T12:29:51.249107Z"
    },
    "pycharm": {
     "name": "#%%\n"
    }
   },
   "outputs": [],
   "source": [
    "graph = karate_club(metadata=True)\n",
    "adjacency = graph.adjacency\n",
    "position = graph.position\n",
    "labels_true = graph.labels"
   ]
  },
  {
   "cell_type": "code",
   "execution_count": 18,
   "metadata": {
    "pycharm": {
     "name": "#%%\n"
    }
   },
   "outputs": [],
   "source": [
    "labels = {i: labels_true[i] for i in [0, 33]}"
   ]
  },
  {
   "cell_type": "code",
   "execution_count": 19,
   "metadata": {},
   "outputs": [],
   "source": [
    "# KNN with cosine similarity\n",
    "knn = KNN(n_neighbors=1)\n",
    "labels_pred = knn.fit_predict(adjacency, labels)"
   ]
  },
  {
   "cell_type": "code",
   "execution_count": 20,
   "metadata": {},
   "outputs": [
    {
     "data": {
      "text/plain": [
       "0.82"
      ]
     },
     "execution_count": 20,
     "metadata": {},
     "output_type": "execute_result"
    }
   ],
   "source": [
    "accuracy = get_accuracy_score(labels_true, labels_pred)\n",
    "np.round(accuracy, 2)"
   ]
  },
  {
   "cell_type": "code",
   "execution_count": 21,
   "metadata": {},
   "outputs": [
    {
     "data": {
      "image/svg+xml": [
       "<svg xmlns=\"http://www.w3.org/2000/svg\" width=\"440\" height=\"340\">\n",
       "<path stroke-width=\"1\" stroke=\"black\" d=\"M 264 200 353 168\"/>\n",
       "<path stroke-width=\"1\" stroke=\"black\" d=\"M 20 116 153 125\"/>\n",
       "<path stroke-width=\"1\" stroke=\"black\" d=\"M 28 91 131 68\"/>\n",
       "<path stroke-width=\"1\" stroke=\"black\" d=\"M 28 91 20 116\"/>\n",
       "<path stroke-width=\"1\" stroke=\"black\" d=\"M 28 91 153 125\"/>\n",
       "<path stroke-width=\"1\" stroke=\"black\" d=\"M 162 20 171 45\"/>\n",
       "<path stroke-width=\"1\" stroke=\"black\" d=\"M 162 20 246 82\"/>\n",
       "<path stroke-width=\"1\" stroke=\"black\" d=\"M 122 103 251 143\"/>\n",
       "<path stroke-width=\"1\" stroke=\"black\" d=\"M 122 103 131 68\"/>\n",
       "<path stroke-width=\"1\" stroke=\"black\" d=\"M 122 103 20 116\"/>\n",
       "<path stroke-width=\"1\" stroke=\"black\" d=\"M 122 103 246 82\"/>\n",
       "<path stroke-width=\"1\" stroke=\"black\" d=\"M 197 120 251 143\"/>\n",
       "<path stroke-width=\"1\" stroke=\"black\" d=\"M 197 120 153 125\"/>\n",
       "<path stroke-width=\"1\" stroke=\"black\" d=\"M 197 120 246 82\"/>\n",
       "<path stroke-width=\"1\" stroke=\"black\" d=\"M 171 45 131 68\"/>\n",
       "<path stroke-width=\"1\" stroke=\"black\" d=\"M 171 45 162 20\"/>\n",
       "<path stroke-width=\"1\" stroke=\"black\" d=\"M 20 116 122 103\"/>\n",
       "<path stroke-width=\"1\" stroke=\"black\" d=\"M 20 116 28 91\"/>\n",
       "<path stroke-width=\"1\" stroke=\"black\" d=\"M 131 68 246 82\"/>\n",
       "<path stroke-width=\"1\" stroke=\"black\" d=\"M 131 68 260 73\"/>\n",
       "<path stroke-width=\"1\" stroke=\"black\" d=\"M 388 216 264 200\"/>\n",
       "<path stroke-width=\"1\" stroke=\"black\" d=\"M 388 216 353 168\"/>\n",
       "<path stroke-width=\"1\" stroke=\"black\" d=\"M 313 34 260 73\"/>\n",
       "<path stroke-width=\"1\" stroke=\"black\" d=\"M 313 34 246 82\"/>\n",
       "<path stroke-width=\"1\" stroke=\"black\" d=\"M 331 143 264 200\"/>\n",
       "<path stroke-width=\"1\" stroke=\"black\" d=\"M 331 143 353 168\"/>\n",
       "<path stroke-width=\"1\" stroke=\"black\" d=\"M 331 143 246 82\"/>\n",
       "<path stroke-width=\"1\" stroke=\"black\" d=\"M 171 45 260 73\"/>\n",
       "<path stroke-width=\"1\" stroke=\"black\" d=\"M 366 61 260 73\"/>\n",
       "<path stroke-width=\"1\" stroke=\"black\" d=\"M 420 202 264 200\"/>\n",
       "<path stroke-width=\"1\" stroke=\"black\" d=\"M 420 202 353 168\"/>\n",
       "<path stroke-width=\"1\" stroke=\"black\" d=\"M 228 32 260 73\"/>\n",
       "<path stroke-width=\"1\" stroke=\"black\" d=\"M 228 32 246 82\"/>\n",
       "<path stroke-width=\"1\" stroke=\"black\" d=\"M 131 68 28 91\"/>\n",
       "<path stroke-width=\"1\" stroke=\"black\" d=\"M 131 68 122 103\"/>\n",
       "<path stroke-width=\"1\" stroke=\"black\" d=\"M 131 68 171 45\"/>\n",
       "<path stroke-width=\"1\" stroke=\"black\" d=\"M 366 61 246 82\"/>\n",
       "<path stroke-width=\"1\" stroke=\"black\" d=\"M 220 320 264 277\"/>\n",
       "<path stroke-width=\"1\" stroke=\"black\" d=\"M 171 45 246 82\"/>\n",
       "<path stroke-width=\"1\" stroke=\"black\" d=\"M 344 107 282 125\"/>\n",
       "<path stroke-width=\"1\" stroke=\"black\" d=\"M 246 82 282 125\"/>\n",
       "<path stroke-width=\"1\" stroke=\"black\" d=\"M 246 82 197 100\"/>\n",
       "<path stroke-width=\"1\" stroke=\"black\" d=\"M 246 82 282 153\"/>\n",
       "<path stroke-width=\"1\" stroke=\"black\" d=\"M 246 82 348 43\"/>\n",
       "<path stroke-width=\"1\" stroke=\"black\" d=\"M 246 82 273 27\"/>\n",
       "<path stroke-width=\"1\" stroke=\"black\" d=\"M 246 82 313 34\"/>\n",
       "<path stroke-width=\"1\" stroke=\"black\" d=\"M 246 82 331 143\"/>\n",
       "<path stroke-width=\"1\" stroke=\"black\" d=\"M 246 82 366 61\"/>\n",
       "<path stroke-width=\"1\" stroke=\"black\" d=\"M 246 82 228 32\"/>\n",
       "<path stroke-width=\"1\" stroke=\"black\" d=\"M 246 82 131 68\"/>\n",
       "<path stroke-width=\"1\" stroke=\"black\" d=\"M 246 82 162 20\"/>\n",
       "<path stroke-width=\"1\" stroke=\"black\" d=\"M 246 82 122 103\"/>\n",
       "<path stroke-width=\"1\" stroke=\"black\" d=\"M 246 82 197 120\"/>\n",
       "<path stroke-width=\"1\" stroke=\"black\" d=\"M 246 82 171 45\"/>\n",
       "<path stroke-width=\"1\" stroke=\"black\" d=\"M 246 82 344 107\"/>\n",
       "<path stroke-width=\"1\" stroke=\"black\" d=\"M 260 73 246 82\"/>\n",
       "<path stroke-width=\"1\" stroke=\"black\" d=\"M 260 73 153 125\"/>\n",
       "<path stroke-width=\"1\" stroke=\"black\" d=\"M 260 73 344 107\"/>\n",
       "<path stroke-width=\"1\" stroke=\"black\" d=\"M 260 73 171 45\"/>\n",
       "<path stroke-width=\"1\" stroke=\"black\" d=\"M 344 107 260 73\"/>\n",
       "<path stroke-width=\"1\" stroke=\"black\" d=\"M 344 107 246 82\"/>\n",
       "<path stroke-width=\"1\" stroke=\"black\" d=\"M 153 125 264 200\"/>\n",
       "<path stroke-width=\"1\" stroke=\"black\" d=\"M 153 125 20 116\"/>\n",
       "<path stroke-width=\"1\" stroke=\"black\" d=\"M 153 125 28 91\"/>\n",
       "<path stroke-width=\"1\" stroke=\"black\" d=\"M 153 125 197 120\"/>\n",
       "<path stroke-width=\"1\" stroke=\"black\" d=\"M 153 125 260 73\"/>\n",
       "<path stroke-width=\"1\" stroke=\"black\" d=\"M 344 107 353 168\"/>\n",
       "<path stroke-width=\"1\" stroke=\"black\" d=\"M 153 125 246 82\"/>\n",
       "<path stroke-width=\"1\" stroke=\"black\" d=\"M 260 73 282 125\"/>\n",
       "<path stroke-width=\"1\" stroke=\"black\" d=\"M 260 73 348 43\"/>\n",
       "<path stroke-width=\"1\" stroke=\"black\" d=\"M 260 73 273 27\"/>\n",
       "<path stroke-width=\"1\" stroke=\"black\" d=\"M 260 73 313 34\"/>\n",
       "<path stroke-width=\"1\" stroke=\"black\" d=\"M 260 73 366 61\"/>\n",
       "<path stroke-width=\"1\" stroke=\"black\" d=\"M 260 73 228 32\"/>\n",
       "<path stroke-width=\"1\" stroke=\"black\" d=\"M 260 73 131 68\"/>\n",
       "<path stroke-width=\"1\" stroke=\"black\" d=\"M 260 73 251 143\"/>\n",
       "<path stroke-width=\"1\" stroke=\"black\" d=\"M 220 320 211 275\"/>\n",
       "<path stroke-width=\"1\" stroke=\"black\" d=\"M 273 27 246 82\"/>\n",
       "<path stroke-width=\"1\" stroke=\"black\" d=\"M 273 27 260 73\"/>\n",
       "<path stroke-width=\"1\" stroke=\"black\" d=\"M 353 168 388 216\"/>\n",
       "<path stroke-width=\"1\" stroke=\"black\" d=\"M 353 168 331 143\"/>\n",
       "<path stroke-width=\"1\" stroke=\"black\" d=\"M 353 168 420 202\"/>\n",
       "<path stroke-width=\"1\" stroke=\"black\" d=\"M 353 168 344 107\"/>\n",
       "<path stroke-width=\"1\" stroke=\"black\" d=\"M 251 143 264 200\"/>\n",
       "<path stroke-width=\"1\" stroke=\"black\" d=\"M 251 143 353 168\"/>\n",
       "<path stroke-width=\"1\" stroke=\"black\" d=\"M 251 143 304 191\"/>\n",
       "<path stroke-width=\"1\" stroke=\"black\" d=\"M 251 143 340 186\"/>\n",
       "<path stroke-width=\"1\" stroke=\"black\" d=\"M 251 143 282 125\"/>\n",
       "<path stroke-width=\"1\" stroke=\"black\" d=\"M 251 143 197 100\"/>\n",
       "<path stroke-width=\"1\" stroke=\"black\" d=\"M 251 143 282 153\"/>\n",
       "<path stroke-width=\"1\" stroke=\"black\" d=\"M 251 143 122 103\"/>\n",
       "<path stroke-width=\"1\" stroke=\"black\" d=\"M 251 143 197 120\"/>\n",
       "<path stroke-width=\"1\" stroke=\"black\" d=\"M 251 143 260 73\"/>\n",
       "<path stroke-width=\"1\" stroke=\"black\" d=\"M 304 191 264 200\"/>\n",
       "<path stroke-width=\"1\" stroke=\"black\" d=\"M 353 168 282 153\"/>\n",
       "<path stroke-width=\"1\" stroke=\"black\" d=\"M 353 168 340 186\"/>\n",
       "<path stroke-width=\"1\" stroke=\"black\" d=\"M 353 168 304 191\"/>\n",
       "<path stroke-width=\"1\" stroke=\"black\" d=\"M 353 168 251 143\"/>\n",
       "<path stroke-width=\"1\" stroke=\"black\" d=\"M 264 200 251 143\"/>\n",
       "<path stroke-width=\"1\" stroke=\"black\" d=\"M 264 200 304 191\"/>\n",
       "<path stroke-width=\"1\" stroke=\"black\" d=\"M 264 200 255 255\"/>\n",
       "<path stroke-width=\"1\" stroke=\"black\" d=\"M 264 200 211 275\"/>\n",
       "<path stroke-width=\"1\" stroke=\"black\" d=\"M 264 200 264 277\"/>\n",
       "<path stroke-width=\"1\" stroke=\"black\" d=\"M 264 200 340 186\"/>\n",
       "<path stroke-width=\"1\" stroke=\"black\" d=\"M 264 200 282 125\"/>\n",
       "<path stroke-width=\"1\" stroke=\"black\" d=\"M 304 191 353 168\"/>\n",
       "<path stroke-width=\"1\" stroke=\"black\" d=\"M 264 200 188 252\"/>\n",
       "<path stroke-width=\"1\" stroke=\"black\" d=\"M 264 200 335 236\"/>\n",
       "<path stroke-width=\"1\" stroke=\"black\" d=\"M 264 200 282 153\"/>\n",
       "<path stroke-width=\"1\" stroke=\"black\" d=\"M 264 200 388 216\"/>\n",
       "<path stroke-width=\"1\" stroke=\"black\" d=\"M 264 200 331 143\"/>\n",
       "<path stroke-width=\"1\" stroke=\"black\" d=\"M 264 200 420 202\"/>\n",
       "<path stroke-width=\"1\" stroke=\"black\" d=\"M 264 200 153 125\"/>\n",
       "<path stroke-width=\"1\" stroke=\"black\" d=\"M 353 168 264 200\"/>\n",
       "<path stroke-width=\"1\" stroke=\"black\" d=\"M 264 200 122 212\"/>\n",
       "<path stroke-width=\"1\" stroke=\"black\" d=\"M 304 191 251 143\"/>\n",
       "<path stroke-width=\"1\" stroke=\"black\" d=\"M 304 191 340 186\"/>\n",
       "<path stroke-width=\"1\" stroke=\"black\" d=\"M 304 191 335 236\"/>\n",
       "<path stroke-width=\"1\" stroke=\"black\" d=\"M 282 125 246 82\"/>\n",
       "<path stroke-width=\"1\" stroke=\"black\" d=\"M 197 100 251 143\"/>\n",
       "<path stroke-width=\"1\" stroke=\"black\" d=\"M 197 100 246 82\"/>\n",
       "<path stroke-width=\"1\" stroke=\"black\" d=\"M 188 252 264 200\"/>\n",
       "<path stroke-width=\"1\" stroke=\"black\" d=\"M 188 252 255 255\"/>\n",
       "<path stroke-width=\"1\" stroke=\"black\" d=\"M 188 252 211 275\"/>\n",
       "<path stroke-width=\"1\" stroke=\"black\" d=\"M 122 212 264 200\"/>\n",
       "<path stroke-width=\"1\" stroke=\"black\" d=\"M 282 125 260 73\"/>\n",
       "<path stroke-width=\"1\" stroke=\"black\" d=\"M 335 236 264 200\"/>\n",
       "<path stroke-width=\"1\" stroke=\"black\" d=\"M 282 153 264 200\"/>\n",
       "<path stroke-width=\"1\" stroke=\"black\" d=\"M 282 153 353 168\"/>\n",
       "<path stroke-width=\"1\" stroke=\"black\" d=\"M 282 153 251 143\"/>\n",
       "<path stroke-width=\"1\" stroke=\"black\" d=\"M 282 153 304 191\"/>\n",
       "<path stroke-width=\"1\" stroke=\"black\" d=\"M 282 153 246 82\"/>\n",
       "<path stroke-width=\"1\" stroke=\"black\" d=\"M 348 43 260 73\"/>\n",
       "<path stroke-width=\"1\" stroke=\"black\" d=\"M 348 43 246 82\"/>\n",
       "<path stroke-width=\"1\" stroke=\"black\" d=\"M 335 236 304 191\"/>\n",
       "<path stroke-width=\"1\" stroke=\"black\" d=\"M 246 82 153 125\"/>\n",
       "<path stroke-width=\"1\" stroke=\"black\" d=\"M 282 125 344 107\"/>\n",
       "<path stroke-width=\"1\" stroke=\"black\" d=\"M 282 125 264 200\"/>\n",
       "<path stroke-width=\"1\" stroke=\"black\" d=\"M 304 191 282 153\"/>\n",
       "<path stroke-width=\"1\" stroke=\"black\" d=\"M 255 255 264 200\"/>\n",
       "<path stroke-width=\"1\" stroke=\"black\" d=\"M 255 255 264 277\"/>\n",
       "<path stroke-width=\"1\" stroke=\"black\" d=\"M 255 255 188 252\"/>\n",
       "<path stroke-width=\"1\" stroke=\"black\" d=\"M 211 275 264 200\"/>\n",
       "<path stroke-width=\"1\" stroke=\"black\" d=\"M 211 275 264 277\"/>\n",
       "<path stroke-width=\"1\" stroke=\"black\" d=\"M 211 275 188 252\"/>\n",
       "<path stroke-width=\"1\" stroke=\"black\" d=\"M 282 125 251 143\"/>\n",
       "<path stroke-width=\"1\" stroke=\"black\" d=\"M 211 275 220 320\"/>\n",
       "<path stroke-width=\"1\" stroke=\"black\" d=\"M 264 277 255 255\"/>\n",
       "<path stroke-width=\"1\" stroke=\"black\" d=\"M 264 277 211 275\"/>\n",
       "<path stroke-width=\"1\" stroke=\"black\" d=\"M 264 277 220 320\"/>\n",
       "<path stroke-width=\"1\" stroke=\"black\" d=\"M 340 186 264 200\"/>\n",
       "<path stroke-width=\"1\" stroke=\"black\" d=\"M 340 186 353 168\"/>\n",
       "<path stroke-width=\"1\" stroke=\"black\" d=\"M 340 186 251 143\"/>\n",
       "<path stroke-width=\"1\" stroke=\"black\" d=\"M 340 186 304 191\"/>\n",
       "<path stroke-width=\"1\" stroke=\"black\" d=\"M 264 277 264 200\"/>\n",
       "<path stroke-width=\"1\" stroke=\"black\" d=\"M 246 82 260 73\"/>\n",
       "<circle cx=\"264\" cy=\"200\" r=\"7.0\" style=\"fill:red;stroke:black;stroke-width:3.0\"/>\n",
       "<circle cx=\"353\" cy=\"168\" r=\"7.0\" style=\"fill:red;stroke:black;stroke-width:1.0\"/>\n",
       "<circle cx=\"251\" cy=\"143\" r=\"7.0\" style=\"fill:blue;stroke:black;stroke-width:1.0\"/>\n",
       "<circle cx=\"304\" cy=\"191\" r=\"7.0\" style=\"fill:red;stroke:black;stroke-width:1.0\"/>\n",
       "<circle cx=\"255\" cy=\"255\" r=\"7.0\" style=\"fill:red;stroke:black;stroke-width:1.0\"/>\n",
       "<circle cx=\"211\" cy=\"275\" r=\"7.0\" style=\"fill:red;stroke:black;stroke-width:1.0\"/>\n",
       "<circle cx=\"264\" cy=\"277\" r=\"7.0\" style=\"fill:red;stroke:black;stroke-width:1.0\"/>\n",
       "<circle cx=\"340\" cy=\"186\" r=\"7.0\" style=\"fill:red;stroke:black;stroke-width:1.0\"/>\n",
       "<circle cx=\"282\" cy=\"125\" r=\"7.0\" style=\"fill:blue;stroke:black;stroke-width:1.0\"/>\n",
       "<circle cx=\"197\" cy=\"100\" r=\"7.0\" style=\"fill:red;stroke:black;stroke-width:1.0\"/>\n",
       "<circle cx=\"188\" cy=\"252\" r=\"7.0\" style=\"fill:red;stroke:black;stroke-width:1.0\"/>\n",
       "<circle cx=\"122\" cy=\"212\" r=\"7.0\" style=\"fill:red;stroke:black;stroke-width:1.0\"/>\n",
       "<circle cx=\"335\" cy=\"236\" r=\"7.0\" style=\"fill:red;stroke:black;stroke-width:1.0\"/>\n",
       "<circle cx=\"282\" cy=\"153\" r=\"7.0\" style=\"fill:red;stroke:black;stroke-width:1.0\"/>\n",
       "<circle cx=\"348\" cy=\"43\" r=\"7.0\" style=\"fill:blue;stroke:black;stroke-width:1.0\"/>\n",
       "<circle cx=\"273\" cy=\"27\" r=\"7.0\" style=\"fill:blue;stroke:black;stroke-width:1.0\"/>\n",
       "<circle cx=\"220\" cy=\"320\" r=\"7.0\" style=\"fill:red;stroke:black;stroke-width:1.0\"/>\n",
       "<circle cx=\"388\" cy=\"216\" r=\"7.0\" style=\"fill:red;stroke:black;stroke-width:1.0\"/>\n",
       "<circle cx=\"313\" cy=\"34\" r=\"7.0\" style=\"fill:blue;stroke:black;stroke-width:1.0\"/>\n",
       "<circle cx=\"331\" cy=\"143\" r=\"7.0\" style=\"fill:red;stroke:black;stroke-width:1.0\"/>\n",
       "<circle cx=\"366\" cy=\"61\" r=\"7.0\" style=\"fill:blue;stroke:black;stroke-width:1.0\"/>\n",
       "<circle cx=\"420\" cy=\"202\" r=\"7.0\" style=\"fill:red;stroke:black;stroke-width:1.0\"/>\n",
       "<circle cx=\"228\" cy=\"32\" r=\"7.0\" style=\"fill:blue;stroke:black;stroke-width:1.0\"/>\n",
       "<circle cx=\"131\" cy=\"68\" r=\"7.0\" style=\"fill:blue;stroke:black;stroke-width:1.0\"/>\n",
       "<circle cx=\"20\" cy=\"116\" r=\"7.0\" style=\"fill:blue;stroke:black;stroke-width:1.0\"/>\n",
       "<circle cx=\"28\" cy=\"91\" r=\"7.0\" style=\"fill:blue;stroke:black;stroke-width:1.0\"/>\n",
       "<circle cx=\"162\" cy=\"20\" r=\"7.0\" style=\"fill:blue;stroke:black;stroke-width:1.0\"/>\n",
       "<circle cx=\"122\" cy=\"103\" r=\"7.0\" style=\"fill:red;stroke:black;stroke-width:1.0\"/>\n",
       "<circle cx=\"197\" cy=\"120\" r=\"7.0\" style=\"fill:red;stroke:black;stroke-width:1.0\"/>\n",
       "<circle cx=\"171\" cy=\"45\" r=\"7.0\" style=\"fill:blue;stroke:black;stroke-width:1.0\"/>\n",
       "<circle cx=\"344\" cy=\"107\" r=\"7.0\" style=\"fill:red;stroke:black;stroke-width:1.0\"/>\n",
       "<circle cx=\"153\" cy=\"125\" r=\"7.0\" style=\"fill:blue;stroke:black;stroke-width:1.0\"/>\n",
       "<circle cx=\"260\" cy=\"73\" r=\"7.0\" style=\"fill:blue;stroke:black;stroke-width:1.0\"/>\n",
       "<circle cx=\"246\" cy=\"82\" r=\"7.0\" style=\"fill:blue;stroke:black;stroke-width:3.0\"/>\n",
       "</svg>"
      ],
      "text/plain": [
       "<IPython.core.display.SVG object>"
      ]
     },
     "execution_count": 21,
     "metadata": {},
     "output_type": "execute_result"
    }
   ],
   "source": [
    "image = svg_graph(adjacency, position, labels=labels_pred, seeds=labels)\n",
    "SVG(image)"
   ]
  },
  {
   "cell_type": "code",
   "execution_count": 22,
   "metadata": {},
   "outputs": [],
   "source": [
    "# KNN in embedding space\n",
    "knn = KNN(embedding_method=Spectral(2), n_neighbors=1)\n",
    "labels_pred = knn.fit_predict(adjacency, labels)"
   ]
  },
  {
   "cell_type": "code",
   "execution_count": 23,
   "metadata": {},
   "outputs": [
    {
     "data": {
      "text/plain": [
       "0.97"
      ]
     },
     "execution_count": 23,
     "metadata": {},
     "output_type": "execute_result"
    }
   ],
   "source": [
    "accuracy = get_accuracy_score(labels_true, labels_pred)\n",
    "np.round(accuracy, 2)"
   ]
  },
  {
   "cell_type": "code",
   "execution_count": 24,
   "metadata": {
    "pycharm": {
     "name": "#%%\n"
    }
   },
   "outputs": [
    {
     "data": {
      "image/svg+xml": [
       "<svg xmlns=\"http://www.w3.org/2000/svg\" width=\"440\" height=\"340\">\n",
       "<path stroke-width=\"1\" stroke=\"black\" d=\"M 264 200 353 168\"/>\n",
       "<path stroke-width=\"1\" stroke=\"black\" d=\"M 20 116 153 125\"/>\n",
       "<path stroke-width=\"1\" stroke=\"black\" d=\"M 28 91 131 68\"/>\n",
       "<path stroke-width=\"1\" stroke=\"black\" d=\"M 28 91 20 116\"/>\n",
       "<path stroke-width=\"1\" stroke=\"black\" d=\"M 28 91 153 125\"/>\n",
       "<path stroke-width=\"1\" stroke=\"black\" d=\"M 162 20 171 45\"/>\n",
       "<path stroke-width=\"1\" stroke=\"black\" d=\"M 162 20 246 82\"/>\n",
       "<path stroke-width=\"1\" stroke=\"black\" d=\"M 122 103 251 143\"/>\n",
       "<path stroke-width=\"1\" stroke=\"black\" d=\"M 122 103 131 68\"/>\n",
       "<path stroke-width=\"1\" stroke=\"black\" d=\"M 122 103 20 116\"/>\n",
       "<path stroke-width=\"1\" stroke=\"black\" d=\"M 122 103 246 82\"/>\n",
       "<path stroke-width=\"1\" stroke=\"black\" d=\"M 197 120 251 143\"/>\n",
       "<path stroke-width=\"1\" stroke=\"black\" d=\"M 197 120 153 125\"/>\n",
       "<path stroke-width=\"1\" stroke=\"black\" d=\"M 197 120 246 82\"/>\n",
       "<path stroke-width=\"1\" stroke=\"black\" d=\"M 171 45 131 68\"/>\n",
       "<path stroke-width=\"1\" stroke=\"black\" d=\"M 171 45 162 20\"/>\n",
       "<path stroke-width=\"1\" stroke=\"black\" d=\"M 20 116 122 103\"/>\n",
       "<path stroke-width=\"1\" stroke=\"black\" d=\"M 20 116 28 91\"/>\n",
       "<path stroke-width=\"1\" stroke=\"black\" d=\"M 131 68 246 82\"/>\n",
       "<path stroke-width=\"1\" stroke=\"black\" d=\"M 131 68 260 73\"/>\n",
       "<path stroke-width=\"1\" stroke=\"black\" d=\"M 388 216 264 200\"/>\n",
       "<path stroke-width=\"1\" stroke=\"black\" d=\"M 388 216 353 168\"/>\n",
       "<path stroke-width=\"1\" stroke=\"black\" d=\"M 313 34 260 73\"/>\n",
       "<path stroke-width=\"1\" stroke=\"black\" d=\"M 313 34 246 82\"/>\n",
       "<path stroke-width=\"1\" stroke=\"black\" d=\"M 331 143 264 200\"/>\n",
       "<path stroke-width=\"1\" stroke=\"black\" d=\"M 331 143 353 168\"/>\n",
       "<path stroke-width=\"1\" stroke=\"black\" d=\"M 331 143 246 82\"/>\n",
       "<path stroke-width=\"1\" stroke=\"black\" d=\"M 171 45 260 73\"/>\n",
       "<path stroke-width=\"1\" stroke=\"black\" d=\"M 366 61 260 73\"/>\n",
       "<path stroke-width=\"1\" stroke=\"black\" d=\"M 420 202 264 200\"/>\n",
       "<path stroke-width=\"1\" stroke=\"black\" d=\"M 420 202 353 168\"/>\n",
       "<path stroke-width=\"1\" stroke=\"black\" d=\"M 228 32 260 73\"/>\n",
       "<path stroke-width=\"1\" stroke=\"black\" d=\"M 228 32 246 82\"/>\n",
       "<path stroke-width=\"1\" stroke=\"black\" d=\"M 131 68 28 91\"/>\n",
       "<path stroke-width=\"1\" stroke=\"black\" d=\"M 131 68 122 103\"/>\n",
       "<path stroke-width=\"1\" stroke=\"black\" d=\"M 131 68 171 45\"/>\n",
       "<path stroke-width=\"1\" stroke=\"black\" d=\"M 366 61 246 82\"/>\n",
       "<path stroke-width=\"1\" stroke=\"black\" d=\"M 220 320 264 277\"/>\n",
       "<path stroke-width=\"1\" stroke=\"black\" d=\"M 171 45 246 82\"/>\n",
       "<path stroke-width=\"1\" stroke=\"black\" d=\"M 344 107 282 125\"/>\n",
       "<path stroke-width=\"1\" stroke=\"black\" d=\"M 246 82 282 125\"/>\n",
       "<path stroke-width=\"1\" stroke=\"black\" d=\"M 246 82 197 100\"/>\n",
       "<path stroke-width=\"1\" stroke=\"black\" d=\"M 246 82 282 153\"/>\n",
       "<path stroke-width=\"1\" stroke=\"black\" d=\"M 246 82 348 43\"/>\n",
       "<path stroke-width=\"1\" stroke=\"black\" d=\"M 246 82 273 27\"/>\n",
       "<path stroke-width=\"1\" stroke=\"black\" d=\"M 246 82 313 34\"/>\n",
       "<path stroke-width=\"1\" stroke=\"black\" d=\"M 246 82 331 143\"/>\n",
       "<path stroke-width=\"1\" stroke=\"black\" d=\"M 246 82 366 61\"/>\n",
       "<path stroke-width=\"1\" stroke=\"black\" d=\"M 246 82 228 32\"/>\n",
       "<path stroke-width=\"1\" stroke=\"black\" d=\"M 246 82 131 68\"/>\n",
       "<path stroke-width=\"1\" stroke=\"black\" d=\"M 246 82 162 20\"/>\n",
       "<path stroke-width=\"1\" stroke=\"black\" d=\"M 246 82 122 103\"/>\n",
       "<path stroke-width=\"1\" stroke=\"black\" d=\"M 246 82 197 120\"/>\n",
       "<path stroke-width=\"1\" stroke=\"black\" d=\"M 246 82 171 45\"/>\n",
       "<path stroke-width=\"1\" stroke=\"black\" d=\"M 246 82 344 107\"/>\n",
       "<path stroke-width=\"1\" stroke=\"black\" d=\"M 260 73 246 82\"/>\n",
       "<path stroke-width=\"1\" stroke=\"black\" d=\"M 260 73 153 125\"/>\n",
       "<path stroke-width=\"1\" stroke=\"black\" d=\"M 260 73 344 107\"/>\n",
       "<path stroke-width=\"1\" stroke=\"black\" d=\"M 260 73 171 45\"/>\n",
       "<path stroke-width=\"1\" stroke=\"black\" d=\"M 344 107 260 73\"/>\n",
       "<path stroke-width=\"1\" stroke=\"black\" d=\"M 344 107 246 82\"/>\n",
       "<path stroke-width=\"1\" stroke=\"black\" d=\"M 153 125 264 200\"/>\n",
       "<path stroke-width=\"1\" stroke=\"black\" d=\"M 153 125 20 116\"/>\n",
       "<path stroke-width=\"1\" stroke=\"black\" d=\"M 153 125 28 91\"/>\n",
       "<path stroke-width=\"1\" stroke=\"black\" d=\"M 153 125 197 120\"/>\n",
       "<path stroke-width=\"1\" stroke=\"black\" d=\"M 153 125 260 73\"/>\n",
       "<path stroke-width=\"1\" stroke=\"black\" d=\"M 344 107 353 168\"/>\n",
       "<path stroke-width=\"1\" stroke=\"black\" d=\"M 153 125 246 82\"/>\n",
       "<path stroke-width=\"1\" stroke=\"black\" d=\"M 260 73 282 125\"/>\n",
       "<path stroke-width=\"1\" stroke=\"black\" d=\"M 260 73 348 43\"/>\n",
       "<path stroke-width=\"1\" stroke=\"black\" d=\"M 260 73 273 27\"/>\n",
       "<path stroke-width=\"1\" stroke=\"black\" d=\"M 260 73 313 34\"/>\n",
       "<path stroke-width=\"1\" stroke=\"black\" d=\"M 260 73 366 61\"/>\n",
       "<path stroke-width=\"1\" stroke=\"black\" d=\"M 260 73 228 32\"/>\n",
       "<path stroke-width=\"1\" stroke=\"black\" d=\"M 260 73 131 68\"/>\n",
       "<path stroke-width=\"1\" stroke=\"black\" d=\"M 260 73 251 143\"/>\n",
       "<path stroke-width=\"1\" stroke=\"black\" d=\"M 220 320 211 275\"/>\n",
       "<path stroke-width=\"1\" stroke=\"black\" d=\"M 273 27 246 82\"/>\n",
       "<path stroke-width=\"1\" stroke=\"black\" d=\"M 273 27 260 73\"/>\n",
       "<path stroke-width=\"1\" stroke=\"black\" d=\"M 353 168 388 216\"/>\n",
       "<path stroke-width=\"1\" stroke=\"black\" d=\"M 353 168 331 143\"/>\n",
       "<path stroke-width=\"1\" stroke=\"black\" d=\"M 353 168 420 202\"/>\n",
       "<path stroke-width=\"1\" stroke=\"black\" d=\"M 353 168 344 107\"/>\n",
       "<path stroke-width=\"1\" stroke=\"black\" d=\"M 251 143 264 200\"/>\n",
       "<path stroke-width=\"1\" stroke=\"black\" d=\"M 251 143 353 168\"/>\n",
       "<path stroke-width=\"1\" stroke=\"black\" d=\"M 251 143 304 191\"/>\n",
       "<path stroke-width=\"1\" stroke=\"black\" d=\"M 251 143 340 186\"/>\n",
       "<path stroke-width=\"1\" stroke=\"black\" d=\"M 251 143 282 125\"/>\n",
       "<path stroke-width=\"1\" stroke=\"black\" d=\"M 251 143 197 100\"/>\n",
       "<path stroke-width=\"1\" stroke=\"black\" d=\"M 251 143 282 153\"/>\n",
       "<path stroke-width=\"1\" stroke=\"black\" d=\"M 251 143 122 103\"/>\n",
       "<path stroke-width=\"1\" stroke=\"black\" d=\"M 251 143 197 120\"/>\n",
       "<path stroke-width=\"1\" stroke=\"black\" d=\"M 251 143 260 73\"/>\n",
       "<path stroke-width=\"1\" stroke=\"black\" d=\"M 304 191 264 200\"/>\n",
       "<path stroke-width=\"1\" stroke=\"black\" d=\"M 353 168 282 153\"/>\n",
       "<path stroke-width=\"1\" stroke=\"black\" d=\"M 353 168 340 186\"/>\n",
       "<path stroke-width=\"1\" stroke=\"black\" d=\"M 353 168 304 191\"/>\n",
       "<path stroke-width=\"1\" stroke=\"black\" d=\"M 353 168 251 143\"/>\n",
       "<path stroke-width=\"1\" stroke=\"black\" d=\"M 264 200 251 143\"/>\n",
       "<path stroke-width=\"1\" stroke=\"black\" d=\"M 264 200 304 191\"/>\n",
       "<path stroke-width=\"1\" stroke=\"black\" d=\"M 264 200 255 255\"/>\n",
       "<path stroke-width=\"1\" stroke=\"black\" d=\"M 264 200 211 275\"/>\n",
       "<path stroke-width=\"1\" stroke=\"black\" d=\"M 264 200 264 277\"/>\n",
       "<path stroke-width=\"1\" stroke=\"black\" d=\"M 264 200 340 186\"/>\n",
       "<path stroke-width=\"1\" stroke=\"black\" d=\"M 264 200 282 125\"/>\n",
       "<path stroke-width=\"1\" stroke=\"black\" d=\"M 304 191 353 168\"/>\n",
       "<path stroke-width=\"1\" stroke=\"black\" d=\"M 264 200 188 252\"/>\n",
       "<path stroke-width=\"1\" stroke=\"black\" d=\"M 264 200 335 236\"/>\n",
       "<path stroke-width=\"1\" stroke=\"black\" d=\"M 264 200 282 153\"/>\n",
       "<path stroke-width=\"1\" stroke=\"black\" d=\"M 264 200 388 216\"/>\n",
       "<path stroke-width=\"1\" stroke=\"black\" d=\"M 264 200 331 143\"/>\n",
       "<path stroke-width=\"1\" stroke=\"black\" d=\"M 264 200 420 202\"/>\n",
       "<path stroke-width=\"1\" stroke=\"black\" d=\"M 264 200 153 125\"/>\n",
       "<path stroke-width=\"1\" stroke=\"black\" d=\"M 353 168 264 200\"/>\n",
       "<path stroke-width=\"1\" stroke=\"black\" d=\"M 264 200 122 212\"/>\n",
       "<path stroke-width=\"1\" stroke=\"black\" d=\"M 304 191 251 143\"/>\n",
       "<path stroke-width=\"1\" stroke=\"black\" d=\"M 304 191 340 186\"/>\n",
       "<path stroke-width=\"1\" stroke=\"black\" d=\"M 304 191 335 236\"/>\n",
       "<path stroke-width=\"1\" stroke=\"black\" d=\"M 282 125 246 82\"/>\n",
       "<path stroke-width=\"1\" stroke=\"black\" d=\"M 197 100 251 143\"/>\n",
       "<path stroke-width=\"1\" stroke=\"black\" d=\"M 197 100 246 82\"/>\n",
       "<path stroke-width=\"1\" stroke=\"black\" d=\"M 188 252 264 200\"/>\n",
       "<path stroke-width=\"1\" stroke=\"black\" d=\"M 188 252 255 255\"/>\n",
       "<path stroke-width=\"1\" stroke=\"black\" d=\"M 188 252 211 275\"/>\n",
       "<path stroke-width=\"1\" stroke=\"black\" d=\"M 122 212 264 200\"/>\n",
       "<path stroke-width=\"1\" stroke=\"black\" d=\"M 282 125 260 73\"/>\n",
       "<path stroke-width=\"1\" stroke=\"black\" d=\"M 335 236 264 200\"/>\n",
       "<path stroke-width=\"1\" stroke=\"black\" d=\"M 282 153 264 200\"/>\n",
       "<path stroke-width=\"1\" stroke=\"black\" d=\"M 282 153 353 168\"/>\n",
       "<path stroke-width=\"1\" stroke=\"black\" d=\"M 282 153 251 143\"/>\n",
       "<path stroke-width=\"1\" stroke=\"black\" d=\"M 282 153 304 191\"/>\n",
       "<path stroke-width=\"1\" stroke=\"black\" d=\"M 282 153 246 82\"/>\n",
       "<path stroke-width=\"1\" stroke=\"black\" d=\"M 348 43 260 73\"/>\n",
       "<path stroke-width=\"1\" stroke=\"black\" d=\"M 348 43 246 82\"/>\n",
       "<path stroke-width=\"1\" stroke=\"black\" d=\"M 335 236 304 191\"/>\n",
       "<path stroke-width=\"1\" stroke=\"black\" d=\"M 246 82 153 125\"/>\n",
       "<path stroke-width=\"1\" stroke=\"black\" d=\"M 282 125 344 107\"/>\n",
       "<path stroke-width=\"1\" stroke=\"black\" d=\"M 282 125 264 200\"/>\n",
       "<path stroke-width=\"1\" stroke=\"black\" d=\"M 304 191 282 153\"/>\n",
       "<path stroke-width=\"1\" stroke=\"black\" d=\"M 255 255 264 200\"/>\n",
       "<path stroke-width=\"1\" stroke=\"black\" d=\"M 255 255 264 277\"/>\n",
       "<path stroke-width=\"1\" stroke=\"black\" d=\"M 255 255 188 252\"/>\n",
       "<path stroke-width=\"1\" stroke=\"black\" d=\"M 211 275 264 200\"/>\n",
       "<path stroke-width=\"1\" stroke=\"black\" d=\"M 211 275 264 277\"/>\n",
       "<path stroke-width=\"1\" stroke=\"black\" d=\"M 211 275 188 252\"/>\n",
       "<path stroke-width=\"1\" stroke=\"black\" d=\"M 282 125 251 143\"/>\n",
       "<path stroke-width=\"1\" stroke=\"black\" d=\"M 211 275 220 320\"/>\n",
       "<path stroke-width=\"1\" stroke=\"black\" d=\"M 264 277 255 255\"/>\n",
       "<path stroke-width=\"1\" stroke=\"black\" d=\"M 264 277 211 275\"/>\n",
       "<path stroke-width=\"1\" stroke=\"black\" d=\"M 264 277 220 320\"/>\n",
       "<path stroke-width=\"1\" stroke=\"black\" d=\"M 340 186 264 200\"/>\n",
       "<path stroke-width=\"1\" stroke=\"black\" d=\"M 340 186 353 168\"/>\n",
       "<path stroke-width=\"1\" stroke=\"black\" d=\"M 340 186 251 143\"/>\n",
       "<path stroke-width=\"1\" stroke=\"black\" d=\"M 340 186 304 191\"/>\n",
       "<path stroke-width=\"1\" stroke=\"black\" d=\"M 264 277 264 200\"/>\n",
       "<path stroke-width=\"1\" stroke=\"black\" d=\"M 246 82 260 73\"/>\n",
       "<circle cx=\"264\" cy=\"200\" r=\"7.0\" style=\"fill:red;stroke:black;stroke-width:3.0\"/>\n",
       "<circle cx=\"353\" cy=\"168\" r=\"7.0\" style=\"fill:red;stroke:black;stroke-width:1.0\"/>\n",
       "<circle cx=\"251\" cy=\"143\" r=\"7.0\" style=\"fill:red;stroke:black;stroke-width:1.0\"/>\n",
       "<circle cx=\"304\" cy=\"191\" r=\"7.0\" style=\"fill:red;stroke:black;stroke-width:1.0\"/>\n",
       "<circle cx=\"255\" cy=\"255\" r=\"7.0\" style=\"fill:red;stroke:black;stroke-width:1.0\"/>\n",
       "<circle cx=\"211\" cy=\"275\" r=\"7.0\" style=\"fill:red;stroke:black;stroke-width:1.0\"/>\n",
       "<circle cx=\"264\" cy=\"277\" r=\"7.0\" style=\"fill:red;stroke:black;stroke-width:1.0\"/>\n",
       "<circle cx=\"340\" cy=\"186\" r=\"7.0\" style=\"fill:red;stroke:black;stroke-width:1.0\"/>\n",
       "<circle cx=\"282\" cy=\"125\" r=\"7.0\" style=\"fill:blue;stroke:black;stroke-width:1.0\"/>\n",
       "<circle cx=\"197\" cy=\"100\" r=\"7.0\" style=\"fill:blue;stroke:black;stroke-width:1.0\"/>\n",
       "<circle cx=\"188\" cy=\"252\" r=\"7.0\" style=\"fill:red;stroke:black;stroke-width:1.0\"/>\n",
       "<circle cx=\"122\" cy=\"212\" r=\"7.0\" style=\"fill:red;stroke:black;stroke-width:1.0\"/>\n",
       "<circle cx=\"335\" cy=\"236\" r=\"7.0\" style=\"fill:red;stroke:black;stroke-width:1.0\"/>\n",
       "<circle cx=\"282\" cy=\"153\" r=\"7.0\" style=\"fill:red;stroke:black;stroke-width:1.0\"/>\n",
       "<circle cx=\"348\" cy=\"43\" r=\"7.0\" style=\"fill:blue;stroke:black;stroke-width:1.0\"/>\n",
       "<circle cx=\"273\" cy=\"27\" r=\"7.0\" style=\"fill:blue;stroke:black;stroke-width:1.0\"/>\n",
       "<circle cx=\"220\" cy=\"320\" r=\"7.0\" style=\"fill:red;stroke:black;stroke-width:1.0\"/>\n",
       "<circle cx=\"388\" cy=\"216\" r=\"7.0\" style=\"fill:red;stroke:black;stroke-width:1.0\"/>\n",
       "<circle cx=\"313\" cy=\"34\" r=\"7.0\" style=\"fill:blue;stroke:black;stroke-width:1.0\"/>\n",
       "<circle cx=\"331\" cy=\"143\" r=\"7.0\" style=\"fill:red;stroke:black;stroke-width:1.0\"/>\n",
       "<circle cx=\"366\" cy=\"61\" r=\"7.0\" style=\"fill:blue;stroke:black;stroke-width:1.0\"/>\n",
       "<circle cx=\"420\" cy=\"202\" r=\"7.0\" style=\"fill:red;stroke:black;stroke-width:1.0\"/>\n",
       "<circle cx=\"228\" cy=\"32\" r=\"7.0\" style=\"fill:blue;stroke:black;stroke-width:1.0\"/>\n",
       "<circle cx=\"131\" cy=\"68\" r=\"7.0\" style=\"fill:blue;stroke:black;stroke-width:1.0\"/>\n",
       "<circle cx=\"20\" cy=\"116\" r=\"7.0\" style=\"fill:blue;stroke:black;stroke-width:1.0\"/>\n",
       "<circle cx=\"28\" cy=\"91\" r=\"7.0\" style=\"fill:blue;stroke:black;stroke-width:1.0\"/>\n",
       "<circle cx=\"162\" cy=\"20\" r=\"7.0\" style=\"fill:blue;stroke:black;stroke-width:1.0\"/>\n",
       "<circle cx=\"122\" cy=\"103\" r=\"7.0\" style=\"fill:blue;stroke:black;stroke-width:1.0\"/>\n",
       "<circle cx=\"197\" cy=\"120\" r=\"7.0\" style=\"fill:blue;stroke:black;stroke-width:1.0\"/>\n",
       "<circle cx=\"171\" cy=\"45\" r=\"7.0\" style=\"fill:blue;stroke:black;stroke-width:1.0\"/>\n",
       "<circle cx=\"344\" cy=\"107\" r=\"7.0\" style=\"fill:blue;stroke:black;stroke-width:1.0\"/>\n",
       "<circle cx=\"153\" cy=\"125\" r=\"7.0\" style=\"fill:blue;stroke:black;stroke-width:1.0\"/>\n",
       "<circle cx=\"260\" cy=\"73\" r=\"7.0\" style=\"fill:blue;stroke:black;stroke-width:1.0\"/>\n",
       "<circle cx=\"246\" cy=\"82\" r=\"7.0\" style=\"fill:blue;stroke:black;stroke-width:3.0\"/>\n",
       "</svg>"
      ],
      "text/plain": [
       "<IPython.core.display.SVG object>"
      ]
     },
     "execution_count": 24,
     "metadata": {},
     "output_type": "execute_result"
    }
   ],
   "source": [
    "image = svg_graph(adjacency, position, labels=labels_pred, seeds=labels)\n",
    "SVG(image)"
   ]
  },
  {
   "cell_type": "code",
   "execution_count": 37,
   "metadata": {
    "pycharm": {
     "name": "#%%\n"
    }
   },
   "outputs": [],
   "source": [
    "# soft classification (here probability of label 1)\n",
    "labels = {i: labels_true[i] for i in [0, 1, 30, 33]}\n",
    "knn = KNN(Spectral(2), n_neighbors=3)\n",
    "knn.fit(adjacency, labels)\n",
    "membership = knn.membership_"
   ]
  },
  {
   "cell_type": "code",
   "execution_count": 38,
   "metadata": {
    "pycharm": {
     "name": "#%%\n"
    }
   },
   "outputs": [],
   "source": [
    "scores = membership[:,1].toarray().ravel()"
   ]
  },
  {
   "cell_type": "code",
   "execution_count": 40,
   "metadata": {
    "pycharm": {
     "name": "#%%\n"
    }
   },
   "outputs": [
    {
     "data": {
      "image/svg+xml": [
       "<svg xmlns=\"http://www.w3.org/2000/svg\" width=\"440\" height=\"340\">\n",
       "<path stroke-width=\"1\" stroke=\"black\" d=\"M 264 200 353 168\"/>\n",
       "<path stroke-width=\"1\" stroke=\"black\" d=\"M 20 116 153 125\"/>\n",
       "<path stroke-width=\"1\" stroke=\"black\" d=\"M 28 91 131 68\"/>\n",
       "<path stroke-width=\"1\" stroke=\"black\" d=\"M 28 91 20 116\"/>\n",
       "<path stroke-width=\"1\" stroke=\"black\" d=\"M 28 91 153 125\"/>\n",
       "<path stroke-width=\"1\" stroke=\"black\" d=\"M 162 20 171 45\"/>\n",
       "<path stroke-width=\"1\" stroke=\"black\" d=\"M 162 20 246 82\"/>\n",
       "<path stroke-width=\"1\" stroke=\"black\" d=\"M 122 103 251 143\"/>\n",
       "<path stroke-width=\"1\" stroke=\"black\" d=\"M 122 103 131 68\"/>\n",
       "<path stroke-width=\"1\" stroke=\"black\" d=\"M 122 103 20 116\"/>\n",
       "<path stroke-width=\"1\" stroke=\"black\" d=\"M 122 103 246 82\"/>\n",
       "<path stroke-width=\"1\" stroke=\"black\" d=\"M 197 120 251 143\"/>\n",
       "<path stroke-width=\"1\" stroke=\"black\" d=\"M 197 120 153 125\"/>\n",
       "<path stroke-width=\"1\" stroke=\"black\" d=\"M 197 120 246 82\"/>\n",
       "<path stroke-width=\"1\" stroke=\"black\" d=\"M 171 45 131 68\"/>\n",
       "<path stroke-width=\"1\" stroke=\"black\" d=\"M 171 45 162 20\"/>\n",
       "<path stroke-width=\"1\" stroke=\"black\" d=\"M 20 116 122 103\"/>\n",
       "<path stroke-width=\"1\" stroke=\"black\" d=\"M 20 116 28 91\"/>\n",
       "<path stroke-width=\"1\" stroke=\"black\" d=\"M 131 68 246 82\"/>\n",
       "<path stroke-width=\"1\" stroke=\"black\" d=\"M 131 68 260 73\"/>\n",
       "<path stroke-width=\"1\" stroke=\"black\" d=\"M 388 216 264 200\"/>\n",
       "<path stroke-width=\"1\" stroke=\"black\" d=\"M 388 216 353 168\"/>\n",
       "<path stroke-width=\"1\" stroke=\"black\" d=\"M 313 34 260 73\"/>\n",
       "<path stroke-width=\"1\" stroke=\"black\" d=\"M 313 34 246 82\"/>\n",
       "<path stroke-width=\"1\" stroke=\"black\" d=\"M 331 143 264 200\"/>\n",
       "<path stroke-width=\"1\" stroke=\"black\" d=\"M 331 143 353 168\"/>\n",
       "<path stroke-width=\"1\" stroke=\"black\" d=\"M 331 143 246 82\"/>\n",
       "<path stroke-width=\"1\" stroke=\"black\" d=\"M 171 45 260 73\"/>\n",
       "<path stroke-width=\"1\" stroke=\"black\" d=\"M 366 61 260 73\"/>\n",
       "<path stroke-width=\"1\" stroke=\"black\" d=\"M 420 202 264 200\"/>\n",
       "<path stroke-width=\"1\" stroke=\"black\" d=\"M 420 202 353 168\"/>\n",
       "<path stroke-width=\"1\" stroke=\"black\" d=\"M 228 32 260 73\"/>\n",
       "<path stroke-width=\"1\" stroke=\"black\" d=\"M 228 32 246 82\"/>\n",
       "<path stroke-width=\"1\" stroke=\"black\" d=\"M 131 68 28 91\"/>\n",
       "<path stroke-width=\"1\" stroke=\"black\" d=\"M 131 68 122 103\"/>\n",
       "<path stroke-width=\"1\" stroke=\"black\" d=\"M 131 68 171 45\"/>\n",
       "<path stroke-width=\"1\" stroke=\"black\" d=\"M 366 61 246 82\"/>\n",
       "<path stroke-width=\"1\" stroke=\"black\" d=\"M 220 320 264 277\"/>\n",
       "<path stroke-width=\"1\" stroke=\"black\" d=\"M 171 45 246 82\"/>\n",
       "<path stroke-width=\"1\" stroke=\"black\" d=\"M 344 107 282 125\"/>\n",
       "<path stroke-width=\"1\" stroke=\"black\" d=\"M 246 82 282 125\"/>\n",
       "<path stroke-width=\"1\" stroke=\"black\" d=\"M 246 82 197 100\"/>\n",
       "<path stroke-width=\"1\" stroke=\"black\" d=\"M 246 82 282 153\"/>\n",
       "<path stroke-width=\"1\" stroke=\"black\" d=\"M 246 82 348 43\"/>\n",
       "<path stroke-width=\"1\" stroke=\"black\" d=\"M 246 82 273 27\"/>\n",
       "<path stroke-width=\"1\" stroke=\"black\" d=\"M 246 82 313 34\"/>\n",
       "<path stroke-width=\"1\" stroke=\"black\" d=\"M 246 82 331 143\"/>\n",
       "<path stroke-width=\"1\" stroke=\"black\" d=\"M 246 82 366 61\"/>\n",
       "<path stroke-width=\"1\" stroke=\"black\" d=\"M 246 82 228 32\"/>\n",
       "<path stroke-width=\"1\" stroke=\"black\" d=\"M 246 82 131 68\"/>\n",
       "<path stroke-width=\"1\" stroke=\"black\" d=\"M 246 82 162 20\"/>\n",
       "<path stroke-width=\"1\" stroke=\"black\" d=\"M 246 82 122 103\"/>\n",
       "<path stroke-width=\"1\" stroke=\"black\" d=\"M 246 82 197 120\"/>\n",
       "<path stroke-width=\"1\" stroke=\"black\" d=\"M 246 82 171 45\"/>\n",
       "<path stroke-width=\"1\" stroke=\"black\" d=\"M 246 82 344 107\"/>\n",
       "<path stroke-width=\"1\" stroke=\"black\" d=\"M 260 73 246 82\"/>\n",
       "<path stroke-width=\"1\" stroke=\"black\" d=\"M 260 73 153 125\"/>\n",
       "<path stroke-width=\"1\" stroke=\"black\" d=\"M 260 73 344 107\"/>\n",
       "<path stroke-width=\"1\" stroke=\"black\" d=\"M 260 73 171 45\"/>\n",
       "<path stroke-width=\"1\" stroke=\"black\" d=\"M 344 107 260 73\"/>\n",
       "<path stroke-width=\"1\" stroke=\"black\" d=\"M 344 107 246 82\"/>\n",
       "<path stroke-width=\"1\" stroke=\"black\" d=\"M 153 125 264 200\"/>\n",
       "<path stroke-width=\"1\" stroke=\"black\" d=\"M 153 125 20 116\"/>\n",
       "<path stroke-width=\"1\" stroke=\"black\" d=\"M 153 125 28 91\"/>\n",
       "<path stroke-width=\"1\" stroke=\"black\" d=\"M 153 125 197 120\"/>\n",
       "<path stroke-width=\"1\" stroke=\"black\" d=\"M 153 125 260 73\"/>\n",
       "<path stroke-width=\"1\" stroke=\"black\" d=\"M 344 107 353 168\"/>\n",
       "<path stroke-width=\"1\" stroke=\"black\" d=\"M 153 125 246 82\"/>\n",
       "<path stroke-width=\"1\" stroke=\"black\" d=\"M 260 73 282 125\"/>\n",
       "<path stroke-width=\"1\" stroke=\"black\" d=\"M 260 73 348 43\"/>\n",
       "<path stroke-width=\"1\" stroke=\"black\" d=\"M 260 73 273 27\"/>\n",
       "<path stroke-width=\"1\" stroke=\"black\" d=\"M 260 73 313 34\"/>\n",
       "<path stroke-width=\"1\" stroke=\"black\" d=\"M 260 73 366 61\"/>\n",
       "<path stroke-width=\"1\" stroke=\"black\" d=\"M 260 73 228 32\"/>\n",
       "<path stroke-width=\"1\" stroke=\"black\" d=\"M 260 73 131 68\"/>\n",
       "<path stroke-width=\"1\" stroke=\"black\" d=\"M 260 73 251 143\"/>\n",
       "<path stroke-width=\"1\" stroke=\"black\" d=\"M 220 320 211 275\"/>\n",
       "<path stroke-width=\"1\" stroke=\"black\" d=\"M 273 27 246 82\"/>\n",
       "<path stroke-width=\"1\" stroke=\"black\" d=\"M 273 27 260 73\"/>\n",
       "<path stroke-width=\"1\" stroke=\"black\" d=\"M 353 168 388 216\"/>\n",
       "<path stroke-width=\"1\" stroke=\"black\" d=\"M 353 168 331 143\"/>\n",
       "<path stroke-width=\"1\" stroke=\"black\" d=\"M 353 168 420 202\"/>\n",
       "<path stroke-width=\"1\" stroke=\"black\" d=\"M 353 168 344 107\"/>\n",
       "<path stroke-width=\"1\" stroke=\"black\" d=\"M 251 143 264 200\"/>\n",
       "<path stroke-width=\"1\" stroke=\"black\" d=\"M 251 143 353 168\"/>\n",
       "<path stroke-width=\"1\" stroke=\"black\" d=\"M 251 143 304 191\"/>\n",
       "<path stroke-width=\"1\" stroke=\"black\" d=\"M 251 143 340 186\"/>\n",
       "<path stroke-width=\"1\" stroke=\"black\" d=\"M 251 143 282 125\"/>\n",
       "<path stroke-width=\"1\" stroke=\"black\" d=\"M 251 143 197 100\"/>\n",
       "<path stroke-width=\"1\" stroke=\"black\" d=\"M 251 143 282 153\"/>\n",
       "<path stroke-width=\"1\" stroke=\"black\" d=\"M 251 143 122 103\"/>\n",
       "<path stroke-width=\"1\" stroke=\"black\" d=\"M 251 143 197 120\"/>\n",
       "<path stroke-width=\"1\" stroke=\"black\" d=\"M 251 143 260 73\"/>\n",
       "<path stroke-width=\"1\" stroke=\"black\" d=\"M 304 191 264 200\"/>\n",
       "<path stroke-width=\"1\" stroke=\"black\" d=\"M 353 168 282 153\"/>\n",
       "<path stroke-width=\"1\" stroke=\"black\" d=\"M 353 168 340 186\"/>\n",
       "<path stroke-width=\"1\" stroke=\"black\" d=\"M 353 168 304 191\"/>\n",
       "<path stroke-width=\"1\" stroke=\"black\" d=\"M 353 168 251 143\"/>\n",
       "<path stroke-width=\"1\" stroke=\"black\" d=\"M 264 200 251 143\"/>\n",
       "<path stroke-width=\"1\" stroke=\"black\" d=\"M 264 200 304 191\"/>\n",
       "<path stroke-width=\"1\" stroke=\"black\" d=\"M 264 200 255 255\"/>\n",
       "<path stroke-width=\"1\" stroke=\"black\" d=\"M 264 200 211 275\"/>\n",
       "<path stroke-width=\"1\" stroke=\"black\" d=\"M 264 200 264 277\"/>\n",
       "<path stroke-width=\"1\" stroke=\"black\" d=\"M 264 200 340 186\"/>\n",
       "<path stroke-width=\"1\" stroke=\"black\" d=\"M 264 200 282 125\"/>\n",
       "<path stroke-width=\"1\" stroke=\"black\" d=\"M 304 191 353 168\"/>\n",
       "<path stroke-width=\"1\" stroke=\"black\" d=\"M 264 200 188 252\"/>\n",
       "<path stroke-width=\"1\" stroke=\"black\" d=\"M 264 200 335 236\"/>\n",
       "<path stroke-width=\"1\" stroke=\"black\" d=\"M 264 200 282 153\"/>\n",
       "<path stroke-width=\"1\" stroke=\"black\" d=\"M 264 200 388 216\"/>\n",
       "<path stroke-width=\"1\" stroke=\"black\" d=\"M 264 200 331 143\"/>\n",
       "<path stroke-width=\"1\" stroke=\"black\" d=\"M 264 200 420 202\"/>\n",
       "<path stroke-width=\"1\" stroke=\"black\" d=\"M 264 200 153 125\"/>\n",
       "<path stroke-width=\"1\" stroke=\"black\" d=\"M 353 168 264 200\"/>\n",
       "<path stroke-width=\"1\" stroke=\"black\" d=\"M 264 200 122 212\"/>\n",
       "<path stroke-width=\"1\" stroke=\"black\" d=\"M 304 191 251 143\"/>\n",
       "<path stroke-width=\"1\" stroke=\"black\" d=\"M 304 191 340 186\"/>\n",
       "<path stroke-width=\"1\" stroke=\"black\" d=\"M 304 191 335 236\"/>\n",
       "<path stroke-width=\"1\" stroke=\"black\" d=\"M 282 125 246 82\"/>\n",
       "<path stroke-width=\"1\" stroke=\"black\" d=\"M 197 100 251 143\"/>\n",
       "<path stroke-width=\"1\" stroke=\"black\" d=\"M 197 100 246 82\"/>\n",
       "<path stroke-width=\"1\" stroke=\"black\" d=\"M 188 252 264 200\"/>\n",
       "<path stroke-width=\"1\" stroke=\"black\" d=\"M 188 252 255 255\"/>\n",
       "<path stroke-width=\"1\" stroke=\"black\" d=\"M 188 252 211 275\"/>\n",
       "<path stroke-width=\"1\" stroke=\"black\" d=\"M 122 212 264 200\"/>\n",
       "<path stroke-width=\"1\" stroke=\"black\" d=\"M 282 125 260 73\"/>\n",
       "<path stroke-width=\"1\" stroke=\"black\" d=\"M 335 236 264 200\"/>\n",
       "<path stroke-width=\"1\" stroke=\"black\" d=\"M 282 153 264 200\"/>\n",
       "<path stroke-width=\"1\" stroke=\"black\" d=\"M 282 153 353 168\"/>\n",
       "<path stroke-width=\"1\" stroke=\"black\" d=\"M 282 153 251 143\"/>\n",
       "<path stroke-width=\"1\" stroke=\"black\" d=\"M 282 153 304 191\"/>\n",
       "<path stroke-width=\"1\" stroke=\"black\" d=\"M 282 153 246 82\"/>\n",
       "<path stroke-width=\"1\" stroke=\"black\" d=\"M 348 43 260 73\"/>\n",
       "<path stroke-width=\"1\" stroke=\"black\" d=\"M 348 43 246 82\"/>\n",
       "<path stroke-width=\"1\" stroke=\"black\" d=\"M 335 236 304 191\"/>\n",
       "<path stroke-width=\"1\" stroke=\"black\" d=\"M 246 82 153 125\"/>\n",
       "<path stroke-width=\"1\" stroke=\"black\" d=\"M 282 125 344 107\"/>\n",
       "<path stroke-width=\"1\" stroke=\"black\" d=\"M 282 125 264 200\"/>\n",
       "<path stroke-width=\"1\" stroke=\"black\" d=\"M 304 191 282 153\"/>\n",
       "<path stroke-width=\"1\" stroke=\"black\" d=\"M 255 255 264 200\"/>\n",
       "<path stroke-width=\"1\" stroke=\"black\" d=\"M 255 255 264 277\"/>\n",
       "<path stroke-width=\"1\" stroke=\"black\" d=\"M 255 255 188 252\"/>\n",
       "<path stroke-width=\"1\" stroke=\"black\" d=\"M 211 275 264 200\"/>\n",
       "<path stroke-width=\"1\" stroke=\"black\" d=\"M 211 275 264 277\"/>\n",
       "<path stroke-width=\"1\" stroke=\"black\" d=\"M 211 275 188 252\"/>\n",
       "<path stroke-width=\"1\" stroke=\"black\" d=\"M 282 125 251 143\"/>\n",
       "<path stroke-width=\"1\" stroke=\"black\" d=\"M 211 275 220 320\"/>\n",
       "<path stroke-width=\"1\" stroke=\"black\" d=\"M 264 277 255 255\"/>\n",
       "<path stroke-width=\"1\" stroke=\"black\" d=\"M 264 277 211 275\"/>\n",
       "<path stroke-width=\"1\" stroke=\"black\" d=\"M 264 277 220 320\"/>\n",
       "<path stroke-width=\"1\" stroke=\"black\" d=\"M 340 186 264 200\"/>\n",
       "<path stroke-width=\"1\" stroke=\"black\" d=\"M 340 186 353 168\"/>\n",
       "<path stroke-width=\"1\" stroke=\"black\" d=\"M 340 186 251 143\"/>\n",
       "<path stroke-width=\"1\" stroke=\"black\" d=\"M 340 186 304 191\"/>\n",
       "<path stroke-width=\"1\" stroke=\"black\" d=\"M 264 277 264 200\"/>\n",
       "<path stroke-width=\"1\" stroke=\"black\" d=\"M 246 82 260 73\"/>\n",
       "<circle cx=\"264\" cy=\"200\" r=\"7.0\" style=\"fill:rgb(179, 3, 38);stroke:black;stroke-width:3.0\"/>\n",
       "<circle cx=\"353\" cy=\"168\" r=\"7.0\" style=\"fill:rgb(179, 3, 38);stroke:black;stroke-width:3.0\"/>\n",
       "<circle cx=\"251\" cy=\"143\" r=\"7.0\" style=\"fill:rgb(246, 183, 156);stroke:black;stroke-width:1.0\"/>\n",
       "<circle cx=\"304\" cy=\"191\" r=\"7.0\" style=\"fill:rgb(246, 183, 156);stroke:black;stroke-width:1.0\"/>\n",
       "<circle cx=\"255\" cy=\"255\" r=\"7.0\" style=\"fill:rgb(246, 183, 156);stroke:black;stroke-width:1.0\"/>\n",
       "<circle cx=\"211\" cy=\"275\" r=\"7.0\" style=\"fill:rgb(246, 183, 156);stroke:black;stroke-width:1.0\"/>\n",
       "<circle cx=\"264\" cy=\"277\" r=\"7.0\" style=\"fill:rgb(246, 183, 156);stroke:black;stroke-width:1.0\"/>\n",
       "<circle cx=\"340\" cy=\"186\" r=\"7.0\" style=\"fill:rgb(246, 183, 156);stroke:black;stroke-width:1.0\"/>\n",
       "<circle cx=\"282\" cy=\"125\" r=\"7.0\" style=\"fill:rgb(170, 198, 253);stroke:black;stroke-width:1.0\"/>\n",
       "<circle cx=\"197\" cy=\"100\" r=\"7.0\" style=\"fill:rgb(170, 198, 253);stroke:black;stroke-width:1.0\"/>\n",
       "<circle cx=\"188\" cy=\"252\" r=\"7.0\" style=\"fill:rgb(246, 183, 156);stroke:black;stroke-width:1.0\"/>\n",
       "<circle cx=\"122\" cy=\"212\" r=\"7.0\" style=\"fill:rgb(246, 183, 156);stroke:black;stroke-width:1.0\"/>\n",
       "<circle cx=\"335\" cy=\"236\" r=\"7.0\" style=\"fill:rgb(246, 183, 156);stroke:black;stroke-width:1.0\"/>\n",
       "<circle cx=\"282\" cy=\"153\" r=\"7.0\" style=\"fill:rgb(246, 183, 156);stroke:black;stroke-width:1.0\"/>\n",
       "<circle cx=\"348\" cy=\"43\" r=\"7.0\" style=\"fill:rgb(170, 198, 253);stroke:black;stroke-width:1.0\"/>\n",
       "<circle cx=\"273\" cy=\"27\" r=\"7.0\" style=\"fill:rgb(170, 198, 253);stroke:black;stroke-width:1.0\"/>\n",
       "<circle cx=\"220\" cy=\"320\" r=\"7.0\" style=\"fill:rgb(246, 183, 156);stroke:black;stroke-width:1.0\"/>\n",
       "<circle cx=\"388\" cy=\"216\" r=\"7.0\" style=\"fill:rgb(246, 183, 156);stroke:black;stroke-width:1.0\"/>\n",
       "<circle cx=\"313\" cy=\"34\" r=\"7.0\" style=\"fill:rgb(170, 198, 253);stroke:black;stroke-width:1.0\"/>\n",
       "<circle cx=\"331\" cy=\"143\" r=\"7.0\" style=\"fill:rgb(246, 183, 156);stroke:black;stroke-width:1.0\"/>\n",
       "<circle cx=\"366\" cy=\"61\" r=\"7.0\" style=\"fill:rgb(170, 198, 253);stroke:black;stroke-width:1.0\"/>\n",
       "<circle cx=\"420\" cy=\"202\" r=\"7.0\" style=\"fill:rgb(246, 183, 156);stroke:black;stroke-width:1.0\"/>\n",
       "<circle cx=\"228\" cy=\"32\" r=\"7.0\" style=\"fill:rgb(170, 198, 253);stroke:black;stroke-width:1.0\"/>\n",
       "<circle cx=\"131\" cy=\"68\" r=\"7.0\" style=\"fill:rgb(170, 198, 253);stroke:black;stroke-width:1.0\"/>\n",
       "<circle cx=\"20\" cy=\"116\" r=\"7.0\" style=\"fill:rgb(170, 198, 253);stroke:black;stroke-width:1.0\"/>\n",
       "<circle cx=\"28\" cy=\"91\" r=\"7.0\" style=\"fill:rgb(170, 198, 253);stroke:black;stroke-width:1.0\"/>\n",
       "<circle cx=\"162\" cy=\"20\" r=\"7.0\" style=\"fill:rgb(170, 198, 253);stroke:black;stroke-width:1.0\"/>\n",
       "<circle cx=\"122\" cy=\"103\" r=\"7.0\" style=\"fill:rgb(170, 198, 253);stroke:black;stroke-width:1.0\"/>\n",
       "<circle cx=\"197\" cy=\"120\" r=\"7.0\" style=\"fill:rgb(170, 198, 253);stroke:black;stroke-width:1.0\"/>\n",
       "<circle cx=\"171\" cy=\"45\" r=\"7.0\" style=\"fill:rgb(170, 198, 253);stroke:black;stroke-width:1.0\"/>\n",
       "<circle cx=\"344\" cy=\"107\" r=\"7.0\" style=\"fill:rgb(58, 76, 192);stroke:black;stroke-width:3.0\"/>\n",
       "<circle cx=\"153\" cy=\"125\" r=\"7.0\" style=\"fill:rgb(170, 198, 253);stroke:black;stroke-width:1.0\"/>\n",
       "<circle cx=\"260\" cy=\"73\" r=\"7.0\" style=\"fill:rgb(170, 198, 253);stroke:black;stroke-width:1.0\"/>\n",
       "<circle cx=\"246\" cy=\"82\" r=\"7.0\" style=\"fill:rgb(58, 76, 192);stroke:black;stroke-width:3.0\"/>\n",
       "</svg>"
      ],
      "text/plain": [
       "<IPython.core.display.SVG object>"
      ]
     },
     "execution_count": 40,
     "metadata": {},
     "output_type": "execute_result"
    }
   ],
   "source": [
    "image = svg_graph(adjacency, position, scores=scores, seeds=labels)\n",
    "SVG(image)"
   ]
  },
  {
   "cell_type": "markdown",
   "metadata": {
    "pycharm": {
     "name": "#%% md\n"
    }
   },
   "source": [
    "## Directed graphs"
   ]
  },
  {
   "cell_type": "code",
   "execution_count": 41,
   "metadata": {
    "ExecuteTime": {
     "end_time": "2019-07-15T12:29:58.542147Z",
     "start_time": "2019-07-15T12:29:58.529699Z"
    },
    "pycharm": {
     "name": "#%%\n"
    }
   },
   "outputs": [],
   "source": [
    "graph = painters(metadata=True)\n",
    "adjacency = graph.adjacency\n",
    "position = graph.position\n",
    "names = graph.names"
   ]
  },
  {
   "cell_type": "code",
   "execution_count": 53,
   "metadata": {
    "pycharm": {
     "name": "#%%\n"
    }
   },
   "outputs": [],
   "source": [
    "rembrandt = 5\n",
    "klimt = 6\n",
    "cezanne = 11\n",
    "labels = {cezanne: 0, rembrandt: 1, klimt: 2}"
   ]
  },
  {
   "cell_type": "code",
   "execution_count": 58,
   "metadata": {
    "pycharm": {
     "name": "#%%\n"
    }
   },
   "outputs": [],
   "source": [
    "knn = KNN(Spectral(3), n_neighbors=2)\n",
    "labels_pred = knn.fit_predict(adjacency, labels)"
   ]
  },
  {
   "cell_type": "code",
   "execution_count": 59,
   "metadata": {
    "pycharm": {
     "name": "#%%\n"
    }
   },
   "outputs": [
    {
     "data": {
      "image/svg+xml": [
       "<svg xmlns=\"http://www.w3.org/2000/svg\" width=\"584.0\" height=\"340\">\n",
       "<defs><marker id=\"arrow-gray\" markerWidth=\"10\" markerHeight=\"10\" refX=\"9\" refY=\"3\" orient=\"auto\">\n",
       "<path d=\"M0,0 L0,6 L9,3 z\" fill=\"gray\"/></marker></defs>\n",
       "<path stroke-width=\"1\" stroke=\"gray\" d=\"M 247 48 77 64\" marker-end=\"url(#arrow-gray)\"/>\n",
       "<path stroke-width=\"1\" stroke=\"gray\" d=\"M 205 140 148 222\" marker-end=\"url(#arrow-gray)\"/>\n",
       "<path stroke-width=\"1\" stroke=\"gray\" d=\"M 205 140 208 251\" marker-end=\"url(#arrow-gray)\"/>\n",
       "<path stroke-width=\"1\" stroke=\"gray\" d=\"M 205 140 61 162\" marker-end=\"url(#arrow-gray)\"/>\n",
       "<path stroke-width=\"1\" stroke=\"gray\" d=\"M 205 140 167 61\" marker-end=\"url(#arrow-gray)\"/>\n",
       "<path stroke-width=\"1\" stroke=\"gray\" d=\"M 205 140 137 95\" marker-end=\"url(#arrow-gray)\"/>\n",
       "<path stroke-width=\"1\" stroke=\"gray\" d=\"M 151 320 79 271\" marker-end=\"url(#arrow-gray)\"/>\n",
       "<path stroke-width=\"1\" stroke=\"gray\" d=\"M 151 320 144 233\" marker-end=\"url(#arrow-gray)\"/>\n",
       "<path stroke-width=\"1\" stroke=\"gray\" d=\"M 164 55 241 48\" marker-end=\"url(#arrow-gray)\"/>\n",
       "<path stroke-width=\"1\" stroke=\"gray\" d=\"M 164 55 77 64\" marker-end=\"url(#arrow-gray)\"/>\n",
       "<path stroke-width=\"1\" stroke=\"gray\" d=\"M 164 55 202 134\" marker-end=\"url(#arrow-gray)\"/>\n",
       "<path stroke-width=\"1\" stroke=\"gray\" d=\"M 164 55 136 87\" marker-end=\"url(#arrow-gray)\"/>\n",
       "<path stroke-width=\"1\" stroke=\"gray\" d=\"M 164 55 97 126\" marker-end=\"url(#arrow-gray)\"/>\n",
       "<path stroke-width=\"1\" stroke=\"gray\" d=\"M 132 92 241 50\" marker-end=\"url(#arrow-gray)\"/>\n",
       "<path stroke-width=\"1\" stroke=\"gray\" d=\"M 132 92 26 108\" marker-end=\"url(#arrow-gray)\"/>\n",
       "<path stroke-width=\"1\" stroke=\"gray\" d=\"M 132 92 77 66\" marker-end=\"url(#arrow-gray)\"/>\n",
       "<path stroke-width=\"1\" stroke=\"gray\" d=\"M 132 92 160 60\" marker-end=\"url(#arrow-gray)\"/>\n",
       "<path stroke-width=\"1\" stroke=\"gray\" d=\"M 132 92 97 127\" marker-end=\"url(#arrow-gray)\"/>\n",
       "<path stroke-width=\"1\" stroke=\"gray\" d=\"M 93 131 26 110\" marker-end=\"url(#arrow-gray)\"/>\n",
       "<path stroke-width=\"1\" stroke=\"gray\" d=\"M 93 131 73 70\" marker-end=\"url(#arrow-gray)\"/>\n",
       "<path stroke-width=\"1\" stroke=\"gray\" d=\"M 93 131 141 221\" marker-end=\"url(#arrow-gray)\"/>\n",
       "<path stroke-width=\"1\" stroke=\"gray\" d=\"M 93 131 60 158\" marker-end=\"url(#arrow-gray)\"/>\n",
       "<path stroke-width=\"1\" stroke=\"gray\" d=\"M 205 140 26 109\" marker-end=\"url(#arrow-gray)\"/>\n",
       "<path stroke-width=\"1\" stroke=\"gray\" d=\"M 205 140 245 54\" marker-end=\"url(#arrow-gray)\"/>\n",
       "<path stroke-width=\"1\" stroke=\"gray\" d=\"M 55 162 88 135\" marker-end=\"url(#arrow-gray)\"/>\n",
       "<path stroke-width=\"1\" stroke=\"gray\" d=\"M 55 162 127 96\" marker-end=\"url(#arrow-gray)\"/>\n",
       "<path stroke-width=\"1\" stroke=\"gray\" d=\"M 247 48 170 55\" marker-end=\"url(#arrow-gray)\"/>\n",
       "<path stroke-width=\"1\" stroke=\"gray\" d=\"M 20 108 66 68\" marker-end=\"url(#arrow-gray)\"/>\n",
       "<path stroke-width=\"1\" stroke=\"gray\" d=\"M 20 108 87 129\" marker-end=\"url(#arrow-gray)\"/>\n",
       "<path stroke-width=\"1\" stroke=\"gray\" d=\"M 74 268 146 317\" marker-end=\"url(#arrow-gray)\"/>\n",
       "<path stroke-width=\"1\" stroke=\"gray\" d=\"M 71 64 241 48\" marker-end=\"url(#arrow-gray)\"/>\n",
       "<path stroke-width=\"1\" stroke=\"gray\" d=\"M 71 64 25 104\" marker-end=\"url(#arrow-gray)\"/>\n",
       "<path stroke-width=\"1\" stroke=\"gray\" d=\"M 71 64 56 156\" marker-end=\"url(#arrow-gray)\"/>\n",
       "<path stroke-width=\"1\" stroke=\"gray\" d=\"M 71 64 126 90\" marker-end=\"url(#arrow-gray)\"/>\n",
       "<path stroke-width=\"1\" stroke=\"gray\" d=\"M 71 64 91 125\" marker-end=\"url(#arrow-gray)\"/>\n",
       "<path stroke-width=\"1\" stroke=\"gray\" d=\"M 144 227 80 265\" marker-end=\"url(#arrow-gray)\"/>\n",
       "<path stroke-width=\"1\" stroke=\"gray\" d=\"M 404 94 419 26\" marker-end=\"url(#arrow-gray)\"/>\n",
       "<path stroke-width=\"1\" stroke=\"gray\" d=\"M 144 227 202 255\" marker-end=\"url(#arrow-gray)\"/>\n",
       "<path stroke-width=\"1\" stroke=\"gray\" d=\"M 208 257 80 268\" marker-end=\"url(#arrow-gray)\"/>\n",
       "<path stroke-width=\"1\" stroke=\"gray\" d=\"M 208 257 150 229\" marker-end=\"url(#arrow-gray)\"/>\n",
       "<path stroke-width=\"1\" stroke=\"gray\" d=\"M 208 257 205 146\" marker-end=\"url(#arrow-gray)\"/>\n",
       "<path stroke-width=\"1\" stroke=\"gray\" d=\"M 208 257 155 315\" marker-end=\"url(#arrow-gray)\"/>\n",
       "<path stroke-width=\"1\" stroke=\"gray\" d=\"M 420 20 253 47\" marker-end=\"url(#arrow-gray)\"/>\n",
       "<path stroke-width=\"1\" stroke=\"gray\" d=\"M 420 20 405 88\" marker-end=\"url(#arrow-gray)\"/>\n",
       "<path stroke-width=\"1\" stroke=\"gray\" d=\"M 55 162 23 113\" marker-end=\"url(#arrow-gray)\"/>\n",
       "<path stroke-width=\"1\" stroke=\"gray\" d=\"M 55 162 73 262\" marker-end=\"url(#arrow-gray)\"/>\n",
       "<path stroke-width=\"1\" stroke=\"gray\" d=\"M 55 162 70 70\" marker-end=\"url(#arrow-gray)\"/>\n",
       "<path stroke-width=\"1\" stroke=\"gray\" d=\"M 55 162 199 140\" marker-end=\"url(#arrow-gray)\"/>\n",
       "<path stroke-width=\"1\" stroke=\"gray\" d=\"M 144 227 151 314\" marker-end=\"url(#arrow-gray)\"/>\n",
       "<path stroke-width=\"1\" stroke=\"gray\" d=\"M 404 94 211 139\" marker-end=\"url(#arrow-gray)\"/>\n",
       "<circle cx=\"247\" cy=\"48\" r=\"7.0\" style=\"fill:blue;stroke:black;stroke-width:1.0\"/>\n",
       "<circle cx=\"20\" cy=\"108\" r=\"7.0\" style=\"fill:blue;stroke:black;stroke-width:1.0\"/>\n",
       "<circle cx=\"74\" cy=\"268\" r=\"7.0\" style=\"fill:red;stroke:black;stroke-width:1.0\"/>\n",
       "<circle cx=\"71\" cy=\"64\" r=\"7.0\" style=\"fill:blue;stroke:black;stroke-width:1.0\"/>\n",
       "<circle cx=\"144\" cy=\"227\" r=\"7.0\" style=\"fill:red;stroke:black;stroke-width:1.0\"/>\n",
       "<circle cx=\"208\" cy=\"257\" r=\"7.0\" style=\"fill:red;stroke:black;stroke-width:3.0\"/>\n",
       "<circle cx=\"420\" cy=\"20\" r=\"7.0\" style=\"fill:green;stroke:black;stroke-width:3.0\"/>\n",
       "<circle cx=\"55\" cy=\"162\" r=\"7.0\" style=\"fill:blue;stroke:black;stroke-width:1.0\"/>\n",
       "<circle cx=\"205\" cy=\"140\" r=\"7.0\" style=\"fill:blue;stroke:black;stroke-width:1.0\"/>\n",
       "<circle cx=\"151\" cy=\"320\" r=\"7.0\" style=\"fill:red;stroke:black;stroke-width:1.0\"/>\n",
       "<circle cx=\"164\" cy=\"55\" r=\"7.0\" style=\"fill:blue;stroke:black;stroke-width:1.0\"/>\n",
       "<circle cx=\"132\" cy=\"92\" r=\"7.0\" style=\"fill:blue;stroke:black;stroke-width:3.0\"/>\n",
       "<circle cx=\"93\" cy=\"131\" r=\"7.0\" style=\"fill:blue;stroke:black;stroke-width:1.0\"/>\n",
       "<circle cx=\"404\" cy=\"94\" r=\"7.0\" style=\"fill:red;stroke:black;stroke-width:1.0\"/>\n",
       "<text text-anchor=\"start\" x=\"257\" y=\"48\" font-size=\"12\">Pablo Picasso</text><text text-anchor=\"start\" x=\"30\" y=\"108\" font-size=\"12\">Claude Monet</text><text text-anchor=\"start\" x=\"84\" y=\"268\" font-size=\"12\">Michel Angelo</text><text text-anchor=\"start\" x=\"81\" y=\"64\" font-size=\"12\">Edouard Manet</text><text text-anchor=\"start\" x=\"154\" y=\"227\" font-size=\"12\">Peter Paul Rubens</text><text text-anchor=\"start\" x=\"218\" y=\"257\" font-size=\"12\">Rembrandt</text><text text-anchor=\"start\" x=\"430\" y=\"20\" font-size=\"12\">Gustav Klimt</text><text text-anchor=\"start\" x=\"65\" y=\"162\" font-size=\"12\">Edgar Degas</text><text text-anchor=\"start\" x=\"215\" y=\"140\" font-size=\"12\">Vincent van Gogh</text><text text-anchor=\"start\" x=\"161\" y=\"320\" font-size=\"12\">Leonardo da Vinci</text><text text-anchor=\"start\" x=\"174\" y=\"55\" font-size=\"12\">Henri Matisse</text><text text-anchor=\"start\" x=\"142\" y=\"92\" font-size=\"12\">Paul Cezanne</text><text text-anchor=\"start\" x=\"103\" y=\"131\" font-size=\"12\">Pierre-Auguste Renoir</text><text text-anchor=\"start\" x=\"414\" y=\"94\" font-size=\"12\">Egon Schiele</text></svg>"
      ],
      "text/plain": [
       "<IPython.core.display.SVG object>"
      ]
     },
     "execution_count": 59,
     "metadata": {},
     "output_type": "execute_result"
    }
   ],
   "source": [
    "image = svg_graph(adjacency, position, names, labels=labels_pred, seeds=labels)\n",
    "SVG(image)"
   ]
  },
  {
   "cell_type": "code",
   "execution_count": 62,
   "metadata": {
    "pycharm": {
     "name": "#%%\n"
    }
   },
   "outputs": [],
   "source": [
    "# soft classification (here for scores for the label of Cezanne)\n",
    "membership = knn.membership_\n",
    "scores = membership[:,0].toarray().ravel()"
   ]
  },
  {
   "cell_type": "code",
   "execution_count": 63,
   "metadata": {
    "pycharm": {
     "name": "#%%\n"
    }
   },
   "outputs": [
    {
     "data": {
      "image/svg+xml": [
       "<svg xmlns=\"http://www.w3.org/2000/svg\" width=\"584.0\" height=\"340\">\n",
       "<defs><marker id=\"arrow-gray\" markerWidth=\"10\" markerHeight=\"10\" refX=\"9\" refY=\"3\" orient=\"auto\">\n",
       "<path d=\"M0,0 L0,6 L9,3 z\" fill=\"gray\"/></marker></defs>\n",
       "<path stroke-width=\"1\" stroke=\"gray\" d=\"M 247 48 77 64\" marker-end=\"url(#arrow-gray)\"/>\n",
       "<path stroke-width=\"1\" stroke=\"gray\" d=\"M 205 140 148 222\" marker-end=\"url(#arrow-gray)\"/>\n",
       "<path stroke-width=\"1\" stroke=\"gray\" d=\"M 205 140 208 251\" marker-end=\"url(#arrow-gray)\"/>\n",
       "<path stroke-width=\"1\" stroke=\"gray\" d=\"M 205 140 61 162\" marker-end=\"url(#arrow-gray)\"/>\n",
       "<path stroke-width=\"1\" stroke=\"gray\" d=\"M 205 140 167 61\" marker-end=\"url(#arrow-gray)\"/>\n",
       "<path stroke-width=\"1\" stroke=\"gray\" d=\"M 205 140 137 95\" marker-end=\"url(#arrow-gray)\"/>\n",
       "<path stroke-width=\"1\" stroke=\"gray\" d=\"M 151 320 79 271\" marker-end=\"url(#arrow-gray)\"/>\n",
       "<path stroke-width=\"1\" stroke=\"gray\" d=\"M 151 320 144 233\" marker-end=\"url(#arrow-gray)\"/>\n",
       "<path stroke-width=\"1\" stroke=\"gray\" d=\"M 164 55 241 48\" marker-end=\"url(#arrow-gray)\"/>\n",
       "<path stroke-width=\"1\" stroke=\"gray\" d=\"M 164 55 77 64\" marker-end=\"url(#arrow-gray)\"/>\n",
       "<path stroke-width=\"1\" stroke=\"gray\" d=\"M 164 55 202 134\" marker-end=\"url(#arrow-gray)\"/>\n",
       "<path stroke-width=\"1\" stroke=\"gray\" d=\"M 164 55 136 87\" marker-end=\"url(#arrow-gray)\"/>\n",
       "<path stroke-width=\"1\" stroke=\"gray\" d=\"M 164 55 97 126\" marker-end=\"url(#arrow-gray)\"/>\n",
       "<path stroke-width=\"1\" stroke=\"gray\" d=\"M 132 92 241 50\" marker-end=\"url(#arrow-gray)\"/>\n",
       "<path stroke-width=\"1\" stroke=\"gray\" d=\"M 132 92 26 108\" marker-end=\"url(#arrow-gray)\"/>\n",
       "<path stroke-width=\"1\" stroke=\"gray\" d=\"M 132 92 77 66\" marker-end=\"url(#arrow-gray)\"/>\n",
       "<path stroke-width=\"1\" stroke=\"gray\" d=\"M 132 92 160 60\" marker-end=\"url(#arrow-gray)\"/>\n",
       "<path stroke-width=\"1\" stroke=\"gray\" d=\"M 132 92 97 127\" marker-end=\"url(#arrow-gray)\"/>\n",
       "<path stroke-width=\"1\" stroke=\"gray\" d=\"M 93 131 26 110\" marker-end=\"url(#arrow-gray)\"/>\n",
       "<path stroke-width=\"1\" stroke=\"gray\" d=\"M 93 131 73 70\" marker-end=\"url(#arrow-gray)\"/>\n",
       "<path stroke-width=\"1\" stroke=\"gray\" d=\"M 93 131 141 221\" marker-end=\"url(#arrow-gray)\"/>\n",
       "<path stroke-width=\"1\" stroke=\"gray\" d=\"M 93 131 60 158\" marker-end=\"url(#arrow-gray)\"/>\n",
       "<path stroke-width=\"1\" stroke=\"gray\" d=\"M 205 140 26 109\" marker-end=\"url(#arrow-gray)\"/>\n",
       "<path stroke-width=\"1\" stroke=\"gray\" d=\"M 205 140 245 54\" marker-end=\"url(#arrow-gray)\"/>\n",
       "<path stroke-width=\"1\" stroke=\"gray\" d=\"M 55 162 88 135\" marker-end=\"url(#arrow-gray)\"/>\n",
       "<path stroke-width=\"1\" stroke=\"gray\" d=\"M 55 162 127 96\" marker-end=\"url(#arrow-gray)\"/>\n",
       "<path stroke-width=\"1\" stroke=\"gray\" d=\"M 247 48 170 55\" marker-end=\"url(#arrow-gray)\"/>\n",
       "<path stroke-width=\"1\" stroke=\"gray\" d=\"M 20 108 66 68\" marker-end=\"url(#arrow-gray)\"/>\n",
       "<path stroke-width=\"1\" stroke=\"gray\" d=\"M 20 108 87 129\" marker-end=\"url(#arrow-gray)\"/>\n",
       "<path stroke-width=\"1\" stroke=\"gray\" d=\"M 74 268 146 317\" marker-end=\"url(#arrow-gray)\"/>\n",
       "<path stroke-width=\"1\" stroke=\"gray\" d=\"M 71 64 241 48\" marker-end=\"url(#arrow-gray)\"/>\n",
       "<path stroke-width=\"1\" stroke=\"gray\" d=\"M 71 64 25 104\" marker-end=\"url(#arrow-gray)\"/>\n",
       "<path stroke-width=\"1\" stroke=\"gray\" d=\"M 71 64 56 156\" marker-end=\"url(#arrow-gray)\"/>\n",
       "<path stroke-width=\"1\" stroke=\"gray\" d=\"M 71 64 126 90\" marker-end=\"url(#arrow-gray)\"/>\n",
       "<path stroke-width=\"1\" stroke=\"gray\" d=\"M 71 64 91 125\" marker-end=\"url(#arrow-gray)\"/>\n",
       "<path stroke-width=\"1\" stroke=\"gray\" d=\"M 144 227 80 265\" marker-end=\"url(#arrow-gray)\"/>\n",
       "<path stroke-width=\"1\" stroke=\"gray\" d=\"M 404 94 419 26\" marker-end=\"url(#arrow-gray)\"/>\n",
       "<path stroke-width=\"1\" stroke=\"gray\" d=\"M 144 227 202 255\" marker-end=\"url(#arrow-gray)\"/>\n",
       "<path stroke-width=\"1\" stroke=\"gray\" d=\"M 208 257 80 268\" marker-end=\"url(#arrow-gray)\"/>\n",
       "<path stroke-width=\"1\" stroke=\"gray\" d=\"M 208 257 150 229\" marker-end=\"url(#arrow-gray)\"/>\n",
       "<path stroke-width=\"1\" stroke=\"gray\" d=\"M 208 257 205 146\" marker-end=\"url(#arrow-gray)\"/>\n",
       "<path stroke-width=\"1\" stroke=\"gray\" d=\"M 208 257 155 315\" marker-end=\"url(#arrow-gray)\"/>\n",
       "<path stroke-width=\"1\" stroke=\"gray\" d=\"M 420 20 253 47\" marker-end=\"url(#arrow-gray)\"/>\n",
       "<path stroke-width=\"1\" stroke=\"gray\" d=\"M 420 20 405 88\" marker-end=\"url(#arrow-gray)\"/>\n",
       "<path stroke-width=\"1\" stroke=\"gray\" d=\"M 55 162 23 113\" marker-end=\"url(#arrow-gray)\"/>\n",
       "<path stroke-width=\"1\" stroke=\"gray\" d=\"M 55 162 73 262\" marker-end=\"url(#arrow-gray)\"/>\n",
       "<path stroke-width=\"1\" stroke=\"gray\" d=\"M 55 162 70 70\" marker-end=\"url(#arrow-gray)\"/>\n",
       "<path stroke-width=\"1\" stroke=\"gray\" d=\"M 55 162 199 140\" marker-end=\"url(#arrow-gray)\"/>\n",
       "<path stroke-width=\"1\" stroke=\"gray\" d=\"M 144 227 151 314\" marker-end=\"url(#arrow-gray)\"/>\n",
       "<path stroke-width=\"1\" stroke=\"gray\" d=\"M 404 94 211 139\" marker-end=\"url(#arrow-gray)\"/>\n",
       "<circle cx=\"247\" cy=\"48\" r=\"7.0\" style=\"fill:rgb(219, 220, 222);stroke:black;stroke-width:1.0\"/>\n",
       "<circle cx=\"20\" cy=\"108\" r=\"7.0\" style=\"fill:rgb(219, 220, 222);stroke:black;stroke-width:1.0\"/>\n",
       "<circle cx=\"74\" cy=\"268\" r=\"7.0\" style=\"fill:rgb(58, 76, 192);stroke:black;stroke-width:1.0\"/>\n",
       "<circle cx=\"71\" cy=\"64\" r=\"7.0\" style=\"fill:rgb(219, 220, 222);stroke:black;stroke-width:1.0\"/>\n",
       "<circle cx=\"144\" cy=\"227\" r=\"7.0\" style=\"fill:rgb(58, 76, 192);stroke:black;stroke-width:1.0\"/>\n",
       "<circle cx=\"208\" cy=\"257\" r=\"7.0\" style=\"fill:rgb(58, 76, 192);stroke:black;stroke-width:1.0\"/>\n",
       "<circle cx=\"420\" cy=\"20\" r=\"7.0\" style=\"fill:rgb(58, 76, 192);stroke:black;stroke-width:1.0\"/>\n",
       "<circle cx=\"55\" cy=\"162\" r=\"7.0\" style=\"fill:rgb(219, 220, 222);stroke:black;stroke-width:1.0\"/>\n",
       "<circle cx=\"205\" cy=\"140\" r=\"7.0\" style=\"fill:rgb(219, 220, 222);stroke:black;stroke-width:1.0\"/>\n",
       "<circle cx=\"151\" cy=\"320\" r=\"7.0\" style=\"fill:rgb(58, 76, 192);stroke:black;stroke-width:1.0\"/>\n",
       "<circle cx=\"164\" cy=\"55\" r=\"7.0\" style=\"fill:rgb(219, 220, 222);stroke:black;stroke-width:1.0\"/>\n",
       "<circle cx=\"132\" cy=\"92\" r=\"7.0\" style=\"fill:rgb(179, 3, 38);stroke:black;stroke-width:3.0\"/>\n",
       "<circle cx=\"93\" cy=\"131\" r=\"7.0\" style=\"fill:rgb(219, 220, 222);stroke:black;stroke-width:1.0\"/>\n",
       "<circle cx=\"404\" cy=\"94\" r=\"7.0\" style=\"fill:rgb(58, 76, 192);stroke:black;stroke-width:1.0\"/>\n",
       "<text text-anchor=\"start\" x=\"257\" y=\"48\" font-size=\"12\">Pablo Picasso</text><text text-anchor=\"start\" x=\"30\" y=\"108\" font-size=\"12\">Claude Monet</text><text text-anchor=\"start\" x=\"84\" y=\"268\" font-size=\"12\">Michel Angelo</text><text text-anchor=\"start\" x=\"81\" y=\"64\" font-size=\"12\">Edouard Manet</text><text text-anchor=\"start\" x=\"154\" y=\"227\" font-size=\"12\">Peter Paul Rubens</text><text text-anchor=\"start\" x=\"218\" y=\"257\" font-size=\"12\">Rembrandt</text><text text-anchor=\"start\" x=\"430\" y=\"20\" font-size=\"12\">Gustav Klimt</text><text text-anchor=\"start\" x=\"65\" y=\"162\" font-size=\"12\">Edgar Degas</text><text text-anchor=\"start\" x=\"215\" y=\"140\" font-size=\"12\">Vincent van Gogh</text><text text-anchor=\"start\" x=\"161\" y=\"320\" font-size=\"12\">Leonardo da Vinci</text><text text-anchor=\"start\" x=\"174\" y=\"55\" font-size=\"12\">Henri Matisse</text><text text-anchor=\"start\" x=\"142\" y=\"92\" font-size=\"12\">Paul Cezanne</text><text text-anchor=\"start\" x=\"103\" y=\"131\" font-size=\"12\">Pierre-Auguste Renoir</text><text text-anchor=\"start\" x=\"414\" y=\"94\" font-size=\"12\">Egon Schiele</text></svg>"
      ],
      "text/plain": [
       "<IPython.core.display.SVG object>"
      ]
     },
     "execution_count": 63,
     "metadata": {},
     "output_type": "execute_result"
    }
   ],
   "source": [
    "image = svg_graph(adjacency, position, names, scores=scores, seeds=[cezanne])\n",
    "SVG(image)"
   ]
  },
  {
   "cell_type": "markdown",
   "metadata": {
    "pycharm": {
     "name": "#%% md\n"
    }
   },
   "source": [
    "## Bipartite graphs"
   ]
  },
  {
   "cell_type": "code",
   "execution_count": 64,
   "metadata": {
    "ExecuteTime": {
     "end_time": "2019-07-15T12:29:51.261957Z",
     "start_time": "2019-07-15T12:29:51.249107Z"
    },
    "pycharm": {
     "name": "#%%\n"
    }
   },
   "outputs": [],
   "source": [
    "graph = movie_actor(metadata=True)\n",
    "biadjacency = graph.biadjacency\n",
    "names_row = graph.names_row\n",
    "names_col = graph.names_col"
   ]
  },
  {
   "cell_type": "code",
   "execution_count": 65,
   "metadata": {
    "pycharm": {
     "name": "#%%\n"
    }
   },
   "outputs": [],
   "source": [
    "inception = 0\n",
    "drive = 3\n",
    "budapest = 8"
   ]
  },
  {
   "cell_type": "code",
   "execution_count": 66,
   "metadata": {
    "pycharm": {
     "name": "#%%\n"
    }
   },
   "outputs": [],
   "source": [
    "labels_row = {inception: 0, drive: 1, budapest: 2}"
   ]
  },
  {
   "cell_type": "code",
   "execution_count": 67,
   "metadata": {
    "pycharm": {
     "name": "#%%\n"
    }
   },
   "outputs": [],
   "source": [
    "knn = KNN(Spectral(3), n_neighbors=2)\n",
    "knn.fit(biadjacency, labels_row)\n",
    "labels_row_pred = knn.labels_row_\n",
    "labels_col_pred = knn.labels_col_"
   ]
  },
  {
   "cell_type": "code",
   "execution_count": 68,
   "metadata": {
    "pycharm": {
     "name": "#%%\n"
    }
   },
   "outputs": [
    {
     "data": {
      "image/svg+xml": [
       "<svg xmlns=\"http://www.w3.org/2000/svg\" width=\"728.0\" height=\"340\">\n",
       "<path stroke-width=\"1\" stroke=\"black\" d=\"M 188 89 588 140\"/>\n",
       "<path stroke-width=\"1\" stroke=\"black\" d=\"M 188 310 588 120\"/>\n",
       "<path stroke-width=\"1\" stroke=\"black\" d=\"M 188 310 588 100\"/>\n",
       "<path stroke-width=\"1\" stroke=\"black\" d=\"M 188 310 588 240\"/>\n",
       "<path stroke-width=\"1\" stroke=\"black\" d=\"M 188 150 588 140\"/>\n",
       "<path stroke-width=\"1\" stroke=\"black\" d=\"M 188 150 588 120\"/>\n",
       "<path stroke-width=\"1\" stroke=\"black\" d=\"M 188 150 588 100\"/>\n",
       "<path stroke-width=\"1\" stroke=\"black\" d=\"M 188 290 588 300\"/>\n",
       "<path stroke-width=\"1\" stroke=\"black\" d=\"M 188 290 588 280\"/>\n",
       "<path stroke-width=\"1\" stroke=\"black\" d=\"M 188 290 588 260\"/>\n",
       "<path stroke-width=\"1\" stroke=\"black\" d=\"M 188 270 588 320\"/>\n",
       "<path stroke-width=\"1\" stroke=\"black\" d=\"M 188 270 588 300\"/>\n",
       "<path stroke-width=\"1\" stroke=\"black\" d=\"M 188 270 588 260\"/>\n",
       "<path stroke-width=\"1\" stroke=\"black\" d=\"M 188 249 588 59\"/>\n",
       "<path stroke-width=\"1\" stroke=\"black\" d=\"M 188 249 588 300\"/>\n",
       "<path stroke-width=\"1\" stroke=\"black\" d=\"M 188 249 588 240\"/>\n",
       "<path stroke-width=\"1\" stroke=\"black\" d=\"M 188 130 588 100\"/>\n",
       "<path stroke-width=\"1\" stroke=\"black\" d=\"M 188 130 588 79\"/>\n",
       "<path stroke-width=\"1\" stroke=\"black\" d=\"M 188 310 588 280\"/>\n",
       "<path stroke-width=\"1\" stroke=\"black\" d=\"M 188 310 588 300\"/>\n",
       "<path stroke-width=\"1\" stroke=\"black\" d=\"M 188 170 588 160\"/>\n",
       "<path stroke-width=\"1\" stroke=\"black\" d=\"M 188 170 588 220\"/>\n",
       "<path stroke-width=\"1\" stroke=\"black\" d=\"M 188 89 588 59\"/>\n",
       "<path stroke-width=\"1\" stroke=\"black\" d=\"M 188 89 588 40\"/>\n",
       "<path stroke-width=\"1\" stroke=\"black\" d=\"M 188 69 588 59\"/>\n",
       "<path stroke-width=\"1\" stroke=\"black\" d=\"M 188 69 588 40\"/>\n",
       "<path stroke-width=\"1\" stroke=\"black\" d=\"M 188 69 588 220\"/>\n",
       "<path stroke-width=\"1\" stroke=\"black\" d=\"M 188 230 588 220\"/>\n",
       "<path stroke-width=\"1\" stroke=\"black\" d=\"M 188 230 588 200\"/>\n",
       "<path stroke-width=\"1\" stroke=\"black\" d=\"M 188 230 588 320\"/>\n",
       "<path stroke-width=\"1\" stroke=\"black\" d=\"M 188 110 588 120\"/>\n",
       "<path stroke-width=\"1\" stroke=\"black\" d=\"M 188 230 588 160\"/>\n",
       "<path stroke-width=\"1\" stroke=\"black\" d=\"M 188 49 588 20\"/>\n",
       "<path stroke-width=\"1\" stroke=\"black\" d=\"M 188 30 588 140\"/>\n",
       "<path stroke-width=\"1\" stroke=\"black\" d=\"M 188 30 588 20\"/>\n",
       "<path stroke-width=\"1\" stroke=\"black\" d=\"M 188 210 588 200\"/>\n",
       "<path stroke-width=\"1\" stroke=\"black\" d=\"M 188 210 588 180\"/>\n",
       "<path stroke-width=\"1\" stroke=\"black\" d=\"M 188 190 588 200\"/>\n",
       "<path stroke-width=\"1\" stroke=\"black\" d=\"M 188 190 588 180\"/>\n",
       "<path stroke-width=\"1\" stroke=\"black\" d=\"M 188 190 588 160\"/>\n",
       "<path stroke-width=\"1\" stroke=\"black\" d=\"M 188 49 588 200\"/>\n",
       "<path stroke-width=\"1\" stroke=\"black\" d=\"M 188 110 588 79\"/>\n",
       "<circle cx=\"188\" cy=\"89\" r=\"7.0\" style=\"fill:blue;stroke:black;stroke-width:3.0\"/>\n",
       "<circle cx=\"188\" cy=\"69\" r=\"7.0\" style=\"fill:blue;stroke:black;stroke-width:1.0\"/>\n",
       "<circle cx=\"188\" cy=\"230\" r=\"7.0\" style=\"fill:blue;stroke:black;stroke-width:1.0\"/>\n",
       "<circle cx=\"188\" cy=\"49\" r=\"7.0\" style=\"fill:red;stroke:black;stroke-width:3.0\"/>\n",
       "<circle cx=\"188\" cy=\"30\" r=\"7.0\" style=\"fill:blue;stroke:black;stroke-width:1.0\"/>\n",
       "<circle cx=\"188\" cy=\"210\" r=\"7.0\" style=\"fill:red;stroke:black;stroke-width:1.0\"/>\n",
       "<circle cx=\"188\" cy=\"190\" r=\"7.0\" style=\"fill:blue;stroke:black;stroke-width:1.0\"/>\n",
       "<circle cx=\"188\" cy=\"170\" r=\"7.0\" style=\"fill:blue;stroke:black;stroke-width:1.0\"/>\n",
       "<circle cx=\"188\" cy=\"310\" r=\"7.0\" style=\"fill:green;stroke:black;stroke-width:3.0\"/>\n",
       "<circle cx=\"188\" cy=\"150\" r=\"7.0\" style=\"fill:blue;stroke:black;stroke-width:1.0\"/>\n",
       "<circle cx=\"188\" cy=\"290\" r=\"7.0\" style=\"fill:blue;stroke:black;stroke-width:1.0\"/>\n",
       "<circle cx=\"188\" cy=\"270\" r=\"7.0\" style=\"fill:blue;stroke:black;stroke-width:1.0\"/>\n",
       "<circle cx=\"188\" cy=\"249\" r=\"7.0\" style=\"fill:blue;stroke:black;stroke-width:1.0\"/>\n",
       "<circle cx=\"188\" cy=\"130\" r=\"7.0\" style=\"fill:red;stroke:black;stroke-width:1.0\"/>\n",
       "<circle cx=\"188\" cy=\"110\" r=\"7.0\" style=\"fill:red;stroke:black;stroke-width:1.0\"/>\n",
       "<circle cx=\"588\" cy=\"140\" r=\"7.0\" style=\"fill:blue;stroke:black;stroke-width:1.0\"/>\n",
       "<circle cx=\"588\" cy=\"59\" r=\"7.0\" style=\"fill:blue;stroke:black;stroke-width:1.0\"/>\n",
       "<circle cx=\"588\" cy=\"40\" r=\"7.0\" style=\"fill:blue;stroke:black;stroke-width:1.0\"/>\n",
       "<circle cx=\"588\" cy=\"220\" r=\"7.0\" style=\"fill:blue;stroke:black;stroke-width:1.0\"/>\n",
       "<circle cx=\"588\" cy=\"200\" r=\"7.0\" style=\"fill:blue;stroke:black;stroke-width:1.0\"/>\n",
       "<circle cx=\"588\" cy=\"320\" r=\"7.0\" style=\"fill:red;stroke:black;stroke-width:1.0\"/>\n",
       "<circle cx=\"588\" cy=\"20\" r=\"7.0\" style=\"fill:blue;stroke:black;stroke-width:1.0\"/>\n",
       "<circle cx=\"588\" cy=\"180\" r=\"7.0\" style=\"fill:red;stroke:black;stroke-width:1.0\"/>\n",
       "<circle cx=\"588\" cy=\"160\" r=\"7.0\" style=\"fill:blue;stroke:black;stroke-width:1.0\"/>\n",
       "<circle cx=\"588\" cy=\"300\" r=\"7.0\" style=\"fill:blue;stroke:black;stroke-width:1.0\"/>\n",
       "<circle cx=\"588\" cy=\"280\" r=\"7.0\" style=\"fill:blue;stroke:black;stroke-width:1.0\"/>\n",
       "<circle cx=\"588\" cy=\"120\" r=\"7.0\" style=\"fill:red;stroke:black;stroke-width:1.0\"/>\n",
       "<circle cx=\"588\" cy=\"100\" r=\"7.0\" style=\"fill:red;stroke:black;stroke-width:1.0\"/>\n",
       "<circle cx=\"588\" cy=\"260\" r=\"7.0\" style=\"fill:blue;stroke:black;stroke-width:1.0\"/>\n",
       "<circle cx=\"588\" cy=\"79\" r=\"7.0\" style=\"fill:red;stroke:black;stroke-width:1.0\"/>\n",
       "<circle cx=\"588\" cy=\"240\" r=\"7.0\" style=\"fill:blue;stroke:black;stroke-width:1.0\"/>\n",
       "<text text-anchor=\"end\" x=\"178\" y=\"89\" font-size=\"12\">Inception</text><text text-anchor=\"end\" x=\"178\" y=\"69\" font-size=\"12\">The Dark Knight Rises</text><text text-anchor=\"end\" x=\"178\" y=\"230\" font-size=\"12\">The Big Short</text><text text-anchor=\"end\" x=\"178\" y=\"49\" font-size=\"12\">Drive</text><text text-anchor=\"end\" x=\"178\" y=\"30\" font-size=\"12\">The Great Gatsby</text><text text-anchor=\"end\" x=\"178\" y=\"210\" font-size=\"12\">La La Land</text><text text-anchor=\"end\" x=\"178\" y=\"190\" font-size=\"12\">Crazy Stupid Love</text><text text-anchor=\"end\" x=\"178\" y=\"170\" font-size=\"12\">Vice</text><text text-anchor=\"end\" x=\"178\" y=\"310\" font-size=\"12\">The Grand Budapest Hotel</text><text text-anchor=\"end\" x=\"178\" y=\"150\" font-size=\"12\">Aviator</text><text text-anchor=\"end\" x=\"178\" y=\"290\" font-size=\"12\">007 Spectre</text><text text-anchor=\"end\" x=\"178\" y=\"270\" font-size=\"12\">Inglourious Basterds</text><text text-anchor=\"end\" x=\"178\" y=\"249\" font-size=\"12\">Midnight In Paris</text><text text-anchor=\"end\" x=\"178\" y=\"130\" font-size=\"12\">Murder on the Orient Express</text><text text-anchor=\"end\" x=\"178\" y=\"110\" font-size=\"12\">Fantastic Beasts 2</text><text text-anchor=\"start\" x=\"598\" y=\"140\" font-size=\"12\">Leonardo DiCaprio</text><text text-anchor=\"start\" x=\"598\" y=\"59\" font-size=\"12\">Marion Cotillard</text><text text-anchor=\"start\" x=\"598\" y=\"40\" font-size=\"12\">Joseph Gordon Lewitt</text><text text-anchor=\"start\" x=\"598\" y=\"220\" font-size=\"12\">Christian Bale</text><text text-anchor=\"start\" x=\"598\" y=\"200\" font-size=\"12\">Ryan Gosling</text><text text-anchor=\"start\" x=\"598\" y=\"320\" font-size=\"12\">Brad Pitt</text><text text-anchor=\"start\" x=\"598\" y=\"20\" font-size=\"12\">Carey Mulligan</text><text text-anchor=\"start\" x=\"598\" y=\"180\" font-size=\"12\">Emma Stone</text><text text-anchor=\"start\" x=\"598\" y=\"160\" font-size=\"12\">Steve Carell</text><text text-anchor=\"start\" x=\"598\" y=\"300\" font-size=\"12\">Lea Seydoux</text><text text-anchor=\"start\" x=\"598\" y=\"280\" font-size=\"12\">Ralph Fiennes</text><text text-anchor=\"start\" x=\"598\" y=\"120\" font-size=\"12\">Jude Law</text><text text-anchor=\"start\" x=\"598\" y=\"100\" font-size=\"12\">Willem Dafoe</text><text text-anchor=\"start\" x=\"598\" y=\"260\" font-size=\"12\">Christophe Waltz</text><text text-anchor=\"start\" x=\"598\" y=\"79\" font-size=\"12\">Johnny Depp</text><text text-anchor=\"start\" x=\"598\" y=\"240\" font-size=\"12\">Owen Wilson</text></svg>"
      ],
      "text/plain": [
       "<IPython.core.display.SVG object>"
      ]
     },
     "execution_count": 68,
     "metadata": {},
     "output_type": "execute_result"
    }
   ],
   "source": [
    "image = svg_bigraph(biadjacency, names_row, names_col, labels_row_pred, labels_col_pred, seeds_row=labels_row)\n",
    "SVG(image)"
   ]
  },
  {
   "cell_type": "code",
   "execution_count": 69,
   "metadata": {
    "pycharm": {
     "name": "#%%\n"
    }
   },
   "outputs": [],
   "source": [
    "# soft classification\n",
    "membership_row = knn.membership_row_\n",
    "membership_col = knn.membership_col_"
   ]
  },
  {
   "cell_type": "code",
   "execution_count": 70,
   "metadata": {
    "pycharm": {
     "name": "#%%\n"
    }
   },
   "outputs": [],
   "source": [
    "scores_row = membership_row[:,1].toarray().ravel()\n",
    "scores_col = membership_col[:,1].toarray().ravel()"
   ]
  },
  {
   "cell_type": "code",
   "execution_count": 71,
   "metadata": {
    "pycharm": {
     "name": "#%%\n"
    }
   },
   "outputs": [
    {
     "data": {
      "image/svg+xml": [
       "<svg xmlns=\"http://www.w3.org/2000/svg\" width=\"728.0\" height=\"340\">\n",
       "<path stroke-width=\"1\" stroke=\"black\" d=\"M 188 89 588 140\"/>\n",
       "<path stroke-width=\"1\" stroke=\"black\" d=\"M 188 310 588 120\"/>\n",
       "<path stroke-width=\"1\" stroke=\"black\" d=\"M 188 310 588 100\"/>\n",
       "<path stroke-width=\"1\" stroke=\"black\" d=\"M 188 310 588 240\"/>\n",
       "<path stroke-width=\"1\" stroke=\"black\" d=\"M 188 150 588 140\"/>\n",
       "<path stroke-width=\"1\" stroke=\"black\" d=\"M 188 150 588 120\"/>\n",
       "<path stroke-width=\"1\" stroke=\"black\" d=\"M 188 150 588 100\"/>\n",
       "<path stroke-width=\"1\" stroke=\"black\" d=\"M 188 290 588 300\"/>\n",
       "<path stroke-width=\"1\" stroke=\"black\" d=\"M 188 290 588 280\"/>\n",
       "<path stroke-width=\"1\" stroke=\"black\" d=\"M 188 290 588 260\"/>\n",
       "<path stroke-width=\"1\" stroke=\"black\" d=\"M 188 270 588 320\"/>\n",
       "<path stroke-width=\"1\" stroke=\"black\" d=\"M 188 270 588 300\"/>\n",
       "<path stroke-width=\"1\" stroke=\"black\" d=\"M 188 270 588 260\"/>\n",
       "<path stroke-width=\"1\" stroke=\"black\" d=\"M 188 249 588 59\"/>\n",
       "<path stroke-width=\"1\" stroke=\"black\" d=\"M 188 249 588 300\"/>\n",
       "<path stroke-width=\"1\" stroke=\"black\" d=\"M 188 249 588 240\"/>\n",
       "<path stroke-width=\"1\" stroke=\"black\" d=\"M 188 130 588 100\"/>\n",
       "<path stroke-width=\"1\" stroke=\"black\" d=\"M 188 130 588 79\"/>\n",
       "<path stroke-width=\"1\" stroke=\"black\" d=\"M 188 310 588 280\"/>\n",
       "<path stroke-width=\"1\" stroke=\"black\" d=\"M 188 310 588 300\"/>\n",
       "<path stroke-width=\"1\" stroke=\"black\" d=\"M 188 170 588 160\"/>\n",
       "<path stroke-width=\"1\" stroke=\"black\" d=\"M 188 170 588 220\"/>\n",
       "<path stroke-width=\"1\" stroke=\"black\" d=\"M 188 89 588 59\"/>\n",
       "<path stroke-width=\"1\" stroke=\"black\" d=\"M 188 89 588 40\"/>\n",
       "<path stroke-width=\"1\" stroke=\"black\" d=\"M 188 69 588 59\"/>\n",
       "<path stroke-width=\"1\" stroke=\"black\" d=\"M 188 69 588 40\"/>\n",
       "<path stroke-width=\"1\" stroke=\"black\" d=\"M 188 69 588 220\"/>\n",
       "<path stroke-width=\"1\" stroke=\"black\" d=\"M 188 230 588 220\"/>\n",
       "<path stroke-width=\"1\" stroke=\"black\" d=\"M 188 230 588 200\"/>\n",
       "<path stroke-width=\"1\" stroke=\"black\" d=\"M 188 230 588 320\"/>\n",
       "<path stroke-width=\"1\" stroke=\"black\" d=\"M 188 110 588 120\"/>\n",
       "<path stroke-width=\"1\" stroke=\"black\" d=\"M 188 230 588 160\"/>\n",
       "<path stroke-width=\"1\" stroke=\"black\" d=\"M 188 49 588 20\"/>\n",
       "<path stroke-width=\"1\" stroke=\"black\" d=\"M 188 30 588 140\"/>\n",
       "<path stroke-width=\"1\" stroke=\"black\" d=\"M 188 30 588 20\"/>\n",
       "<path stroke-width=\"1\" stroke=\"black\" d=\"M 188 210 588 200\"/>\n",
       "<path stroke-width=\"1\" stroke=\"black\" d=\"M 188 210 588 180\"/>\n",
       "<path stroke-width=\"1\" stroke=\"black\" d=\"M 188 190 588 200\"/>\n",
       "<path stroke-width=\"1\" stroke=\"black\" d=\"M 188 190 588 180\"/>\n",
       "<path stroke-width=\"1\" stroke=\"black\" d=\"M 188 190 588 160\"/>\n",
       "<path stroke-width=\"1\" stroke=\"black\" d=\"M 188 49 588 200\"/>\n",
       "<path stroke-width=\"1\" stroke=\"black\" d=\"M 188 110 588 79\"/>\n",
       "<circle cx=\"188\" cy=\"89\" r=\"7.0\" style=\"fill:rgb(58, 76, 192);stroke:black;stroke-width:3.0\"/>\n",
       "<circle cx=\"188\" cy=\"69\" r=\"7.0\" style=\"fill:rgb(219, 220, 222);stroke:black;stroke-width:1.0\"/>\n",
       "<circle cx=\"188\" cy=\"230\" r=\"7.0\" style=\"fill:rgb(219, 220, 222);stroke:black;stroke-width:1.0\"/>\n",
       "<circle cx=\"188\" cy=\"49\" r=\"7.0\" style=\"fill:rgb(179, 3, 38);stroke:black;stroke-width:3.0\"/>\n",
       "<circle cx=\"188\" cy=\"30\" r=\"7.0\" style=\"fill:rgb(219, 220, 222);stroke:black;stroke-width:1.0\"/>\n",
       "<circle cx=\"188\" cy=\"210\" r=\"7.0\" style=\"fill:rgb(219, 220, 222);stroke:black;stroke-width:1.0\"/>\n",
       "<circle cx=\"188\" cy=\"190\" r=\"7.0\" style=\"fill:rgb(219, 220, 222);stroke:black;stroke-width:1.0\"/>\n",
       "<circle cx=\"188\" cy=\"170\" r=\"7.0\" style=\"fill:rgb(219, 220, 222);stroke:black;stroke-width:1.0\"/>\n",
       "<circle cx=\"188\" cy=\"310\" r=\"7.0\" style=\"fill:rgb(58, 76, 192);stroke:black;stroke-width:3.0\"/>\n",
       "<circle cx=\"188\" cy=\"150\" r=\"7.0\" style=\"fill:rgb(58, 76, 192);stroke:black;stroke-width:1.0\"/>\n",
       "<circle cx=\"188\" cy=\"290\" r=\"7.0\" style=\"fill:rgb(58, 76, 192);stroke:black;stroke-width:1.0\"/>\n",
       "<circle cx=\"188\" cy=\"270\" r=\"7.0\" style=\"fill:rgb(58, 76, 192);stroke:black;stroke-width:1.0\"/>\n",
       "<circle cx=\"188\" cy=\"249\" r=\"7.0\" style=\"fill:rgb(58, 76, 192);stroke:black;stroke-width:1.0\"/>\n",
       "<circle cx=\"188\" cy=\"130\" r=\"7.0\" style=\"fill:rgb(219, 220, 222);stroke:black;stroke-width:1.0\"/>\n",
       "<circle cx=\"188\" cy=\"110\" r=\"7.0\" style=\"fill:rgb(219, 220, 222);stroke:black;stroke-width:1.0\"/>\n",
       "<circle cx=\"588\" cy=\"140\" r=\"7.0\" style=\"fill:rgb(219, 220, 222);stroke:black;stroke-width:1.0\"/>\n",
       "<circle cx=\"588\" cy=\"59\" r=\"7.0\" style=\"fill:rgb(58, 76, 192);stroke:black;stroke-width:1.0\"/>\n",
       "<circle cx=\"588\" cy=\"40\" r=\"7.0\" style=\"fill:rgb(219, 220, 222);stroke:black;stroke-width:1.0\"/>\n",
       "<circle cx=\"588\" cy=\"220\" r=\"7.0\" style=\"fill:rgb(219, 220, 222);stroke:black;stroke-width:1.0\"/>\n",
       "<circle cx=\"588\" cy=\"200\" r=\"7.0\" style=\"fill:rgb(219, 220, 222);stroke:black;stroke-width:1.0\"/>\n",
       "<circle cx=\"588\" cy=\"320\" r=\"7.0\" style=\"fill:rgb(219, 220, 222);stroke:black;stroke-width:1.0\"/>\n",
       "<circle cx=\"588\" cy=\"20\" r=\"7.0\" style=\"fill:rgb(219, 220, 222);stroke:black;stroke-width:1.0\"/>\n",
       "<circle cx=\"588\" cy=\"180\" r=\"7.0\" style=\"fill:rgb(219, 220, 222);stroke:black;stroke-width:1.0\"/>\n",
       "<circle cx=\"588\" cy=\"160\" r=\"7.0\" style=\"fill:rgb(219, 220, 222);stroke:black;stroke-width:1.0\"/>\n",
       "<circle cx=\"588\" cy=\"300\" r=\"7.0\" style=\"fill:rgb(58, 76, 192);stroke:black;stroke-width:1.0\"/>\n",
       "<circle cx=\"588\" cy=\"280\" r=\"7.0\" style=\"fill:rgb(58, 76, 192);stroke:black;stroke-width:1.0\"/>\n",
       "<circle cx=\"588\" cy=\"120\" r=\"7.0\" style=\"fill:rgb(219, 220, 222);stroke:black;stroke-width:1.0\"/>\n",
       "<circle cx=\"588\" cy=\"100\" r=\"7.0\" style=\"fill:rgb(219, 220, 222);stroke:black;stroke-width:1.0\"/>\n",
       "<circle cx=\"588\" cy=\"260\" r=\"7.0\" style=\"fill:rgb(58, 76, 192);stroke:black;stroke-width:1.0\"/>\n",
       "<circle cx=\"588\" cy=\"79\" r=\"7.0\" style=\"fill:rgb(219, 220, 222);stroke:black;stroke-width:1.0\"/>\n",
       "<circle cx=\"588\" cy=\"240\" r=\"7.0\" style=\"fill:rgb(58, 76, 192);stroke:black;stroke-width:1.0\"/>\n",
       "<text text-anchor=\"end\" x=\"178\" y=\"89\" font-size=\"12\">Inception</text><text text-anchor=\"end\" x=\"178\" y=\"69\" font-size=\"12\">The Dark Knight Rises</text><text text-anchor=\"end\" x=\"178\" y=\"230\" font-size=\"12\">The Big Short</text><text text-anchor=\"end\" x=\"178\" y=\"49\" font-size=\"12\">Drive</text><text text-anchor=\"end\" x=\"178\" y=\"30\" font-size=\"12\">The Great Gatsby</text><text text-anchor=\"end\" x=\"178\" y=\"210\" font-size=\"12\">La La Land</text><text text-anchor=\"end\" x=\"178\" y=\"190\" font-size=\"12\">Crazy Stupid Love</text><text text-anchor=\"end\" x=\"178\" y=\"170\" font-size=\"12\">Vice</text><text text-anchor=\"end\" x=\"178\" y=\"310\" font-size=\"12\">The Grand Budapest Hotel</text><text text-anchor=\"end\" x=\"178\" y=\"150\" font-size=\"12\">Aviator</text><text text-anchor=\"end\" x=\"178\" y=\"290\" font-size=\"12\">007 Spectre</text><text text-anchor=\"end\" x=\"178\" y=\"270\" font-size=\"12\">Inglourious Basterds</text><text text-anchor=\"end\" x=\"178\" y=\"249\" font-size=\"12\">Midnight In Paris</text><text text-anchor=\"end\" x=\"178\" y=\"130\" font-size=\"12\">Murder on the Orient Express</text><text text-anchor=\"end\" x=\"178\" y=\"110\" font-size=\"12\">Fantastic Beasts 2</text><text text-anchor=\"start\" x=\"598\" y=\"140\" font-size=\"12\">Leonardo DiCaprio</text><text text-anchor=\"start\" x=\"598\" y=\"59\" font-size=\"12\">Marion Cotillard</text><text text-anchor=\"start\" x=\"598\" y=\"40\" font-size=\"12\">Joseph Gordon Lewitt</text><text text-anchor=\"start\" x=\"598\" y=\"220\" font-size=\"12\">Christian Bale</text><text text-anchor=\"start\" x=\"598\" y=\"200\" font-size=\"12\">Ryan Gosling</text><text text-anchor=\"start\" x=\"598\" y=\"320\" font-size=\"12\">Brad Pitt</text><text text-anchor=\"start\" x=\"598\" y=\"20\" font-size=\"12\">Carey Mulligan</text><text text-anchor=\"start\" x=\"598\" y=\"180\" font-size=\"12\">Emma Stone</text><text text-anchor=\"start\" x=\"598\" y=\"160\" font-size=\"12\">Steve Carell</text><text text-anchor=\"start\" x=\"598\" y=\"300\" font-size=\"12\">Lea Seydoux</text><text text-anchor=\"start\" x=\"598\" y=\"280\" font-size=\"12\">Ralph Fiennes</text><text text-anchor=\"start\" x=\"598\" y=\"120\" font-size=\"12\">Jude Law</text><text text-anchor=\"start\" x=\"598\" y=\"100\" font-size=\"12\">Willem Dafoe</text><text text-anchor=\"start\" x=\"598\" y=\"260\" font-size=\"12\">Christophe Waltz</text><text text-anchor=\"start\" x=\"598\" y=\"79\" font-size=\"12\">Johnny Depp</text><text text-anchor=\"start\" x=\"598\" y=\"240\" font-size=\"12\">Owen Wilson</text></svg>"
      ],
      "text/plain": [
       "<IPython.core.display.SVG object>"
      ]
     },
     "execution_count": 71,
     "metadata": {},
     "output_type": "execute_result"
    }
   ],
   "source": [
    "image = svg_bigraph(biadjacency, names_row, names_col, scores_row=scores_row, scores_col=scores_col,\n",
    "                    seeds_row=labels_row)\n",
    "SVG(image)\n"
   ]
  }
 ],
 "metadata": {
  "kernelspec": {
   "display_name": "Python 3 (ipykernel)",
   "language": "python",
   "name": "python3"
  },
  "language_info": {
   "codemirror_mode": {
    "name": "ipython",
    "version": 3
   },
   "file_extension": ".py",
   "mimetype": "text/x-python",
   "name": "python",
   "nbconvert_exporter": "python",
   "pygments_lexer": "ipython3",
   "version": "3.9.13"
  },
  "pycharm": {
   "stem_cell": {
    "cell_type": "raw",
    "metadata": {
     "collapsed": false
    },
    "source": []
   }
  },
  "toc": {
   "base_numbering": 1,
   "nav_menu": {},
   "number_sections": true,
   "sideBar": true,
   "skip_h1_title": false,
   "title_cell": "Table of Contents",
   "title_sidebar": "Contents",
   "toc_cell": false,
   "toc_position": {},
   "toc_section_display": true,
   "toc_window_display": false
  }
 },
 "nbformat": 4,
 "nbformat_minor": 2
}
