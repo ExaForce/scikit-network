{
 "cells": [
  {
   "cell_type": "markdown",
   "metadata": {
    "pycharm": {
     "name": "#%% md\n"
    }
   },
   "source": [
    "# Diffusion"
   ]
  },
  {
   "cell_type": "markdown",
   "metadata": {
    "pycharm": {
     "name": "#%% md\n"
    }
   },
   "source": [
    "This notebook illustrates the classification of the nodes of a graph by [diffusion](https://en.wikipedia.org/wiki/Heat_equation), based on the labels of a few nodes."
   ]
  },
  {
   "cell_type": "code",
   "execution_count": 1,
   "metadata": {
    "pycharm": {
     "name": "#%%\n"
    }
   },
   "outputs": [],
   "source": [
    "from IPython.display import SVG"
   ]
  },
  {
   "cell_type": "code",
   "execution_count": 2,
   "metadata": {
    "pycharm": {
     "name": "#%%\n"
    }
   },
   "outputs": [],
   "source": [
    "import numpy as np"
   ]
  },
  {
   "cell_type": "code",
   "execution_count": 3,
   "metadata": {
    "pycharm": {
     "name": "#%%\n"
    }
   },
   "outputs": [],
   "source": [
    "from sknetwork.data import karate_club, painters, movie_actor\n",
    "from sknetwork.classification import DiffusionClassifier\n",
    "from sknetwork.visualization import svg_graph, svg_bigraph"
   ]
  },
  {
   "cell_type": "markdown",
   "metadata": {
    "pycharm": {
     "name": "#%% md\n"
    }
   },
   "source": [
    "## Graphs"
   ]
  },
  {
   "cell_type": "code",
   "execution_count": 4,
   "metadata": {
    "pycharm": {
     "name": "#%%\n"
    }
   },
   "outputs": [],
   "source": [
    "graph = karate_club(metadata=True)\n",
    "adjacency = graph.adjacency\n",
    "position = graph.position\n",
    "labels_true = graph.labels"
   ]
  },
  {
   "cell_type": "code",
   "execution_count": 5,
   "metadata": {
    "pycharm": {
     "name": "#%%\n"
    }
   },
   "outputs": [],
   "source": [
    "seeds = {i: labels_true[i] for i in [0, 33]}"
   ]
  },
  {
   "cell_type": "code",
   "execution_count": 6,
   "metadata": {
    "pycharm": {
     "name": "#%%\n"
    }
   },
   "outputs": [],
   "source": [
    "diffusion = DiffusionClassifier()\n",
    "labels_pred = diffusion.fit_predict(adjacency, seeds)"
   ]
  },
  {
   "cell_type": "code",
   "execution_count": 7,
   "metadata": {
    "pycharm": {
     "name": "#%%\n"
    }
   },
   "outputs": [
    {
     "data": {
      "text/plain": [
       "0.94"
      ]
     },
     "execution_count": 7,
     "metadata": {},
     "output_type": "execute_result"
    }
   ],
   "source": [
    "precision = np.round(np.mean(labels_pred == labels_true), 2)\n",
    "precision"
   ]
  },
  {
   "cell_type": "code",
   "execution_count": 8,
   "metadata": {
    "pycharm": {
     "name": "#%%\n"
    }
   },
   "outputs": [
    {
     "data": {
      "image/svg+xml": [
       "<svg xmlns=\"http://www.w3.org/2000/svg\" width=\"440\" height=\"340\">\n",
       "<path stroke-width=\"1\" stroke=\"black\" d=\"M 264 200 353 168\"/>\n",
       "<path stroke-width=\"1\" stroke=\"black\" d=\"M 20 116 153 125\"/>\n",
       "<path stroke-width=\"1\" stroke=\"black\" d=\"M 28 91 131 68\"/>\n",
       "<path stroke-width=\"1\" stroke=\"black\" d=\"M 28 91 20 116\"/>\n",
       "<path stroke-width=\"1\" stroke=\"black\" d=\"M 28 91 153 125\"/>\n",
       "<path stroke-width=\"1\" stroke=\"black\" d=\"M 162 20 171 45\"/>\n",
       "<path stroke-width=\"1\" stroke=\"black\" d=\"M 162 20 246 82\"/>\n",
       "<path stroke-width=\"1\" stroke=\"black\" d=\"M 122 103 251 143\"/>\n",
       "<path stroke-width=\"1\" stroke=\"black\" d=\"M 122 103 131 68\"/>\n",
       "<path stroke-width=\"1\" stroke=\"black\" d=\"M 122 103 20 116\"/>\n",
       "<path stroke-width=\"1\" stroke=\"black\" d=\"M 122 103 246 82\"/>\n",
       "<path stroke-width=\"1\" stroke=\"black\" d=\"M 197 120 251 143\"/>\n",
       "<path stroke-width=\"1\" stroke=\"black\" d=\"M 197 120 153 125\"/>\n",
       "<path stroke-width=\"1\" stroke=\"black\" d=\"M 197 120 246 82\"/>\n",
       "<path stroke-width=\"1\" stroke=\"black\" d=\"M 171 45 131 68\"/>\n",
       "<path stroke-width=\"1\" stroke=\"black\" d=\"M 171 45 162 20\"/>\n",
       "<path stroke-width=\"1\" stroke=\"black\" d=\"M 20 116 122 103\"/>\n",
       "<path stroke-width=\"1\" stroke=\"black\" d=\"M 20 116 28 91\"/>\n",
       "<path stroke-width=\"1\" stroke=\"black\" d=\"M 131 68 246 82\"/>\n",
       "<path stroke-width=\"1\" stroke=\"black\" d=\"M 131 68 260 73\"/>\n",
       "<path stroke-width=\"1\" stroke=\"black\" d=\"M 388 216 264 200\"/>\n",
       "<path stroke-width=\"1\" stroke=\"black\" d=\"M 388 216 353 168\"/>\n",
       "<path stroke-width=\"1\" stroke=\"black\" d=\"M 313 34 260 73\"/>\n",
       "<path stroke-width=\"1\" stroke=\"black\" d=\"M 313 34 246 82\"/>\n",
       "<path stroke-width=\"1\" stroke=\"black\" d=\"M 331 143 264 200\"/>\n",
       "<path stroke-width=\"1\" stroke=\"black\" d=\"M 331 143 353 168\"/>\n",
       "<path stroke-width=\"1\" stroke=\"black\" d=\"M 331 143 246 82\"/>\n",
       "<path stroke-width=\"1\" stroke=\"black\" d=\"M 171 45 260 73\"/>\n",
       "<path stroke-width=\"1\" stroke=\"black\" d=\"M 366 61 260 73\"/>\n",
       "<path stroke-width=\"1\" stroke=\"black\" d=\"M 420 202 264 200\"/>\n",
       "<path stroke-width=\"1\" stroke=\"black\" d=\"M 420 202 353 168\"/>\n",
       "<path stroke-width=\"1\" stroke=\"black\" d=\"M 228 32 260 73\"/>\n",
       "<path stroke-width=\"1\" stroke=\"black\" d=\"M 228 32 246 82\"/>\n",
       "<path stroke-width=\"1\" stroke=\"black\" d=\"M 131 68 28 91\"/>\n",
       "<path stroke-width=\"1\" stroke=\"black\" d=\"M 131 68 122 103\"/>\n",
       "<path stroke-width=\"1\" stroke=\"black\" d=\"M 131 68 171 45\"/>\n",
       "<path stroke-width=\"1\" stroke=\"black\" d=\"M 366 61 246 82\"/>\n",
       "<path stroke-width=\"1\" stroke=\"black\" d=\"M 220 320 264 277\"/>\n",
       "<path stroke-width=\"1\" stroke=\"black\" d=\"M 171 45 246 82\"/>\n",
       "<path stroke-width=\"1\" stroke=\"black\" d=\"M 344 107 282 125\"/>\n",
       "<path stroke-width=\"1\" stroke=\"black\" d=\"M 246 82 282 125\"/>\n",
       "<path stroke-width=\"1\" stroke=\"black\" d=\"M 246 82 197 100\"/>\n",
       "<path stroke-width=\"1\" stroke=\"black\" d=\"M 246 82 282 153\"/>\n",
       "<path stroke-width=\"1\" stroke=\"black\" d=\"M 246 82 348 43\"/>\n",
       "<path stroke-width=\"1\" stroke=\"black\" d=\"M 246 82 273 27\"/>\n",
       "<path stroke-width=\"1\" stroke=\"black\" d=\"M 246 82 313 34\"/>\n",
       "<path stroke-width=\"1\" stroke=\"black\" d=\"M 246 82 331 143\"/>\n",
       "<path stroke-width=\"1\" stroke=\"black\" d=\"M 246 82 366 61\"/>\n",
       "<path stroke-width=\"1\" stroke=\"black\" d=\"M 246 82 228 32\"/>\n",
       "<path stroke-width=\"1\" stroke=\"black\" d=\"M 246 82 131 68\"/>\n",
       "<path stroke-width=\"1\" stroke=\"black\" d=\"M 246 82 162 20\"/>\n",
       "<path stroke-width=\"1\" stroke=\"black\" d=\"M 246 82 122 103\"/>\n",
       "<path stroke-width=\"1\" stroke=\"black\" d=\"M 246 82 197 120\"/>\n",
       "<path stroke-width=\"1\" stroke=\"black\" d=\"M 246 82 171 45\"/>\n",
       "<path stroke-width=\"1\" stroke=\"black\" d=\"M 246 82 344 107\"/>\n",
       "<path stroke-width=\"1\" stroke=\"black\" d=\"M 260 73 246 82\"/>\n",
       "<path stroke-width=\"1\" stroke=\"black\" d=\"M 260 73 153 125\"/>\n",
       "<path stroke-width=\"1\" stroke=\"black\" d=\"M 260 73 344 107\"/>\n",
       "<path stroke-width=\"1\" stroke=\"black\" d=\"M 260 73 171 45\"/>\n",
       "<path stroke-width=\"1\" stroke=\"black\" d=\"M 344 107 260 73\"/>\n",
       "<path stroke-width=\"1\" stroke=\"black\" d=\"M 344 107 246 82\"/>\n",
       "<path stroke-width=\"1\" stroke=\"black\" d=\"M 153 125 264 200\"/>\n",
       "<path stroke-width=\"1\" stroke=\"black\" d=\"M 153 125 20 116\"/>\n",
       "<path stroke-width=\"1\" stroke=\"black\" d=\"M 153 125 28 91\"/>\n",
       "<path stroke-width=\"1\" stroke=\"black\" d=\"M 153 125 197 120\"/>\n",
       "<path stroke-width=\"1\" stroke=\"black\" d=\"M 153 125 260 73\"/>\n",
       "<path stroke-width=\"1\" stroke=\"black\" d=\"M 344 107 353 168\"/>\n",
       "<path stroke-width=\"1\" stroke=\"black\" d=\"M 153 125 246 82\"/>\n",
       "<path stroke-width=\"1\" stroke=\"black\" d=\"M 260 73 282 125\"/>\n",
       "<path stroke-width=\"1\" stroke=\"black\" d=\"M 260 73 348 43\"/>\n",
       "<path stroke-width=\"1\" stroke=\"black\" d=\"M 260 73 273 27\"/>\n",
       "<path stroke-width=\"1\" stroke=\"black\" d=\"M 260 73 313 34\"/>\n",
       "<path stroke-width=\"1\" stroke=\"black\" d=\"M 260 73 366 61\"/>\n",
       "<path stroke-width=\"1\" stroke=\"black\" d=\"M 260 73 228 32\"/>\n",
       "<path stroke-width=\"1\" stroke=\"black\" d=\"M 260 73 131 68\"/>\n",
       "<path stroke-width=\"1\" stroke=\"black\" d=\"M 260 73 251 143\"/>\n",
       "<path stroke-width=\"1\" stroke=\"black\" d=\"M 220 320 211 275\"/>\n",
       "<path stroke-width=\"1\" stroke=\"black\" d=\"M 273 27 246 82\"/>\n",
       "<path stroke-width=\"1\" stroke=\"black\" d=\"M 273 27 260 73\"/>\n",
       "<path stroke-width=\"1\" stroke=\"black\" d=\"M 353 168 388 216\"/>\n",
       "<path stroke-width=\"1\" stroke=\"black\" d=\"M 353 168 331 143\"/>\n",
       "<path stroke-width=\"1\" stroke=\"black\" d=\"M 353 168 420 202\"/>\n",
       "<path stroke-width=\"1\" stroke=\"black\" d=\"M 353 168 344 107\"/>\n",
       "<path stroke-width=\"1\" stroke=\"black\" d=\"M 251 143 264 200\"/>\n",
       "<path stroke-width=\"1\" stroke=\"black\" d=\"M 251 143 353 168\"/>\n",
       "<path stroke-width=\"1\" stroke=\"black\" d=\"M 251 143 304 191\"/>\n",
       "<path stroke-width=\"1\" stroke=\"black\" d=\"M 251 143 340 186\"/>\n",
       "<path stroke-width=\"1\" stroke=\"black\" d=\"M 251 143 282 125\"/>\n",
       "<path stroke-width=\"1\" stroke=\"black\" d=\"M 251 143 197 100\"/>\n",
       "<path stroke-width=\"1\" stroke=\"black\" d=\"M 251 143 282 153\"/>\n",
       "<path stroke-width=\"1\" stroke=\"black\" d=\"M 251 143 122 103\"/>\n",
       "<path stroke-width=\"1\" stroke=\"black\" d=\"M 251 143 197 120\"/>\n",
       "<path stroke-width=\"1\" stroke=\"black\" d=\"M 251 143 260 73\"/>\n",
       "<path stroke-width=\"1\" stroke=\"black\" d=\"M 304 191 264 200\"/>\n",
       "<path stroke-width=\"1\" stroke=\"black\" d=\"M 353 168 282 153\"/>\n",
       "<path stroke-width=\"1\" stroke=\"black\" d=\"M 353 168 340 186\"/>\n",
       "<path stroke-width=\"1\" stroke=\"black\" d=\"M 353 168 304 191\"/>\n",
       "<path stroke-width=\"1\" stroke=\"black\" d=\"M 353 168 251 143\"/>\n",
       "<path stroke-width=\"1\" stroke=\"black\" d=\"M 264 200 251 143\"/>\n",
       "<path stroke-width=\"1\" stroke=\"black\" d=\"M 264 200 304 191\"/>\n",
       "<path stroke-width=\"1\" stroke=\"black\" d=\"M 264 200 255 255\"/>\n",
       "<path stroke-width=\"1\" stroke=\"black\" d=\"M 264 200 211 275\"/>\n",
       "<path stroke-width=\"1\" stroke=\"black\" d=\"M 264 200 264 277\"/>\n",
       "<path stroke-width=\"1\" stroke=\"black\" d=\"M 264 200 340 186\"/>\n",
       "<path stroke-width=\"1\" stroke=\"black\" d=\"M 264 200 282 125\"/>\n",
       "<path stroke-width=\"1\" stroke=\"black\" d=\"M 304 191 353 168\"/>\n",
       "<path stroke-width=\"1\" stroke=\"black\" d=\"M 264 200 188 252\"/>\n",
       "<path stroke-width=\"1\" stroke=\"black\" d=\"M 264 200 335 236\"/>\n",
       "<path stroke-width=\"1\" stroke=\"black\" d=\"M 264 200 282 153\"/>\n",
       "<path stroke-width=\"1\" stroke=\"black\" d=\"M 264 200 388 216\"/>\n",
       "<path stroke-width=\"1\" stroke=\"black\" d=\"M 264 200 331 143\"/>\n",
       "<path stroke-width=\"1\" stroke=\"black\" d=\"M 264 200 420 202\"/>\n",
       "<path stroke-width=\"1\" stroke=\"black\" d=\"M 264 200 153 125\"/>\n",
       "<path stroke-width=\"1\" stroke=\"black\" d=\"M 353 168 264 200\"/>\n",
       "<path stroke-width=\"1\" stroke=\"black\" d=\"M 264 200 122 212\"/>\n",
       "<path stroke-width=\"1\" stroke=\"black\" d=\"M 304 191 251 143\"/>\n",
       "<path stroke-width=\"1\" stroke=\"black\" d=\"M 304 191 340 186\"/>\n",
       "<path stroke-width=\"1\" stroke=\"black\" d=\"M 304 191 335 236\"/>\n",
       "<path stroke-width=\"1\" stroke=\"black\" d=\"M 282 125 246 82\"/>\n",
       "<path stroke-width=\"1\" stroke=\"black\" d=\"M 197 100 251 143\"/>\n",
       "<path stroke-width=\"1\" stroke=\"black\" d=\"M 197 100 246 82\"/>\n",
       "<path stroke-width=\"1\" stroke=\"black\" d=\"M 188 252 264 200\"/>\n",
       "<path stroke-width=\"1\" stroke=\"black\" d=\"M 188 252 255 255\"/>\n",
       "<path stroke-width=\"1\" stroke=\"black\" d=\"M 188 252 211 275\"/>\n",
       "<path stroke-width=\"1\" stroke=\"black\" d=\"M 122 212 264 200\"/>\n",
       "<path stroke-width=\"1\" stroke=\"black\" d=\"M 282 125 260 73\"/>\n",
       "<path stroke-width=\"1\" stroke=\"black\" d=\"M 335 236 264 200\"/>\n",
       "<path stroke-width=\"1\" stroke=\"black\" d=\"M 282 153 264 200\"/>\n",
       "<path stroke-width=\"1\" stroke=\"black\" d=\"M 282 153 353 168\"/>\n",
       "<path stroke-width=\"1\" stroke=\"black\" d=\"M 282 153 251 143\"/>\n",
       "<path stroke-width=\"1\" stroke=\"black\" d=\"M 282 153 304 191\"/>\n",
       "<path stroke-width=\"1\" stroke=\"black\" d=\"M 282 153 246 82\"/>\n",
       "<path stroke-width=\"1\" stroke=\"black\" d=\"M 348 43 260 73\"/>\n",
       "<path stroke-width=\"1\" stroke=\"black\" d=\"M 348 43 246 82\"/>\n",
       "<path stroke-width=\"1\" stroke=\"black\" d=\"M 335 236 304 191\"/>\n",
       "<path stroke-width=\"1\" stroke=\"black\" d=\"M 246 82 153 125\"/>\n",
       "<path stroke-width=\"1\" stroke=\"black\" d=\"M 282 125 344 107\"/>\n",
       "<path stroke-width=\"1\" stroke=\"black\" d=\"M 282 125 264 200\"/>\n",
       "<path stroke-width=\"1\" stroke=\"black\" d=\"M 304 191 282 153\"/>\n",
       "<path stroke-width=\"1\" stroke=\"black\" d=\"M 255 255 264 200\"/>\n",
       "<path stroke-width=\"1\" stroke=\"black\" d=\"M 255 255 264 277\"/>\n",
       "<path stroke-width=\"1\" stroke=\"black\" d=\"M 255 255 188 252\"/>\n",
       "<path stroke-width=\"1\" stroke=\"black\" d=\"M 211 275 264 200\"/>\n",
       "<path stroke-width=\"1\" stroke=\"black\" d=\"M 211 275 264 277\"/>\n",
       "<path stroke-width=\"1\" stroke=\"black\" d=\"M 211 275 188 252\"/>\n",
       "<path stroke-width=\"1\" stroke=\"black\" d=\"M 282 125 251 143\"/>\n",
       "<path stroke-width=\"1\" stroke=\"black\" d=\"M 211 275 220 320\"/>\n",
       "<path stroke-width=\"1\" stroke=\"black\" d=\"M 264 277 255 255\"/>\n",
       "<path stroke-width=\"1\" stroke=\"black\" d=\"M 264 277 211 275\"/>\n",
       "<path stroke-width=\"1\" stroke=\"black\" d=\"M 264 277 220 320\"/>\n",
       "<path stroke-width=\"1\" stroke=\"black\" d=\"M 340 186 264 200\"/>\n",
       "<path stroke-width=\"1\" stroke=\"black\" d=\"M 340 186 353 168\"/>\n",
       "<path stroke-width=\"1\" stroke=\"black\" d=\"M 340 186 251 143\"/>\n",
       "<path stroke-width=\"1\" stroke=\"black\" d=\"M 340 186 304 191\"/>\n",
       "<path stroke-width=\"1\" stroke=\"black\" d=\"M 264 277 264 200\"/>\n",
       "<path stroke-width=\"1\" stroke=\"black\" d=\"M 246 82 260 73\"/>\n",
       "<circle cx=\"264\" cy=\"200\" r=\"7.0\" style=\"fill:red;stroke:black;stroke-width:3.0\"/>\n",
       "<circle cx=\"353\" cy=\"168\" r=\"7.0\" style=\"fill:red;stroke:black;stroke-width:1.0\"/>\n",
       "<circle cx=\"251\" cy=\"143\" r=\"7.0\" style=\"fill:blue;stroke:black;stroke-width:1.0\"/>\n",
       "<circle cx=\"304\" cy=\"191\" r=\"7.0\" style=\"fill:red;stroke:black;stroke-width:1.0\"/>\n",
       "<circle cx=\"255\" cy=\"255\" r=\"7.0\" style=\"fill:red;stroke:black;stroke-width:1.0\"/>\n",
       "<circle cx=\"211\" cy=\"275\" r=\"7.0\" style=\"fill:red;stroke:black;stroke-width:1.0\"/>\n",
       "<circle cx=\"264\" cy=\"277\" r=\"7.0\" style=\"fill:red;stroke:black;stroke-width:1.0\"/>\n",
       "<circle cx=\"340\" cy=\"186\" r=\"7.0\" style=\"fill:red;stroke:black;stroke-width:1.0\"/>\n",
       "<circle cx=\"282\" cy=\"125\" r=\"7.0\" style=\"fill:blue;stroke:black;stroke-width:1.0\"/>\n",
       "<circle cx=\"197\" cy=\"100\" r=\"7.0\" style=\"fill:blue;stroke:black;stroke-width:1.0\"/>\n",
       "<circle cx=\"188\" cy=\"252\" r=\"7.0\" style=\"fill:red;stroke:black;stroke-width:1.0\"/>\n",
       "<circle cx=\"122\" cy=\"212\" r=\"7.0\" style=\"fill:red;stroke:black;stroke-width:1.0\"/>\n",
       "<circle cx=\"335\" cy=\"236\" r=\"7.0\" style=\"fill:red;stroke:black;stroke-width:1.0\"/>\n",
       "<circle cx=\"282\" cy=\"153\" r=\"7.0\" style=\"fill:red;stroke:black;stroke-width:1.0\"/>\n",
       "<circle cx=\"348\" cy=\"43\" r=\"7.0\" style=\"fill:blue;stroke:black;stroke-width:1.0\"/>\n",
       "<circle cx=\"273\" cy=\"27\" r=\"7.0\" style=\"fill:blue;stroke:black;stroke-width:1.0\"/>\n",
       "<circle cx=\"220\" cy=\"320\" r=\"7.0\" style=\"fill:red;stroke:black;stroke-width:1.0\"/>\n",
       "<circle cx=\"388\" cy=\"216\" r=\"7.0\" style=\"fill:red;stroke:black;stroke-width:1.0\"/>\n",
       "<circle cx=\"313\" cy=\"34\" r=\"7.0\" style=\"fill:blue;stroke:black;stroke-width:1.0\"/>\n",
       "<circle cx=\"331\" cy=\"143\" r=\"7.0\" style=\"fill:red;stroke:black;stroke-width:1.0\"/>\n",
       "<circle cx=\"366\" cy=\"61\" r=\"7.0\" style=\"fill:blue;stroke:black;stroke-width:1.0\"/>\n",
       "<circle cx=\"420\" cy=\"202\" r=\"7.0\" style=\"fill:red;stroke:black;stroke-width:1.0\"/>\n",
       "<circle cx=\"228\" cy=\"32\" r=\"7.0\" style=\"fill:blue;stroke:black;stroke-width:1.0\"/>\n",
       "<circle cx=\"131\" cy=\"68\" r=\"7.0\" style=\"fill:blue;stroke:black;stroke-width:1.0\"/>\n",
       "<circle cx=\"20\" cy=\"116\" r=\"7.0\" style=\"fill:blue;stroke:black;stroke-width:1.0\"/>\n",
       "<circle cx=\"28\" cy=\"91\" r=\"7.0\" style=\"fill:blue;stroke:black;stroke-width:1.0\"/>\n",
       "<circle cx=\"162\" cy=\"20\" r=\"7.0\" style=\"fill:blue;stroke:black;stroke-width:1.0\"/>\n",
       "<circle cx=\"122\" cy=\"103\" r=\"7.0\" style=\"fill:blue;stroke:black;stroke-width:1.0\"/>\n",
       "<circle cx=\"197\" cy=\"120\" r=\"7.0\" style=\"fill:blue;stroke:black;stroke-width:1.0\"/>\n",
       "<circle cx=\"171\" cy=\"45\" r=\"7.0\" style=\"fill:blue;stroke:black;stroke-width:1.0\"/>\n",
       "<circle cx=\"344\" cy=\"107\" r=\"7.0\" style=\"fill:blue;stroke:black;stroke-width:1.0\"/>\n",
       "<circle cx=\"153\" cy=\"125\" r=\"7.0\" style=\"fill:blue;stroke:black;stroke-width:1.0\"/>\n",
       "<circle cx=\"260\" cy=\"73\" r=\"7.0\" style=\"fill:blue;stroke:black;stroke-width:1.0\"/>\n",
       "<circle cx=\"246\" cy=\"82\" r=\"7.0\" style=\"fill:blue;stroke:black;stroke-width:3.0\"/>\n",
       "</svg>"
      ],
      "text/plain": [
       "<IPython.core.display.SVG object>"
      ]
     },
     "execution_count": 8,
     "metadata": {},
     "output_type": "execute_result"
    }
   ],
   "source": [
    "image = svg_graph(adjacency, position, labels=labels_pred, seeds=seeds)\n",
    "SVG(image)"
   ]
  },
  {
   "cell_type": "code",
   "execution_count": 10,
   "metadata": {
    "pycharm": {
     "name": "#%%\n"
    }
   },
   "outputs": [],
   "source": [
    "# soft classification (here probability of label 1)\n",
    "scores = diffusion.score(label=1)"
   ]
  },
  {
   "cell_type": "code",
   "execution_count": 11,
   "metadata": {
    "pycharm": {
     "name": "#%%\n"
    }
   },
   "outputs": [],
   "source": [
    "image = svg_graph(adjacency, position, scores=scores, seeds=seeds)\n",
    "SVG(image)"
   ]
  },
  {
   "cell_type": "markdown",
   "metadata": {
    "pycharm": {
     "name": "#%% md\n"
    }
   },
   "source": [
    "## Directed graphs"
   ]
  },
  {
   "cell_type": "code",
   "execution_count": 13,
   "metadata": {
    "pycharm": {
     "name": "#%%\n"
    }
   },
   "outputs": [],
   "source": [
    "graph = painters(metadata=True)\n",
    "adjacency = graph.adjacency\n",
    "position = graph.position\n",
    "names = graph.names"
   ]
  },
  {
   "cell_type": "code",
   "execution_count": 14,
   "metadata": {
    "pycharm": {
     "name": "#%%\n"
    }
   },
   "outputs": [],
   "source": [
    "rembrandt = 5\n",
    "cezanne = 11\n",
    "seeds = {cezanne: 0, rembrandt: 1}"
   ]
  },
  {
   "cell_type": "code",
   "execution_count": 15,
   "metadata": {
    "pycharm": {
     "name": "#%%\n"
    }
   },
   "outputs": [],
   "source": [
    "diffusion = DiffusionClassifier()\n",
    "labels = diffusion.fit_predict(adjacency, seeds)"
   ]
  },
  {
   "cell_type": "code",
   "execution_count": 16,
   "metadata": {
    "pycharm": {
     "name": "#%%\n"
    }
   },
   "outputs": [],
   "source": [
    "image = svg_graph(adjacency, position, names, labels=labels, seeds=seeds)\n",
    "SVG(image)"
   ]
  },
  {
   "cell_type": "code",
   "execution_count": 18,
   "metadata": {
    "pycharm": {
     "name": "#%%\n"
    }
   },
   "outputs": [],
   "source": [
    "# soft classification (here probability of label 0)\n",
    "scores = diffusion.score(label=0)"
   ]
  },
  {
   "cell_type": "code",
   "execution_count": 19,
   "metadata": {
    "pycharm": {
     "name": "#%%\n"
    }
   },
   "outputs": [],
   "source": [
    "image = svg_graph(adjacency, position, names=names, scores=scores, seeds=[cezanne])\n",
    "SVG(image)"
   ]
  },
  {
   "cell_type": "markdown",
   "metadata": {
    "pycharm": {
     "name": "#%% md\n"
    }
   },
   "source": [
    "## Bipartite graphs"
   ]
  },
  {
   "cell_type": "code",
   "execution_count": 21,
   "metadata": {
    "pycharm": {
     "name": "#%%\n"
    }
   },
   "outputs": [],
   "source": [
    "graph = movie_actor(metadata=True)\n",
    "biadjacency = graph.biadjacency\n",
    "names_row = graph.names_row\n",
    "names_col = graph.names_col"
   ]
  },
  {
   "cell_type": "code",
   "execution_count": 22,
   "metadata": {
    "pycharm": {
     "name": "#%%\n"
    }
   },
   "outputs": [],
   "source": [
    "inception = 0\n",
    "drive = 3"
   ]
  },
  {
   "cell_type": "code",
   "execution_count": 23,
   "metadata": {
    "pycharm": {
     "name": "#%%\n"
    }
   },
   "outputs": [],
   "source": [
    "seeds_row = {inception: 0, drive: 1}"
   ]
  },
  {
   "cell_type": "code",
   "execution_count": 24,
   "metadata": {
    "pycharm": {
     "name": "#%%\n"
    }
   },
   "outputs": [],
   "source": [
    "diffusion = DiffusionClassifier()\n",
    "diffusion.fit(biadjacency, seeds_row)\n",
    "labels_row = diffusion.labels_row_\n",
    "labels_col = diffusion.labels_col_"
   ]
  },
  {
   "cell_type": "code",
   "execution_count": 25,
   "metadata": {
    "pycharm": {
     "name": "#%%\n"
    }
   },
   "outputs": [],
   "source": [
    "image = svg_bigraph(biadjacency, names_row, names_col, labels_row, labels_col, seeds_row=seeds_row)\n",
    "SVG(image)"
   ]
  },
  {
   "cell_type": "code",
   "execution_count": 27,
   "metadata": {
    "pycharm": {
     "name": "#%%\n"
    }
   },
   "outputs": [],
   "source": [
    "# soft classification\n",
    "membership_row = diffusion.membership_row_\n",
    "membership_col = diffusion.membership_col_"
   ]
  },
  {
   "cell_type": "code",
   "execution_count": 28,
   "metadata": {
    "pycharm": {
     "name": "#%%\n"
    }
   },
   "outputs": [],
   "source": [
    "# probability of label 1\n",
    "scores_row = membership_row[:,1].toarray().ravel()\n",
    "scores_col = membership_col[:,1].toarray().ravel()"
   ]
  },
  {
   "cell_type": "code",
   "execution_count": 29,
   "metadata": {
    "pycharm": {
     "name": "#%%\n"
    }
   },
   "outputs": [],
   "source": [
    "image = svg_bigraph(biadjacency, names_row, names_col, scores_row=scores_row, scores_col=scores_col,\n",
    "                    seeds_row=seeds_row)\n",
    "SVG(image)\n"
   ]
  }
 ],
 "metadata": {
  "kernelspec": {
   "display_name": "Python 3 (ipykernel)",
   "language": "python",
   "name": "python3"
  },
  "language_info": {
   "codemirror_mode": {
    "name": "ipython",
    "version": 3
   },
   "file_extension": ".py",
   "mimetype": "text/x-python",
   "name": "python",
   "nbconvert_exporter": "python",
   "pygments_lexer": "ipython3",
   "version": "3.9.13"
  }
 },
 "nbformat": 4,
 "nbformat_minor": 2
}