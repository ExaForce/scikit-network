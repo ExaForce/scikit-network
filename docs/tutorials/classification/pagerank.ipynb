{
 "cells": [
  {
   "cell_type": "markdown",
   "metadata": {},
   "source": [
    "# PageRank"
   ]
  },
  {
   "cell_type": "markdown",
   "metadata": {},
   "source": [
    "This notebook illustrates the classification of the nodes of a graph by [PageRank](https://en.wikipedia.org/wiki/PageRank), based on the labels of a few nodes."
   ]
  },
  {
   "cell_type": "code",
   "execution_count": 1,
   "metadata": {
    "ExecuteTime": {
     "end_time": "2019-07-15T12:29:50.554431Z",
     "start_time": "2019-07-15T12:29:50.414075Z"
    }
   },
   "outputs": [],
   "source": [
    "from IPython.display import SVG"
   ]
  },
  {
   "cell_type": "code",
   "execution_count": 2,
   "metadata": {},
   "outputs": [],
   "source": [
    "import numpy as np"
   ]
  },
  {
   "cell_type": "code",
   "execution_count": 3,
   "metadata": {},
   "outputs": [],
   "source": [
    "from sknetwork.data import karate_club, painters, movie_actor\n",
    "from sknetwork.classification import PageRankClassifier\n",
    "from sknetwork.visualization import svg_graph, svg_bigraph"
   ]
  },
  {
   "cell_type": "markdown",
   "metadata": {},
   "source": [
    "## Graphs"
   ]
  },
  {
   "cell_type": "code",
   "execution_count": 4,
   "metadata": {
    "ExecuteTime": {
     "end_time": "2019-07-15T12:29:51.261957Z",
     "start_time": "2019-07-15T12:29:51.249107Z"
    }
   },
   "outputs": [],
   "source": [
    "graph = karate_club(metadata=True)\n",
    "adjacency = graph.adjacency\n",
    "position = graph.position\n",
    "labels_true = graph.labels"
   ]
  },
  {
   "cell_type": "code",
   "execution_count": 5,
   "metadata": {},
   "outputs": [],
   "source": [
    "seeds = {i: labels_true[i] for i in [0, 33]}"
   ]
  },
  {
   "cell_type": "code",
   "execution_count": 6,
   "metadata": {},
   "outputs": [],
   "source": [
    "pagerank = PageRankClassifier()\n",
    "labels_pred = pagerank.fit_predict(adjacency, seeds)"
   ]
  },
  {
   "cell_type": "code",
   "execution_count": 7,
   "metadata": {},
   "outputs": [
    {
     "data": {
      "text/plain": [
       "0.97"
      ]
     },
     "execution_count": 7,
     "metadata": {},
     "output_type": "execute_result"
    }
   ],
   "source": [
    "precision = np.round(np.mean(labels_pred == labels_true), 2)\n",
    "precision"
   ]
  },
  {
   "cell_type": "code",
   "execution_count": 8,
   "metadata": {},
   "outputs": [],
   "source": [
    "image = svg_graph(adjacency, position, labels=labels_pred, seeds=seeds)\n",
    "SVG(image)"
   ]
  },
  {
   "cell_type": "code",
   "execution_count": 10,
   "metadata": {},
   "outputs": [],
   "source": [
    "# soft classification (here probability of label 1)\n",
    "label = 1\n",
    "membership = pagerank.membership_\n",
    "scores = membership[:,label].toarray().ravel()"
   ]
  },
  {
   "cell_type": "code",
   "execution_count": 12,
   "metadata": {},
   "outputs": [],
   "source": [
    "image = svg_graph(adjacency, position, scores=scores, seeds=seeds)\n",
    "SVG(image)"
   ]
  },
  {
   "cell_type": "markdown",
   "metadata": {},
   "source": [
    "## Directed graphs"
   ]
  },
  {
   "cell_type": "code",
   "execution_count": 14,
   "metadata": {
    "ExecuteTime": {
     "end_time": "2019-07-15T12:29:58.542147Z",
     "start_time": "2019-07-15T12:29:58.529699Z"
    }
   },
   "outputs": [],
   "source": [
    "graph = painters(metadata=True)\n",
    "adjacency = graph.adjacency\n",
    "position = graph.position\n",
    "names = graph.names"
   ]
  },
  {
   "cell_type": "code",
   "execution_count": 15,
   "metadata": {},
   "outputs": [],
   "source": [
    "rembrandt = 5\n",
    "klimt = 6\n",
    "cezanne = 11\n",
    "seeds = {cezanne: 0, rembrandt: 1, klimt: 2}"
   ]
  },
  {
   "cell_type": "code",
   "execution_count": 16,
   "metadata": {},
   "outputs": [],
   "source": [
    "pagerank = PageRankClassifier()\n",
    "labels = pagerank.fit_predict(adjacency, seeds)"
   ]
  },
  {
   "cell_type": "code",
   "execution_count": 17,
   "metadata": {},
   "outputs": [],
   "source": [
    "image = svg_graph(adjacency, position, names, labels=labels, seeds=seeds)\n",
    "SVG(image)"
   ]
  },
  {
   "cell_type": "code",
   "execution_count": 19,
   "metadata": {},
   "outputs": [],
   "source": [
    "# soft classification \n",
    "membership = pagerank.membership_\n",
    "scores = membership[:,0].toarray().ravel()"
   ]
  },
  {
   "cell_type": "code",
   "execution_count": 21,
   "metadata": {},
   "outputs": [],
   "source": [
    "image = svg_graph(adjacency, position, names, scores=scores, seeds=[cezanne])\n",
    "SVG(image)"
   ]
  },
  {
   "cell_type": "markdown",
   "metadata": {},
   "source": [
    "## Bipartite graphs"
   ]
  },
  {
   "cell_type": "code",
   "execution_count": 23,
   "metadata": {
    "ExecuteTime": {
     "end_time": "2019-07-15T12:29:51.261957Z",
     "start_time": "2019-07-15T12:29:51.249107Z"
    }
   },
   "outputs": [],
   "source": [
    "graph = movie_actor(metadata=True)\n",
    "biadjacency = graph.biadjacency\n",
    "names_row = graph.names_row\n",
    "names_col = graph.names_col"
   ]
  },
  {
   "cell_type": "code",
   "execution_count": 24,
   "metadata": {},
   "outputs": [],
   "source": [
    "inception = 0\n",
    "drive = 3\n",
    "budapest = 8"
   ]
  },
  {
   "cell_type": "code",
   "execution_count": 25,
   "metadata": {},
   "outputs": [],
   "source": [
    "seeds_row = {inception: 0, drive: 1, budapest: 2}"
   ]
  },
  {
   "cell_type": "code",
   "execution_count": 26,
   "metadata": {},
   "outputs": [],
   "source": [
    "pagerank = PageRankClassifier()\n",
    "pagerank.fit(biadjacency, seeds_row)\n",
    "labels_row = pagerank.labels_row_\n",
    "labels_col = pagerank.labels_col_"
   ]
  },
  {
   "cell_type": "code",
   "execution_count": 27,
   "metadata": {},
   "outputs": [],
   "source": [
    "image = svg_bigraph(biadjacency, names_row, names_col, labels_row, labels_col, seeds_row=seeds_row)\n",
    "SVG(image)"
   ]
  },
  {
   "cell_type": "code",
   "execution_count": 29,
   "metadata": {},
   "outputs": [],
   "source": [
    "# soft classification\n",
    "membership_row = pagerank.membership_row_\n",
    "membership_col = pagerank.membership_col_"
   ]
  },
  {
   "cell_type": "code",
   "execution_count": 30,
   "metadata": {},
   "outputs": [],
   "source": [
    "label = 1\n",
    "scores_row = membership_row[:,label].toarray().ravel()\n",
    "scores_col = membership_col[:,label].toarray().ravel()"
   ]
  },
  {
   "cell_type": "code",
   "execution_count": 31,
   "metadata": {},
   "outputs": [],
   "source": [
    "image = svg_bigraph(biadjacency, names_row, names_col, scores_row=scores_row, scores_col=scores_col, \n",
    "                    seeds_row=seeds_row)\n",
    "SVG(image)"
   ]
  }
 ],
 "metadata": {
  "kernelspec": {
   "display_name": "Python 3 (ipykernel)",
   "language": "python",
   "name": "python3"
  },
  "language_info": {
   "codemirror_mode": {
    "name": "ipython",
    "version": 3
   },
   "file_extension": ".py",
   "mimetype": "text/x-python",
   "name": "python",
   "nbconvert_exporter": "python",
   "pygments_lexer": "ipython3",
   "version": "3.9.13"
  },
  "pycharm": {
   "stem_cell": {
    "cell_type": "raw",
    "metadata": {
     "collapsed": false
    },
    "source": []
   }
  },
  "toc": {
   "base_numbering": 1,
   "nav_menu": {},
   "number_sections": true,
   "sideBar": true,
   "skip_h1_title": false,
   "title_cell": "Table of Contents",
   "title_sidebar": "Contents",
   "toc_cell": false,
   "toc_position": {},
   "toc_section_display": true,
   "toc_window_display": false
  }
 },
 "nbformat": 4,
 "nbformat_minor": 2
}
