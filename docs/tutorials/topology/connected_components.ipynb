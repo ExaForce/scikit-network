{
 "cells": [
  {
   "cell_type": "markdown",
   "metadata": {},
   "source": [
    "# Connected components"
   ]
  },
  {
   "cell_type": "markdown",
   "metadata": {},
   "source": [
    "This notebook illustrates the search for [connected components](https://en.wikipedia.org/wiki/Component_(graph_theory)) in graphs."
   ]
  },
  {
   "cell_type": "code",
   "execution_count": 1,
   "metadata": {},
   "outputs": [],
   "source": [
    "from IPython.display import SVG"
   ]
  },
  {
   "cell_type": "code",
   "execution_count": 2,
   "metadata": {
    "ExecuteTime": {
     "end_time": "2019-07-15T12:29:50.554431Z",
     "start_time": "2019-07-15T12:29:50.414075Z"
    }
   },
   "outputs": [],
   "source": [
    "import numpy as np"
   ]
  },
  {
   "cell_type": "code",
   "execution_count": 3,
   "metadata": {},
   "outputs": [],
   "source": [
    "from sknetwork.data import karate_club, painters, movie_actor\n",
    "from sknetwork.topology import get_connected_components\n",
    "from sknetwork.visualization import svg_graph, svg_digraph, svg_bigraph\n",
    "from sknetwork.utils.format import bipartite2undirected"
   ]
  },
  {
   "cell_type": "markdown",
   "metadata": {},
   "source": [
    "## Graphs"
   ]
  },
  {
   "cell_type": "code",
   "execution_count": 4,
   "metadata": {
    "ExecuteTime": {
     "end_time": "2019-07-15T12:29:51.261957Z",
     "start_time": "2019-07-15T12:29:51.249107Z"
    }
   },
   "outputs": [],
   "source": [
    "graph = karate_club(metadata=True)\n",
    "adjacency = graph.adjacency\n",
    "position = graph.position"
   ]
  },
  {
   "cell_type": "code",
   "execution_count": 5,
   "metadata": {},
   "outputs": [],
   "source": [
    "# subgraph\n",
    "k = 15\n",
    "adjacency = adjacency[:k][:,:k]\n",
    "position = position[:k]"
   ]
  },
  {
   "cell_type": "code",
   "execution_count": 6,
   "metadata": {},
   "outputs": [],
   "source": [
    "# connected components\n",
    "labels = get_connected_components(adjacency)"
   ]
  },
  {
   "cell_type": "code",
   "execution_count": 7,
   "metadata": {
    "ExecuteTime": {
     "end_time": "2019-07-15T12:29:55.341520Z",
     "start_time": "2019-07-15T12:29:55.026465Z"
    },
    "scrolled": true
   },
   "outputs": [
    {
     "data": {
      "image/svg+xml": [
       "<svg xmlns=\"http://www.w3.org/2000/svg\" width=\"440\" height=\"340\">\n",
       "<path stroke-width=\"1\" stroke=\"black\" d=\"M 266 221 420 180\"/>\n",
       "<path stroke-width=\"1\" stroke=\"black\" d=\"M 250 292 266 221\"/>\n",
       "<path stroke-width=\"1\" stroke=\"black\" d=\"M 250 292 266 320\"/>\n",
       "<path stroke-width=\"1\" stroke=\"black\" d=\"M 250 292 135 287\"/>\n",
       "<path stroke-width=\"1\" stroke=\"black\" d=\"M 173 317 266 221\"/>\n",
       "<path stroke-width=\"1\" stroke=\"black\" d=\"M 173 317 266 320\"/>\n",
       "<path stroke-width=\"1\" stroke=\"black\" d=\"M 173 317 135 287\"/>\n",
       "<path stroke-width=\"1\" stroke=\"black\" d=\"M 266 320 266 221\"/>\n",
       "<path stroke-width=\"1\" stroke=\"black\" d=\"M 266 320 250 292\"/>\n",
       "<path stroke-width=\"1\" stroke=\"black\" d=\"M 266 320 173 317\"/>\n",
       "<path stroke-width=\"1\" stroke=\"black\" d=\"M 396 203 266 221\"/>\n",
       "<path stroke-width=\"1\" stroke=\"black\" d=\"M 396 203 420 180\"/>\n",
       "<path stroke-width=\"1\" stroke=\"black\" d=\"M 335 210 296 161\"/>\n",
       "<path stroke-width=\"1\" stroke=\"black\" d=\"M 396 203 243 148\"/>\n",
       "<path stroke-width=\"1\" stroke=\"black\" d=\"M 296 125 266 221\"/>\n",
       "<path stroke-width=\"1\" stroke=\"black\" d=\"M 296 125 243 148\"/>\n",
       "<path stroke-width=\"1\" stroke=\"black\" d=\"M 150 93 243 148\"/>\n",
       "<path stroke-width=\"1\" stroke=\"black\" d=\"M 135 287 266 221\"/>\n",
       "<path stroke-width=\"1\" stroke=\"black\" d=\"M 135 287 250 292\"/>\n",
       "<path stroke-width=\"1\" stroke=\"black\" d=\"M 135 287 173 317\"/>\n",
       "<path stroke-width=\"1\" stroke=\"black\" d=\"M 20 237 266 221\"/>\n",
       "<path stroke-width=\"1\" stroke=\"black\" d=\"M 389 267 266 221\"/>\n",
       "<path stroke-width=\"1\" stroke=\"black\" d=\"M 389 267 335 210\"/>\n",
       "<path stroke-width=\"1\" stroke=\"black\" d=\"M 296 161 266 221\"/>\n",
       "<path stroke-width=\"1\" stroke=\"black\" d=\"M 296 161 420 180\"/>\n",
       "<path stroke-width=\"1\" stroke=\"black\" d=\"M 396 203 335 210\"/>\n",
       "<path stroke-width=\"1\" stroke=\"black\" d=\"M 335 210 389 267\"/>\n",
       "<path stroke-width=\"1\" stroke=\"black\" d=\"M 335 210 396 203\"/>\n",
       "<path stroke-width=\"1\" stroke=\"black\" d=\"M 335 210 243 148\"/>\n",
       "<path stroke-width=\"1\" stroke=\"black\" d=\"M 266 221 243 148\"/>\n",
       "<path stroke-width=\"1\" stroke=\"black\" d=\"M 266 221 335 210\"/>\n",
       "<path stroke-width=\"1\" stroke=\"black\" d=\"M 266 221 250 292\"/>\n",
       "<path stroke-width=\"1\" stroke=\"black\" d=\"M 266 221 173 317\"/>\n",
       "<path stroke-width=\"1\" stroke=\"black\" d=\"M 266 221 266 320\"/>\n",
       "<path stroke-width=\"1\" stroke=\"black\" d=\"M 266 221 396 203\"/>\n",
       "<path stroke-width=\"1\" stroke=\"black\" d=\"M 266 221 296 125\"/>\n",
       "<path stroke-width=\"1\" stroke=\"black\" d=\"M 266 221 135 287\"/>\n",
       "<path stroke-width=\"1\" stroke=\"black\" d=\"M 266 221 20 237\"/>\n",
       "<path stroke-width=\"1\" stroke=\"black\" d=\"M 266 221 389 267\"/>\n",
       "<path stroke-width=\"1\" stroke=\"black\" d=\"M 266 221 296 161\"/>\n",
       "<path stroke-width=\"1\" stroke=\"black\" d=\"M 420 180 266 221\"/>\n",
       "<path stroke-width=\"1\" stroke=\"black\" d=\"M 420 180 243 148\"/>\n",
       "<path stroke-width=\"1\" stroke=\"black\" d=\"M 420 180 335 210\"/>\n",
       "<path stroke-width=\"1\" stroke=\"black\" d=\"M 420 180 396 203\"/>\n",
       "<path stroke-width=\"1\" stroke=\"black\" d=\"M 420 180 296 161\"/>\n",
       "<path stroke-width=\"1\" stroke=\"black\" d=\"M 243 148 266 221\"/>\n",
       "<path stroke-width=\"1\" stroke=\"black\" d=\"M 243 148 420 180\"/>\n",
       "<path stroke-width=\"1\" stroke=\"black\" d=\"M 243 148 335 210\"/>\n",
       "<path stroke-width=\"1\" stroke=\"black\" d=\"M 243 148 396 203\"/>\n",
       "<path stroke-width=\"1\" stroke=\"black\" d=\"M 243 148 296 125\"/>\n",
       "<path stroke-width=\"1\" stroke=\"black\" d=\"M 243 148 150 93\"/>\n",
       "<path stroke-width=\"1\" stroke=\"black\" d=\"M 243 148 296 161\"/>\n",
       "<path stroke-width=\"1\" stroke=\"black\" d=\"M 335 210 266 221\"/>\n",
       "<path stroke-width=\"1\" stroke=\"black\" d=\"M 335 210 420 180\"/>\n",
       "<path stroke-width=\"1\" stroke=\"black\" d=\"M 296 161 243 148\"/>\n",
       "<path stroke-width=\"1\" stroke=\"black\" d=\"M 296 161 335 210\"/>\n",
       "<circle cx=\"266\" cy=\"221\" r=\"7.0\" style=\"fill:blue;stroke:black;stroke-width:1.0\"/>\n",
       "<circle cx=\"420\" cy=\"180\" r=\"7.0\" style=\"fill:blue;stroke:black;stroke-width:1.0\"/>\n",
       "<circle cx=\"243\" cy=\"148\" r=\"7.0\" style=\"fill:blue;stroke:black;stroke-width:1.0\"/>\n",
       "<circle cx=\"335\" cy=\"210\" r=\"7.0\" style=\"fill:blue;stroke:black;stroke-width:1.0\"/>\n",
       "<circle cx=\"250\" cy=\"292\" r=\"7.0\" style=\"fill:blue;stroke:black;stroke-width:1.0\"/>\n",
       "<circle cx=\"173\" cy=\"317\" r=\"7.0\" style=\"fill:blue;stroke:black;stroke-width:1.0\"/>\n",
       "<circle cx=\"266\" cy=\"320\" r=\"7.0\" style=\"fill:blue;stroke:black;stroke-width:1.0\"/>\n",
       "<circle cx=\"396\" cy=\"203\" r=\"7.0\" style=\"fill:blue;stroke:black;stroke-width:1.0\"/>\n",
       "<circle cx=\"296\" cy=\"125\" r=\"7.0\" style=\"fill:blue;stroke:black;stroke-width:1.0\"/>\n",
       "<circle cx=\"150\" cy=\"93\" r=\"7.0\" style=\"fill:blue;stroke:black;stroke-width:1.0\"/>\n",
       "<circle cx=\"135\" cy=\"287\" r=\"7.0\" style=\"fill:blue;stroke:black;stroke-width:1.0\"/>\n",
       "<circle cx=\"20\" cy=\"237\" r=\"7.0\" style=\"fill:blue;stroke:black;stroke-width:1.0\"/>\n",
       "<circle cx=\"389\" cy=\"267\" r=\"7.0\" style=\"fill:blue;stroke:black;stroke-width:1.0\"/>\n",
       "<circle cx=\"296\" cy=\"161\" r=\"7.0\" style=\"fill:blue;stroke:black;stroke-width:1.0\"/>\n",
       "<circle cx=\"412\" cy=\"20\" r=\"7.0\" style=\"fill:red;stroke:black;stroke-width:1.0\"/>\n",
       "</svg>"
      ],
      "text/plain": [
       "<IPython.core.display.SVG object>"
      ]
     },
     "execution_count": 7,
     "metadata": {},
     "output_type": "execute_result"
    }
   ],
   "source": [
    "image = svg_graph(adjacency, position, labels=labels)\n",
    "SVG(image)"
   ]
  },
  {
   "cell_type": "markdown",
   "metadata": {},
   "source": [
    "## Directed graphs"
   ]
  },
  {
   "cell_type": "code",
   "execution_count": 8,
   "metadata": {
    "ExecuteTime": {
     "end_time": "2019-07-15T12:29:58.542147Z",
     "start_time": "2019-07-15T12:29:58.529699Z"
    }
   },
   "outputs": [],
   "source": [
    "graph = painters(metadata=True)\n",
    "adjacency = graph.adjacency\n",
    "names = graph.names\n",
    "position = graph.position"
   ]
  },
  {
   "cell_type": "code",
   "execution_count": 9,
   "metadata": {},
   "outputs": [],
   "source": [
    "# weak connected components\n",
    "labels = get_connected_components(adjacency)"
   ]
  },
  {
   "cell_type": "code",
   "execution_count": 10,
   "metadata": {
    "scrolled": true
   },
   "outputs": [
    {
     "data": {
      "image/svg+xml": [
       "<svg xmlns=\"http://www.w3.org/2000/svg\" width=\"584.0\" height=\"340\">\n",
       "<defs><marker id=\"arrow-gray\" markerWidth=\"10\" markerHeight=\"10\" refX=\"9\" refY=\"3\" orient=\"auto\">\n",
       "<path d=\"M0,0 L0,6 L9,3 z\" fill=\"gray\"/></marker></defs>\n",
       "<path stroke-width=\"1\" stroke=\"gray\" d=\"M 247 48 77 64\" marker-end=\"url(#arrow-gray)\"/>\n",
       "<path stroke-width=\"1\" stroke=\"gray\" d=\"M 205 140 148 222\" marker-end=\"url(#arrow-gray)\"/>\n",
       "<path stroke-width=\"1\" stroke=\"gray\" d=\"M 205 140 208 251\" marker-end=\"url(#arrow-gray)\"/>\n",
       "<path stroke-width=\"1\" stroke=\"gray\" d=\"M 205 140 61 162\" marker-end=\"url(#arrow-gray)\"/>\n",
       "<path stroke-width=\"1\" stroke=\"gray\" d=\"M 205 140 167 61\" marker-end=\"url(#arrow-gray)\"/>\n",
       "<path stroke-width=\"1\" stroke=\"gray\" d=\"M 205 140 137 95\" marker-end=\"url(#arrow-gray)\"/>\n",
       "<path stroke-width=\"1\" stroke=\"gray\" d=\"M 151 320 79 271\" marker-end=\"url(#arrow-gray)\"/>\n",
       "<path stroke-width=\"1\" stroke=\"gray\" d=\"M 151 320 144 233\" marker-end=\"url(#arrow-gray)\"/>\n",
       "<path stroke-width=\"1\" stroke=\"gray\" d=\"M 164 55 241 48\" marker-end=\"url(#arrow-gray)\"/>\n",
       "<path stroke-width=\"1\" stroke=\"gray\" d=\"M 164 55 77 64\" marker-end=\"url(#arrow-gray)\"/>\n",
       "<path stroke-width=\"1\" stroke=\"gray\" d=\"M 164 55 202 134\" marker-end=\"url(#arrow-gray)\"/>\n",
       "<path stroke-width=\"1\" stroke=\"gray\" d=\"M 164 55 136 87\" marker-end=\"url(#arrow-gray)\"/>\n",
       "<path stroke-width=\"1\" stroke=\"gray\" d=\"M 164 55 97 126\" marker-end=\"url(#arrow-gray)\"/>\n",
       "<path stroke-width=\"1\" stroke=\"gray\" d=\"M 132 92 241 50\" marker-end=\"url(#arrow-gray)\"/>\n",
       "<path stroke-width=\"1\" stroke=\"gray\" d=\"M 132 92 26 108\" marker-end=\"url(#arrow-gray)\"/>\n",
       "<path stroke-width=\"1\" stroke=\"gray\" d=\"M 132 92 77 66\" marker-end=\"url(#arrow-gray)\"/>\n",
       "<path stroke-width=\"1\" stroke=\"gray\" d=\"M 132 92 160 60\" marker-end=\"url(#arrow-gray)\"/>\n",
       "<path stroke-width=\"1\" stroke=\"gray\" d=\"M 132 92 97 127\" marker-end=\"url(#arrow-gray)\"/>\n",
       "<path stroke-width=\"1\" stroke=\"gray\" d=\"M 93 131 26 110\" marker-end=\"url(#arrow-gray)\"/>\n",
       "<path stroke-width=\"1\" stroke=\"gray\" d=\"M 93 131 73 70\" marker-end=\"url(#arrow-gray)\"/>\n",
       "<path stroke-width=\"1\" stroke=\"gray\" d=\"M 93 131 141 221\" marker-end=\"url(#arrow-gray)\"/>\n",
       "<path stroke-width=\"1\" stroke=\"gray\" d=\"M 93 131 60 158\" marker-end=\"url(#arrow-gray)\"/>\n",
       "<path stroke-width=\"1\" stroke=\"gray\" d=\"M 205 140 26 109\" marker-end=\"url(#arrow-gray)\"/>\n",
       "<path stroke-width=\"1\" stroke=\"gray\" d=\"M 205 140 245 54\" marker-end=\"url(#arrow-gray)\"/>\n",
       "<path stroke-width=\"1\" stroke=\"gray\" d=\"M 55 162 88 135\" marker-end=\"url(#arrow-gray)\"/>\n",
       "<path stroke-width=\"1\" stroke=\"gray\" d=\"M 55 162 127 96\" marker-end=\"url(#arrow-gray)\"/>\n",
       "<path stroke-width=\"1\" stroke=\"gray\" d=\"M 247 48 170 55\" marker-end=\"url(#arrow-gray)\"/>\n",
       "<path stroke-width=\"1\" stroke=\"gray\" d=\"M 20 108 66 68\" marker-end=\"url(#arrow-gray)\"/>\n",
       "<path stroke-width=\"1\" stroke=\"gray\" d=\"M 20 108 87 129\" marker-end=\"url(#arrow-gray)\"/>\n",
       "<path stroke-width=\"1\" stroke=\"gray\" d=\"M 74 268 146 317\" marker-end=\"url(#arrow-gray)\"/>\n",
       "<path stroke-width=\"1\" stroke=\"gray\" d=\"M 71 64 241 48\" marker-end=\"url(#arrow-gray)\"/>\n",
       "<path stroke-width=\"1\" stroke=\"gray\" d=\"M 71 64 25 104\" marker-end=\"url(#arrow-gray)\"/>\n",
       "<path stroke-width=\"1\" stroke=\"gray\" d=\"M 71 64 56 156\" marker-end=\"url(#arrow-gray)\"/>\n",
       "<path stroke-width=\"1\" stroke=\"gray\" d=\"M 71 64 126 90\" marker-end=\"url(#arrow-gray)\"/>\n",
       "<path stroke-width=\"1\" stroke=\"gray\" d=\"M 71 64 91 125\" marker-end=\"url(#arrow-gray)\"/>\n",
       "<path stroke-width=\"1\" stroke=\"gray\" d=\"M 144 227 80 265\" marker-end=\"url(#arrow-gray)\"/>\n",
       "<path stroke-width=\"1\" stroke=\"gray\" d=\"M 404 94 419 26\" marker-end=\"url(#arrow-gray)\"/>\n",
       "<path stroke-width=\"1\" stroke=\"gray\" d=\"M 144 227 202 255\" marker-end=\"url(#arrow-gray)\"/>\n",
       "<path stroke-width=\"1\" stroke=\"gray\" d=\"M 208 257 80 268\" marker-end=\"url(#arrow-gray)\"/>\n",
       "<path stroke-width=\"1\" stroke=\"gray\" d=\"M 208 257 150 229\" marker-end=\"url(#arrow-gray)\"/>\n",
       "<path stroke-width=\"1\" stroke=\"gray\" d=\"M 208 257 205 146\" marker-end=\"url(#arrow-gray)\"/>\n",
       "<path stroke-width=\"1\" stroke=\"gray\" d=\"M 208 257 155 315\" marker-end=\"url(#arrow-gray)\"/>\n",
       "<path stroke-width=\"1\" stroke=\"gray\" d=\"M 420 20 253 47\" marker-end=\"url(#arrow-gray)\"/>\n",
       "<path stroke-width=\"1\" stroke=\"gray\" d=\"M 420 20 405 88\" marker-end=\"url(#arrow-gray)\"/>\n",
       "<path stroke-width=\"1\" stroke=\"gray\" d=\"M 55 162 23 113\" marker-end=\"url(#arrow-gray)\"/>\n",
       "<path stroke-width=\"1\" stroke=\"gray\" d=\"M 55 162 73 262\" marker-end=\"url(#arrow-gray)\"/>\n",
       "<path stroke-width=\"1\" stroke=\"gray\" d=\"M 55 162 70 70\" marker-end=\"url(#arrow-gray)\"/>\n",
       "<path stroke-width=\"1\" stroke=\"gray\" d=\"M 55 162 199 140\" marker-end=\"url(#arrow-gray)\"/>\n",
       "<path stroke-width=\"1\" stroke=\"gray\" d=\"M 144 227 151 314\" marker-end=\"url(#arrow-gray)\"/>\n",
       "<path stroke-width=\"1\" stroke=\"gray\" d=\"M 404 94 211 139\" marker-end=\"url(#arrow-gray)\"/>\n",
       "<circle cx=\"247\" cy=\"48\" r=\"7.0\" style=\"fill:blue;stroke:black;stroke-width:1.0\"/>\n",
       "<circle cx=\"20\" cy=\"108\" r=\"7.0\" style=\"fill:blue;stroke:black;stroke-width:1.0\"/>\n",
       "<circle cx=\"74\" cy=\"268\" r=\"7.0\" style=\"fill:blue;stroke:black;stroke-width:1.0\"/>\n",
       "<circle cx=\"71\" cy=\"64\" r=\"7.0\" style=\"fill:blue;stroke:black;stroke-width:1.0\"/>\n",
       "<circle cx=\"144\" cy=\"227\" r=\"7.0\" style=\"fill:blue;stroke:black;stroke-width:1.0\"/>\n",
       "<circle cx=\"208\" cy=\"257\" r=\"7.0\" style=\"fill:blue;stroke:black;stroke-width:1.0\"/>\n",
       "<circle cx=\"420\" cy=\"20\" r=\"7.0\" style=\"fill:blue;stroke:black;stroke-width:1.0\"/>\n",
       "<circle cx=\"55\" cy=\"162\" r=\"7.0\" style=\"fill:blue;stroke:black;stroke-width:1.0\"/>\n",
       "<circle cx=\"205\" cy=\"140\" r=\"7.0\" style=\"fill:blue;stroke:black;stroke-width:1.0\"/>\n",
       "<circle cx=\"151\" cy=\"320\" r=\"7.0\" style=\"fill:blue;stroke:black;stroke-width:1.0\"/>\n",
       "<circle cx=\"164\" cy=\"55\" r=\"7.0\" style=\"fill:blue;stroke:black;stroke-width:1.0\"/>\n",
       "<circle cx=\"132\" cy=\"92\" r=\"7.0\" style=\"fill:blue;stroke:black;stroke-width:1.0\"/>\n",
       "<circle cx=\"93\" cy=\"131\" r=\"7.0\" style=\"fill:blue;stroke:black;stroke-width:1.0\"/>\n",
       "<circle cx=\"404\" cy=\"94\" r=\"7.0\" style=\"fill:blue;stroke:black;stroke-width:1.0\"/>\n",
       "<text text-anchor=\"start\" x=\"264\" y=\"48\" font-size=\"12\">Pablo Picasso</text><text text-anchor=\"start\" x=\"37\" y=\"108\" font-size=\"12\">Claude Monet</text><text text-anchor=\"start\" x=\"91\" y=\"268\" font-size=\"12\">Michel Angelo</text><text text-anchor=\"start\" x=\"88\" y=\"64\" font-size=\"12\">Edouard Manet</text><text text-anchor=\"start\" x=\"161\" y=\"227\" font-size=\"12\">Peter Paul Rubens</text><text text-anchor=\"start\" x=\"225\" y=\"257\" font-size=\"12\">Rembrandt</text><text text-anchor=\"start\" x=\"437\" y=\"20\" font-size=\"12\">Gustav Klimt</text><text text-anchor=\"start\" x=\"72\" y=\"162\" font-size=\"12\">Edgar Degas</text><text text-anchor=\"start\" x=\"222\" y=\"140\" font-size=\"12\">Vincent van Gogh</text><text text-anchor=\"start\" x=\"168\" y=\"320\" font-size=\"12\">Leonardo da Vinci</text><text text-anchor=\"start\" x=\"181\" y=\"55\" font-size=\"12\">Henri Matisse</text><text text-anchor=\"start\" x=\"149\" y=\"92\" font-size=\"12\">Paul Cezanne</text><text text-anchor=\"start\" x=\"110\" y=\"131\" font-size=\"12\">Pierre-Auguste Renoir</text><text text-anchor=\"start\" x=\"421\" y=\"94\" font-size=\"12\">Egon Schiele</text></svg>"
      ],
      "text/plain": [
       "<IPython.core.display.SVG object>"
      ]
     },
     "execution_count": 10,
     "metadata": {},
     "output_type": "execute_result"
    }
   ],
   "source": [
    "image = svg_digraph(adjacency, position=position, names=names, labels=labels)\n",
    "SVG(image)"
   ]
  },
  {
   "cell_type": "code",
   "execution_count": 11,
   "metadata": {},
   "outputs": [],
   "source": [
    "# strong connected components\n",
    "labels = get_connected_components(adjacency, connection='strong')"
   ]
  },
  {
   "cell_type": "code",
   "execution_count": 12,
   "metadata": {},
   "outputs": [
    {
     "name": "stderr",
     "output_type": "stream",
     "text": [
      "/Users/thomas/Documents/github/scikit-network/sknetwork/visualization/graphs.py:93: FutureWarning: elementwise comparison failed; returning scalar instead, but in the future will perform elementwise comparison\n",
      "  if name_position == 'left':\n",
      "/Users/thomas/Documents/github/scikit-network/sknetwork/visualization/graphs.py:98: FutureWarning: elementwise comparison failed; returning scalar instead, but in the future will perform elementwise comparison\n",
      "  elif name_position == 'right':\n",
      "/Users/thomas/Documents/github/scikit-network/sknetwork/visualization/graphs.py:109: FutureWarning: elementwise comparison failed; returning scalar instead, but in the future will perform elementwise comparison\n",
      "  if name_position == 'above':\n",
      "/Users/thomas/Documents/github/scikit-network/sknetwork/visualization/graphs.py:340: FutureWarning: elementwise comparison failed; returning scalar instead, but in the future will perform elementwise comparison\n",
      "  if position == 'left':\n",
      "/Users/thomas/Documents/github/scikit-network/sknetwork/visualization/graphs.py:343: FutureWarning: elementwise comparison failed; returning scalar instead, but in the future will perform elementwise comparison\n",
      "  elif position == 'above':\n",
      "/Users/thomas/Documents/github/scikit-network/sknetwork/visualization/graphs.py:346: FutureWarning: elementwise comparison failed; returning scalar instead, but in the future will perform elementwise comparison\n",
      "  elif position == 'below':\n"
     ]
    },
    {
     "data": {
      "image/svg+xml": [
       "<svg xmlns=\"http://www.w3.org/2000/svg\" width=\"584.0\" height=\"352\">\n",
       "<defs><marker id=\"arrow-gray\" markerWidth=\"10\" markerHeight=\"10\" refX=\"9\" refY=\"3\" orient=\"auto\">\n",
       "<path d=\"M0,0 L0,6 L9,3 z\" fill=\"gray\"/></marker></defs>\n",
       "<path stroke-width=\"1\" stroke=\"gray\" d=\"M 319 48 149 64\" marker-end=\"url(#arrow-gray)\"/>\n",
       "<path stroke-width=\"1\" stroke=\"gray\" d=\"M 277 140 220 222\" marker-end=\"url(#arrow-gray)\"/>\n",
       "<path stroke-width=\"1\" stroke=\"gray\" d=\"M 277 140 280 251\" marker-end=\"url(#arrow-gray)\"/>\n",
       "<path stroke-width=\"1\" stroke=\"gray\" d=\"M 277 140 133 162\" marker-end=\"url(#arrow-gray)\"/>\n",
       "<path stroke-width=\"1\" stroke=\"gray\" d=\"M 277 140 239 61\" marker-end=\"url(#arrow-gray)\"/>\n",
       "<path stroke-width=\"1\" stroke=\"gray\" d=\"M 277 140 209 95\" marker-end=\"url(#arrow-gray)\"/>\n",
       "<path stroke-width=\"1\" stroke=\"gray\" d=\"M 223 320 151 271\" marker-end=\"url(#arrow-gray)\"/>\n",
       "<path stroke-width=\"1\" stroke=\"gray\" d=\"M 223 320 216 233\" marker-end=\"url(#arrow-gray)\"/>\n",
       "<path stroke-width=\"1\" stroke=\"gray\" d=\"M 236 55 313 48\" marker-end=\"url(#arrow-gray)\"/>\n",
       "<path stroke-width=\"1\" stroke=\"gray\" d=\"M 236 55 149 64\" marker-end=\"url(#arrow-gray)\"/>\n",
       "<path stroke-width=\"1\" stroke=\"gray\" d=\"M 236 55 274 134\" marker-end=\"url(#arrow-gray)\"/>\n",
       "<path stroke-width=\"1\" stroke=\"gray\" d=\"M 236 55 208 87\" marker-end=\"url(#arrow-gray)\"/>\n",
       "<path stroke-width=\"1\" stroke=\"gray\" d=\"M 236 55 169 126\" marker-end=\"url(#arrow-gray)\"/>\n",
       "<path stroke-width=\"1\" stroke=\"gray\" d=\"M 204 92 313 50\" marker-end=\"url(#arrow-gray)\"/>\n",
       "<path stroke-width=\"1\" stroke=\"gray\" d=\"M 204 92 98 108\" marker-end=\"url(#arrow-gray)\"/>\n",
       "<path stroke-width=\"1\" stroke=\"gray\" d=\"M 204 92 149 66\" marker-end=\"url(#arrow-gray)\"/>\n",
       "<path stroke-width=\"1\" stroke=\"gray\" d=\"M 204 92 232 60\" marker-end=\"url(#arrow-gray)\"/>\n",
       "<path stroke-width=\"1\" stroke=\"gray\" d=\"M 204 92 169 127\" marker-end=\"url(#arrow-gray)\"/>\n",
       "<path stroke-width=\"1\" stroke=\"gray\" d=\"M 165 131 98 110\" marker-end=\"url(#arrow-gray)\"/>\n",
       "<path stroke-width=\"1\" stroke=\"gray\" d=\"M 165 131 145 70\" marker-end=\"url(#arrow-gray)\"/>\n",
       "<path stroke-width=\"1\" stroke=\"gray\" d=\"M 165 131 213 221\" marker-end=\"url(#arrow-gray)\"/>\n",
       "<path stroke-width=\"1\" stroke=\"gray\" d=\"M 165 131 132 158\" marker-end=\"url(#arrow-gray)\"/>\n",
       "<path stroke-width=\"1\" stroke=\"gray\" d=\"M 277 140 98 109\" marker-end=\"url(#arrow-gray)\"/>\n",
       "<path stroke-width=\"1\" stroke=\"gray\" d=\"M 277 140 317 54\" marker-end=\"url(#arrow-gray)\"/>\n",
       "<path stroke-width=\"1\" stroke=\"gray\" d=\"M 127 162 160 135\" marker-end=\"url(#arrow-gray)\"/>\n",
       "<path stroke-width=\"1\" stroke=\"gray\" d=\"M 127 162 199 96\" marker-end=\"url(#arrow-gray)\"/>\n",
       "<path stroke-width=\"1\" stroke=\"gray\" d=\"M 319 48 242 55\" marker-end=\"url(#arrow-gray)\"/>\n",
       "<path stroke-width=\"1\" stroke=\"gray\" d=\"M 92 108 138 68\" marker-end=\"url(#arrow-gray)\"/>\n",
       "<path stroke-width=\"1\" stroke=\"gray\" d=\"M 92 108 159 129\" marker-end=\"url(#arrow-gray)\"/>\n",
       "<path stroke-width=\"1\" stroke=\"gray\" d=\"M 146 268 218 317\" marker-end=\"url(#arrow-gray)\"/>\n",
       "<path stroke-width=\"1\" stroke=\"gray\" d=\"M 143 64 313 48\" marker-end=\"url(#arrow-gray)\"/>\n",
       "<path stroke-width=\"1\" stroke=\"gray\" d=\"M 143 64 97 104\" marker-end=\"url(#arrow-gray)\"/>\n",
       "<path stroke-width=\"1\" stroke=\"gray\" d=\"M 143 64 128 156\" marker-end=\"url(#arrow-gray)\"/>\n",
       "<path stroke-width=\"1\" stroke=\"gray\" d=\"M 143 64 198 90\" marker-end=\"url(#arrow-gray)\"/>\n",
       "<path stroke-width=\"1\" stroke=\"gray\" d=\"M 143 64 163 125\" marker-end=\"url(#arrow-gray)\"/>\n",
       "<path stroke-width=\"1\" stroke=\"gray\" d=\"M 216 227 152 265\" marker-end=\"url(#arrow-gray)\"/>\n",
       "<path stroke-width=\"1\" stroke=\"gray\" d=\"M 476 94 491 26\" marker-end=\"url(#arrow-gray)\"/>\n",
       "<path stroke-width=\"1\" stroke=\"gray\" d=\"M 216 227 274 255\" marker-end=\"url(#arrow-gray)\"/>\n",
       "<path stroke-width=\"1\" stroke=\"gray\" d=\"M 280 257 152 268\" marker-end=\"url(#arrow-gray)\"/>\n",
       "<path stroke-width=\"1\" stroke=\"gray\" d=\"M 280 257 222 229\" marker-end=\"url(#arrow-gray)\"/>\n",
       "<path stroke-width=\"1\" stroke=\"gray\" d=\"M 280 257 277 146\" marker-end=\"url(#arrow-gray)\"/>\n",
       "<path stroke-width=\"1\" stroke=\"gray\" d=\"M 280 257 227 315\" marker-end=\"url(#arrow-gray)\"/>\n",
       "<path stroke-width=\"1\" stroke=\"gray\" d=\"M 492 20 325 47\" marker-end=\"url(#arrow-gray)\"/>\n",
       "<path stroke-width=\"1\" stroke=\"gray\" d=\"M 492 20 477 88\" marker-end=\"url(#arrow-gray)\"/>\n",
       "<path stroke-width=\"1\" stroke=\"gray\" d=\"M 127 162 95 113\" marker-end=\"url(#arrow-gray)\"/>\n",
       "<path stroke-width=\"1\" stroke=\"gray\" d=\"M 127 162 145 262\" marker-end=\"url(#arrow-gray)\"/>\n",
       "<path stroke-width=\"1\" stroke=\"gray\" d=\"M 127 162 142 70\" marker-end=\"url(#arrow-gray)\"/>\n",
       "<path stroke-width=\"1\" stroke=\"gray\" d=\"M 127 162 271 140\" marker-end=\"url(#arrow-gray)\"/>\n",
       "<path stroke-width=\"1\" stroke=\"gray\" d=\"M 216 227 223 314\" marker-end=\"url(#arrow-gray)\"/>\n",
       "<path stroke-width=\"1\" stroke=\"gray\" d=\"M 476 94 283 139\" marker-end=\"url(#arrow-gray)\"/>\n",
       "<circle cx=\"319\" cy=\"48\" r=\"7.0\" style=\"fill:gray;stroke:black;stroke-width:1.0\"/>\n",
       "<circle cx=\"92\" cy=\"108\" r=\"7.0\" style=\"fill:gray;stroke:black;stroke-width:1.0\"/>\n",
       "<circle cx=\"146\" cy=\"268\" r=\"7.0\" style=\"fill:gray;stroke:black;stroke-width:1.0\"/>\n",
       "<circle cx=\"143\" cy=\"64\" r=\"7.0\" style=\"fill:gray;stroke:black;stroke-width:1.0\"/>\n",
       "<circle cx=\"216\" cy=\"227\" r=\"7.0\" style=\"fill:gray;stroke:black;stroke-width:1.0\"/>\n",
       "<circle cx=\"280\" cy=\"257\" r=\"7.0\" style=\"fill:gray;stroke:black;stroke-width:1.0\"/>\n",
       "<circle cx=\"492\" cy=\"20\" r=\"7.0\" style=\"fill:gray;stroke:black;stroke-width:1.0\"/>\n",
       "<circle cx=\"127\" cy=\"162\" r=\"7.0\" style=\"fill:gray;stroke:black;stroke-width:1.0\"/>\n",
       "<circle cx=\"277\" cy=\"140\" r=\"7.0\" style=\"fill:gray;stroke:black;stroke-width:1.0\"/>\n",
       "<circle cx=\"223\" cy=\"320\" r=\"7.0\" style=\"fill:gray;stroke:black;stroke-width:1.0\"/>\n",
       "<circle cx=\"236\" cy=\"55\" r=\"7.0\" style=\"fill:gray;stroke:black;stroke-width:1.0\"/>\n",
       "<circle cx=\"204\" cy=\"92\" r=\"7.0\" style=\"fill:gray;stroke:black;stroke-width:1.0\"/>\n",
       "<circle cx=\"165\" cy=\"131\" r=\"7.0\" style=\"fill:gray;stroke:black;stroke-width:1.0\"/>\n",
       "<circle cx=\"476\" cy=\"94\" r=\"7.0\" style=\"fill:gray;stroke:black;stroke-width:1.0\"/>\n",
       "<text text-anchor=\"start\" x=\"336\" y=\"48\" font-size=\"12\">Pablo Picasso</text><text text-anchor=\"start\" x=\"109\" y=\"108\" font-size=\"12\">Claude Monet</text><text text-anchor=\"start\" x=\"163\" y=\"268\" font-size=\"12\">Michel Angelo</text><text text-anchor=\"start\" x=\"160\" y=\"64\" font-size=\"12\">Edouard Manet</text><text text-anchor=\"start\" x=\"233\" y=\"227\" font-size=\"12\">Peter Paul Rubens</text><text text-anchor=\"start\" x=\"297\" y=\"257\" font-size=\"12\">Rembrandt</text><text text-anchor=\"start\" x=\"509\" y=\"20\" font-size=\"12\">Gustav Klimt</text><text text-anchor=\"start\" x=\"144\" y=\"162\" font-size=\"12\">Edgar Degas</text><text text-anchor=\"start\" x=\"294\" y=\"140\" font-size=\"12\">Vincent van Gogh</text><text text-anchor=\"start\" x=\"240\" y=\"320\" font-size=\"12\">Leonardo da Vinci</text><text text-anchor=\"start\" x=\"253\" y=\"55\" font-size=\"12\">Henri Matisse</text><text text-anchor=\"start\" x=\"221\" y=\"92\" font-size=\"12\">Paul Cezanne</text><text text-anchor=\"start\" x=\"182\" y=\"131\" font-size=\"12\">Pierre-Auguste Renoir</text><text text-anchor=\"start\" x=\"493\" y=\"94\" font-size=\"12\">Egon Schiele</text></svg>"
      ],
      "text/plain": [
       "<IPython.core.display.SVG object>"
      ]
     },
     "execution_count": 12,
     "metadata": {},
     "output_type": "execute_result"
    }
   ],
   "source": [
    "image = svg_digraph(adjacency, position, names, labels)\n",
    "SVG(image)"
   ]
  },
  {
   "cell_type": "markdown",
   "metadata": {},
   "source": [
    "## Bipartite graphs"
   ]
  },
  {
   "cell_type": "code",
   "execution_count": 13,
   "metadata": {},
   "outputs": [],
   "source": [
    "graph = movie_actor(metadata=True)\n",
    "biadjacency = graph.biadjacency\n",
    "names_row = graph.names_row\n",
    "names_col = graph.names_col"
   ]
  },
  {
   "cell_type": "code",
   "execution_count": 14,
   "metadata": {},
   "outputs": [],
   "source": [
    "# subgraph\n",
    "k = 5\n",
    "biadjacency = biadjacency[k:]\n",
    "names_row = names_row[k:]"
   ]
  },
  {
   "cell_type": "code",
   "execution_count": 15,
   "metadata": {},
   "outputs": [],
   "source": [
    "adjacency = bipartite2undirected(biadjacency)\n",
    "labels = get_connected_components(adjacency)"
   ]
  },
  {
   "cell_type": "code",
   "execution_count": 16,
   "metadata": {},
   "outputs": [],
   "source": [
    "n_row, _ = biadjacency.shape\n",
    "labels_row = labels[:n_row]\n",
    "labels_col = labels[n_row:]"
   ]
  },
  {
   "cell_type": "code",
   "execution_count": 17,
   "metadata": {},
   "outputs": [
    {
     "data": {
      "image/svg+xml": [
       "<svg xmlns=\"http://www.w3.org/2000/svg\" width=\"728.0\" height=\"340\">\n",
       "<path stroke-width=\"1\" stroke=\"black\" d=\"M 188 260 588 300\"/>\n",
       "<path stroke-width=\"1\" stroke=\"black\" d=\"M 188 120 588 100\"/>\n",
       "<path stroke-width=\"1\" stroke=\"black\" d=\"M 188 120 588 120\"/>\n",
       "<path stroke-width=\"1\" stroke=\"black\" d=\"M 188 160 588 180\"/>\n",
       "<path stroke-width=\"1\" stroke=\"black\" d=\"M 188 160 588 220\"/>\n",
       "<path stroke-width=\"1\" stroke=\"black\" d=\"M 188 160 588 240\"/>\n",
       "<path stroke-width=\"1\" stroke=\"black\" d=\"M 188 79 588 59\"/>\n",
       "<path stroke-width=\"1\" stroke=\"black\" d=\"M 188 79 588 220\"/>\n",
       "<path stroke-width=\"1\" stroke=\"black\" d=\"M 188 79 588 79\"/>\n",
       "<path stroke-width=\"1\" stroke=\"black\" d=\"M 188 180 588 59\"/>\n",
       "<path stroke-width=\"1\" stroke=\"black\" d=\"M 188 180 588 200\"/>\n",
       "<path stroke-width=\"1\" stroke=\"black\" d=\"M 188 180 588 220\"/>\n",
       "<path stroke-width=\"1\" stroke=\"black\" d=\"M 188 140 588 120\"/>\n",
       "<path stroke-width=\"1\" stroke=\"black\" d=\"M 188 140 588 140\"/>\n",
       "<path stroke-width=\"1\" stroke=\"black\" d=\"M 188 140 588 160\"/>\n",
       "<path stroke-width=\"1\" stroke=\"black\" d=\"M 188 200 588 180\"/>\n",
       "<path stroke-width=\"1\" stroke=\"black\" d=\"M 188 200 588 120\"/>\n",
       "<path stroke-width=\"1\" stroke=\"black\" d=\"M 188 200 588 140\"/>\n",
       "<path stroke-width=\"1\" stroke=\"black\" d=\"M 188 200 588 200\"/>\n",
       "<path stroke-width=\"1\" stroke=\"black\" d=\"M 188 200 588 220\"/>\n",
       "<path stroke-width=\"1\" stroke=\"black\" d=\"M 188 220 588 260\"/>\n",
       "<path stroke-width=\"1\" stroke=\"black\" d=\"M 188 220 588 320\"/>\n",
       "<path stroke-width=\"1\" stroke=\"black\" d=\"M 188 240 588 260\"/>\n",
       "<path stroke-width=\"1\" stroke=\"black\" d=\"M 188 240 588 280\"/>\n",
       "<path stroke-width=\"1\" stroke=\"black\" d=\"M 188 240 588 300\"/>\n",
       "<path stroke-width=\"1\" stroke=\"black\" d=\"M 188 260 588 280\"/>\n",
       "<path stroke-width=\"1\" stroke=\"black\" d=\"M 188 100 588 140\"/>\n",
       "<path stroke-width=\"1\" stroke=\"black\" d=\"M 188 100 588 100\"/>\n",
       "<circle cx=\"188\" cy=\"260\" r=\"7.0\" style=\"fill:blue;stroke:black;stroke-width:1.0\"/>\n",
       "<circle cx=\"188\" cy=\"240\" r=\"7.0\" style=\"fill:blue;stroke:black;stroke-width:1.0\"/>\n",
       "<circle cx=\"188\" cy=\"220\" r=\"7.0\" style=\"fill:blue;stroke:black;stroke-width:1.0\"/>\n",
       "<circle cx=\"188\" cy=\"200\" r=\"7.0\" style=\"fill:red;stroke:black;stroke-width:1.0\"/>\n",
       "<circle cx=\"188\" cy=\"140\" r=\"7.0\" style=\"fill:red;stroke:black;stroke-width:1.0\"/>\n",
       "<circle cx=\"188\" cy=\"180\" r=\"7.0\" style=\"fill:red;stroke:black;stroke-width:1.0\"/>\n",
       "<circle cx=\"188\" cy=\"79\" r=\"7.0\" style=\"fill:red;stroke:black;stroke-width:1.0\"/>\n",
       "<circle cx=\"188\" cy=\"160\" r=\"7.0\" style=\"fill:red;stroke:black;stroke-width:1.0\"/>\n",
       "<circle cx=\"188\" cy=\"120\" r=\"7.0\" style=\"fill:red;stroke:black;stroke-width:1.0\"/>\n",
       "<circle cx=\"188\" cy=\"100\" r=\"7.0\" style=\"fill:red;stroke:black;stroke-width:1.0\"/>\n",
       "<circle cx=\"588\" cy=\"160\" r=\"7.0\" style=\"fill:red;stroke:black;stroke-width:1.0\"/>\n",
       "<circle cx=\"588\" cy=\"240\" r=\"7.0\" style=\"fill:red;stroke:black;stroke-width:1.0\"/>\n",
       "<circle cx=\"588\" cy=\"40\" r=\"7.0\" style=\"fill:green;stroke:black;stroke-width:1.0\"/>\n",
       "<circle cx=\"588\" cy=\"320\" r=\"7.0\" style=\"fill:blue;stroke:black;stroke-width:1.0\"/>\n",
       "<circle cx=\"588\" cy=\"300\" r=\"7.0\" style=\"fill:blue;stroke:black;stroke-width:1.0\"/>\n",
       "<circle cx=\"588\" cy=\"79\" r=\"7.0\" style=\"fill:red;stroke:black;stroke-width:1.0\"/>\n",
       "<circle cx=\"588\" cy=\"20\" r=\"7.0\" style=\"fill:orange;stroke:black;stroke-width:1.0\"/>\n",
       "<circle cx=\"588\" cy=\"280\" r=\"7.0\" style=\"fill:blue;stroke:black;stroke-width:1.0\"/>\n",
       "<circle cx=\"588\" cy=\"260\" r=\"7.0\" style=\"fill:blue;stroke:black;stroke-width:1.0\"/>\n",
       "<circle cx=\"588\" cy=\"220\" r=\"7.0\" style=\"fill:red;stroke:black;stroke-width:1.0\"/>\n",
       "<circle cx=\"588\" cy=\"200\" r=\"7.0\" style=\"fill:red;stroke:black;stroke-width:1.0\"/>\n",
       "<circle cx=\"588\" cy=\"140\" r=\"7.0\" style=\"fill:red;stroke:black;stroke-width:1.0\"/>\n",
       "<circle cx=\"588\" cy=\"120\" r=\"7.0\" style=\"fill:red;stroke:black;stroke-width:1.0\"/>\n",
       "<circle cx=\"588\" cy=\"59\" r=\"7.0\" style=\"fill:red;stroke:black;stroke-width:1.0\"/>\n",
       "<circle cx=\"588\" cy=\"100\" r=\"7.0\" style=\"fill:red;stroke:black;stroke-width:1.0\"/>\n",
       "<circle cx=\"588\" cy=\"180\" r=\"7.0\" style=\"fill:red;stroke:black;stroke-width:1.0\"/>\n",
       "<text text-anchor=\"end\" x=\"178\" y=\"260\" font-size=\"12\">La La Land</text><text text-anchor=\"end\" x=\"178\" y=\"240\" font-size=\"12\">Crazy Stupid Love</text><text text-anchor=\"end\" x=\"178\" y=\"220\" font-size=\"12\">Vice</text><text text-anchor=\"end\" x=\"178\" y=\"200\" font-size=\"12\">The Grand Budapest Hotel</text><text text-anchor=\"end\" x=\"178\" y=\"140\" font-size=\"12\">Aviator</text><text text-anchor=\"end\" x=\"178\" y=\"180\" font-size=\"12\">007 Spectre</text><text text-anchor=\"end\" x=\"178\" y=\"79\" font-size=\"12\">Inglourious Basterds</text><text text-anchor=\"end\" x=\"178\" y=\"160\" font-size=\"12\">Midnight In Paris</text><text text-anchor=\"end\" x=\"178\" y=\"120\" font-size=\"12\">Murder on the Orient Express</text><text text-anchor=\"end\" x=\"178\" y=\"100\" font-size=\"12\">Fantastic Beasts 2</text><text text-anchor=\"start\" x=\"598\" y=\"160\" font-size=\"12\">Leonardo DiCaprio</text><text text-anchor=\"start\" x=\"598\" y=\"240\" font-size=\"12\">Marion Cotillard</text><text text-anchor=\"start\" x=\"598\" y=\"40\" font-size=\"12\">Joseph Gordon Lewitt</text><text text-anchor=\"start\" x=\"598\" y=\"320\" font-size=\"12\">Christian Bale</text><text text-anchor=\"start\" x=\"598\" y=\"300\" font-size=\"12\">Ryan Gosling</text><text text-anchor=\"start\" x=\"598\" y=\"79\" font-size=\"12\">Brad Pitt</text><text text-anchor=\"start\" x=\"598\" y=\"20\" font-size=\"12\">Carey Mulligan</text><text text-anchor=\"start\" x=\"598\" y=\"280\" font-size=\"12\">Emma Stone</text><text text-anchor=\"start\" x=\"598\" y=\"260\" font-size=\"12\">Steve Carell</text><text text-anchor=\"start\" x=\"598\" y=\"220\" font-size=\"12\">Lea Seydoux</text><text text-anchor=\"start\" x=\"598\" y=\"200\" font-size=\"12\">Ralph Fiennes</text><text text-anchor=\"start\" x=\"598\" y=\"140\" font-size=\"12\">Jude Law</text><text text-anchor=\"start\" x=\"598\" y=\"120\" font-size=\"12\">Willem Dafoe</text><text text-anchor=\"start\" x=\"598\" y=\"59\" font-size=\"12\">Christophe Waltz</text><text text-anchor=\"start\" x=\"598\" y=\"100\" font-size=\"12\">Johnny Depp</text><text text-anchor=\"start\" x=\"598\" y=\"180\" font-size=\"12\">Owen Wilson</text></svg>"
      ],
      "text/plain": [
       "<IPython.core.display.SVG object>"
      ]
     },
     "execution_count": 17,
     "metadata": {},
     "output_type": "execute_result"
    }
   ],
   "source": [
    "image = svg_bigraph(biadjacency, names_row, names_col, labels_row, labels_col)\n",
    "SVG(image)"
   ]
  }
 ],
 "metadata": {
  "kernelspec": {
   "display_name": "Python 3",
   "language": "python",
   "name": "python3"
  },
  "language_info": {
   "codemirror_mode": {
    "name": "ipython",
    "version": 3
   },
   "file_extension": ".py",
   "mimetype": "text/x-python",
   "name": "python",
   "nbconvert_exporter": "python",
   "pygments_lexer": "ipython3",
   "version": "3.8.3"
  },
  "toc": {
   "base_numbering": 1,
   "nav_menu": {},
   "number_sections": true,
   "sideBar": true,
   "skip_h1_title": false,
   "title_cell": "Table of Contents",
   "title_sidebar": "Contents",
   "toc_cell": false,
   "toc_position": {},
   "toc_section_display": true,
   "toc_window_display": false
  }
 },
 "nbformat": 4,
 "nbformat_minor": 2
}
