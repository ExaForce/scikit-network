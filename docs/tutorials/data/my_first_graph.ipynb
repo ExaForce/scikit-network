{
 "cells": [
  {
   "cell_type": "markdown",
   "metadata": {},
   "source": [
    "# My first graph"
   ]
  },
  {
   "cell_type": "markdown",
   "metadata": {},
   "source": [
    "In scikit-network, a graph is represented by its [adjacency matrix](https://en.wikipedia.org/wiki/Adjacency_matrix) (or biadjacency matrix for a bipartite graph) in the [Compressed Sparse Row](https://docs.scipy.org/doc/scipy/reference/generated/scipy.sparse.csr_matrix.html) format of SciPy.\n",
    "\n",
    "In this tutorial, we present a few methods to instantiate a graph in this format."
   ]
  },
  {
   "cell_type": "code",
   "execution_count": 2,
   "metadata": {
    "jupyter": {
     "outputs_hidden": false
    },
    "pycharm": {
     "name": "#%%\n"
    }
   },
   "outputs": [],
   "source": [
    "from IPython.display import SVG\n",
    "\n",
    "import numpy as np\n",
    "from scipy import sparse\n",
    "import pandas as pd\n",
    "\n",
    "from sknetwork.utils import edgelist2adjacency, edgelist2biadjacency\n",
    "from sknetwork.data import convert_edge_list, load_edge_list, load_graphml\n",
    "from sknetwork.visualization import svg_graph, svg_digraph, svg_bigraph"
   ]
  },
  {
   "cell_type": "markdown",
   "metadata": {},
   "source": [
    "## From a NumPy array\n",
    "For small graphs, you can instantiate the adjacency matrix as a dense NumPy array and convert it into a sparse matrix in CSR format."
   ]
  },
  {
   "cell_type": "code",
   "execution_count": 3,
   "metadata": {
    "jupyter": {
     "outputs_hidden": false
    },
    "pycharm": {
     "name": "#%%\n"
    }
   },
   "outputs": [
    {
     "data": {
      "image/svg+xml": [
       "<svg xmlns=\"http://www.w3.org/2000/svg\" width=\"440\" height=\"340\">\n",
       "<path stroke-width=\"1\" stroke=\"black\" d=\"M 420 147 217 136\"/>\n",
       "<path stroke-width=\"1\" stroke=\"black\" d=\"M 420 147 341 320\"/>\n",
       "<path stroke-width=\"1\" stroke=\"black\" d=\"M 217 136 420 147\"/>\n",
       "<path stroke-width=\"1\" stroke=\"black\" d=\"M 217 136 341 320\"/>\n",
       "<path stroke-width=\"1\" stroke=\"black\" d=\"M 217 136 20 20\"/>\n",
       "<path stroke-width=\"1\" stroke=\"black\" d=\"M 341 320 420 147\"/>\n",
       "<path stroke-width=\"1\" stroke=\"black\" d=\"M 341 320 217 136\"/>\n",
       "<path stroke-width=\"1\" stroke=\"black\" d=\"M 20 20 217 136\"/>\n",
       "<circle cx=\"420\" cy=\"147\" r=\"7.0\" style=\"fill:gray;stroke:black;stroke-width:1.0\"/>\n",
       "<circle cx=\"217\" cy=\"136\" r=\"7.0\" style=\"fill:gray;stroke:black;stroke-width:1.0\"/>\n",
       "<circle cx=\"341\" cy=\"320\" r=\"7.0\" style=\"fill:gray;stroke:black;stroke-width:1.0\"/>\n",
       "<circle cx=\"20\" cy=\"20\" r=\"7.0\" style=\"fill:gray;stroke:black;stroke-width:1.0\"/>\n",
       "</svg>"
      ],
      "text/plain": [
       "<IPython.core.display.SVG object>"
      ]
     },
     "execution_count": 3,
     "metadata": {},
     "output_type": "execute_result"
    }
   ],
   "source": [
    "adjacency = np.array([[0, 1, 1, 0], [1, 0, 1, 1], [1, 1, 0, 0], [0, 1, 0, 0]])\n",
    "adjacency = sparse.csr_matrix(adjacency)\n",
    "\n",
    "image = svg_graph(adjacency)\n",
    "SVG(image)"
   ]
  },
  {
   "cell_type": "markdown",
   "metadata": {},
   "source": [
    "## From an edge list\n",
    "Another natural way to build a graph is from a list of edges."
   ]
  },
  {
   "cell_type": "code",
   "execution_count": 4,
   "metadata": {
    "jupyter": {
     "outputs_hidden": false
    },
    "pycharm": {
     "name": "#%%\n"
    }
   },
   "outputs": [
    {
     "data": {
      "image/svg+xml": [
       "<svg xmlns=\"http://www.w3.org/2000/svg\" width=\"440\" height=\"340\">\n",
       "<defs><marker id=\"arrow-black\" markerWidth=\"10\" markerHeight=\"10\" refX=\"9\" refY=\"3\" orient=\"auto\">\n",
       "<path d=\"M0,0 L0,6 L9,3 z\" fill=\"black\"/></marker></defs>\n",
       "<path stroke-width=\"1\" stroke=\"black\" d=\"M 420 200 417 26\" marker-end=\"url(#arrow-black)\"/>\n",
       "<path stroke-width=\"1\" stroke=\"black\" d=\"M 420 200 26 137\" marker-end=\"url(#arrow-black)\"/>\n",
       "<path stroke-width=\"1\" stroke=\"black\" d=\"M 417 20 26 135\" marker-end=\"url(#arrow-black)\"/>\n",
       "<path stroke-width=\"1\" stroke=\"black\" d=\"M 20 136 23 314\" marker-end=\"url(#arrow-black)\"/>\n",
       "<path stroke-width=\"1\" stroke=\"black\" d=\"M 23 320 414 202\" marker-end=\"url(#arrow-black)\"/>\n",
       "<circle cx=\"420\" cy=\"200\" r=\"7.0\" style=\"fill:gray;stroke:black;stroke-width:1.0\"/>\n",
       "<circle cx=\"417\" cy=\"20\" r=\"7.0\" style=\"fill:gray;stroke:black;stroke-width:1.0\"/>\n",
       "<circle cx=\"20\" cy=\"136\" r=\"7.0\" style=\"fill:gray;stroke:black;stroke-width:1.0\"/>\n",
       "<circle cx=\"23\" cy=\"320\" r=\"7.0\" style=\"fill:gray;stroke:black;stroke-width:1.0\"/>\n",
       "</svg>"
      ],
      "text/plain": [
       "<IPython.core.display.SVG object>"
      ]
     },
     "execution_count": 4,
     "metadata": {},
     "output_type": "execute_result"
    }
   ],
   "source": [
    "edge_list = [(0, 1), (1, 2), (2, 3), (3, 0), (0, 2)]\n",
    "adjacency = edgelist2adjacency(edge_list)\n",
    "\n",
    "image = svg_digraph(adjacency)\n",
    "SVG(image)"
   ]
  },
  {
   "cell_type": "markdown",
   "metadata": {},
   "source": [
    "By default, the graph is treated as directed, but you can easily make it undirected."
   ]
  },
  {
   "cell_type": "code",
   "execution_count": 5,
   "metadata": {
    "jupyter": {
     "outputs_hidden": false
    },
    "pycharm": {
     "name": "#%%\n"
    }
   },
   "outputs": [
    {
     "data": {
      "image/svg+xml": [
       "<svg xmlns=\"http://www.w3.org/2000/svg\" width=\"440\" height=\"340\">\n",
       "<path stroke-width=\"1.0\" stroke=\"black\" d=\"M 335 116 20 20\"/>\n",
       "<path stroke-width=\"1.0\" stroke=\"black\" d=\"M 335 116 85 220\"/>\n",
       "<path stroke-width=\"1.0\" stroke=\"black\" d=\"M 335 116 420 320\"/>\n",
       "<path stroke-width=\"1.0\" stroke=\"black\" d=\"M 20 20 335 116\"/>\n",
       "<path stroke-width=\"1.0\" stroke=\"black\" d=\"M 20 20 85 220\"/>\n",
       "<path stroke-width=\"1.0\" stroke=\"black\" d=\"M 85 220 335 116\"/>\n",
       "<path stroke-width=\"1.0\" stroke=\"black\" d=\"M 85 220 20 20\"/>\n",
       "<path stroke-width=\"1.0\" stroke=\"black\" d=\"M 85 220 420 320\"/>\n",
       "<path stroke-width=\"1.0\" stroke=\"black\" d=\"M 420 320 335 116\"/>\n",
       "<path stroke-width=\"1.0\" stroke=\"black\" d=\"M 420 320 85 220\"/>\n",
       "<circle cx=\"335\" cy=\"116\" r=\"7.0\" style=\"fill:gray;stroke:black;stroke-width:1.0\"/>\n",
       "<circle cx=\"20\" cy=\"20\" r=\"7.0\" style=\"fill:gray;stroke:black;stroke-width:1.0\"/>\n",
       "<circle cx=\"85\" cy=\"220\" r=\"7.0\" style=\"fill:gray;stroke:black;stroke-width:1.0\"/>\n",
       "<circle cx=\"420\" cy=\"320\" r=\"7.0\" style=\"fill:gray;stroke:black;stroke-width:1.0\"/>\n",
       "</svg>"
      ],
      "text/plain": [
       "<IPython.core.display.SVG object>"
      ]
     },
     "execution_count": 5,
     "metadata": {},
     "output_type": "execute_result"
    }
   ],
   "source": [
    "adjacency = edgelist2adjacency(edge_list, undirected=True)\n",
    "\n",
    "image = svg_graph(adjacency)\n",
    "SVG(image)"
   ]
  },
  {
   "cell_type": "markdown",
   "metadata": {},
   "source": [
    "You might also want to add weights to your edges. Just use triplets instead of pairs!"
   ]
  },
  {
   "cell_type": "code",
   "execution_count": 6,
   "metadata": {
    "jupyter": {
     "outputs_hidden": false
    },
    "pycharm": {
     "name": "#%%\n"
    }
   },
   "outputs": [
    {
     "data": {
      "image/svg+xml": [
       "<svg xmlns=\"http://www.w3.org/2000/svg\" width=\"440\" height=\"340\">\n",
       "<defs><marker id=\"arrow-black\" markerWidth=\"10\" markerHeight=\"10\" refX=\"9\" refY=\"3\" orient=\"auto\">\n",
       "<path d=\"M0,0 L0,6 L9,3 z\" fill=\"black\"/></marker></defs>\n",
       "<path stroke-width=\"2.0\" stroke=\"black\" d=\"M 311 213 26 318\" marker-end=\"url(#arrow-black)\"/>\n",
       "<path stroke-width=\"5.0\" stroke=\"black\" d=\"M 311 213 134 129\" marker-end=\"url(#arrow-black)\"/>\n",
       "<path stroke-width=\"0.5\" stroke=\"black\" d=\"M 20 320 125 132\" marker-end=\"url(#arrow-black)\"/>\n",
       "<path stroke-width=\"2.0\" stroke=\"black\" d=\"M 128 126 414 22\" marker-end=\"url(#arrow-black)\"/>\n",
       "<path stroke-width=\"0.5\" stroke=\"black\" d=\"M 420 20 314 207\" marker-end=\"url(#arrow-black)\"/>\n",
       "<circle cx=\"311\" cy=\"213\" r=\"7.0\" style=\"fill:gray;stroke:black;stroke-width:1.0\"/>\n",
       "<circle cx=\"20\" cy=\"320\" r=\"7.0\" style=\"fill:gray;stroke:black;stroke-width:1.0\"/>\n",
       "<circle cx=\"128\" cy=\"126\" r=\"7.0\" style=\"fill:gray;stroke:black;stroke-width:1.0\"/>\n",
       "<circle cx=\"420\" cy=\"20\" r=\"7.0\" style=\"fill:gray;stroke:black;stroke-width:1.0\"/>\n",
       "</svg>"
      ],
      "text/plain": [
       "<IPython.core.display.SVG object>"
      ]
     },
     "execution_count": 6,
     "metadata": {},
     "output_type": "execute_result"
    }
   ],
   "source": [
    "edge_list = [(0, 1, 1), (1, 2, 0.5), (2, 3, 1), (3, 0, 0.5), (0, 2, 2)]\n",
    "adjacency = edgelist2adjacency(edge_list)\n",
    "\n",
    "image = svg_digraph(adjacency)\n",
    "SVG(image)"
   ]
  },
  {
   "cell_type": "markdown",
   "metadata": {
    "pycharm": {
     "name": "#%% md\n"
    }
   },
   "source": [
    "You can instantiate a bipartite graph as well."
   ]
  },
  {
   "cell_type": "code",
   "execution_count": 7,
   "metadata": {
    "pycharm": {
     "name": "#%%\n"
    }
   },
   "outputs": [
    {
     "data": {
      "image/svg+xml": [
       "<svg xmlns=\"http://www.w3.org/2000/svg\" width=\"440\" height=\"340\">\n",
       "<path stroke-width=\"1\" stroke=\"black\" d=\"M 20 320 420 245\"/>\n",
       "<path stroke-width=\"1\" stroke=\"black\" d=\"M 20 20 420 245\"/>\n",
       "<path stroke-width=\"1\" stroke=\"black\" d=\"M 20 20 420 95\"/>\n",
       "<path stroke-width=\"1\" stroke=\"black\" d=\"M 20 170 420 95\"/>\n",
       "<circle cx=\"20\" cy=\"320\" r=\"7.0\" style=\"fill:gray;stroke:black;stroke-width:1.0\"/>\n",
       "<circle cx=\"20\" cy=\"20\" r=\"7.0\" style=\"fill:gray;stroke:black;stroke-width:1.0\"/>\n",
       "<circle cx=\"20\" cy=\"170\" r=\"7.0\" style=\"fill:gray;stroke:black;stroke-width:1.0\"/>\n",
       "<circle cx=\"420\" cy=\"245\" r=\"7.0\" style=\"fill:gray;stroke:black;stroke-width:1.0\"/>\n",
       "<circle cx=\"420\" cy=\"95\" r=\"7.0\" style=\"fill:gray;stroke:black;stroke-width:1.0\"/>\n",
       "</svg>"
      ],
      "text/plain": [
       "<IPython.core.display.SVG object>"
      ]
     },
     "execution_count": 7,
     "metadata": {},
     "output_type": "execute_result"
    }
   ],
   "source": [
    "edge_list = [(0, 0), (1, 0), (1, 1), (2, 1)]\n",
    "biadjacency = edgelist2biadjacency(edge_list)\n",
    "\n",
    "image = svg_bigraph(biadjacency)\n",
    "SVG(image)"
   ]
  },
  {
   "cell_type": "markdown",
   "metadata": {},
   "source": [
    "If nodes are not indexed, convert them!"
   ]
  },
  {
   "cell_type": "code",
   "execution_count": 8,
   "metadata": {},
   "outputs": [],
   "source": [
    "edge_list = [(\"Alice\", \"Bob\"), (\"Bob\", \"Carey\"), (\"Alice\", \"David\"), (\"Carey\", \"David\"), (\"Bob\", \"David\")]\n",
    "graph = convert_edge_list(edge_list)"
   ]
  },
  {
   "cell_type": "markdown",
   "metadata": {},
   "source": [
    "You get a bunch containing the adjacency matrix and the name of each node."
   ]
  },
  {
   "cell_type": "code",
   "execution_count": 9,
   "metadata": {},
   "outputs": [
    {
     "data": {
      "text/plain": [
       "{'adjacency': <4x4 sparse matrix of type '<class 'numpy.float64'>'\n",
       " \twith 10 stored elements in Compressed Sparse Row format>,\n",
       " 'names': array(['Alice', 'Bob', 'Carey', 'David'], dtype='<U5')}"
      ]
     },
     "execution_count": 9,
     "metadata": {},
     "output_type": "execute_result"
    }
   ],
   "source": [
    "graph"
   ]
  },
  {
   "cell_type": "code",
   "execution_count": 10,
   "metadata": {},
   "outputs": [],
   "source": [
    "adjacency = graph.adjacency\n",
    "names = graph.names"
   ]
  },
  {
   "cell_type": "code",
   "execution_count": 11,
   "metadata": {},
   "outputs": [
    {
     "data": {
      "image/svg+xml": [
       "<svg xmlns=\"http://www.w3.org/2000/svg\" width=\"500.0\" height=\"340\">\n",
       "<path stroke-width=\"1.0\" stroke=\"gray\" d=\"M 420 20 289 249\"/>\n",
       "<path stroke-width=\"1.0\" stroke=\"gray\" d=\"M 420 20 142 75\"/>\n",
       "<path stroke-width=\"1.0\" stroke=\"gray\" d=\"M 289 249 420 20\"/>\n",
       "<path stroke-width=\"1.0\" stroke=\"gray\" d=\"M 289 249 20 320\"/>\n",
       "<path stroke-width=\"1.0\" stroke=\"gray\" d=\"M 289 249 142 75\"/>\n",
       "<path stroke-width=\"1.0\" stroke=\"gray\" d=\"M 20 320 289 249\"/>\n",
       "<path stroke-width=\"1.0\" stroke=\"gray\" d=\"M 20 320 142 75\"/>\n",
       "<path stroke-width=\"1.0\" stroke=\"gray\" d=\"M 142 75 420 20\"/>\n",
       "<path stroke-width=\"1.0\" stroke=\"gray\" d=\"M 142 75 289 249\"/>\n",
       "<path stroke-width=\"1.0\" stroke=\"gray\" d=\"M 142 75 20 320\"/>\n",
       "<circle cx=\"420\" cy=\"20\" r=\"7.0\" style=\"fill:gray;stroke:black;stroke-width:1.0\"/>\n",
       "<circle cx=\"289\" cy=\"249\" r=\"7.0\" style=\"fill:gray;stroke:black;stroke-width:1.0\"/>\n",
       "<circle cx=\"20\" cy=\"320\" r=\"7.0\" style=\"fill:gray;stroke:black;stroke-width:1.0\"/>\n",
       "<circle cx=\"142\" cy=\"75\" r=\"7.0\" style=\"fill:gray;stroke:black;stroke-width:1.0\"/>\n",
       "<text text-anchor=\"start\" x=\"430\" y=\"20\" font-size=\"12\">Alice</text><text text-anchor=\"start\" x=\"299\" y=\"249\" font-size=\"12\">Bob</text><text text-anchor=\"start\" x=\"30\" y=\"320\" font-size=\"12\">Carey</text><text text-anchor=\"start\" x=\"152\" y=\"75\" font-size=\"12\">David</text></svg>"
      ],
      "text/plain": [
       "<IPython.core.display.SVG object>"
      ]
     },
     "execution_count": 11,
     "metadata": {},
     "output_type": "execute_result"
    }
   ],
   "source": [
    "image = svg_graph(adjacency, names=names)\n",
    "SVG(image)"
   ]
  },
  {
   "cell_type": "markdown",
   "metadata": {},
   "source": [
    "By default, the weight of each edge is the number of occurrences of the corresponding link:"
   ]
  },
  {
   "cell_type": "code",
   "execution_count": 15,
   "metadata": {},
   "outputs": [],
   "source": [
    "edge_list_new = edge_list + [(\"Alice\", \"Bob\"), (\"Alice\", \"David\"), (\"Alice\", \"Bob\")]\n",
    "graph = convert_edge_list(edge_list_new)"
   ]
  },
  {
   "cell_type": "code",
   "execution_count": 16,
   "metadata": {},
   "outputs": [],
   "source": [
    "adjacency = graph.adjacency\n",
    "names = graph.names"
   ]
  },
  {
   "cell_type": "code",
   "execution_count": 17,
   "metadata": {},
   "outputs": [
    {
     "data": {
      "image/svg+xml": [
       "<svg xmlns=\"http://www.w3.org/2000/svg\" width=\"500.0\" height=\"340\">\n",
       "<path stroke-width=\"20.0\" stroke=\"gray\" d=\"M 20 125 147 320\"/>\n",
       "<path stroke-width=\"10.25\" stroke=\"gray\" d=\"M 20 125 222 20\"/>\n",
       "<path stroke-width=\"20.0\" stroke=\"gray\" d=\"M 147 320 20 125\"/>\n",
       "<path stroke-width=\"0.5\" stroke=\"gray\" d=\"M 147 320 420 291\"/>\n",
       "<path stroke-width=\"0.5\" stroke=\"gray\" d=\"M 147 320 222 20\"/>\n",
       "<path stroke-width=\"0.5\" stroke=\"gray\" d=\"M 420 291 147 320\"/>\n",
       "<path stroke-width=\"0.5\" stroke=\"gray\" d=\"M 420 291 222 20\"/>\n",
       "<path stroke-width=\"10.25\" stroke=\"gray\" d=\"M 222 20 20 125\"/>\n",
       "<path stroke-width=\"0.5\" stroke=\"gray\" d=\"M 222 20 147 320\"/>\n",
       "<path stroke-width=\"0.5\" stroke=\"gray\" d=\"M 222 20 420 291\"/>\n",
       "<circle cx=\"20\" cy=\"125\" r=\"7.0\" style=\"fill:gray;stroke:black;stroke-width:1.0\"/>\n",
       "<circle cx=\"147\" cy=\"320\" r=\"7.0\" style=\"fill:gray;stroke:black;stroke-width:1.0\"/>\n",
       "<circle cx=\"420\" cy=\"291\" r=\"7.0\" style=\"fill:gray;stroke:black;stroke-width:1.0\"/>\n",
       "<circle cx=\"222\" cy=\"20\" r=\"7.0\" style=\"fill:gray;stroke:black;stroke-width:1.0\"/>\n",
       "<text text-anchor=\"start\" x=\"30\" y=\"125\" font-size=\"12\">Alice</text><text text-anchor=\"start\" x=\"157\" y=\"320\" font-size=\"12\">Bob</text><text text-anchor=\"start\" x=\"430\" y=\"291\" font-size=\"12\">Carey</text><text text-anchor=\"start\" x=\"232\" y=\"20\" font-size=\"12\">David</text></svg>"
      ],
      "text/plain": [
       "<IPython.core.display.SVG object>"
      ]
     },
     "execution_count": 17,
     "metadata": {},
     "output_type": "execute_result"
    }
   ],
   "source": [
    "image = svg_graph(adjacency, names=names)\n",
    "SVG(image)"
   ]
  },
  {
   "cell_type": "markdown",
   "metadata": {},
   "source": [
    "Again, you can make the graph directed:"
   ]
  },
  {
   "cell_type": "code",
   "execution_count": 18,
   "metadata": {},
   "outputs": [],
   "source": [
    "graph = convert_edge_list(edge_list, directed=True)"
   ]
  },
  {
   "cell_type": "code",
   "execution_count": 19,
   "metadata": {},
   "outputs": [
    {
     "data": {
      "text/plain": [
       "{'adjacency': <4x4 sparse matrix of type '<class 'numpy.int64'>'\n",
       " \twith 5 stored elements in Compressed Sparse Row format>,\n",
       " 'names': array(['Alice', 'Bob', 'Carey', 'David'], dtype='<U5')}"
      ]
     },
     "execution_count": 19,
     "metadata": {},
     "output_type": "execute_result"
    }
   ],
   "source": [
    "graph"
   ]
  },
  {
   "cell_type": "code",
   "execution_count": 20,
   "metadata": {},
   "outputs": [],
   "source": [
    "adjacency = graph.adjacency\n",
    "names = graph.names"
   ]
  },
  {
   "cell_type": "code",
   "execution_count": 21,
   "metadata": {},
   "outputs": [
    {
     "data": {
      "image/svg+xml": [
       "<svg xmlns=\"http://www.w3.org/2000/svg\" width=\"481.82111105553116\" height=\"340\">\n",
       "<defs><marker id=\"arrow-gray\" markerWidth=\"10\" markerHeight=\"10\" refX=\"9\" refY=\"3\" orient=\"auto\">\n",
       "<path d=\"M0,0 L0,6 L9,3 z\" fill=\"gray\"/></marker></defs>\n",
       "<path stroke-width=\"1\" stroke=\"gray\" d=\"M 42 20 414 138\" marker-end=\"url(#arrow-gray)\"/>\n",
       "<path stroke-width=\"1\" stroke=\"gray\" d=\"M 42 20 20 192\" marker-end=\"url(#arrow-gray)\"/>\n",
       "<path stroke-width=\"1\" stroke=\"gray\" d=\"M 420 140 401 314\" marker-end=\"url(#arrow-gray)\"/>\n",
       "<path stroke-width=\"1\" stroke=\"gray\" d=\"M 420 140 26 197\" marker-end=\"url(#arrow-gray)\"/>\n",
       "<path stroke-width=\"1\" stroke=\"gray\" d=\"M 401 320 26 200\" marker-end=\"url(#arrow-gray)\"/>\n",
       "<circle cx=\"42\" cy=\"20\" r=\"7.0\" style=\"fill:gray;stroke:black;stroke-width:1.0\"/>\n",
       "<circle cx=\"420\" cy=\"140\" r=\"7.0\" style=\"fill:gray;stroke:black;stroke-width:1.0\"/>\n",
       "<circle cx=\"401\" cy=\"320\" r=\"7.0\" style=\"fill:gray;stroke:black;stroke-width:1.0\"/>\n",
       "<circle cx=\"20\" cy=\"198\" r=\"7.0\" style=\"fill:gray;stroke:black;stroke-width:1.0\"/>\n",
       "<text text-anchor=\"start\" x=\"59\" y=\"20\" font-size=\"12\">Alice</text><text text-anchor=\"start\" x=\"437\" y=\"140\" font-size=\"12\">Bob</text><text text-anchor=\"start\" x=\"418\" y=\"320\" font-size=\"12\">Carey</text><text text-anchor=\"start\" x=\"37\" y=\"198\" font-size=\"12\">David</text></svg>"
      ],
      "text/plain": [
       "<IPython.core.display.SVG object>"
      ]
     },
     "execution_count": 21,
     "metadata": {},
     "output_type": "execute_result"
    }
   ],
   "source": [
    "image = svg_digraph(adjacency, names=names)\n",
    "SVG(image)"
   ]
  },
  {
   "cell_type": "markdown",
   "metadata": {},
   "source": [
    "The graph can also have explicit weights:"
   ]
  },
  {
   "cell_type": "code",
   "execution_count": 22,
   "metadata": {},
   "outputs": [],
   "source": [
    "edge_list = [(\"Alice\", \"Bob\", 3), (\"Bob\", \"Carey\", 2), (\"Alice\", \"David\", 1), (\"Carey\", \"David\", 2), (\"Bob\", \"David\", 3)]\n",
    "graph = convert_edge_list(edge_list)"
   ]
  },
  {
   "cell_type": "code",
   "execution_count": 23,
   "metadata": {},
   "outputs": [],
   "source": [
    "adjacency = graph.adjacency\n",
    "names = graph.names"
   ]
  },
  {
   "cell_type": "code",
   "execution_count": 24,
   "metadata": {},
   "outputs": [
    {
     "data": {
      "image/svg+xml": [
       "<svg xmlns=\"http://www.w3.org/2000/svg\" width=\"500.0\" height=\"340\">\n",
       "<path stroke-width=\"20.0\" stroke=\"gray\" d=\"M 20 20 51 176\"/>\n",
       "<path stroke-width=\"0.5\" stroke=\"gray\" d=\"M 20 20 420 164\"/>\n",
       "<path stroke-width=\"20.0\" stroke=\"gray\" d=\"M 51 176 20 20\"/>\n",
       "<path stroke-width=\"10.25\" stroke=\"gray\" d=\"M 51 176 310 320\"/>\n",
       "<path stroke-width=\"20.0\" stroke=\"gray\" d=\"M 51 176 420 164\"/>\n",
       "<path stroke-width=\"10.25\" stroke=\"gray\" d=\"M 310 320 51 176\"/>\n",
       "<path stroke-width=\"10.25\" stroke=\"gray\" d=\"M 310 320 420 164\"/>\n",
       "<path stroke-width=\"0.5\" stroke=\"gray\" d=\"M 420 164 20 20\"/>\n",
       "<path stroke-width=\"20.0\" stroke=\"gray\" d=\"M 420 164 51 176\"/>\n",
       "<path stroke-width=\"10.25\" stroke=\"gray\" d=\"M 420 164 310 320\"/>\n",
       "<circle cx=\"20\" cy=\"20\" r=\"10.5\" style=\"fill:gray;stroke:black;stroke-width:1.0\"/>\n",
       "<circle cx=\"51\" cy=\"176\" r=\"20.0\" style=\"fill:gray;stroke:black;stroke-width:1.0\"/>\n",
       "<circle cx=\"310\" cy=\"320\" r=\"10.5\" style=\"fill:gray;stroke:black;stroke-width:1.0\"/>\n",
       "<circle cx=\"420\" cy=\"164\" r=\"15.25\" style=\"fill:gray;stroke:black;stroke-width:1.0\"/>\n",
       "<text text-anchor=\"start\" x=\"33\" y=\"20\" font-size=\"12\">Alice</text><text text-anchor=\"start\" x=\"74\" y=\"176\" font-size=\"12\">Bob</text><text text-anchor=\"start\" x=\"323\" y=\"320\" font-size=\"12\">Carey</text><text text-anchor=\"start\" x=\"438\" y=\"164\" font-size=\"12\">David</text></svg>"
      ],
      "text/plain": [
       "<IPython.core.display.SVG object>"
      ]
     },
     "execution_count": 24,
     "metadata": {},
     "output_type": "execute_result"
    }
   ],
   "source": [
    "image = svg_graph(adjacency, names=names, display_edge_weight=True, display_node_weight=True)\n",
    "SVG(image)"
   ]
  },
  {
   "cell_type": "markdown",
   "metadata": {},
   "source": [
    "For a bipartite graph:"
   ]
  },
  {
   "cell_type": "code",
   "execution_count": 25,
   "metadata": {},
   "outputs": [],
   "source": [
    "edge_list = [(\"Alice\", \"Football\"), (\"Bob\", \"Tennis\"), (\"David\", \"Football\"), (\"Carey\", \"Tennis\"), (\"Carey\", \"Football\")]\n",
    "graph = convert_edge_list(edge_list, bipartite=True)"
   ]
  },
  {
   "cell_type": "code",
   "execution_count": 26,
   "metadata": {},
   "outputs": [],
   "source": [
    "biadjacency = graph.biadjacency\n",
    "names = graph.names\n",
    "names_col = graph.names_col"
   ]
  },
  {
   "cell_type": "code",
   "execution_count": 27,
   "metadata": {},
   "outputs": [
    {
     "data": {
      "image/svg+xml": [
       "<svg xmlns=\"http://www.w3.org/2000/svg\" width=\"518.0\" height=\"340\">\n",
       "<path stroke-width=\"1\" stroke=\"black\" d=\"M 50 320 450 220\"/>\n",
       "<path stroke-width=\"1\" stroke=\"black\" d=\"M 50 120 450 120\"/>\n",
       "<path stroke-width=\"1\" stroke=\"black\" d=\"M 50 20 450 220\"/>\n",
       "<path stroke-width=\"1\" stroke=\"black\" d=\"M 50 20 450 120\"/>\n",
       "<path stroke-width=\"1\" stroke=\"black\" d=\"M 50 220 450 220\"/>\n",
       "<circle cx=\"50\" cy=\"320\" r=\"7.0\" style=\"fill:gray;stroke:black;stroke-width:1.0\"/>\n",
       "<circle cx=\"50\" cy=\"120\" r=\"7.0\" style=\"fill:gray;stroke:black;stroke-width:1.0\"/>\n",
       "<circle cx=\"50\" cy=\"20\" r=\"7.0\" style=\"fill:gray;stroke:black;stroke-width:1.0\"/>\n",
       "<circle cx=\"50\" cy=\"220\" r=\"7.0\" style=\"fill:gray;stroke:black;stroke-width:1.0\"/>\n",
       "<circle cx=\"450\" cy=\"220\" r=\"7.0\" style=\"fill:gray;stroke:black;stroke-width:1.0\"/>\n",
       "<circle cx=\"450\" cy=\"120\" r=\"7.0\" style=\"fill:gray;stroke:black;stroke-width:1.0\"/>\n",
       "<text text-anchor=\"end\" x=\"40\" y=\"320\" font-size=\"12\">Alice</text><text text-anchor=\"end\" x=\"40\" y=\"120\" font-size=\"12\">Bob</text><text text-anchor=\"end\" x=\"40\" y=\"20\" font-size=\"12\">Carey</text><text text-anchor=\"end\" x=\"40\" y=\"220\" font-size=\"12\">David</text><text text-anchor=\"start\" x=\"460\" y=\"220\" font-size=\"12\">Football</text><text text-anchor=\"start\" x=\"460\" y=\"120\" font-size=\"12\">Tennis</text></svg>"
      ],
      "text/plain": [
       "<IPython.core.display.SVG object>"
      ]
     },
     "execution_count": 27,
     "metadata": {},
     "output_type": "execute_result"
    }
   ],
   "source": [
    "image = svg_bigraph(biadjacency, names_row=names, names_col=names_col)\n",
    "SVG(image)"
   ]
  },
  {
   "cell_type": "markdown",
   "metadata": {},
   "source": [
    "## From a dataframe"
   ]
  },
  {
   "cell_type": "code",
   "execution_count": 30,
   "metadata": {},
   "outputs": [],
   "source": [
    "df = pd.read_csv('miserables.tsv', sep='\\t', names=['character_1', 'character_2'])"
   ]
  },
  {
   "cell_type": "code",
   "execution_count": 31,
   "metadata": {},
   "outputs": [
    {
     "data": {
      "text/html": [
       "<div>\n",
       "<style scoped>\n",
       "    .dataframe tbody tr th:only-of-type {\n",
       "        vertical-align: middle;\n",
       "    }\n",
       "\n",
       "    .dataframe tbody tr th {\n",
       "        vertical-align: top;\n",
       "    }\n",
       "\n",
       "    .dataframe thead th {\n",
       "        text-align: right;\n",
       "    }\n",
       "</style>\n",
       "<table border=\"1\" class=\"dataframe\">\n",
       "  <thead>\n",
       "    <tr style=\"text-align: right;\">\n",
       "      <th></th>\n",
       "      <th>character_1</th>\n",
       "      <th>character_2</th>\n",
       "    </tr>\n",
       "  </thead>\n",
       "  <tbody>\n",
       "    <tr>\n",
       "      <th>0</th>\n",
       "      <td>Myriel</td>\n",
       "      <td>Napoleon</td>\n",
       "    </tr>\n",
       "    <tr>\n",
       "      <th>1</th>\n",
       "      <td>Myriel</td>\n",
       "      <td>Mlle Baptistine</td>\n",
       "    </tr>\n",
       "    <tr>\n",
       "      <th>2</th>\n",
       "      <td>Myriel</td>\n",
       "      <td>Mme Magloire</td>\n",
       "    </tr>\n",
       "    <tr>\n",
       "      <th>3</th>\n",
       "      <td>Myriel</td>\n",
       "      <td>Countess de Lo</td>\n",
       "    </tr>\n",
       "    <tr>\n",
       "      <th>4</th>\n",
       "      <td>Myriel</td>\n",
       "      <td>Geborand</td>\n",
       "    </tr>\n",
       "  </tbody>\n",
       "</table>\n",
       "</div>"
      ],
      "text/plain": [
       "  character_1      character_2\n",
       "0      Myriel         Napoleon\n",
       "1      Myriel  Mlle Baptistine\n",
       "2      Myriel     Mme Magloire\n",
       "3      Myriel   Countess de Lo\n",
       "4      Myriel         Geborand"
      ]
     },
     "execution_count": 31,
     "metadata": {},
     "output_type": "execute_result"
    }
   ],
   "source": [
    "df.head()"
   ]
  },
  {
   "cell_type": "code",
   "execution_count": 32,
   "metadata": {},
   "outputs": [],
   "source": [
    "edge_list = list(df.itertuples(index=False))"
   ]
  },
  {
   "cell_type": "code",
   "execution_count": 33,
   "metadata": {},
   "outputs": [],
   "source": [
    "graph = convert_edge_list(edge_list)"
   ]
  },
  {
   "cell_type": "code",
   "execution_count": 34,
   "metadata": {},
   "outputs": [
    {
     "data": {
      "text/plain": [
       "{'adjacency': <77x77 sparse matrix of type '<class 'numpy.float64'>'\n",
       " \twith 508 stored elements in Compressed Sparse Row format>,\n",
       " 'names': array(['Anzelma', 'Babet', 'Bahorel', 'Bamatabois', 'Baroness',\n",
       "        'Blacheville', 'Bossuet', 'Boulatruelle', 'Brevet', 'Brujon',\n",
       "        'Champmathieu', 'Champtercier', 'Chenildieu', 'Child1', 'Child2',\n",
       "        'Claquesous', 'Cochepaille', 'Combeferre', 'Cosette', 'Count',\n",
       "        'Countess de Lo', 'Courfeyrac', 'Cravatte', 'Dahlia', 'Enjolras',\n",
       "        'Eponine', 'Fameuil', 'Fantine', 'Fauchelevent', 'Favourite',\n",
       "        'Feuilly', 'Gavroche', 'Geborand', 'Gervais', 'Gillenormand',\n",
       "        'Grantaire', 'Gribier', 'Gueulemer', 'Isabeau', 'Javert', 'Joly',\n",
       "        'Jondrette', 'Judge', 'Labarre', 'Listolier', 'Lt Gillenormand',\n",
       "        'Mabeuf', 'Magnon', 'Marguerite', 'Marius', 'Mlle Baptistine',\n",
       "        'Mlle Gillenormand', 'Mlle Vaubois', 'Mme Burgon', 'Mme Der',\n",
       "        'Mme Hucheloup', 'Mme Magloire', 'Mme Pontmercy', 'Mme Thenardier',\n",
       "        'Montparnasse', 'MotherInnocent', 'MotherPlutarch', 'Myriel',\n",
       "        'Napoleon', 'Old man', 'Perpetue', 'Pontmercy', 'Prouvaire',\n",
       "        'Scaufflaire', 'Simplice', 'Thenardier', 'Tholomyes', 'Toussaint',\n",
       "        'Valjean', 'Woman1', 'Woman2', 'Zephine'], dtype='<U17')}"
      ]
     },
     "execution_count": 34,
     "metadata": {},
     "output_type": "execute_result"
    }
   ],
   "source": [
    "graph"
   ]
  },
  {
   "cell_type": "code",
   "execution_count": 37,
   "metadata": {},
   "outputs": [],
   "source": [
    "df = pd.read_csv('movie_actor.tsv', sep='\\t', names=['movie', 'actor'])"
   ]
  },
  {
   "cell_type": "code",
   "execution_count": 38,
   "metadata": {},
   "outputs": [
    {
     "data": {
      "text/html": [
       "<div>\n",
       "<style scoped>\n",
       "    .dataframe tbody tr th:only-of-type {\n",
       "        vertical-align: middle;\n",
       "    }\n",
       "\n",
       "    .dataframe tbody tr th {\n",
       "        vertical-align: top;\n",
       "    }\n",
       "\n",
       "    .dataframe thead th {\n",
       "        text-align: right;\n",
       "    }\n",
       "</style>\n",
       "<table border=\"1\" class=\"dataframe\">\n",
       "  <thead>\n",
       "    <tr style=\"text-align: right;\">\n",
       "      <th></th>\n",
       "      <th>movie</th>\n",
       "      <th>actor</th>\n",
       "    </tr>\n",
       "  </thead>\n",
       "  <tbody>\n",
       "    <tr>\n",
       "      <th>0</th>\n",
       "      <td>Inception</td>\n",
       "      <td>Leonardo DiCaprio</td>\n",
       "    </tr>\n",
       "    <tr>\n",
       "      <th>1</th>\n",
       "      <td>Inception</td>\n",
       "      <td>Marion Cotillard</td>\n",
       "    </tr>\n",
       "    <tr>\n",
       "      <th>2</th>\n",
       "      <td>Inception</td>\n",
       "      <td>Joseph Gordon Lewitt</td>\n",
       "    </tr>\n",
       "    <tr>\n",
       "      <th>3</th>\n",
       "      <td>The Dark Knight Rises</td>\n",
       "      <td>Marion Cotillard</td>\n",
       "    </tr>\n",
       "    <tr>\n",
       "      <th>4</th>\n",
       "      <td>The Dark Knight Rises</td>\n",
       "      <td>Joseph Gordon Lewitt</td>\n",
       "    </tr>\n",
       "  </tbody>\n",
       "</table>\n",
       "</div>"
      ],
      "text/plain": [
       "                   movie                 actor\n",
       "0              Inception     Leonardo DiCaprio\n",
       "1              Inception      Marion Cotillard\n",
       "2              Inception  Joseph Gordon Lewitt\n",
       "3  The Dark Knight Rises      Marion Cotillard\n",
       "4  The Dark Knight Rises  Joseph Gordon Lewitt"
      ]
     },
     "execution_count": 38,
     "metadata": {},
     "output_type": "execute_result"
    }
   ],
   "source": [
    "df.head()"
   ]
  },
  {
   "cell_type": "code",
   "execution_count": 39,
   "metadata": {},
   "outputs": [],
   "source": [
    "edge_list = list(df.itertuples(index=False))"
   ]
  },
  {
   "cell_type": "code",
   "execution_count": 40,
   "metadata": {},
   "outputs": [],
   "source": [
    "graph = convert_edge_list(edge_list, bipartite=True)"
   ]
  },
  {
   "cell_type": "code",
   "execution_count": 41,
   "metadata": {},
   "outputs": [
    {
     "data": {
      "text/plain": [
       "{'biadjacency': <15x16 sparse matrix of type '<class 'numpy.int64'>'\n",
       " \twith 41 stored elements in Compressed Sparse Row format>,\n",
       " 'names': array(['007 Spectre', 'Aviator', 'Crazy Stupid Love', 'Drive',\n",
       "        'Fantastic Beasts 2', 'Inception', 'Inglourious Basterds',\n",
       "        'La La Land', 'Midnight In Paris', 'Murder on the Orient Express',\n",
       "        'The Big Short', 'The Dark Knight Rises',\n",
       "        'The Grand Budapest Hotel', 'The Great Gatsby', 'Vice'],\n",
       "       dtype='<U28'),\n",
       " 'names_row': array(['007 Spectre', 'Aviator', 'Crazy Stupid Love', 'Drive',\n",
       "        'Fantastic Beasts 2', 'Inception', 'Inglourious Basterds',\n",
       "        'La La Land', 'Midnight In Paris', 'Murder on the Orient Express',\n",
       "        'The Big Short', 'The Dark Knight Rises',\n",
       "        'The Grand Budapest Hotel', 'The Great Gatsby', 'Vice'],\n",
       "       dtype='<U28'),\n",
       " 'names_col': array(['Brad Pitt', 'Carey Mulligan', 'Christian Bale',\n",
       "        'Christophe Waltz', 'Emma Stone', 'Johnny Depp',\n",
       "        'Joseph Gordon Lewitt', 'Jude Law', 'Lea Seydoux',\n",
       "        'Leonardo DiCaprio', 'Marion Cotillard', 'Owen Wilson',\n",
       "        'Ralph Fiennes', 'Ryan Gosling', 'Steve Carell', 'Willem Dafoe'],\n",
       "       dtype='<U28')}"
      ]
     },
     "execution_count": 41,
     "metadata": {},
     "output_type": "execute_result"
    }
   ],
   "source": [
    "graph"
   ]
  },
  {
   "cell_type": "markdown",
   "metadata": {},
   "source": [
    "## From a TSV file"
   ]
  },
  {
   "cell_type": "markdown",
   "metadata": {},
   "source": [
    "You can directly load a graph from a TSV file:"
   ]
  },
  {
   "cell_type": "code",
   "execution_count": 42,
   "metadata": {},
   "outputs": [
    {
     "ename": "IndexError",
     "evalue": "list index out of range",
     "output_type": "error",
     "traceback": [
      "\u001b[0;31m---------------------------------------------------------------------------\u001b[0m",
      "\u001b[0;31mIndexError\u001b[0m                                Traceback (most recent call last)",
      "\u001b[0;32m<ipython-input-42-d5819df23efe>\u001b[0m in \u001b[0;36m<module>\u001b[0;34m\u001b[0m\n\u001b[0;32m----> 1\u001b[0;31m \u001b[0mgraph\u001b[0m \u001b[0;34m=\u001b[0m \u001b[0mload_edge_list\u001b[0m\u001b[0;34m(\u001b[0m\u001b[0;34m'miserables.tsv'\u001b[0m\u001b[0;34m)\u001b[0m\u001b[0;34m\u001b[0m\u001b[0;34m\u001b[0m\u001b[0m\n\u001b[0m",
      "\u001b[0;32m~/Documents/github/scikit-network/sknetwork/data/parse.py\u001b[0m in \u001b[0;36mload_edge_list\u001b[0;34m(file, directed, bipartite, weighted, weighted_input, named, comment, delimiter, reindex, fast_format)\u001b[0m\n\u001b[1;32m     98\u001b[0m                         \u001b[0mcol\u001b[0m\u001b[0;34m.\u001b[0m\u001b[0mappend\u001b[0m\u001b[0;34m(\u001b[0m\u001b[0mint\u001b[0m\u001b[0;34m(\u001b[0m\u001b[0mline\u001b[0m\u001b[0;34m[\u001b[0m\u001b[0;36m1\u001b[0m\u001b[0;34m]\u001b[0m\u001b[0;34m)\u001b[0m\u001b[0;34m)\u001b[0m\u001b[0;34m\u001b[0m\u001b[0;34m\u001b[0m\u001b[0m\n\u001b[1;32m     99\u001b[0m                     \u001b[0;32mif\u001b[0m \u001b[0mweighted\u001b[0m\u001b[0;34m:\u001b[0m\u001b[0;34m\u001b[0m\u001b[0;34m\u001b[0m\u001b[0m\n\u001b[0;32m--> 100\u001b[0;31m                         \u001b[0mdata\u001b[0m\u001b[0;34m.\u001b[0m\u001b[0mappend\u001b[0m\u001b[0;34m(\u001b[0m\u001b[0mfloat\u001b[0m\u001b[0;34m(\u001b[0m\u001b[0mline\u001b[0m\u001b[0;34m[\u001b[0m\u001b[0;36m2\u001b[0m\u001b[0;34m]\u001b[0m\u001b[0;34m)\u001b[0m\u001b[0;34m)\u001b[0m\u001b[0;34m\u001b[0m\u001b[0;34m\u001b[0m\u001b[0m\n\u001b[0m\u001b[1;32m    101\u001b[0m             \u001b[0mrow\u001b[0m\u001b[0;34m,\u001b[0m \u001b[0mcol\u001b[0m\u001b[0;34m,\u001b[0m \u001b[0mdata\u001b[0m \u001b[0;34m=\u001b[0m \u001b[0mnp\u001b[0m\u001b[0;34m.\u001b[0m\u001b[0marray\u001b[0m\u001b[0;34m(\u001b[0m\u001b[0mrow\u001b[0m\u001b[0;34m)\u001b[0m\u001b[0;34m,\u001b[0m \u001b[0mnp\u001b[0m\u001b[0;34m.\u001b[0m\u001b[0marray\u001b[0m\u001b[0;34m(\u001b[0m\u001b[0mcol\u001b[0m\u001b[0;34m)\u001b[0m\u001b[0;34m,\u001b[0m \u001b[0mnp\u001b[0m\u001b[0;34m.\u001b[0m\u001b[0marray\u001b[0m\u001b[0;34m(\u001b[0m\u001b[0mdata\u001b[0m\u001b[0;34m)\u001b[0m\u001b[0;34m\u001b[0m\u001b[0;34m\u001b[0m\u001b[0m\n\u001b[1;32m    102\u001b[0m \u001b[0;34m\u001b[0m\u001b[0m\n",
      "\u001b[0;31mIndexError\u001b[0m: list index out of range"
     ]
    }
   ],
   "source": [
    "graph = load_edge_list('miserables.tsv')"
   ]
  },
  {
   "cell_type": "code",
   "execution_count": 79,
   "metadata": {},
   "outputs": [
    {
     "data": {
      "text/plain": [
       "{'adjacency': <77x77 sparse matrix of type '<class 'numpy.bool_'>'\n",
       " \twith 508 stored elements in Compressed Sparse Row format>,\n",
       " 'names': array(['Anzelma', 'Babet', 'Bahorel', 'Bamatabois', 'Baroness',\n",
       "        'Blacheville', 'Bossuet', 'Boulatruelle', 'Brevet', 'Brujon',\n",
       "        'Champmathieu', 'Champtercier', 'Chenildieu', 'Child1', 'Child2',\n",
       "        'Claquesous', 'Cochepaille', 'Combeferre', 'Cosette', 'Count',\n",
       "        'Countess de Lo', 'Courfeyrac', 'Cravatte', 'Dahlia', 'Enjolras',\n",
       "        'Eponine', 'Fameuil', 'Fantine', 'Fauchelevent', 'Favourite',\n",
       "        'Feuilly', 'Gavroche', 'Geborand', 'Gervais', 'Gillenormand',\n",
       "        'Grantaire', 'Gribier', 'Gueulemer', 'Isabeau', 'Javert', 'Joly',\n",
       "        'Jondrette', 'Judge', 'Labarre', 'Listolier', 'Lt Gillenormand',\n",
       "        'Mabeuf', 'Magnon', 'Marguerite', 'Marius', 'Mlle Baptistine',\n",
       "        'Mlle Gillenormand', 'Mlle Vaubois', 'Mme Burgon', 'Mme Der',\n",
       "        'Mme Hucheloup', 'Mme Magloire', 'Mme Pontmercy', 'Mme Thenardier',\n",
       "        'Montparnasse', 'MotherInnocent', 'MotherPlutarch', 'Myriel',\n",
       "        'Napoleon', 'Old man', 'Perpetue', 'Pontmercy', 'Prouvaire',\n",
       "        'Scaufflaire', 'Simplice', 'Thenardier', 'Tholomyes', 'Toussaint',\n",
       "        'Valjean', 'Woman1', 'Woman2', 'Zephine'], dtype='<U17')}"
      ]
     },
     "execution_count": 79,
     "metadata": {},
     "output_type": "execute_result"
    }
   ],
   "source": [
    "graph"
   ]
  },
  {
   "cell_type": "code",
   "execution_count": 82,
   "metadata": {},
   "outputs": [],
   "source": [
    "graph = load_edge_list('movie_actor.tsv', bipartite=True)"
   ]
  },
  {
   "cell_type": "code",
   "execution_count": 83,
   "metadata": {},
   "outputs": [
    {
     "data": {
      "text/plain": [
       "{'biadjacency': <15x16 sparse matrix of type '<class 'numpy.bool_'>'\n",
       " \twith 41 stored elements in Compressed Sparse Row format>,\n",
       " 'names': array(['007 Spectre', 'Aviator', 'Crazy Stupid Love', 'Drive',\n",
       "        'Fantastic Beasts 2', 'Inception', 'Inglourious Basterds',\n",
       "        'La La Land', 'Midnight In Paris', 'Murder on the Orient Express',\n",
       "        'The Big Short', 'The Dark Knight Rises',\n",
       "        'The Grand Budapest Hotel', 'The Great Gatsby', 'Vice'],\n",
       "       dtype='<U28'),\n",
       " 'names_row': array(['007 Spectre', 'Aviator', 'Crazy Stupid Love', 'Drive',\n",
       "        'Fantastic Beasts 2', 'Inception', 'Inglourious Basterds',\n",
       "        'La La Land', 'Midnight In Paris', 'Murder on the Orient Express',\n",
       "        'The Big Short', 'The Dark Knight Rises',\n",
       "        'The Grand Budapest Hotel', 'The Great Gatsby', 'Vice'],\n",
       "       dtype='<U28'),\n",
       " 'names_col': array(['Brad Pitt', 'Carey Mulligan', 'Christian Bale',\n",
       "        'Christophe Waltz', 'Emma Stone', 'Johnny Depp',\n",
       "        'Joseph Gordon Lewitt', 'Jude Law', 'Lea Seydoux',\n",
       "        'Leonardo DiCaprio', 'Marion Cotillard', 'Owen Wilson',\n",
       "        'Ralph Fiennes', 'Ryan Gosling', 'Steve Carell', 'Willem Dafoe'],\n",
       "       dtype='<U20')}"
      ]
     },
     "execution_count": 83,
     "metadata": {},
     "output_type": "execute_result"
    }
   ],
   "source": [
    "graph"
   ]
  },
  {
   "cell_type": "markdown",
   "metadata": {},
   "source": [
    "## From a GraphML file\n",
    "\n",
    "You can also load a graph stored in the [GraphML](https://en.wikipedia.org/wiki/GraphML) format."
   ]
  },
  {
   "cell_type": "code",
   "execution_count": null,
   "metadata": {},
   "outputs": [],
   "source": [
    "graph = load_graphml('miserables.graphml')\n",
    "adjacency = graph.adjacency\n",
    "names = graph.names"
   ]
  },
  {
   "cell_type": "code",
   "execution_count": null,
   "metadata": {},
   "outputs": [],
   "source": [
    "# Directed graph\n",
    "graph = load_graphml('painters.graphml')\n",
    "adjacency = graph.adjacency\n",
    "names = graph.names"
   ]
  },
  {
   "cell_type": "markdown",
   "metadata": {
    "pycharm": {
     "name": "#%% md\n"
    }
   },
   "source": [
    "## From NetworkX\n",
    "\n",
    "NetworkX has [import](https://networkx.github.io/documentation/stable/reference/generated/networkx.convert_matrix.from_scipy_sparse_matrix.html#networkx.convert_matrix.from_scipy_sparse_matrix) and [export](https://networkx.github.io/documentation/stable/reference/generated/networkx.convert_matrix.to_scipy_sparse_matrix.html#networkx.convert_matrix.to_scipy_sparse_matrix) functions from and towards the CSR format."
   ]
  },
  {
   "cell_type": "markdown",
   "metadata": {},
   "source": [
    "## Other options\n",
    "\n",
    "* You want to test our toy graphs\n",
    "* You want to generate a graph from a model\n",
    "* You want to load a graph from existing repositories (see [NetSet](http://netset.telecom-paris.fr/) and [KONECT](http://konect.cc))\n",
    "\n",
    "Take a look at the other tutorials of the **data** section!"
   ]
  }
 ],
 "metadata": {
  "kernelspec": {
   "display_name": "Python 3",
   "language": "python",
   "name": "python3"
  },
  "language_info": {
   "codemirror_mode": {
    "name": "ipython",
    "version": 3
   },
   "file_extension": ".py",
   "mimetype": "text/x-python",
   "name": "python",
   "nbconvert_exporter": "python",
   "pygments_lexer": "ipython3",
   "version": "3.8.3"
  }
 },
 "nbformat": 4,
 "nbformat_minor": 4
}
