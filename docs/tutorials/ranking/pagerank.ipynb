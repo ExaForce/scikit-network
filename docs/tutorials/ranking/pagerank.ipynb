{
 "cells": [
  {
   "cell_type": "markdown",
   "metadata": {},
   "source": [
    "# PageRank"
   ]
  },
  {
   "cell_type": "markdown",
   "metadata": {},
   "source": [
    "This notebook illustrates the ranking of the nodes of a graph by [PageRank](https://scikit-network.readthedocs.io/en/latest/reference/ranking.html#pagerank)."
   ]
  },
  {
   "cell_type": "code",
   "execution_count": 1,
   "metadata": {},
   "outputs": [],
   "source": [
    "from IPython.display import SVG"
   ]
  },
  {
   "cell_type": "code",
   "execution_count": 2,
   "metadata": {
    "ExecuteTime": {
     "end_time": "2019-07-15T12:29:50.554431Z",
     "start_time": "2019-07-15T12:29:50.414075Z"
    }
   },
   "outputs": [],
   "source": [
    "import numpy as np"
   ]
  },
  {
   "cell_type": "code",
   "execution_count": 3,
   "metadata": {},
   "outputs": [],
   "source": [
    "from sknetwork.data import karate_club, painters, movie_actor\n",
    "from sknetwork.ranking import PageRank\n",
    "from sknetwork.visualization import svg_graph, svg_digraph, svg_bigraph"
   ]
  },
  {
   "cell_type": "markdown",
   "metadata": {},
   "source": [
    "## Graphs"
   ]
  },
  {
   "cell_type": "code",
   "execution_count": 4,
   "metadata": {
    "ExecuteTime": {
     "end_time": "2019-07-15T12:29:51.261957Z",
     "start_time": "2019-07-15T12:29:51.249107Z"
    }
   },
   "outputs": [],
   "source": [
    "graph = karate_club(metadata=True)\n",
    "adjacency = graph.adjacency\n",
    "position = graph.position"
   ]
  },
  {
   "cell_type": "markdown",
   "metadata": {},
   "source": [
    "**Ranking**"
   ]
  },
  {
   "cell_type": "code",
   "execution_count": 5,
   "metadata": {},
   "outputs": [],
   "source": [
    "pagerank = PageRank()\n",
    "scores = pagerank.fit_transform(adjacency)"
   ]
  },
  {
   "cell_type": "code",
   "execution_count": 6,
   "metadata": {
    "ExecuteTime": {
     "end_time": "2019-07-15T12:29:55.341520Z",
     "start_time": "2019-07-15T12:29:55.026465Z"
    },
    "scrolled": true
   },
   "outputs": [],
   "source": [
    "image = svg_graph(adjacency, position, scores=np.log(scores))"
   ]
  },
  {
   "cell_type": "code",
   "execution_count": 7,
   "metadata": {},
   "outputs": [
    {
     "data": {
      "image/svg+xml": [
       "<svg xmlns=\"http://www.w3.org/2000/svg\" width=\"440\" height=\"340\"><path stroke-width=\"1\" stroke=\"black\" d=\"M 264 200 353 168\"/><path stroke-width=\"1\" stroke=\"black\" d=\"M 264 200 251 143\"/><path stroke-width=\"1\" stroke=\"black\" d=\"M 264 200 304 191\"/><path stroke-width=\"1\" stroke=\"black\" d=\"M 264 200 255 255\"/><path stroke-width=\"1\" stroke=\"black\" d=\"M 264 200 211 275\"/><path stroke-width=\"1\" stroke=\"black\" d=\"M 264 200 264 277\"/><path stroke-width=\"1\" stroke=\"black\" d=\"M 264 200 340 186\"/><path stroke-width=\"1\" stroke=\"black\" d=\"M 264 200 282 125\"/><path stroke-width=\"1\" stroke=\"black\" d=\"M 264 200 188 252\"/><path stroke-width=\"1\" stroke=\"black\" d=\"M 264 200 122 212\"/><path stroke-width=\"1\" stroke=\"black\" d=\"M 264 200 335 236\"/><path stroke-width=\"1\" stroke=\"black\" d=\"M 264 200 282 153\"/><path stroke-width=\"1\" stroke=\"black\" d=\"M 264 200 388 216\"/><path stroke-width=\"1\" stroke=\"black\" d=\"M 264 200 331 143\"/><path stroke-width=\"1\" stroke=\"black\" d=\"M 264 200 420 202\"/><path stroke-width=\"1\" stroke=\"black\" d=\"M 264 200 153 125\"/><path stroke-width=\"1\" stroke=\"black\" d=\"M 353 168 264 200\"/><path stroke-width=\"1\" stroke=\"black\" d=\"M 353 168 251 143\"/><path stroke-width=\"1\" stroke=\"black\" d=\"M 353 168 304 191\"/><path stroke-width=\"1\" stroke=\"black\" d=\"M 353 168 340 186\"/><path stroke-width=\"1\" stroke=\"black\" d=\"M 353 168 282 153\"/><path stroke-width=\"1\" stroke=\"black\" d=\"M 353 168 388 216\"/><path stroke-width=\"1\" stroke=\"black\" d=\"M 353 168 331 143\"/><path stroke-width=\"1\" stroke=\"black\" d=\"M 353 168 420 202\"/><path stroke-width=\"1\" stroke=\"black\" d=\"M 353 168 344 107\"/><path stroke-width=\"1\" stroke=\"black\" d=\"M 251 143 264 200\"/><path stroke-width=\"1\" stroke=\"black\" d=\"M 251 143 353 168\"/><path stroke-width=\"1\" stroke=\"black\" d=\"M 251 143 304 191\"/><path stroke-width=\"1\" stroke=\"black\" d=\"M 251 143 340 186\"/><path stroke-width=\"1\" stroke=\"black\" d=\"M 251 143 282 125\"/><path stroke-width=\"1\" stroke=\"black\" d=\"M 251 143 197 100\"/><path stroke-width=\"1\" stroke=\"black\" d=\"M 251 143 282 153\"/><path stroke-width=\"1\" stroke=\"black\" d=\"M 251 143 122 103\"/><path stroke-width=\"1\" stroke=\"black\" d=\"M 251 143 197 120\"/><path stroke-width=\"1\" stroke=\"black\" d=\"M 251 143 260 73\"/><path stroke-width=\"1\" stroke=\"black\" d=\"M 304 191 264 200\"/><path stroke-width=\"1\" stroke=\"black\" d=\"M 304 191 353 168\"/><path stroke-width=\"1\" stroke=\"black\" d=\"M 304 191 251 143\"/><path stroke-width=\"1\" stroke=\"black\" d=\"M 304 191 340 186\"/><path stroke-width=\"1\" stroke=\"black\" d=\"M 304 191 335 236\"/><path stroke-width=\"1\" stroke=\"black\" d=\"M 304 191 282 153\"/><path stroke-width=\"1\" stroke=\"black\" d=\"M 255 255 264 200\"/><path stroke-width=\"1\" stroke=\"black\" d=\"M 255 255 264 277\"/><path stroke-width=\"1\" stroke=\"black\" d=\"M 255 255 188 252\"/><path stroke-width=\"1\" stroke=\"black\" d=\"M 211 275 264 200\"/><path stroke-width=\"1\" stroke=\"black\" d=\"M 211 275 264 277\"/><path stroke-width=\"1\" stroke=\"black\" d=\"M 211 275 188 252\"/><path stroke-width=\"1\" stroke=\"black\" d=\"M 211 275 220 320\"/><path stroke-width=\"1\" stroke=\"black\" d=\"M 264 277 264 200\"/><path stroke-width=\"1\" stroke=\"black\" d=\"M 264 277 255 255\"/><path stroke-width=\"1\" stroke=\"black\" d=\"M 264 277 211 275\"/><path stroke-width=\"1\" stroke=\"black\" d=\"M 264 277 220 320\"/><path stroke-width=\"1\" stroke=\"black\" d=\"M 340 186 264 200\"/><path stroke-width=\"1\" stroke=\"black\" d=\"M 340 186 353 168\"/><path stroke-width=\"1\" stroke=\"black\" d=\"M 340 186 251 143\"/><path stroke-width=\"1\" stroke=\"black\" d=\"M 340 186 304 191\"/><path stroke-width=\"1\" stroke=\"black\" d=\"M 282 125 264 200\"/><path stroke-width=\"1\" stroke=\"black\" d=\"M 282 125 251 143\"/><path stroke-width=\"1\" stroke=\"black\" d=\"M 282 125 344 107\"/><path stroke-width=\"1\" stroke=\"black\" d=\"M 282 125 260 73\"/><path stroke-width=\"1\" stroke=\"black\" d=\"M 282 125 246 82\"/><path stroke-width=\"1\" stroke=\"black\" d=\"M 197 100 251 143\"/><path stroke-width=\"1\" stroke=\"black\" d=\"M 197 100 246 82\"/><path stroke-width=\"1\" stroke=\"black\" d=\"M 188 252 264 200\"/><path stroke-width=\"1\" stroke=\"black\" d=\"M 188 252 255 255\"/><path stroke-width=\"1\" stroke=\"black\" d=\"M 188 252 211 275\"/><path stroke-width=\"1\" stroke=\"black\" d=\"M 122 212 264 200\"/><path stroke-width=\"1\" stroke=\"black\" d=\"M 335 236 264 200\"/><path stroke-width=\"1\" stroke=\"black\" d=\"M 335 236 304 191\"/><path stroke-width=\"1\" stroke=\"black\" d=\"M 282 153 264 200\"/><path stroke-width=\"1\" stroke=\"black\" d=\"M 282 153 353 168\"/><path stroke-width=\"1\" stroke=\"black\" d=\"M 282 153 251 143\"/><path stroke-width=\"1\" stroke=\"black\" d=\"M 282 153 304 191\"/><path stroke-width=\"1\" stroke=\"black\" d=\"M 282 153 246 82\"/><path stroke-width=\"1\" stroke=\"black\" d=\"M 348 43 260 73\"/><path stroke-width=\"1\" stroke=\"black\" d=\"M 348 43 246 82\"/><path stroke-width=\"1\" stroke=\"black\" d=\"M 273 27 260 73\"/><path stroke-width=\"1\" stroke=\"black\" d=\"M 273 27 246 82\"/><path stroke-width=\"1\" stroke=\"black\" d=\"M 220 320 211 275\"/><path stroke-width=\"1\" stroke=\"black\" d=\"M 220 320 264 277\"/><path stroke-width=\"1\" stroke=\"black\" d=\"M 388 216 264 200\"/><path stroke-width=\"1\" stroke=\"black\" d=\"M 388 216 353 168\"/><path stroke-width=\"1\" stroke=\"black\" d=\"M 313 34 260 73\"/><path stroke-width=\"1\" stroke=\"black\" d=\"M 313 34 246 82\"/><path stroke-width=\"1\" stroke=\"black\" d=\"M 331 143 264 200\"/><path stroke-width=\"1\" stroke=\"black\" d=\"M 331 143 353 168\"/><path stroke-width=\"1\" stroke=\"black\" d=\"M 331 143 246 82\"/><path stroke-width=\"1\" stroke=\"black\" d=\"M 366 61 260 73\"/><path stroke-width=\"1\" stroke=\"black\" d=\"M 366 61 246 82\"/><path stroke-width=\"1\" stroke=\"black\" d=\"M 420 202 264 200\"/><path stroke-width=\"1\" stroke=\"black\" d=\"M 420 202 353 168\"/><path stroke-width=\"1\" stroke=\"black\" d=\"M 228 32 260 73\"/><path stroke-width=\"1\" stroke=\"black\" d=\"M 228 32 246 82\"/><path stroke-width=\"1\" stroke=\"black\" d=\"M 131 68 28 91\"/><path stroke-width=\"1\" stroke=\"black\" d=\"M 131 68 122 103\"/><path stroke-width=\"1\" stroke=\"black\" d=\"M 131 68 171 45\"/><path stroke-width=\"1\" stroke=\"black\" d=\"M 131 68 260 73\"/><path stroke-width=\"1\" stroke=\"black\" d=\"M 131 68 246 82\"/><path stroke-width=\"1\" stroke=\"black\" d=\"M 20 116 28 91\"/><path stroke-width=\"1\" stroke=\"black\" d=\"M 20 116 122 103\"/><path stroke-width=\"1\" stroke=\"black\" d=\"M 20 116 153 125\"/><path stroke-width=\"1\" stroke=\"black\" d=\"M 28 91 131 68\"/><path stroke-width=\"1\" stroke=\"black\" d=\"M 28 91 20 116\"/><path stroke-width=\"1\" stroke=\"black\" d=\"M 28 91 153 125\"/><path stroke-width=\"1\" stroke=\"black\" d=\"M 162 20 171 45\"/><path stroke-width=\"1\" stroke=\"black\" d=\"M 162 20 246 82\"/><path stroke-width=\"1\" stroke=\"black\" d=\"M 122 103 251 143\"/><path stroke-width=\"1\" stroke=\"black\" d=\"M 122 103 131 68\"/><path stroke-width=\"1\" stroke=\"black\" d=\"M 122 103 20 116\"/><path stroke-width=\"1\" stroke=\"black\" d=\"M 122 103 246 82\"/><path stroke-width=\"1\" stroke=\"black\" d=\"M 197 120 251 143\"/><path stroke-width=\"1\" stroke=\"black\" d=\"M 197 120 153 125\"/><path stroke-width=\"1\" stroke=\"black\" d=\"M 197 120 246 82\"/><path stroke-width=\"1\" stroke=\"black\" d=\"M 171 45 131 68\"/><path stroke-width=\"1\" stroke=\"black\" d=\"M 171 45 162 20\"/><path stroke-width=\"1\" stroke=\"black\" d=\"M 171 45 260 73\"/><path stroke-width=\"1\" stroke=\"black\" d=\"M 171 45 246 82\"/><path stroke-width=\"1\" stroke=\"black\" d=\"M 344 107 353 168\"/><path stroke-width=\"1\" stroke=\"black\" d=\"M 344 107 282 125\"/><path stroke-width=\"1\" stroke=\"black\" d=\"M 344 107 260 73\"/><path stroke-width=\"1\" stroke=\"black\" d=\"M 344 107 246 82\"/><path stroke-width=\"1\" stroke=\"black\" d=\"M 153 125 264 200\"/><path stroke-width=\"1\" stroke=\"black\" d=\"M 153 125 20 116\"/><path stroke-width=\"1\" stroke=\"black\" d=\"M 153 125 28 91\"/><path stroke-width=\"1\" stroke=\"black\" d=\"M 153 125 197 120\"/><path stroke-width=\"1\" stroke=\"black\" d=\"M 153 125 260 73\"/><path stroke-width=\"1\" stroke=\"black\" d=\"M 153 125 246 82\"/><path stroke-width=\"1\" stroke=\"black\" d=\"M 260 73 251 143\"/><path stroke-width=\"1\" stroke=\"black\" d=\"M 260 73 282 125\"/><path stroke-width=\"1\" stroke=\"black\" d=\"M 260 73 348 43\"/><path stroke-width=\"1\" stroke=\"black\" d=\"M 260 73 273 27\"/><path stroke-width=\"1\" stroke=\"black\" d=\"M 260 73 313 34\"/><path stroke-width=\"1\" stroke=\"black\" d=\"M 260 73 366 61\"/><path stroke-width=\"1\" stroke=\"black\" d=\"M 260 73 228 32\"/><path stroke-width=\"1\" stroke=\"black\" d=\"M 260 73 131 68\"/><path stroke-width=\"1\" stroke=\"black\" d=\"M 260 73 171 45\"/><path stroke-width=\"1\" stroke=\"black\" d=\"M 260 73 344 107\"/><path stroke-width=\"1\" stroke=\"black\" d=\"M 260 73 153 125\"/><path stroke-width=\"1\" stroke=\"black\" d=\"M 260 73 246 82\"/><path stroke-width=\"1\" stroke=\"black\" d=\"M 246 82 282 125\"/><path stroke-width=\"1\" stroke=\"black\" d=\"M 246 82 197 100\"/><path stroke-width=\"1\" stroke=\"black\" d=\"M 246 82 282 153\"/><path stroke-width=\"1\" stroke=\"black\" d=\"M 246 82 348 43\"/><path stroke-width=\"1\" stroke=\"black\" d=\"M 246 82 273 27\"/><path stroke-width=\"1\" stroke=\"black\" d=\"M 246 82 313 34\"/><path stroke-width=\"1\" stroke=\"black\" d=\"M 246 82 331 143\"/><path stroke-width=\"1\" stroke=\"black\" d=\"M 246 82 366 61\"/><path stroke-width=\"1\" stroke=\"black\" d=\"M 246 82 228 32\"/><path stroke-width=\"1\" stroke=\"black\" d=\"M 246 82 131 68\"/><path stroke-width=\"1\" stroke=\"black\" d=\"M 246 82 162 20\"/><path stroke-width=\"1\" stroke=\"black\" d=\"M 246 82 122 103\"/><path stroke-width=\"1\" stroke=\"black\" d=\"M 246 82 197 120\"/><path stroke-width=\"1\" stroke=\"black\" d=\"M 246 82 171 45\"/><path stroke-width=\"1\" stroke=\"black\" d=\"M 246 82 344 107\"/><path stroke-width=\"1\" stroke=\"black\" d=\"M 246 82 153 125\"/><path stroke-width=\"1\" stroke=\"black\" d=\"M 246 82 260 73\"/><circle cx=\"264\" cy=\"200\" r=\"7.0\" style=\"fill:rgb(187, 26, 43);stroke:black;stroke-width:1.0\"/><circle cx=\"353\" cy=\"168\" r=\"7.0\" style=\"fill:rgb(246, 166, 135);stroke:black;stroke-width:1.0\"/><circle cx=\"251\" cy=\"143\" r=\"7.0\" style=\"fill:rgb(243, 150, 120);stroke:black;stroke-width:1.0\"/><circle cx=\"304\" cy=\"191\" r=\"7.0\" style=\"fill:rgb(234, 211, 199);stroke:black;stroke-width:1.0\"/><circle cx=\"255\" cy=\"255\" r=\"7.0\" style=\"fill:rgb(176, 203, 251);stroke:black;stroke-width:1.0\"/><circle cx=\"211\" cy=\"275\" r=\"7.0\" style=\"fill:rgb(210, 218, 231);stroke:black;stroke-width:1.0\"/><circle cx=\"264\" cy=\"277\" r=\"7.0\" style=\"fill:rgb(210, 218, 231);stroke:black;stroke-width:1.0\"/><circle cx=\"340\" cy=\"186\" r=\"7.0\" style=\"fill:rgb(189, 210, 246);stroke:black;stroke-width:1.0\"/><circle cx=\"282\" cy=\"125\" r=\"7.0\" style=\"fill:rgb(214, 219, 228);stroke:black;stroke-width:1.0\"/><circle cx=\"197\" cy=\"100\" r=\"7.0\" style=\"fill:rgb(109, 144, 241);stroke:black;stroke-width:1.0\"/><circle cx=\"188\" cy=\"252\" r=\"7.0\" style=\"fill:rgb(176, 203, 251);stroke:black;stroke-width:1.0\"/><circle cx=\"122\" cy=\"212\" r=\"7.0\" style=\"fill:rgb(58, 76, 192);stroke:black;stroke-width:1.0\"/><circle cx=\"335\" cy=\"236\" r=\"7.0\" style=\"fill:rgb(112, 147, 243);stroke:black;stroke-width:1.0\"/><circle cx=\"282\" cy=\"153\" r=\"7.0\" style=\"fill:rgb(214, 219, 228);stroke:black;stroke-width:1.0\"/><circle cx=\"348\" cy=\"43\" r=\"7.0\" style=\"fill:rgb(112, 147, 243);stroke:black;stroke-width:1.0\"/><circle cx=\"273\" cy=\"27\" r=\"7.0\" style=\"fill:rgb(112, 147, 243);stroke:black;stroke-width:1.0\"/><circle cx=\"220\" cy=\"320\" r=\"7.0\" style=\"fill:rgb(134, 169, 252);stroke:black;stroke-width:1.0\"/><circle cx=\"388\" cy=\"216\" r=\"7.0\" style=\"fill:rgb(112, 147, 243);stroke:black;stroke-width:1.0\"/><circle cx=\"313\" cy=\"34\" r=\"7.0\" style=\"fill:rgb(112, 147, 243);stroke:black;stroke-width:1.0\"/><circle cx=\"331\" cy=\"143\" r=\"7.0\" style=\"fill:rgb(159, 190, 254);stroke:black;stroke-width:1.0\"/><circle cx=\"366\" cy=\"61\" r=\"7.0\" style=\"fill:rgb(112, 147, 243);stroke:black;stroke-width:1.0\"/><circle cx=\"420\" cy=\"202\" r=\"7.0\" style=\"fill:rgb(112, 147, 243);stroke:black;stroke-width:1.0\"/><circle cx=\"228\" cy=\"32\" r=\"7.0\" style=\"fill:rgb(112, 147, 243);stroke:black;stroke-width:1.0\"/><circle cx=\"131\" cy=\"68\" r=\"7.0\" style=\"fill:rgb(222, 219, 218);stroke:black;stroke-width:1.0\"/><circle cx=\"20\" cy=\"116\" r=\"7.0\" style=\"fill:rgb(170, 198, 253);stroke:black;stroke-width:1.0\"/><circle cx=\"28\" cy=\"91\" r=\"7.0\" style=\"fill:rgb(166, 195, 253);stroke:black;stroke-width:1.0\"/><circle cx=\"162\" cy=\"20\" r=\"7.0\" style=\"fill:rgb(120, 155, 247);stroke:black;stroke-width:1.0\"/><circle cx=\"122\" cy=\"103\" r=\"7.0\" style=\"fill:rgb(197, 213, 242);stroke:black;stroke-width:1.0\"/><circle cx=\"197\" cy=\"120\" r=\"7.0\" style=\"fill:rgb(159, 190, 254);stroke:black;stroke-width:1.0\"/><circle cx=\"171\" cy=\"45\" r=\"7.0\" style=\"fill:rgb(199, 214, 240);stroke:black;stroke-width:1.0\"/><circle cx=\"344\" cy=\"107\" r=\"7.0\" style=\"fill:rgb(189, 210, 246);stroke:black;stroke-width:1.0\"/><circle cx=\"153\" cy=\"125\" r=\"7.0\" style=\"fill:rgb(237, 207, 192);stroke:black;stroke-width:1.0\"/><circle cx=\"260\" cy=\"73\" r=\"7.0\" style=\"fill:rgb(227, 108, 84);stroke:black;stroke-width:1.0\"/><circle cx=\"246\" cy=\"82\" r=\"7.0\" style=\"fill:rgb(179, 3, 38);stroke:black;stroke-width:1.0\"/></svg>"
      ],
      "text/plain": [
       "<IPython.core.display.SVG object>"
      ]
     },
     "execution_count": 7,
     "metadata": {},
     "output_type": "execute_result"
    }
   ],
   "source": [
    "SVG(image)"
   ]
  },
  {
   "cell_type": "markdown",
   "metadata": {},
   "source": [
    "**Ranking with personalization**"
   ]
  },
  {
   "cell_type": "code",
   "execution_count": 8,
   "metadata": {},
   "outputs": [],
   "source": [
    "seeds = {1: 1, 10: 1}"
   ]
  },
  {
   "cell_type": "code",
   "execution_count": 9,
   "metadata": {
    "ExecuteTime": {
     "end_time": "2019-07-15T12:29:53.130694Z",
     "start_time": "2019-07-15T12:29:52.704040Z"
    }
   },
   "outputs": [],
   "source": [
    "scores = pagerank.fit_transform(adjacency, seeds)"
   ]
  },
  {
   "cell_type": "code",
   "execution_count": 10,
   "metadata": {
    "ExecuteTime": {
     "end_time": "2019-07-15T12:29:58.518668Z",
     "start_time": "2019-07-15T12:29:58.152579Z"
    }
   },
   "outputs": [],
   "source": [
    "image = svg_graph(adjacency, position, scores=np.log(scores), seeds=seeds)"
   ]
  },
  {
   "cell_type": "code",
   "execution_count": 11,
   "metadata": {},
   "outputs": [
    {
     "data": {
      "image/svg+xml": [
       "<svg xmlns=\"http://www.w3.org/2000/svg\" width=\"440\" height=\"340\"><path stroke-width=\"1\" stroke=\"black\" d=\"M 264 200 353 168\"/><path stroke-width=\"1\" stroke=\"black\" d=\"M 264 200 251 143\"/><path stroke-width=\"1\" stroke=\"black\" d=\"M 264 200 304 191\"/><path stroke-width=\"1\" stroke=\"black\" d=\"M 264 200 255 255\"/><path stroke-width=\"1\" stroke=\"black\" d=\"M 264 200 211 275\"/><path stroke-width=\"1\" stroke=\"black\" d=\"M 264 200 264 277\"/><path stroke-width=\"1\" stroke=\"black\" d=\"M 264 200 340 186\"/><path stroke-width=\"1\" stroke=\"black\" d=\"M 264 200 282 125\"/><path stroke-width=\"1\" stroke=\"black\" d=\"M 264 200 188 252\"/><path stroke-width=\"1\" stroke=\"black\" d=\"M 264 200 122 212\"/><path stroke-width=\"1\" stroke=\"black\" d=\"M 264 200 335 236\"/><path stroke-width=\"1\" stroke=\"black\" d=\"M 264 200 282 153\"/><path stroke-width=\"1\" stroke=\"black\" d=\"M 264 200 388 216\"/><path stroke-width=\"1\" stroke=\"black\" d=\"M 264 200 331 143\"/><path stroke-width=\"1\" stroke=\"black\" d=\"M 264 200 420 202\"/><path stroke-width=\"1\" stroke=\"black\" d=\"M 264 200 153 125\"/><path stroke-width=\"1\" stroke=\"black\" d=\"M 353 168 264 200\"/><path stroke-width=\"1\" stroke=\"black\" d=\"M 353 168 251 143\"/><path stroke-width=\"1\" stroke=\"black\" d=\"M 353 168 304 191\"/><path stroke-width=\"1\" stroke=\"black\" d=\"M 353 168 340 186\"/><path stroke-width=\"1\" stroke=\"black\" d=\"M 353 168 282 153\"/><path stroke-width=\"1\" stroke=\"black\" d=\"M 353 168 388 216\"/><path stroke-width=\"1\" stroke=\"black\" d=\"M 353 168 331 143\"/><path stroke-width=\"1\" stroke=\"black\" d=\"M 353 168 420 202\"/><path stroke-width=\"1\" stroke=\"black\" d=\"M 353 168 344 107\"/><path stroke-width=\"1\" stroke=\"black\" d=\"M 251 143 264 200\"/><path stroke-width=\"1\" stroke=\"black\" d=\"M 251 143 353 168\"/><path stroke-width=\"1\" stroke=\"black\" d=\"M 251 143 304 191\"/><path stroke-width=\"1\" stroke=\"black\" d=\"M 251 143 340 186\"/><path stroke-width=\"1\" stroke=\"black\" d=\"M 251 143 282 125\"/><path stroke-width=\"1\" stroke=\"black\" d=\"M 251 143 197 100\"/><path stroke-width=\"1\" stroke=\"black\" d=\"M 251 143 282 153\"/><path stroke-width=\"1\" stroke=\"black\" d=\"M 251 143 122 103\"/><path stroke-width=\"1\" stroke=\"black\" d=\"M 251 143 197 120\"/><path stroke-width=\"1\" stroke=\"black\" d=\"M 251 143 260 73\"/><path stroke-width=\"1\" stroke=\"black\" d=\"M 304 191 264 200\"/><path stroke-width=\"1\" stroke=\"black\" d=\"M 304 191 353 168\"/><path stroke-width=\"1\" stroke=\"black\" d=\"M 304 191 251 143\"/><path stroke-width=\"1\" stroke=\"black\" d=\"M 304 191 340 186\"/><path stroke-width=\"1\" stroke=\"black\" d=\"M 304 191 335 236\"/><path stroke-width=\"1\" stroke=\"black\" d=\"M 304 191 282 153\"/><path stroke-width=\"1\" stroke=\"black\" d=\"M 255 255 264 200\"/><path stroke-width=\"1\" stroke=\"black\" d=\"M 255 255 264 277\"/><path stroke-width=\"1\" stroke=\"black\" d=\"M 255 255 188 252\"/><path stroke-width=\"1\" stroke=\"black\" d=\"M 211 275 264 200\"/><path stroke-width=\"1\" stroke=\"black\" d=\"M 211 275 264 277\"/><path stroke-width=\"1\" stroke=\"black\" d=\"M 211 275 188 252\"/><path stroke-width=\"1\" stroke=\"black\" d=\"M 211 275 220 320\"/><path stroke-width=\"1\" stroke=\"black\" d=\"M 264 277 264 200\"/><path stroke-width=\"1\" stroke=\"black\" d=\"M 264 277 255 255\"/><path stroke-width=\"1\" stroke=\"black\" d=\"M 264 277 211 275\"/><path stroke-width=\"1\" stroke=\"black\" d=\"M 264 277 220 320\"/><path stroke-width=\"1\" stroke=\"black\" d=\"M 340 186 264 200\"/><path stroke-width=\"1\" stroke=\"black\" d=\"M 340 186 353 168\"/><path stroke-width=\"1\" stroke=\"black\" d=\"M 340 186 251 143\"/><path stroke-width=\"1\" stroke=\"black\" d=\"M 340 186 304 191\"/><path stroke-width=\"1\" stroke=\"black\" d=\"M 282 125 264 200\"/><path stroke-width=\"1\" stroke=\"black\" d=\"M 282 125 251 143\"/><path stroke-width=\"1\" stroke=\"black\" d=\"M 282 125 344 107\"/><path stroke-width=\"1\" stroke=\"black\" d=\"M 282 125 260 73\"/><path stroke-width=\"1\" stroke=\"black\" d=\"M 282 125 246 82\"/><path stroke-width=\"1\" stroke=\"black\" d=\"M 197 100 251 143\"/><path stroke-width=\"1\" stroke=\"black\" d=\"M 197 100 246 82\"/><path stroke-width=\"1\" stroke=\"black\" d=\"M 188 252 264 200\"/><path stroke-width=\"1\" stroke=\"black\" d=\"M 188 252 255 255\"/><path stroke-width=\"1\" stroke=\"black\" d=\"M 188 252 211 275\"/><path stroke-width=\"1\" stroke=\"black\" d=\"M 122 212 264 200\"/><path stroke-width=\"1\" stroke=\"black\" d=\"M 335 236 264 200\"/><path stroke-width=\"1\" stroke=\"black\" d=\"M 335 236 304 191\"/><path stroke-width=\"1\" stroke=\"black\" d=\"M 282 153 264 200\"/><path stroke-width=\"1\" stroke=\"black\" d=\"M 282 153 353 168\"/><path stroke-width=\"1\" stroke=\"black\" d=\"M 282 153 251 143\"/><path stroke-width=\"1\" stroke=\"black\" d=\"M 282 153 304 191\"/><path stroke-width=\"1\" stroke=\"black\" d=\"M 282 153 246 82\"/><path stroke-width=\"1\" stroke=\"black\" d=\"M 348 43 260 73\"/><path stroke-width=\"1\" stroke=\"black\" d=\"M 348 43 246 82\"/><path stroke-width=\"1\" stroke=\"black\" d=\"M 273 27 260 73\"/><path stroke-width=\"1\" stroke=\"black\" d=\"M 273 27 246 82\"/><path stroke-width=\"1\" stroke=\"black\" d=\"M 220 320 211 275\"/><path stroke-width=\"1\" stroke=\"black\" d=\"M 220 320 264 277\"/><path stroke-width=\"1\" stroke=\"black\" d=\"M 388 216 264 200\"/><path stroke-width=\"1\" stroke=\"black\" d=\"M 388 216 353 168\"/><path stroke-width=\"1\" stroke=\"black\" d=\"M 313 34 260 73\"/><path stroke-width=\"1\" stroke=\"black\" d=\"M 313 34 246 82\"/><path stroke-width=\"1\" stroke=\"black\" d=\"M 331 143 264 200\"/><path stroke-width=\"1\" stroke=\"black\" d=\"M 331 143 353 168\"/><path stroke-width=\"1\" stroke=\"black\" d=\"M 331 143 246 82\"/><path stroke-width=\"1\" stroke=\"black\" d=\"M 366 61 260 73\"/><path stroke-width=\"1\" stroke=\"black\" d=\"M 366 61 246 82\"/><path stroke-width=\"1\" stroke=\"black\" d=\"M 420 202 264 200\"/><path stroke-width=\"1\" stroke=\"black\" d=\"M 420 202 353 168\"/><path stroke-width=\"1\" stroke=\"black\" d=\"M 228 32 260 73\"/><path stroke-width=\"1\" stroke=\"black\" d=\"M 228 32 246 82\"/><path stroke-width=\"1\" stroke=\"black\" d=\"M 131 68 28 91\"/><path stroke-width=\"1\" stroke=\"black\" d=\"M 131 68 122 103\"/><path stroke-width=\"1\" stroke=\"black\" d=\"M 131 68 171 45\"/><path stroke-width=\"1\" stroke=\"black\" d=\"M 131 68 260 73\"/><path stroke-width=\"1\" stroke=\"black\" d=\"M 131 68 246 82\"/><path stroke-width=\"1\" stroke=\"black\" d=\"M 20 116 28 91\"/><path stroke-width=\"1\" stroke=\"black\" d=\"M 20 116 122 103\"/><path stroke-width=\"1\" stroke=\"black\" d=\"M 20 116 153 125\"/><path stroke-width=\"1\" stroke=\"black\" d=\"M 28 91 131 68\"/><path stroke-width=\"1\" stroke=\"black\" d=\"M 28 91 20 116\"/><path stroke-width=\"1\" stroke=\"black\" d=\"M 28 91 153 125\"/><path stroke-width=\"1\" stroke=\"black\" d=\"M 162 20 171 45\"/><path stroke-width=\"1\" stroke=\"black\" d=\"M 162 20 246 82\"/><path stroke-width=\"1\" stroke=\"black\" d=\"M 122 103 251 143\"/><path stroke-width=\"1\" stroke=\"black\" d=\"M 122 103 131 68\"/><path stroke-width=\"1\" stroke=\"black\" d=\"M 122 103 20 116\"/><path stroke-width=\"1\" stroke=\"black\" d=\"M 122 103 246 82\"/><path stroke-width=\"1\" stroke=\"black\" d=\"M 197 120 251 143\"/><path stroke-width=\"1\" stroke=\"black\" d=\"M 197 120 153 125\"/><path stroke-width=\"1\" stroke=\"black\" d=\"M 197 120 246 82\"/><path stroke-width=\"1\" stroke=\"black\" d=\"M 171 45 131 68\"/><path stroke-width=\"1\" stroke=\"black\" d=\"M 171 45 162 20\"/><path stroke-width=\"1\" stroke=\"black\" d=\"M 171 45 260 73\"/><path stroke-width=\"1\" stroke=\"black\" d=\"M 171 45 246 82\"/><path stroke-width=\"1\" stroke=\"black\" d=\"M 344 107 353 168\"/><path stroke-width=\"1\" stroke=\"black\" d=\"M 344 107 282 125\"/><path stroke-width=\"1\" stroke=\"black\" d=\"M 344 107 260 73\"/><path stroke-width=\"1\" stroke=\"black\" d=\"M 344 107 246 82\"/><path stroke-width=\"1\" stroke=\"black\" d=\"M 153 125 264 200\"/><path stroke-width=\"1\" stroke=\"black\" d=\"M 153 125 20 116\"/><path stroke-width=\"1\" stroke=\"black\" d=\"M 153 125 28 91\"/><path stroke-width=\"1\" stroke=\"black\" d=\"M 153 125 197 120\"/><path stroke-width=\"1\" stroke=\"black\" d=\"M 153 125 260 73\"/><path stroke-width=\"1\" stroke=\"black\" d=\"M 153 125 246 82\"/><path stroke-width=\"1\" stroke=\"black\" d=\"M 260 73 251 143\"/><path stroke-width=\"1\" stroke=\"black\" d=\"M 260 73 282 125\"/><path stroke-width=\"1\" stroke=\"black\" d=\"M 260 73 348 43\"/><path stroke-width=\"1\" stroke=\"black\" d=\"M 260 73 273 27\"/><path stroke-width=\"1\" stroke=\"black\" d=\"M 260 73 313 34\"/><path stroke-width=\"1\" stroke=\"black\" d=\"M 260 73 366 61\"/><path stroke-width=\"1\" stroke=\"black\" d=\"M 260 73 228 32\"/><path stroke-width=\"1\" stroke=\"black\" d=\"M 260 73 131 68\"/><path stroke-width=\"1\" stroke=\"black\" d=\"M 260 73 171 45\"/><path stroke-width=\"1\" stroke=\"black\" d=\"M 260 73 344 107\"/><path stroke-width=\"1\" stroke=\"black\" d=\"M 260 73 153 125\"/><path stroke-width=\"1\" stroke=\"black\" d=\"M 260 73 246 82\"/><path stroke-width=\"1\" stroke=\"black\" d=\"M 246 82 282 125\"/><path stroke-width=\"1\" stroke=\"black\" d=\"M 246 82 197 100\"/><path stroke-width=\"1\" stroke=\"black\" d=\"M 246 82 282 153\"/><path stroke-width=\"1\" stroke=\"black\" d=\"M 246 82 348 43\"/><path stroke-width=\"1\" stroke=\"black\" d=\"M 246 82 273 27\"/><path stroke-width=\"1\" stroke=\"black\" d=\"M 246 82 313 34\"/><path stroke-width=\"1\" stroke=\"black\" d=\"M 246 82 331 143\"/><path stroke-width=\"1\" stroke=\"black\" d=\"M 246 82 366 61\"/><path stroke-width=\"1\" stroke=\"black\" d=\"M 246 82 228 32\"/><path stroke-width=\"1\" stroke=\"black\" d=\"M 246 82 131 68\"/><path stroke-width=\"1\" stroke=\"black\" d=\"M 246 82 162 20\"/><path stroke-width=\"1\" stroke=\"black\" d=\"M 246 82 122 103\"/><path stroke-width=\"1\" stroke=\"black\" d=\"M 246 82 197 120\"/><path stroke-width=\"1\" stroke=\"black\" d=\"M 246 82 171 45\"/><path stroke-width=\"1\" stroke=\"black\" d=\"M 246 82 344 107\"/><path stroke-width=\"1\" stroke=\"black\" d=\"M 246 82 153 125\"/><path stroke-width=\"1\" stroke=\"black\" d=\"M 246 82 260 73\"/><circle cx=\"264\" cy=\"200\" r=\"7.0\" style=\"fill:rgb(179, 3, 38);stroke:black;stroke-width:1.0\"/><circle cx=\"353\" cy=\"168\" r=\"7.0\" style=\"fill:rgb(187, 26, 43);stroke:black;stroke-width:3.0\"/><circle cx=\"251\" cy=\"143\" r=\"7.0\" style=\"fill:rgb(246, 166, 135);stroke:black;stroke-width:1.0\"/><circle cx=\"304\" cy=\"191\" r=\"7.0\" style=\"fill:rgb(246, 183, 156);stroke:black;stroke-width:1.0\"/><circle cx=\"255\" cy=\"255\" r=\"7.0\" style=\"fill:rgb(247, 173, 143);stroke:black;stroke-width:1.0\"/><circle cx=\"211\" cy=\"275\" r=\"7.0\" style=\"fill:rgb(244, 154, 123);stroke:black;stroke-width:1.0\"/><circle cx=\"264\" cy=\"277\" r=\"7.0\" style=\"fill:rgb(246, 183, 156);stroke:black;stroke-width:1.0\"/><circle cx=\"340\" cy=\"186\" r=\"7.0\" style=\"fill:rgb(237, 207, 192);stroke:black;stroke-width:1.0\"/><circle cx=\"282\" cy=\"125\" r=\"7.0\" style=\"fill:rgb(210, 218, 231);stroke:black;stroke-width:1.0\"/><circle cx=\"197\" cy=\"100\" r=\"7.0\" style=\"fill:rgb(105, 139, 239);stroke:black;stroke-width:1.0\"/><circle cx=\"188\" cy=\"252\" r=\"7.0\" style=\"fill:rgb(207, 70, 61);stroke:black;stroke-width:3.0\"/><circle cx=\"122\" cy=\"212\" r=\"7.0\" style=\"fill:rgb(123, 158, 248);stroke:black;stroke-width:1.0\"/><circle cx=\"335\" cy=\"236\" r=\"7.0\" style=\"fill:rgb(176, 203, 251);stroke:black;stroke-width:1.0\"/><circle cx=\"282\" cy=\"153\" r=\"7.0\" style=\"fill:rgb(241, 203, 184);stroke:black;stroke-width:1.0\"/><circle cx=\"348\" cy=\"43\" r=\"7.0\" style=\"fill:rgb(66, 88, 202);stroke:black;stroke-width:1.0\"/><circle cx=\"273\" cy=\"27\" r=\"7.0\" style=\"fill:rgb(66, 88, 202);stroke:black;stroke-width:1.0\"/><circle cx=\"220\" cy=\"320\" r=\"7.0\" style=\"fill:rgb(214, 219, 228);stroke:black;stroke-width:1.0\"/><circle cx=\"388\" cy=\"216\" r=\"7.0\" style=\"fill:rgb(210, 218, 231);stroke:black;stroke-width:1.0\"/><circle cx=\"313\" cy=\"34\" r=\"7.0\" style=\"fill:rgb(66, 88, 202);stroke:black;stroke-width:1.0\"/><circle cx=\"331\" cy=\"143\" r=\"7.0\" style=\"fill:rgb(219, 220, 222);stroke:black;stroke-width:1.0\"/><circle cx=\"366\" cy=\"61\" r=\"7.0\" style=\"fill:rgb(66, 88, 202);stroke:black;stroke-width:1.0\"/><circle cx=\"420\" cy=\"202\" r=\"7.0\" style=\"fill:rgb(210, 218, 231);stroke:black;stroke-width:1.0\"/><circle cx=\"228\" cy=\"32\" r=\"7.0\" style=\"fill:rgb(66, 88, 202);stroke:black;stroke-width:1.0\"/><circle cx=\"131\" cy=\"68\" r=\"7.0\" style=\"fill:rgb(138, 173, 253);stroke:black;stroke-width:1.0\"/><circle cx=\"20\" cy=\"116\" r=\"7.0\" style=\"fill:rgb(99, 131, 234);stroke:black;stroke-width:1.0\"/><circle cx=\"28\" cy=\"91\" r=\"7.0\" style=\"fill:rgb(92, 123, 229);stroke:black;stroke-width:1.0\"/><circle cx=\"162\" cy=\"20\" r=\"7.0\" style=\"fill:rgb(58, 76, 192);stroke:black;stroke-width:1.0\"/><circle cx=\"122\" cy=\"103\" r=\"7.0\" style=\"fill:rgb(145, 179, 254);stroke:black;stroke-width:1.0\"/><circle cx=\"197\" cy=\"120\" r=\"7.0\" style=\"fill:rgb(138, 173, 253);stroke:black;stroke-width:1.0\"/><circle cx=\"171\" cy=\"45\" r=\"7.0\" style=\"fill:rgb(116, 151, 245);stroke:black;stroke-width:1.0\"/><circle cx=\"344\" cy=\"107\" r=\"7.0\" style=\"fill:rgb(210, 218, 231);stroke:black;stroke-width:1.0\"/><circle cx=\"153\" cy=\"125\" r=\"7.0\" style=\"fill:rgb(199, 214, 240);stroke:black;stroke-width:1.0\"/><circle cx=\"260\" cy=\"73\" r=\"7.0\" style=\"fill:rgb(234, 211, 199);stroke:black;stroke-width:1.0\"/><circle cx=\"246\" cy=\"82\" r=\"7.0\" style=\"fill:rgb(247, 179, 151);stroke:black;stroke-width:1.0\"/></svg>"
      ],
      "text/plain": [
       "<IPython.core.display.SVG object>"
      ]
     },
     "execution_count": 11,
     "metadata": {},
     "output_type": "execute_result"
    }
   ],
   "source": [
    "SVG(image)"
   ]
  },
  {
   "cell_type": "markdown",
   "metadata": {},
   "source": [
    "## Digraphs"
   ]
  },
  {
   "cell_type": "code",
   "execution_count": 12,
   "metadata": {
    "ExecuteTime": {
     "end_time": "2019-07-15T12:29:58.542147Z",
     "start_time": "2019-07-15T12:29:58.529699Z"
    }
   },
   "outputs": [],
   "source": [
    "graph = painters(metadata=True)\n",
    "adjacency = graph.adjacency\n",
    "names = graph.names\n",
    "position = graph.position"
   ]
  },
  {
   "cell_type": "markdown",
   "metadata": {},
   "source": [
    "**Ranking**"
   ]
  },
  {
   "cell_type": "code",
   "execution_count": 13,
   "metadata": {},
   "outputs": [],
   "source": [
    "pagerank = PageRank()\n",
    "scores = pagerank.fit_transform(adjacency)"
   ]
  },
  {
   "cell_type": "code",
   "execution_count": 14,
   "metadata": {},
   "outputs": [],
   "source": [
    "image = svg_digraph(adjacency, position, scores=np.log(scores), names=names)"
   ]
  },
  {
   "cell_type": "code",
   "execution_count": 15,
   "metadata": {},
   "outputs": [
    {
     "data": {
      "image/svg+xml": [
       "<svg xmlns=\"http://www.w3.org/2000/svg\" width=\"566.0\" height=\"340\"><defs><marker id=\"arrow\" markerWidth=\"10\" markerHeight=\"10\" refX=\"9\" refY=\"3\" orient=\"auto\"><path d=\"M0,0 L0,6 L9,3 z\" fill=\"gray\"/></marker></defs><path stroke-width=\"1\" stroke=\"gray\" d=\"M 247 48 77 64\" marker-end=\"url(#arrow)\"/><path stroke-width=\"1\" stroke=\"gray\" d=\"M 247 48 170 55\" marker-end=\"url(#arrow)\"/><path stroke-width=\"1\" stroke=\"gray\" d=\"M 20 108 66 68\" marker-end=\"url(#arrow)\"/><path stroke-width=\"1\" stroke=\"gray\" d=\"M 20 108 87 129\" marker-end=\"url(#arrow)\"/><path stroke-width=\"1\" stroke=\"gray\" d=\"M 74 268 146 317\" marker-end=\"url(#arrow)\"/><path stroke-width=\"1\" stroke=\"gray\" d=\"M 71 64 241 48\" marker-end=\"url(#arrow)\"/><path stroke-width=\"1\" stroke=\"gray\" d=\"M 71 64 25 104\" marker-end=\"url(#arrow)\"/><path stroke-width=\"1\" stroke=\"gray\" d=\"M 71 64 56 156\" marker-end=\"url(#arrow)\"/><path stroke-width=\"1\" stroke=\"gray\" d=\"M 71 64 126 90\" marker-end=\"url(#arrow)\"/><path stroke-width=\"1\" stroke=\"gray\" d=\"M 71 64 91 125\" marker-end=\"url(#arrow)\"/><path stroke-width=\"1\" stroke=\"gray\" d=\"M 144 227 80 265\" marker-end=\"url(#arrow)\"/><path stroke-width=\"1\" stroke=\"gray\" d=\"M 144 227 202 255\" marker-end=\"url(#arrow)\"/><path stroke-width=\"1\" stroke=\"gray\" d=\"M 144 227 151 314\" marker-end=\"url(#arrow)\"/><path stroke-width=\"1\" stroke=\"gray\" d=\"M 208 257 80 268\" marker-end=\"url(#arrow)\"/><path stroke-width=\"1\" stroke=\"gray\" d=\"M 208 257 150 229\" marker-end=\"url(#arrow)\"/><path stroke-width=\"1\" stroke=\"gray\" d=\"M 208 257 205 146\" marker-end=\"url(#arrow)\"/><path stroke-width=\"1\" stroke=\"gray\" d=\"M 208 257 155 315\" marker-end=\"url(#arrow)\"/><path stroke-width=\"1\" stroke=\"gray\" d=\"M 420 20 253 47\" marker-end=\"url(#arrow)\"/><path stroke-width=\"1\" stroke=\"gray\" d=\"M 420 20 405 88\" marker-end=\"url(#arrow)\"/><path stroke-width=\"1\" stroke=\"gray\" d=\"M 55 162 23 113\" marker-end=\"url(#arrow)\"/><path stroke-width=\"1\" stroke=\"gray\" d=\"M 55 162 73 262\" marker-end=\"url(#arrow)\"/><path stroke-width=\"1\" stroke=\"gray\" d=\"M 55 162 70 70\" marker-end=\"url(#arrow)\"/><path stroke-width=\"1\" stroke=\"gray\" d=\"M 55 162 199 140\" marker-end=\"url(#arrow)\"/><path stroke-width=\"1\" stroke=\"gray\" d=\"M 55 162 127 96\" marker-end=\"url(#arrow)\"/><path stroke-width=\"1\" stroke=\"gray\" d=\"M 55 162 88 135\" marker-end=\"url(#arrow)\"/><path stroke-width=\"1\" stroke=\"gray\" d=\"M 205 140 245 54\" marker-end=\"url(#arrow)\"/><path stroke-width=\"1\" stroke=\"gray\" d=\"M 205 140 26 109\" marker-end=\"url(#arrow)\"/><path stroke-width=\"1\" stroke=\"gray\" d=\"M 205 140 148 222\" marker-end=\"url(#arrow)\"/><path stroke-width=\"1\" stroke=\"gray\" d=\"M 205 140 208 251\" marker-end=\"url(#arrow)\"/><path stroke-width=\"1\" stroke=\"gray\" d=\"M 205 140 61 162\" marker-end=\"url(#arrow)\"/><path stroke-width=\"1\" stroke=\"gray\" d=\"M 205 140 167 61\" marker-end=\"url(#arrow)\"/><path stroke-width=\"1\" stroke=\"gray\" d=\"M 205 140 137 95\" marker-end=\"url(#arrow)\"/><path stroke-width=\"1\" stroke=\"gray\" d=\"M 151 320 79 271\" marker-end=\"url(#arrow)\"/><path stroke-width=\"1\" stroke=\"gray\" d=\"M 151 320 144 233\" marker-end=\"url(#arrow)\"/><path stroke-width=\"1\" stroke=\"gray\" d=\"M 164 55 241 48\" marker-end=\"url(#arrow)\"/><path stroke-width=\"1\" stroke=\"gray\" d=\"M 164 55 77 64\" marker-end=\"url(#arrow)\"/><path stroke-width=\"1\" stroke=\"gray\" d=\"M 164 55 202 134\" marker-end=\"url(#arrow)\"/><path stroke-width=\"1\" stroke=\"gray\" d=\"M 164 55 136 87\" marker-end=\"url(#arrow)\"/><path stroke-width=\"1\" stroke=\"gray\" d=\"M 164 55 97 126\" marker-end=\"url(#arrow)\"/><path stroke-width=\"1\" stroke=\"gray\" d=\"M 132 92 241 50\" marker-end=\"url(#arrow)\"/><path stroke-width=\"1\" stroke=\"gray\" d=\"M 132 92 26 108\" marker-end=\"url(#arrow)\"/><path stroke-width=\"1\" stroke=\"gray\" d=\"M 132 92 77 66\" marker-end=\"url(#arrow)\"/><path stroke-width=\"1\" stroke=\"gray\" d=\"M 132 92 160 60\" marker-end=\"url(#arrow)\"/><path stroke-width=\"1\" stroke=\"gray\" d=\"M 132 92 97 127\" marker-end=\"url(#arrow)\"/><path stroke-width=\"1\" stroke=\"gray\" d=\"M 93 131 26 110\" marker-end=\"url(#arrow)\"/><path stroke-width=\"1\" stroke=\"gray\" d=\"M 93 131 73 70\" marker-end=\"url(#arrow)\"/><path stroke-width=\"1\" stroke=\"gray\" d=\"M 93 131 141 221\" marker-end=\"url(#arrow)\"/><path stroke-width=\"1\" stroke=\"gray\" d=\"M 93 131 60 158\" marker-end=\"url(#arrow)\"/><path stroke-width=\"1\" stroke=\"gray\" d=\"M 404 94 419 26\" marker-end=\"url(#arrow)\"/><path stroke-width=\"1\" stroke=\"gray\" d=\"M 404 94 211 139\" marker-end=\"url(#arrow)\"/><circle cx=\"247\" cy=\"48\" r=\"7.0\" style=\"fill:rgb(231, 214, 204);stroke:black;stroke-width:1.0\"/><circle cx=\"20\" cy=\"108\" r=\"7.0\" style=\"fill:rgb(243, 198, 176);stroke:black;stroke-width:1.0\"/><circle cx=\"74\" cy=\"268\" r=\"7.0\" style=\"fill:rgb(217, 88, 71);stroke:black;stroke-width:1.0\"/><circle cx=\"71\" cy=\"64\" r=\"7.0\" style=\"fill:rgb(231, 117, 92);stroke:black;stroke-width:1.0\"/><circle cx=\"144\" cy=\"227\" r=\"7.0\" style=\"fill:rgb(231, 117, 92);stroke:black;stroke-width:1.0\"/><circle cx=\"208\" cy=\"257\" r=\"7.0\" style=\"fill:rgb(202, 216, 238);stroke:black;stroke-width:1.0\"/><circle cx=\"420\" cy=\"20\" r=\"7.0\" style=\"fill:rgb(58, 76, 192);stroke:black;stroke-width:1.0\"/><circle cx=\"55\" cy=\"162\" r=\"7.0\" style=\"fill:rgb(217, 220, 224);stroke:black;stroke-width:1.0\"/><circle cx=\"205\" cy=\"140\" r=\"7.0\" style=\"fill:rgb(193, 212, 244);stroke:black;stroke-width:1.0\"/><circle cx=\"151\" cy=\"320\" r=\"7.0\" style=\"fill:rgb(179, 3, 38);stroke:black;stroke-width:1.0\"/><circle cx=\"164\" cy=\"55\" r=\"7.0\" style=\"fill:rgb(210, 218, 231);stroke:black;stroke-width:1.0\"/><circle cx=\"132\" cy=\"92\" r=\"7.0\" style=\"fill:rgb(214, 219, 228);stroke:black;stroke-width:1.0\"/><circle cx=\"93\" cy=\"131\" r=\"7.0\" style=\"fill:rgb(246, 169, 138);stroke:black;stroke-width:1.0\"/><circle cx=\"404\" cy=\"94\" r=\"7.0\" style=\"fill:rgb(58, 76, 192);stroke:black;stroke-width:1.0\"/><text x=\"264\" y=\"55\" font-size=\"12\">Pablo Picasso</text><text x=\"37\" y=\"115\" font-size=\"12\">Claude Monet</text><text x=\"91\" y=\"275\" font-size=\"12\">Michel Angelo</text><text x=\"88\" y=\"71\" font-size=\"12\">Edouard Manet</text><text x=\"161\" y=\"234\" font-size=\"12\">Peter Paul Rubens</text><text x=\"225\" y=\"264\" font-size=\"12\">Rembrandt</text><text x=\"437\" y=\"27\" font-size=\"12\">Gustav Klimt</text><text x=\"72\" y=\"169\" font-size=\"12\">Edgar Degas</text><text x=\"222\" y=\"147\" font-size=\"12\">Vincent van Gogh</text><text x=\"168\" y=\"327\" font-size=\"12\">Leonardo da Vinci</text><text x=\"181\" y=\"62\" font-size=\"12\">Henri Matisse</text><text x=\"149\" y=\"99\" font-size=\"12\">Paul Cezanne</text><text x=\"110\" y=\"138\" font-size=\"12\">Pierre-Auguste Renoir</text><text x=\"421\" y=\"101\" font-size=\"12\">Egon Schiele</text></svg>"
      ],
      "text/plain": [
       "<IPython.core.display.SVG object>"
      ]
     },
     "execution_count": 15,
     "metadata": {},
     "output_type": "execute_result"
    }
   ],
   "source": [
    "SVG(image)"
   ]
  },
  {
   "cell_type": "markdown",
   "metadata": {},
   "source": [
    "**Ranking with personalization**"
   ]
  },
  {
   "cell_type": "code",
   "execution_count": 16,
   "metadata": {},
   "outputs": [],
   "source": [
    "cezanne = 11\n",
    "seeds = {cezanne:1}"
   ]
  },
  {
   "cell_type": "code",
   "execution_count": 17,
   "metadata": {
    "ExecuteTime": {
     "end_time": "2019-07-15T12:29:58.922265Z",
     "start_time": "2019-07-15T12:29:58.912169Z"
    }
   },
   "outputs": [],
   "source": [
    "scores = pagerank.fit_transform(adjacency, seeds)"
   ]
  },
  {
   "cell_type": "code",
   "execution_count": 18,
   "metadata": {},
   "outputs": [],
   "source": [
    "image = svg_digraph(adjacency, position, names, scores=np.log(scores + 1e-6), seeds=seeds)"
   ]
  },
  {
   "cell_type": "code",
   "execution_count": 19,
   "metadata": {},
   "outputs": [
    {
     "data": {
      "image/svg+xml": [
       "<svg xmlns=\"http://www.w3.org/2000/svg\" width=\"566.0\" height=\"340\"><defs><marker id=\"arrow\" markerWidth=\"10\" markerHeight=\"10\" refX=\"9\" refY=\"3\" orient=\"auto\"><path d=\"M0,0 L0,6 L9,3 z\" fill=\"gray\"/></marker></defs><path stroke-width=\"1\" stroke=\"gray\" d=\"M 247 48 77 64\" marker-end=\"url(#arrow)\"/><path stroke-width=\"1\" stroke=\"gray\" d=\"M 247 48 170 55\" marker-end=\"url(#arrow)\"/><path stroke-width=\"1\" stroke=\"gray\" d=\"M 20 108 66 68\" marker-end=\"url(#arrow)\"/><path stroke-width=\"1\" stroke=\"gray\" d=\"M 20 108 87 129\" marker-end=\"url(#arrow)\"/><path stroke-width=\"1\" stroke=\"gray\" d=\"M 74 268 146 317\" marker-end=\"url(#arrow)\"/><path stroke-width=\"1\" stroke=\"gray\" d=\"M 71 64 241 48\" marker-end=\"url(#arrow)\"/><path stroke-width=\"1\" stroke=\"gray\" d=\"M 71 64 25 104\" marker-end=\"url(#arrow)\"/><path stroke-width=\"1\" stroke=\"gray\" d=\"M 71 64 56 156\" marker-end=\"url(#arrow)\"/><path stroke-width=\"1\" stroke=\"gray\" d=\"M 71 64 126 90\" marker-end=\"url(#arrow)\"/><path stroke-width=\"1\" stroke=\"gray\" d=\"M 71 64 91 125\" marker-end=\"url(#arrow)\"/><path stroke-width=\"1\" stroke=\"gray\" d=\"M 144 227 80 265\" marker-end=\"url(#arrow)\"/><path stroke-width=\"1\" stroke=\"gray\" d=\"M 144 227 202 255\" marker-end=\"url(#arrow)\"/><path stroke-width=\"1\" stroke=\"gray\" d=\"M 144 227 151 314\" marker-end=\"url(#arrow)\"/><path stroke-width=\"1\" stroke=\"gray\" d=\"M 208 257 80 268\" marker-end=\"url(#arrow)\"/><path stroke-width=\"1\" stroke=\"gray\" d=\"M 208 257 150 229\" marker-end=\"url(#arrow)\"/><path stroke-width=\"1\" stroke=\"gray\" d=\"M 208 257 205 146\" marker-end=\"url(#arrow)\"/><path stroke-width=\"1\" stroke=\"gray\" d=\"M 208 257 155 315\" marker-end=\"url(#arrow)\"/><path stroke-width=\"1\" stroke=\"gray\" d=\"M 420 20 253 47\" marker-end=\"url(#arrow)\"/><path stroke-width=\"1\" stroke=\"gray\" d=\"M 420 20 405 88\" marker-end=\"url(#arrow)\"/><path stroke-width=\"1\" stroke=\"gray\" d=\"M 55 162 23 113\" marker-end=\"url(#arrow)\"/><path stroke-width=\"1\" stroke=\"gray\" d=\"M 55 162 73 262\" marker-end=\"url(#arrow)\"/><path stroke-width=\"1\" stroke=\"gray\" d=\"M 55 162 70 70\" marker-end=\"url(#arrow)\"/><path stroke-width=\"1\" stroke=\"gray\" d=\"M 55 162 199 140\" marker-end=\"url(#arrow)\"/><path stroke-width=\"1\" stroke=\"gray\" d=\"M 55 162 127 96\" marker-end=\"url(#arrow)\"/><path stroke-width=\"1\" stroke=\"gray\" d=\"M 55 162 88 135\" marker-end=\"url(#arrow)\"/><path stroke-width=\"1\" stroke=\"gray\" d=\"M 205 140 245 54\" marker-end=\"url(#arrow)\"/><path stroke-width=\"1\" stroke=\"gray\" d=\"M 205 140 26 109\" marker-end=\"url(#arrow)\"/><path stroke-width=\"1\" stroke=\"gray\" d=\"M 205 140 148 222\" marker-end=\"url(#arrow)\"/><path stroke-width=\"1\" stroke=\"gray\" d=\"M 205 140 208 251\" marker-end=\"url(#arrow)\"/><path stroke-width=\"1\" stroke=\"gray\" d=\"M 205 140 61 162\" marker-end=\"url(#arrow)\"/><path stroke-width=\"1\" stroke=\"gray\" d=\"M 205 140 167 61\" marker-end=\"url(#arrow)\"/><path stroke-width=\"1\" stroke=\"gray\" d=\"M 205 140 137 95\" marker-end=\"url(#arrow)\"/><path stroke-width=\"1\" stroke=\"gray\" d=\"M 151 320 79 271\" marker-end=\"url(#arrow)\"/><path stroke-width=\"1\" stroke=\"gray\" d=\"M 151 320 144 233\" marker-end=\"url(#arrow)\"/><path stroke-width=\"1\" stroke=\"gray\" d=\"M 164 55 241 48\" marker-end=\"url(#arrow)\"/><path stroke-width=\"1\" stroke=\"gray\" d=\"M 164 55 77 64\" marker-end=\"url(#arrow)\"/><path stroke-width=\"1\" stroke=\"gray\" d=\"M 164 55 202 134\" marker-end=\"url(#arrow)\"/><path stroke-width=\"1\" stroke=\"gray\" d=\"M 164 55 136 87\" marker-end=\"url(#arrow)\"/><path stroke-width=\"1\" stroke=\"gray\" d=\"M 164 55 97 126\" marker-end=\"url(#arrow)\"/><path stroke-width=\"1\" stroke=\"gray\" d=\"M 132 92 241 50\" marker-end=\"url(#arrow)\"/><path stroke-width=\"1\" stroke=\"gray\" d=\"M 132 92 26 108\" marker-end=\"url(#arrow)\"/><path stroke-width=\"1\" stroke=\"gray\" d=\"M 132 92 77 66\" marker-end=\"url(#arrow)\"/><path stroke-width=\"1\" stroke=\"gray\" d=\"M 132 92 160 60\" marker-end=\"url(#arrow)\"/><path stroke-width=\"1\" stroke=\"gray\" d=\"M 132 92 97 127\" marker-end=\"url(#arrow)\"/><path stroke-width=\"1\" stroke=\"gray\" d=\"M 93 131 26 110\" marker-end=\"url(#arrow)\"/><path stroke-width=\"1\" stroke=\"gray\" d=\"M 93 131 73 70\" marker-end=\"url(#arrow)\"/><path stroke-width=\"1\" stroke=\"gray\" d=\"M 93 131 141 221\" marker-end=\"url(#arrow)\"/><path stroke-width=\"1\" stroke=\"gray\" d=\"M 93 131 60 158\" marker-end=\"url(#arrow)\"/><path stroke-width=\"1\" stroke=\"gray\" d=\"M 404 94 419 26\" marker-end=\"url(#arrow)\"/><path stroke-width=\"1\" stroke=\"gray\" d=\"M 404 94 211 139\" marker-end=\"url(#arrow)\"/><circle cx=\"247\" cy=\"48\" r=\"7.0\" style=\"fill:rgb(207, 70, 61);stroke:black;stroke-width:1.0\"/><circle cx=\"20\" cy=\"108\" r=\"7.0\" style=\"fill:rgb(201, 59, 55);stroke:black;stroke-width:1.0\"/><circle cx=\"74\" cy=\"268\" r=\"7.0\" style=\"fill:rgb(217, 88, 71);stroke:black;stroke-width:1.0\"/><circle cx=\"71\" cy=\"64\" r=\"7.0\" style=\"fill:rgb(190, 35, 45);stroke:black;stroke-width:1.0\"/><circle cx=\"144\" cy=\"227\" r=\"7.0\" style=\"fill:rgb(214, 82, 67);stroke:black;stroke-width:1.0\"/><circle cx=\"208\" cy=\"257\" r=\"7.0\" style=\"fill:rgb(236, 128, 100);stroke:black;stroke-width:1.0\"/><circle cx=\"420\" cy=\"20\" r=\"7.0\" style=\"fill:rgb(58, 76, 192);stroke:black;stroke-width:1.0\"/><circle cx=\"55\" cy=\"162\" r=\"7.0\" style=\"fill:rgb(217, 88, 71);stroke:black;stroke-width:1.0\"/><circle cx=\"205\" cy=\"140\" r=\"7.0\" style=\"fill:rgb(234, 123, 96);stroke:black;stroke-width:1.0\"/><circle cx=\"151\" cy=\"320\" r=\"7.0\" style=\"fill:rgb(211, 77, 64);stroke:black;stroke-width:1.0\"/><circle cx=\"164\" cy=\"55\" r=\"7.0\" style=\"fill:rgb(211, 77, 64);stroke:black;stroke-width:1.0\"/><circle cx=\"132\" cy=\"92\" r=\"7.0\" style=\"fill:rgb(179, 3, 38);stroke:black;stroke-width:3.0\"/><circle cx=\"93\" cy=\"131\" r=\"7.0\" style=\"fill:rgb(194, 45, 49);stroke:black;stroke-width:1.0\"/><circle cx=\"404\" cy=\"94\" r=\"7.0\" style=\"fill:rgb(58, 76, 192);stroke:black;stroke-width:1.0\"/><text x=\"264\" y=\"55\" font-size=\"12\">Pablo Picasso</text><text x=\"37\" y=\"115\" font-size=\"12\">Claude Monet</text><text x=\"91\" y=\"275\" font-size=\"12\">Michel Angelo</text><text x=\"88\" y=\"71\" font-size=\"12\">Edouard Manet</text><text x=\"161\" y=\"234\" font-size=\"12\">Peter Paul Rubens</text><text x=\"225\" y=\"264\" font-size=\"12\">Rembrandt</text><text x=\"437\" y=\"27\" font-size=\"12\">Gustav Klimt</text><text x=\"72\" y=\"169\" font-size=\"12\">Edgar Degas</text><text x=\"222\" y=\"147\" font-size=\"12\">Vincent van Gogh</text><text x=\"168\" y=\"327\" font-size=\"12\">Leonardo da Vinci</text><text x=\"181\" y=\"62\" font-size=\"12\">Henri Matisse</text><text x=\"149\" y=\"99\" font-size=\"12\">Paul Cezanne</text><text x=\"110\" y=\"138\" font-size=\"12\">Pierre-Auguste Renoir</text><text x=\"421\" y=\"101\" font-size=\"12\">Egon Schiele</text></svg>"
      ],
      "text/plain": [
       "<IPython.core.display.SVG object>"
      ]
     },
     "execution_count": 19,
     "metadata": {},
     "output_type": "execute_result"
    }
   ],
   "source": [
    "SVG(image)"
   ]
  },
  {
   "cell_type": "markdown",
   "metadata": {},
   "source": [
    "## Bigraphs"
   ]
  },
  {
   "cell_type": "code",
   "execution_count": 20,
   "metadata": {},
   "outputs": [],
   "source": [
    "graph = movie_actor(metadata=True)\n",
    "biadjacency = graph.biadjacency\n",
    "names_row = graph.names_row\n",
    "names_col = graph.names_col"
   ]
  },
  {
   "cell_type": "markdown",
   "metadata": {},
   "source": [
    "**Ranking**"
   ]
  },
  {
   "cell_type": "code",
   "execution_count": 21,
   "metadata": {},
   "outputs": [],
   "source": [
    "pagerank = PageRank()"
   ]
  },
  {
   "cell_type": "code",
   "execution_count": 22,
   "metadata": {},
   "outputs": [],
   "source": [
    "drive = 3\n",
    "aviator = 9\n",
    "seeds_row={drive: 1, aviator: 1}"
   ]
  },
  {
   "cell_type": "code",
   "execution_count": 23,
   "metadata": {},
   "outputs": [],
   "source": [
    "pagerank.fit(biadjacency, seeds_row)\n",
    "scores_row = pagerank.scores_row_\n",
    "scores_col = pagerank.scores_col_"
   ]
  },
  {
   "cell_type": "code",
   "execution_count": 24,
   "metadata": {},
   "outputs": [],
   "source": [
    "image = svg_bigraph(biadjacency, names_row, names_col,\n",
    "                    scores_row=np.log(scores_row), scores_col=np.log(scores_col), seeds_row=seeds_row)"
   ]
  },
  {
   "cell_type": "code",
   "execution_count": 25,
   "metadata": {},
   "outputs": [
    {
     "data": {
      "image/svg+xml": [
       "<svg xmlns=\"http://www.w3.org/2000/svg\" width=\"728.0\" height=\"340\"><path stroke-width=\"1\" stroke=\"black\" d=\"M 188 90 588 140\"/><path stroke-width=\"1\" stroke=\"black\" d=\"M 188 90 588 60\"/><path stroke-width=\"1\" stroke=\"black\" d=\"M 188 90 588 40\"/><path stroke-width=\"1\" stroke=\"black\" d=\"M 188 70 588 60\"/><path stroke-width=\"1\" stroke=\"black\" d=\"M 188 70 588 40\"/><path stroke-width=\"1\" stroke=\"black\" d=\"M 188 70 588 220\"/><path stroke-width=\"1\" stroke=\"black\" d=\"M 188 230 588 220\"/><path stroke-width=\"1\" stroke=\"black\" d=\"M 188 230 588 200\"/><path stroke-width=\"1\" stroke=\"black\" d=\"M 188 230 588 320\"/><path stroke-width=\"1\" stroke=\"black\" d=\"M 188 230 588 160\"/><path stroke-width=\"1\" stroke=\"black\" d=\"M 188 50 588 200\"/><path stroke-width=\"1\" stroke=\"black\" d=\"M 188 50 588 20\"/><path stroke-width=\"1\" stroke=\"black\" d=\"M 188 30 588 140\"/><path stroke-width=\"1\" stroke=\"black\" d=\"M 188 30 588 20\"/><path stroke-width=\"1\" stroke=\"black\" d=\"M 188 210 588 200\"/><path stroke-width=\"1\" stroke=\"black\" d=\"M 188 210 588 180\"/><path stroke-width=\"1\" stroke=\"black\" d=\"M 188 190 588 200\"/><path stroke-width=\"1\" stroke=\"black\" d=\"M 188 190 588 180\"/><path stroke-width=\"1\" stroke=\"black\" d=\"M 188 190 588 160\"/><path stroke-width=\"1\" stroke=\"black\" d=\"M 188 170 588 220\"/><path stroke-width=\"1\" stroke=\"black\" d=\"M 188 170 588 160\"/><path stroke-width=\"1\" stroke=\"black\" d=\"M 188 310 588 300\"/><path stroke-width=\"1\" stroke=\"black\" d=\"M 188 310 588 280\"/><path stroke-width=\"1\" stroke=\"black\" d=\"M 188 310 588 120\"/><path stroke-width=\"1\" stroke=\"black\" d=\"M 188 310 588 100\"/><path stroke-width=\"1\" stroke=\"black\" d=\"M 188 310 588 239\"/><path stroke-width=\"1\" stroke=\"black\" d=\"M 188 150 588 140\"/><path stroke-width=\"1\" stroke=\"black\" d=\"M 188 150 588 120\"/><path stroke-width=\"1\" stroke=\"black\" d=\"M 188 150 588 100\"/><path stroke-width=\"1\" stroke=\"black\" d=\"M 188 290 588 300\"/><path stroke-width=\"1\" stroke=\"black\" d=\"M 188 290 588 280\"/><path stroke-width=\"1\" stroke=\"black\" d=\"M 188 290 588 260\"/><path stroke-width=\"1\" stroke=\"black\" d=\"M 188 270 588 320\"/><path stroke-width=\"1\" stroke=\"black\" d=\"M 188 270 588 300\"/><path stroke-width=\"1\" stroke=\"black\" d=\"M 188 270 588 260\"/><path stroke-width=\"1\" stroke=\"black\" d=\"M 188 250 588 60\"/><path stroke-width=\"1\" stroke=\"black\" d=\"M 188 250 588 300\"/><path stroke-width=\"1\" stroke=\"black\" d=\"M 188 250 588 239\"/><path stroke-width=\"1\" stroke=\"black\" d=\"M 188 130 588 100\"/><path stroke-width=\"1\" stroke=\"black\" d=\"M 188 130 588 80\"/><path stroke-width=\"1\" stroke=\"black\" d=\"M 188 110 588 120\"/><path stroke-width=\"1\" stroke=\"black\" d=\"M 188 110 588 80\"/><circle cx=\"188\" cy=\"90\" r=\"7.0\" style=\"fill:rgb(199, 214, 240);stroke:black;stroke-width:1.0\"/><circle cx=\"188\" cy=\"70\" r=\"7.0\" style=\"fill:rgb(103, 136, 237);stroke:black;stroke-width:1.0\"/><circle cx=\"188\" cy=\"230\" r=\"7.0\" style=\"fill:rgb(208, 218, 233);stroke:black;stroke-width:1.0\"/><circle cx=\"188\" cy=\"50\" r=\"7.0\" style=\"fill:rgb(182, 13, 40);stroke:black;stroke-width:3.0\"/><circle cx=\"188\" cy=\"30\" r=\"7.0\" style=\"fill:rgb(246, 189, 164);stroke:black;stroke-width:1.0\"/><circle cx=\"188\" cy=\"210\" r=\"7.0\" style=\"fill:rgb(183, 207, 249);stroke:black;stroke-width:1.0\"/><circle cx=\"188\" cy=\"190\" r=\"7.0\" style=\"fill:rgb(210, 218, 231);stroke:black;stroke-width:1.0\"/><circle cx=\"188\" cy=\"170\" r=\"7.0\" style=\"fill:rgb(58, 76, 192);stroke:black;stroke-width:1.0\"/><circle cx=\"188\" cy=\"310\" r=\"7.0\" style=\"fill:rgb(239, 206, 188);stroke:black;stroke-width:1.0\"/><circle cx=\"188\" cy=\"150\" r=\"7.0\" style=\"fill:rgb(179, 3, 38);stroke:black;stroke-width:3.0\"/><circle cx=\"188\" cy=\"290\" r=\"7.0\" style=\"fill:rgb(60, 79, 195);stroke:black;stroke-width:1.0\"/><circle cx=\"188\" cy=\"270\" r=\"7.0\" style=\"fill:rgb(58, 76, 192);stroke:black;stroke-width:1.0\"/><circle cx=\"188\" cy=\"250\" r=\"7.0\" style=\"fill:rgb(88, 118, 226);stroke:black;stroke-width:1.0\"/><circle cx=\"188\" cy=\"130\" r=\"7.0\" style=\"fill:rgb(176, 203, 251);stroke:black;stroke-width:1.0\"/><circle cx=\"188\" cy=\"110\" r=\"7.0\" style=\"fill:rgb(176, 203, 251);stroke:black;stroke-width:1.0\"/><circle cx=\"588\" cy=\"140\" r=\"7.0\" style=\"fill:rgb(201, 59, 55);stroke:black;stroke-width:1.0\"/><circle cx=\"588\" cy=\"60\" r=\"7.0\" style=\"fill:rgb(187, 209, 247);stroke:black;stroke-width:1.0\"/><circle cx=\"588\" cy=\"40\" r=\"7.0\" style=\"fill:rgb(166, 195, 253);stroke:black;stroke-width:1.0\"/><circle cx=\"588\" cy=\"220\" r=\"7.0\" style=\"fill:rgb(176, 203, 251);stroke:black;stroke-width:1.0\"/><circle cx=\"588\" cy=\"200\" r=\"7.0\" style=\"fill:rgb(179, 3, 38);stroke:black;stroke-width:1.0\"/><circle cx=\"588\" cy=\"320\" r=\"7.0\" style=\"fill:rgb(138, 173, 253);stroke:black;stroke-width:1.0\"/><circle cx=\"588\" cy=\"20\" r=\"7.0\" style=\"fill:rgb(182, 13, 40);stroke:black;stroke-width:1.0\"/><circle cx=\"588\" cy=\"180\" r=\"7.0\" style=\"fill:rgb(227, 217, 211);stroke:black;stroke-width:1.0\"/><circle cx=\"588\" cy=\"160\" r=\"7.0\" style=\"fill:rgb(217, 220, 224);stroke:black;stroke-width:1.0\"/><circle cx=\"588\" cy=\"300\" r=\"7.0\" style=\"fill:rgb(189, 210, 246);stroke:black;stroke-width:1.0\"/><circle cx=\"588\" cy=\"280\" r=\"7.0\" style=\"fill:rgb(155, 187, 254);stroke:black;stroke-width:1.0\"/><circle cx=\"588\" cy=\"120\" r=\"7.0\" style=\"fill:rgb(222, 98, 78);stroke:black;stroke-width:1.0\"/><circle cx=\"588\" cy=\"100\" r=\"7.0\" style=\"fill:rgb(222, 98, 78);stroke:black;stroke-width:1.0\"/><circle cx=\"588\" cy=\"260\" r=\"7.0\" style=\"fill:rgb(58, 76, 192);stroke:black;stroke-width:1.0\"/><circle cx=\"588\" cy=\"80\" r=\"7.0\" style=\"fill:rgb(230, 215, 207);stroke:black;stroke-width:1.0\"/><circle cx=\"588\" cy=\"239\" r=\"7.0\" style=\"fill:rgb(159, 190, 254);stroke:black;stroke-width:1.0\"/><text text-anchor=\"end\" x=\"178\" y=\"90\" font-size=\"12\">Inception</text><text text-anchor=\"end\" x=\"178\" y=\"70\" font-size=\"12\">The Dark Knight Rises</text><text text-anchor=\"end\" x=\"178\" y=\"230\" font-size=\"12\">The Big Short</text><text text-anchor=\"end\" x=\"178\" y=\"50\" font-size=\"12\">Drive</text><text text-anchor=\"end\" x=\"178\" y=\"30\" font-size=\"12\">The Great Gatsby</text><text text-anchor=\"end\" x=\"178\" y=\"210\" font-size=\"12\">La La Land</text><text text-anchor=\"end\" x=\"178\" y=\"190\" font-size=\"12\">Crazy Stupid Love</text><text text-anchor=\"end\" x=\"178\" y=\"170\" font-size=\"12\">Vice</text><text text-anchor=\"end\" x=\"178\" y=\"310\" font-size=\"12\">The Grand Budapest Hotel</text><text text-anchor=\"end\" x=\"178\" y=\"150\" font-size=\"12\">Aviator</text><text text-anchor=\"end\" x=\"178\" y=\"290\" font-size=\"12\">007 Spectre</text><text text-anchor=\"end\" x=\"178\" y=\"270\" font-size=\"12\">Inglourious Basterds</text><text text-anchor=\"end\" x=\"178\" y=\"250\" font-size=\"12\">Midnight In Paris</text><text text-anchor=\"end\" x=\"178\" y=\"130\" font-size=\"12\">Murder on the Orient Express</text><text text-anchor=\"end\" x=\"178\" y=\"110\" font-size=\"12\">Fantastic Beasts 2</text><text x=\"598\" y=\"140\" font-size=\"12\">Leonardo DiCaprio</text><text x=\"598\" y=\"60\" font-size=\"12\">Marion Cotillard</text><text x=\"598\" y=\"40\" font-size=\"12\">Joseph Gordon Lewitt</text><text x=\"598\" y=\"220\" font-size=\"12\">Christian Bale</text><text x=\"598\" y=\"200\" font-size=\"12\">Ryan Gosling</text><text x=\"598\" y=\"320\" font-size=\"12\">Brad Pitt</text><text x=\"598\" y=\"20\" font-size=\"12\">Carey Mulligan</text><text x=\"598\" y=\"180\" font-size=\"12\">Emma Stone</text><text x=\"598\" y=\"160\" font-size=\"12\">Steve Carell</text><text x=\"598\" y=\"300\" font-size=\"12\">Lea Seydoux</text><text x=\"598\" y=\"280\" font-size=\"12\">Ralph Fiennes</text><text x=\"598\" y=\"120\" font-size=\"12\">Jude Law</text><text x=\"598\" y=\"100\" font-size=\"12\">Willem Dafoe</text><text x=\"598\" y=\"260\" font-size=\"12\">Christophe Waltz</text><text x=\"598\" y=\"80\" font-size=\"12\">Johnny Depp</text><text x=\"598\" y=\"239\" font-size=\"12\">Owen Wilson</text></svg>"
      ],
      "text/plain": [
       "<IPython.core.display.SVG object>"
      ]
     },
     "execution_count": 25,
     "metadata": {},
     "output_type": "execute_result"
    }
   ],
   "source": [
    "SVG(image)"
   ]
  }
 ],
 "metadata": {
  "kernelspec": {
   "display_name": "Python 3",
   "language": "python",
   "name": "python3"
  },
  "language_info": {
   "codemirror_mode": {
    "name": "ipython",
    "version": 3
   },
   "file_extension": ".py",
   "mimetype": "text/x-python",
   "name": "python",
   "nbconvert_exporter": "python",
   "pygments_lexer": "ipython3",
   "version": "3.8.3"
  },
  "toc": {
   "base_numbering": 1,
   "nav_menu": {},
   "number_sections": true,
   "sideBar": true,
   "skip_h1_title": false,
   "title_cell": "Table of Contents",
   "title_sidebar": "Contents",
   "toc_cell": false,
   "toc_position": {},
   "toc_section_display": true,
   "toc_window_display": false
  }
 },
 "nbformat": 4,
 "nbformat_minor": 2
}
