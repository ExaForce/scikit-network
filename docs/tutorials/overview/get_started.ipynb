{
 "cells": [
  {
   "cell_type": "markdown",
   "id": "b47034ca",
   "metadata": {},
   "source": [
    "# Get started"
   ]
  },
  {
   "cell_type": "markdown",
   "id": "b7edcced",
   "metadata": {},
   "source": [
    "This notebook gives an overview of [scikit-network](https://scikit-network.readthedocs.io/), a open-source Python package for machine learning on graphs."
   ]
  },
  {
   "cell_type": "markdown",
   "id": "45cd6a2f",
   "metadata": {},
   "source": [
    "## 1. Installation\n",
    "\n",
    "The easiest way to install ``scikit-network`` is through ``pip``."
   ]
  },
  {
   "cell_type": "code",
   "execution_count": 1,
   "id": "2db557a2",
   "metadata": {},
   "outputs": [],
   "source": [
    "# uncomment to install\n",
    "# !pip install scikit-network"
   ]
  },
  {
   "cell_type": "markdown",
   "id": "e9fc8e15",
   "metadata": {},
   "source": [
    "## 2. Data"
   ]
  },
  {
   "cell_type": "markdown",
   "id": "723af34f",
   "metadata": {},
   "source": [
    "### Adjacency matrix\n",
    "\n",
    "Each graph with $n$ nodes is represented by a square adjacency matrix $A$ of size $n \\times n$. In its simplest form, the matrix $A$ is binary and we have $A_{ij} =1$ if and only if there is a link from node $i$ to node $j$. If the graph is undirected, the matrix $A$ is symmetric."
   ]
  },
  {
   "cell_type": "code",
   "execution_count": 2,
   "id": "4b7741f1",
   "metadata": {},
   "outputs": [],
   "source": [
    "import numpy as np"
   ]
  },
  {
   "cell_type": "code",
   "execution_count": 3,
   "id": "362e022b",
   "metadata": {},
   "outputs": [],
   "source": [
    "adjacency = np.array([[0, 1, 1, 1, 0], [1, 0, 0, 0, 1], [1, 0, 0, 1, 0], [1, 0, 1, 0, 1], [0, 1, 0, 1, 0]])"
   ]
  },
  {
   "cell_type": "code",
   "execution_count": 4,
   "id": "ce44e13b",
   "metadata": {},
   "outputs": [
    {
     "data": {
      "text/plain": [
       "array([[0, 1, 1, 1, 0],\n",
       "       [1, 0, 0, 0, 1],\n",
       "       [1, 0, 0, 1, 0],\n",
       "       [1, 0, 1, 0, 1],\n",
       "       [0, 1, 0, 1, 0]])"
      ]
     },
     "execution_count": 4,
     "metadata": {},
     "output_type": "execute_result"
    }
   ],
   "source": [
    "adjacency"
   ]
  },
  {
   "cell_type": "markdown",
   "id": "448ad02d",
   "metadata": {},
   "source": [
    "### Sparse matrix\n",
    "\n",
    "In scikit-network, the adajcency matrix is represented in the [sparse CSR format](https://en.wikipedia.org/wiki/Sparse_matrix) of scipy."
   ]
  },
  {
   "cell_type": "code",
   "execution_count": 5,
   "id": "7cc765b5",
   "metadata": {},
   "outputs": [],
   "source": [
    "from scipy import sparse"
   ]
  },
  {
   "cell_type": "code",
   "execution_count": 6,
   "id": "e7ae4627",
   "metadata": {},
   "outputs": [],
   "source": [
    "adjacency = sparse.csr_matrix(adjacency)"
   ]
  },
  {
   "cell_type": "code",
   "execution_count": 7,
   "id": "56246a7c",
   "metadata": {},
   "outputs": [
    {
     "data": {
      "text/plain": [
       "<5x5 sparse matrix of type '<class 'numpy.int64'>'\n",
       "\twith 12 stored elements in Compressed Sparse Row format>"
      ]
     },
     "execution_count": 7,
     "metadata": {},
     "output_type": "execute_result"
    }
   ],
   "source": [
    "adjacency"
   ]
  },
  {
   "cell_type": "markdown",
   "id": "d12dcb3e",
   "metadata": {},
   "source": [
    "### Visualization\n",
    "\n",
    "Here is the visualization of the above graph."
   ]
  },
  {
   "cell_type": "code",
   "execution_count": 8,
   "id": "bdb5880b",
   "metadata": {},
   "outputs": [],
   "source": [
    "from IPython.display import SVG\n",
    "from sknetwork.visualization import svg_graph"
   ]
  },
  {
   "cell_type": "code",
   "execution_count": 9,
   "id": "2e92f346",
   "metadata": {},
   "outputs": [],
   "source": [
    "# name nodes by indices\n",
    "n_nodes, _ = adjacency.shape\n",
    "names = np.arange(n_nodes)"
   ]
  },
  {
   "cell_type": "code",
   "execution_count": 10,
   "id": "f47e30c0",
   "metadata": {},
   "outputs": [
    {
     "data": {
      "image/svg+xml": [
       "<svg xmlns=\"http://www.w3.org/2000/svg\" width=\"452.0\" height=\"340\">\n",
       "<path stroke-width=\"1\" stroke=\"gray\" d=\"M 139 216 20 64\"/>\n",
       "<path stroke-width=\"1\" stroke=\"gray\" d=\"M 139 216 366 320\"/>\n",
       "<path stroke-width=\"1\" stroke=\"gray\" d=\"M 139 216 420 175\"/>\n",
       "<path stroke-width=\"1\" stroke=\"gray\" d=\"M 20 64 139 216\"/>\n",
       "<path stroke-width=\"1\" stroke=\"gray\" d=\"M 20 64 321 20\"/>\n",
       "<path stroke-width=\"1\" stroke=\"gray\" d=\"M 366 320 139 216\"/>\n",
       "<path stroke-width=\"1\" stroke=\"gray\" d=\"M 366 320 420 175\"/>\n",
       "<path stroke-width=\"1\" stroke=\"gray\" d=\"M 420 175 139 216\"/>\n",
       "<path stroke-width=\"1\" stroke=\"gray\" d=\"M 420 175 366 320\"/>\n",
       "<path stroke-width=\"1\" stroke=\"gray\" d=\"M 420 175 321 20\"/>\n",
       "<path stroke-width=\"1\" stroke=\"gray\" d=\"M 321 20 20 64\"/>\n",
       "<path stroke-width=\"1\" stroke=\"gray\" d=\"M 321 20 420 175\"/>\n",
       "<circle cx=\"139\" cy=\"216\" r=\"7.0\" style=\"fill:gray;stroke:black;stroke-width:1.0\"/>\n",
       "<circle cx=\"20\" cy=\"64\" r=\"7.0\" style=\"fill:gray;stroke:black;stroke-width:1.0\"/>\n",
       "<circle cx=\"366\" cy=\"320\" r=\"7.0\" style=\"fill:gray;stroke:black;stroke-width:1.0\"/>\n",
       "<circle cx=\"420\" cy=\"175\" r=\"7.0\" style=\"fill:gray;stroke:black;stroke-width:1.0\"/>\n",
       "<circle cx=\"321\" cy=\"20\" r=\"7.0\" style=\"fill:gray;stroke:black;stroke-width:1.0\"/>\n",
       "<text text-anchor=\"start\" x=\"149\" y=\"216\" font-size=\"12\">0</text><text text-anchor=\"start\" x=\"30\" y=\"64\" font-size=\"12\">1</text><text text-anchor=\"start\" x=\"376\" y=\"320\" font-size=\"12\">2</text><text text-anchor=\"start\" x=\"430\" y=\"175\" font-size=\"12\">3</text><text text-anchor=\"start\" x=\"331\" y=\"20\" font-size=\"12\">4</text></svg>"
      ],
      "text/plain": [
       "<IPython.core.display.SVG object>"
      ]
     },
     "execution_count": 10,
     "metadata": {},
     "output_type": "execute_result"
    }
   ],
   "source": [
    "# visualization\n",
    "SVG(svg_graph(adjacency, names=names))"
   ]
  },
  {
   "cell_type": "markdown",
   "id": "7e6c1fb1",
   "metadata": {},
   "source": [
    "### Bipartite graphs\n",
    "\n",
    "Bipartite graphs are special graphs with edges between two sets of nodes. A bipartite graph can be represented by its biadjacency matrix, a rectangular matrix of links between the two sets of nodes."
   ]
  },
  {
   "cell_type": "code",
   "execution_count": 11,
   "id": "b6d80306",
   "metadata": {},
   "outputs": [],
   "source": [
    "biadjacency = np.array([[1, 1, 0, 1, 0], [0, 0, 1, 0, 1], [1, 1, 1, 1, 0], [0, 0, 0, 1, 1]])"
   ]
  },
  {
   "cell_type": "code",
   "execution_count": 12,
   "id": "0c1b52ee",
   "metadata": {},
   "outputs": [
    {
     "data": {
      "text/plain": [
       "array([[1, 1, 0, 1, 0],\n",
       "       [0, 0, 1, 0, 1],\n",
       "       [1, 1, 1, 1, 0],\n",
       "       [0, 0, 0, 1, 1]])"
      ]
     },
     "execution_count": 12,
     "metadata": {},
     "output_type": "execute_result"
    }
   ],
   "source": [
    "biadjacency"
   ]
  },
  {
   "cell_type": "code",
   "execution_count": 13,
   "id": "76a8fa0e",
   "metadata": {},
   "outputs": [],
   "source": [
    "biadjacency = sparse.csr_matrix(biadjacency)"
   ]
  },
  {
   "cell_type": "code",
   "execution_count": 14,
   "id": "c936ca93",
   "metadata": {},
   "outputs": [
    {
     "data": {
      "text/plain": [
       "<4x5 sparse matrix of type '<class 'numpy.int64'>'\n",
       "\twith 11 stored elements in Compressed Sparse Row format>"
      ]
     },
     "execution_count": 14,
     "metadata": {},
     "output_type": "execute_result"
    }
   ],
   "source": [
    "biadjacency"
   ]
  },
  {
   "cell_type": "code",
   "execution_count": 15,
   "id": "e6e1cecc",
   "metadata": {},
   "outputs": [],
   "source": [
    "from sknetwork.visualization import svg_bigraph"
   ]
  },
  {
   "cell_type": "code",
   "execution_count": 16,
   "id": "e392bb01",
   "metadata": {},
   "outputs": [],
   "source": [
    "# name nodes by indices\n",
    "n_row, n_col = biadjacency.shape\n",
    "names_row = np.arange(n_row)\n",
    "names_col = np.arange(n_col)"
   ]
  },
  {
   "cell_type": "code",
   "execution_count": 17,
   "id": "0078a23e",
   "metadata": {},
   "outputs": [
    {
     "data": {
      "image/svg+xml": [
       "<svg xmlns=\"http://www.w3.org/2000/svg\" width=\"452.0\" height=\"340\">\n",
       "<path stroke-width=\"1\" stroke=\"black\" d=\"M 26 282 426 320\"/>\n",
       "<path stroke-width=\"1\" stroke=\"black\" d=\"M 26 282 426 245\"/>\n",
       "<path stroke-width=\"1\" stroke=\"black\" d=\"M 26 282 426 170\"/>\n",
       "<path stroke-width=\"1\" stroke=\"black\" d=\"M 26 57 426 20\"/>\n",
       "<path stroke-width=\"1\" stroke=\"black\" d=\"M 26 57 426 95\"/>\n",
       "<path stroke-width=\"1\" stroke=\"black\" d=\"M 26 207 426 320\"/>\n",
       "<path stroke-width=\"1\" stroke=\"black\" d=\"M 26 207 426 245\"/>\n",
       "<path stroke-width=\"1\" stroke=\"black\" d=\"M 26 207 426 20\"/>\n",
       "<path stroke-width=\"1\" stroke=\"black\" d=\"M 26 207 426 170\"/>\n",
       "<path stroke-width=\"1\" stroke=\"black\" d=\"M 26 132 426 170\"/>\n",
       "<path stroke-width=\"1\" stroke=\"black\" d=\"M 26 132 426 95\"/>\n",
       "<circle cx=\"26\" cy=\"282\" r=\"7.0\" style=\"fill:gray;stroke:black;stroke-width:1.0\"/>\n",
       "<circle cx=\"26\" cy=\"57\" r=\"7.0\" style=\"fill:gray;stroke:black;stroke-width:1.0\"/>\n",
       "<circle cx=\"26\" cy=\"207\" r=\"7.0\" style=\"fill:gray;stroke:black;stroke-width:1.0\"/>\n",
       "<circle cx=\"26\" cy=\"132\" r=\"7.0\" style=\"fill:gray;stroke:black;stroke-width:1.0\"/>\n",
       "<circle cx=\"426\" cy=\"320\" r=\"7.0\" style=\"fill:gray;stroke:black;stroke-width:1.0\"/>\n",
       "<circle cx=\"426\" cy=\"245\" r=\"7.0\" style=\"fill:gray;stroke:black;stroke-width:1.0\"/>\n",
       "<circle cx=\"426\" cy=\"20\" r=\"7.0\" style=\"fill:gray;stroke:black;stroke-width:1.0\"/>\n",
       "<circle cx=\"426\" cy=\"170\" r=\"7.0\" style=\"fill:gray;stroke:black;stroke-width:1.0\"/>\n",
       "<circle cx=\"426\" cy=\"95\" r=\"7.0\" style=\"fill:gray;stroke:black;stroke-width:1.0\"/>\n",
       "<text text-anchor=\"end\" x=\"16\" y=\"282\" font-size=\"12\">0</text><text text-anchor=\"end\" x=\"16\" y=\"57\" font-size=\"12\">1</text><text text-anchor=\"end\" x=\"16\" y=\"207\" font-size=\"12\">2</text><text text-anchor=\"end\" x=\"16\" y=\"132\" font-size=\"12\">3</text><text text-anchor=\"start\" x=\"436\" y=\"320\" font-size=\"12\">0</text><text text-anchor=\"start\" x=\"436\" y=\"245\" font-size=\"12\">1</text><text text-anchor=\"start\" x=\"436\" y=\"20\" font-size=\"12\">2</text><text text-anchor=\"start\" x=\"436\" y=\"170\" font-size=\"12\">3</text><text text-anchor=\"start\" x=\"436\" y=\"95\" font-size=\"12\">4</text></svg>"
      ],
      "text/plain": [
       "<IPython.core.display.SVG object>"
      ]
     },
     "execution_count": 17,
     "metadata": {},
     "output_type": "execute_result"
    }
   ],
   "source": [
    "# visualization\n",
    "SVG(svg_bigraph(biadjacency, names_row=names_row, names_col=names_col))"
   ]
  },
  {
   "cell_type": "markdown",
   "source": [
    "### Weighted graphs\n",
    "\n",
    "Weights on edges can be represented by an adjacency matrix with non-negative entries (or a biadjacency matrix for a bipartite graph)."
   ],
   "metadata": {
    "collapsed": false,
    "pycharm": {
     "name": "#%% md\n"
    }
   }
  },
  {
   "cell_type": "code",
   "execution_count": null,
   "outputs": [],
   "source": [
    "adjacency = np.array([[0, 2, 1, 3, 0], [2, 0, 0, 0, 3], [1, 0, 0, 2, 0], [3, 0, 2, 0, 1], [0, 3, 0, 1, 0]])"
   ],
   "metadata": {
    "collapsed": false,
    "pycharm": {
     "name": "#%%\n"
    }
   }
  },
  {
   "cell_type": "code",
   "execution_count": null,
   "outputs": [],
   "source": [
    "adjacency"
   ],
   "metadata": {
    "collapsed": false,
    "pycharm": {
     "name": "#%%\n"
    }
   }
  },
  {
   "cell_type": "code",
   "execution_count": null,
   "outputs": [],
   "source": [
    "adjacency = sparse.csr_matrix(adjacency)"
   ],
   "metadata": {
    "collapsed": false,
    "pycharm": {
     "name": "#%%\n"
    }
   }
  },
  {
   "cell_type": "code",
   "execution_count": null,
   "outputs": [],
   "source": [
    "# visualization\n",
    "SVG(svg_graph(adjacency, names=names))"
   ],
   "metadata": {
    "collapsed": false,
    "pycharm": {
     "name": "#%%\n"
    }
   }
  },
  {
   "cell_type": "markdown",
   "source": [
    "### Subgraphs\n",
    "\n",
    "Subgraphs can easily be obtained by slicing the adjacency matrix."
   ],
   "metadata": {
    "collapsed": false,
    "pycharm": {
     "name": "#%% md\n"
    }
   }
  },
  {
   "cell_type": "code",
   "execution_count": null,
   "outputs": [],
   "source": [
    "index = [0, 2, 3, 4]\n",
    "sub_adjacency = adjacency[index][:, index]"
   ],
   "metadata": {
    "collapsed": false,
    "pycharm": {
     "name": "#%%\n"
    }
   }
  },
  {
   "cell_type": "code",
   "execution_count": null,
   "outputs": [],
   "source": [
    "# visualization\n",
    "SVG(svg_graph(sub_adjacency, names=names[index]))"
   ],
   "metadata": {
    "collapsed": false,
    "pycharm": {
     "name": "#%%\n"
    }
   }
  },
  {
   "cell_type": "markdown",
   "source": [
    "## 3. Algorithms"
   ],
   "metadata": {
    "collapsed": false,
    "pycharm": {
     "name": "#%% md\n"
    }
   }
  },
  {
   "cell_type": "markdown",
   "source": [
    "### Basic tools\n",
    "\n",
    "Some basic tools for loading, processing and visualizing graphs are available as functions."
   ],
   "metadata": {
    "collapsed": false,
    "pycharm": {
     "name": "#%% md\n"
    }
   }
  },
  {
   "cell_type": "markdown",
   "source": [
    "|Module|Description|Functions|\n",
    "|:---|:---|:---|\n",
    "|Data|Loading and saving graphs|``from_cs``, ``save``, ``load``, ``load_netset``, ... |\n",
    "|Topology|Connectivity and structure|``get_connected_components``, ``is_acyclic``, ...|\n",
    "|Path|Shortest paths and distances|``get_distances``, ``get_shortest_path``, ...|\n",
    "|Linear algebra|Matrix operations|``normalize``, ``diagonal_pseudo_inverse``, ...|\n",
    "|Utils|Useful tools|``directed2undirected``, ``get_degrees``, ``get_neighbors``, ...|\n",
    "|Visualization|Visualization tools|``svg_graph``, ``svg_bigraphs``, ...|"
   ],
   "metadata": {
    "collapsed": false,
    "pycharm": {
     "name": "#%% md\n"
    }
   }
  },
  {
   "cell_type": "code",
   "execution_count": null,
   "outputs": [],
   "source": [
    "from sknetwork.data import karate_club\n",
    "from sknetwork.utils import get_degrees"
   ],
   "metadata": {
    "collapsed": false,
    "pycharm": {
     "name": "#%%\n"
    }
   }
  },
  {
   "cell_type": "code",
   "execution_count": null,
   "outputs": [],
   "source": [
    "adjacency = karate_club()"
   ],
   "metadata": {
    "collapsed": false,
    "pycharm": {
     "name": "#%%\n"
    }
   }
  },
  {
   "cell_type": "code",
   "execution_count": null,
   "outputs": [],
   "source": [
    "get_degrees(adjacency)"
   ],
   "metadata": {
    "collapsed": false,
    "pycharm": {
     "name": "#%%\n"
    }
   }
  },
  {
   "cell_type": "markdown",
   "source": [
    "### Machine learning"
   ],
   "metadata": {
    "collapsed": false,
    "pycharm": {
     "name": "#%% md\n"
    }
   }
  },
  {
   "cell_type": "markdown",
   "source": [
    "The main algorithms of scikit-network are useful for machine learning on graphs.\n",
    "\n",
    "Each algorithm is available as an object with some methods among:\n",
    "\n",
    "* ``fit``: fit the algorithm to the graph. This method is mandatory.\n",
    "* ``predict``: predict the output (e.g., labels of nodes).\n",
    "* ``predict_proba``: predict the output with probability (e.g., probability distribution over labels).\n",
    "* ``transform``: transform the graph.\n",
    "* ``fit_predict``: apply fit + predict.\n",
    "* ``fit_predict_proba``: apply fit + predict_proba.\n",
    "* ``fit_transform``: apply fit + transform.\n",
    "\n",
    "\n",
    "The output is an attribute of the object with an underscore (e.g., ``labels_``)."
   ],
   "metadata": {
    "collapsed": false,
    "pycharm": {
     "name": "#%% md\n"
    }
   }
  },
  {
   "cell_type": "markdown",
   "source": [
    "|Module|Description|Algorithms|Output|\n",
    "|:---|:---|:---|:---|\n",
    "|Clustering|Form clusters of nodes|``Louvain``, ``PropagationClustering``|``labels_``|\n",
    "|Classification|Classify nodes|``DiffusionClassifier``,  ``NNClassifier``, ...|``labels_``|\n",
    "|GNN|Graph neural networks|``GNNClassifier``|``labels_``|\n",
    "|Regression|Assign values to nodes|``Diffusion``,  ``Dirichlet``|``values_``|\n",
    "|Hierarchy|Get a hierarchical representation of  nodes|``Paris``, ``LouvainHierarchy``|``dendrogram_``|\n",
    "|Embedding|Get a vectorial representation of nodes|``Spectral``, ``SVD``, ``LouvainEmbedding``, ...|``embedding_``|\n",
    "|Ranking|Give importance scores to nodes|``PageRank``, ``Katz``, ``Betweenness``, ...|``scores_``|\n",
    "|Link prediction|Predict links between nodes|``NNLinker``|``links_``|"
   ],
   "metadata": {
    "collapsed": false,
    "pycharm": {
     "name": "#%% md\n"
    }
   }
  },
  {
   "cell_type": "code",
   "execution_count": null,
   "outputs": [],
   "source": [
    "from sknetwork.data import karate_club\n",
    "from sknetwork.classification import DiffusionClassifier"
   ],
   "metadata": {
    "collapsed": false,
    "pycharm": {
     "name": "#%%\n"
    }
   }
  },
  {
   "cell_type": "code",
   "execution_count": null,
   "outputs": [],
   "source": [
    "dataset = karate_club(metadata=True)\n",
    "adjacency = dataset.adjacency\n",
    "position = dataset.position\n",
    "labels = dataset.labels"
   ],
   "metadata": {
    "collapsed": false,
    "pycharm": {
     "name": "#%%\n"
    }
   }
  },
  {
   "cell_type": "code",
   "execution_count": null,
   "outputs": [],
   "source": [
    "classifier = DiffusionClassifier()\n",
    "classifier.fit(adjacency, {node: labels[node] for node in [0, 1, 33]})"
   ],
   "metadata": {
    "collapsed": false,
    "pycharm": {
     "name": "#%%\n"
    }
   }
  },
  {
   "cell_type": "code",
   "execution_count": null,
   "outputs": [],
   "source": [
    "labels_pred = classifier.predict()"
   ],
   "metadata": {
    "collapsed": false,
    "pycharm": {
     "name": "#%%\n"
    }
   }
  },
  {
   "cell_type": "code",
   "execution_count": null,
   "outputs": [],
   "source": [
    "SVG(svg_graph(adjacency, position, labels=labels_pred))"
   ],
   "metadata": {
    "collapsed": false,
    "pycharm": {
     "name": "#%%\n"
    }
   }
  },
  {
   "cell_type": "code",
   "execution_count": null,
   "outputs": [],
   "source": [
    "probs = classifier.predict_proba()"
   ],
   "metadata": {
    "collapsed": false,
    "pycharm": {
     "name": "#%%\n"
    }
   }
  },
  {
   "cell_type": "code",
   "execution_count": null,
   "outputs": [],
   "source": [
    "scores = probs[:, 1]"
   ],
   "metadata": {
    "collapsed": false,
    "pycharm": {
     "name": "#%%\n"
    }
   }
  },
  {
   "cell_type": "code",
   "execution_count": null,
   "outputs": [],
   "source": [
    "SVG(svg_graph(adjacency, position, scores=scores))"
   ],
   "metadata": {
    "collapsed": false,
    "pycharm": {
     "name": "#%%\n"
    }
   }
  },
  {
   "cell_type": "markdown",
   "source": [
    "## 4. Example\n",
    "\n",
    "We here show how to use scikit-network to cluster a graph, initially stored in a text file as a list of edges."
   ],
   "metadata": {
    "collapsed": false,
    "pycharm": {
     "name": "#%% md\n"
    }
   }
  },
  {
   "cell_type": "markdown",
   "source": [
    "### Data"
   ],
   "metadata": {
    "collapsed": false,
    "pycharm": {
     "name": "#%% md\n"
    }
   }
  },
  {
   "cell_type": "code",
   "execution_count": null,
   "outputs": [],
   "source": [
    "# show first lines\n",
    "with open('miserables.tsv', 'r') as f:\n",
    "    data = f.readlines()\n",
    "    print(''.join(data[:5]))"
   ],
   "metadata": {
    "collapsed": false,
    "pycharm": {
     "name": "#%%\n"
    }
   }
  },
  {
   "cell_type": "markdown",
   "source": [
    "### Loading"
   ],
   "metadata": {
    "collapsed": false,
    "pycharm": {
     "name": "#%% md\n"
    }
   }
  },
  {
   "cell_type": "code",
   "execution_count": null,
   "outputs": [],
   "source": [
    "from sknetwork.data import from_csv"
   ],
   "metadata": {
    "collapsed": false,
    "pycharm": {
     "name": "#%%\n"
    }
   }
  },
  {
   "cell_type": "code",
   "execution_count": null,
   "outputs": [],
   "source": [
    "graph = from_csv('miserables.tsv')"
   ],
   "metadata": {
    "collapsed": false,
    "pycharm": {
     "name": "#%%\n"
    }
   }
  },
  {
   "cell_type": "code",
   "execution_count": null,
   "outputs": [],
   "source": [
    "adjacency = graph.adjacency\n",
    "names = graph.names"
   ],
   "metadata": {
    "collapsed": false,
    "pycharm": {
     "name": "#%%\n"
    }
   }
  },
  {
   "cell_type": "code",
   "execution_count": null,
   "outputs": [],
   "source": [
    "adjacency"
   ],
   "metadata": {
    "collapsed": false,
    "pycharm": {
     "name": "#%%\n"
    }
   }
  },
  {
   "cell_type": "markdown",
   "source": [
    "### Embedding\n",
    "\n",
    "We here compute a 2D embedding for visualization."
   ],
   "metadata": {
    "collapsed": false,
    "pycharm": {
     "name": "#%% md\n"
    }
   }
  },
  {
   "cell_type": "code",
   "execution_count": null,
   "outputs": [],
   "source": [
    "from sknetwork.embedding import Spring"
   ],
   "metadata": {
    "collapsed": false,
    "pycharm": {
     "name": "#%%\n"
    }
   }
  },
  {
   "cell_type": "code",
   "execution_count": null,
   "outputs": [],
   "source": [
    "algorithm = Spring()"
   ],
   "metadata": {
    "collapsed": false,
    "pycharm": {
     "name": "#%%\n"
    }
   }
  },
  {
   "cell_type": "code",
   "execution_count": null,
   "outputs": [],
   "source": [
    "position = algorithm.fit_transform(adjacency)"
   ],
   "metadata": {
    "collapsed": false,
    "pycharm": {
     "name": "#%%\n"
    }
   }
  },
  {
   "cell_type": "code",
   "execution_count": null,
   "outputs": [],
   "source": [
    "SVG(svg_graph(adjacency, position, names=names))"
   ],
   "metadata": {
    "collapsed": false,
    "pycharm": {
     "name": "#%%\n"
    }
   }
  },
  {
   "cell_type": "markdown",
   "source": [
    "### Clustering"
   ],
   "metadata": {
    "collapsed": false,
    "pycharm": {
     "name": "#%% md\n"
    }
   }
  },
  {
   "cell_type": "markdown",
   "source": [
    "Finally, we cluster the graph by the Louvain algorithm."
   ],
   "metadata": {
    "collapsed": false,
    "pycharm": {
     "name": "#%% md\n"
    }
   }
  },
  {
   "cell_type": "code",
   "execution_count": null,
   "outputs": [],
   "source": [
    "from sknetwork.clustering import Louvain"
   ],
   "metadata": {
    "collapsed": false,
    "pycharm": {
     "name": "#%%\n"
    }
   }
  },
  {
   "cell_type": "code",
   "execution_count": null,
   "outputs": [],
   "source": [
    "algorithm = Louvain()\n",
    "labels = algorithm.fit_predict(adjacency)"
   ],
   "metadata": {
    "collapsed": false,
    "pycharm": {
     "name": "#%%\n"
    }
   }
  },
  {
   "cell_type": "code",
   "execution_count": null,
   "outputs": [],
   "source": [
    "SVG(svg_graph(adjacency, position, names=names, labels=labels))\n"
   ],
   "metadata": {
    "collapsed": false,
    "pycharm": {
     "name": "#%%\n"
    }
   }
  }
 ],
 "metadata": {
  "kernelspec": {
   "display_name": "Python 3 (ipykernel)",
   "language": "python",
   "name": "python3"
  },
  "language_info": {
   "codemirror_mode": {
    "name": "ipython",
    "version": 3
   },
   "file_extension": ".py",
   "mimetype": "text/x-python",
   "name": "python",
   "nbconvert_exporter": "python",
   "pygments_lexer": "ipython3",
   "version": "3.9.13"
  }
 },
 "nbformat": 4,
 "nbformat_minor": 5
}